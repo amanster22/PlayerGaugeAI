{
 "cells": [
  {
   "cell_type": "code",
   "execution_count": 14,
   "id": "636a2cf7",
   "metadata": {},
   "outputs": [
    {
     "name": "stdout",
     "output_type": "stream",
     "text": [
      "updated Data in ../database/merged.csv\n",
      "2024-25\n"
     ]
    }
   ],
   "source": [
    "from webscrapeData import updateData\n",
    "\n",
    "updateData('2024-25')"
   ]
  },
  {
   "cell_type": "code",
   "execution_count": 15,
   "id": "8cb4dfb7",
   "metadata": {},
   "outputs": [],
   "source": [
    "import numpy as np\n",
    "import pandas as pd\n",
    "import xgboost as xgb\n",
    "from sklearn.model_selection import train_test_split\n",
    "import pandas as pd\n",
    "from sklearn.metrics import mean_squared_error as MSE"
   ]
  },
  {
   "cell_type": "code",
   "execution_count": 16,
   "id": "acd136fe",
   "metadata": {},
   "outputs": [],
   "source": [
    "df = pd.read_csv('../database/merged.csv')\n",
    "df['SALARY'] = df['SALARY'].replace('[\\$,]', '', regex=True).astype(float)\n",
    "\n",
    "df.dropna(subset='SALARY',inplace=True)\n",
    "X = df.drop('SALARY', axis=1)\n",
    "y = df['SALARY']\n",
    "y = y.replace('[\\$,]', '', regex=True).astype(float)\n",
    "\n",
    "\n"
   ]
  },
  {
   "cell_type": "code",
   "execution_count": 17,
   "id": "82a23a88",
   "metadata": {},
   "outputs": [],
   "source": [
    "df.head()\n",
    "df['PPG'] = round(df['PTS']/df['GP'],1)\n",
    "df['RPG'] = round(df['REB']/df['GP'],1)\n",
    "df['APG'] = round(df['AST']/df['GP'],1)\n",
    "\n"
   ]
  },
  {
   "cell_type": "markdown",
   "id": "51b5872e",
   "metadata": {},
   "source": [
    "Feature Importance"
   ]
  },
  {
   "cell_type": "code",
   "execution_count": 18,
   "id": "5ab4681e",
   "metadata": {},
   "outputs": [
    {
     "data": {
      "text/html": [
       "<div>\n",
       "<style scoped>\n",
       "    .dataframe tbody tr th:only-of-type {\n",
       "        vertical-align: middle;\n",
       "    }\n",
       "\n",
       "    .dataframe tbody tr th {\n",
       "        vertical-align: top;\n",
       "    }\n",
       "\n",
       "    .dataframe thead th {\n",
       "        text-align: right;\n",
       "    }\n",
       "</style>\n",
       "<table border=\"1\" class=\"dataframe\">\n",
       "  <thead>\n",
       "    <tr style=\"text-align: right;\">\n",
       "      <th></th>\n",
       "      <th>Feature</th>\n",
       "      <th>SALARY</th>\n",
       "      <th>ABS_CORR</th>\n",
       "    </tr>\n",
       "  </thead>\n",
       "  <tbody>\n",
       "    <tr>\n",
       "      <th>61</th>\n",
       "      <td>SALARY</td>\n",
       "      <td>1.000000</td>\n",
       "      <td>1.000000</td>\n",
       "    </tr>\n",
       "    <tr>\n",
       "      <th>25</th>\n",
       "      <td>PTS</td>\n",
       "      <td>0.623405</td>\n",
       "      <td>0.623405</td>\n",
       "    </tr>\n",
       "    <tr>\n",
       "      <th>55</th>\n",
       "      <td>PTS_RANK</td>\n",
       "      <td>-0.623405</td>\n",
       "      <td>0.623405</td>\n",
       "    </tr>\n",
       "    <tr>\n",
       "      <th>36</th>\n",
       "      <td>FGM_RANK</td>\n",
       "      <td>-0.622615</td>\n",
       "      <td>0.622615</td>\n",
       "    </tr>\n",
       "    <tr>\n",
       "      <th>6</th>\n",
       "      <td>FGM</td>\n",
       "      <td>0.622615</td>\n",
       "      <td>0.622615</td>\n",
       "    </tr>\n",
       "    <tr>\n",
       "      <th>37</th>\n",
       "      <td>FGA_RANK</td>\n",
       "      <td>-0.616314</td>\n",
       "      <td>0.616314</td>\n",
       "    </tr>\n",
       "    <tr>\n",
       "      <th>7</th>\n",
       "      <td>FGA</td>\n",
       "      <td>0.616314</td>\n",
       "      <td>0.616314</td>\n",
       "    </tr>\n",
       "    <tr>\n",
       "      <th>60</th>\n",
       "      <td>WNBA_FANTASY_PTS_RANK</td>\n",
       "      <td>-0.614987</td>\n",
       "      <td>0.614987</td>\n",
       "    </tr>\n",
       "    <tr>\n",
       "      <th>30</th>\n",
       "      <td>WNBA_FANTASY_PTS</td>\n",
       "      <td>0.614987</td>\n",
       "      <td>0.614987</td>\n",
       "    </tr>\n",
       "    <tr>\n",
       "      <th>27</th>\n",
       "      <td>NBA_FANTASY_PTS</td>\n",
       "      <td>0.610239</td>\n",
       "      <td>0.610239</td>\n",
       "    </tr>\n",
       "    <tr>\n",
       "      <th>57</th>\n",
       "      <td>NBA_FANTASY_PTS_RANK</td>\n",
       "      <td>-0.610239</td>\n",
       "      <td>0.610239</td>\n",
       "    </tr>\n",
       "    <tr>\n",
       "      <th>12</th>\n",
       "      <td>FTM</td>\n",
       "      <td>0.603163</td>\n",
       "      <td>0.603163</td>\n",
       "    </tr>\n",
       "    <tr>\n",
       "      <th>42</th>\n",
       "      <td>FTM_RANK</td>\n",
       "      <td>-0.603163</td>\n",
       "      <td>0.603163</td>\n",
       "    </tr>\n",
       "    <tr>\n",
       "      <th>24</th>\n",
       "      <td>PFD</td>\n",
       "      <td>0.602887</td>\n",
       "      <td>0.602887</td>\n",
       "    </tr>\n",
       "    <tr>\n",
       "      <th>54</th>\n",
       "      <td>PFD_RANK</td>\n",
       "      <td>-0.602887</td>\n",
       "      <td>0.602887</td>\n",
       "    </tr>\n",
       "    <tr>\n",
       "      <th>13</th>\n",
       "      <td>FTA</td>\n",
       "      <td>0.591797</td>\n",
       "      <td>0.591797</td>\n",
       "    </tr>\n",
       "    <tr>\n",
       "      <th>43</th>\n",
       "      <td>FTA_RANK</td>\n",
       "      <td>-0.591797</td>\n",
       "      <td>0.591797</td>\n",
       "    </tr>\n",
       "    <tr>\n",
       "      <th>19</th>\n",
       "      <td>TOV</td>\n",
       "      <td>0.580784</td>\n",
       "      <td>0.580784</td>\n",
       "    </tr>\n",
       "    <tr>\n",
       "      <th>49</th>\n",
       "      <td>TOV_RANK</td>\n",
       "      <td>-0.580784</td>\n",
       "      <td>0.580784</td>\n",
       "    </tr>\n",
       "    <tr>\n",
       "      <th>48</th>\n",
       "      <td>AST_RANK</td>\n",
       "      <td>-0.556415</td>\n",
       "      <td>0.556415</td>\n",
       "    </tr>\n",
       "    <tr>\n",
       "      <th>18</th>\n",
       "      <td>AST</td>\n",
       "      <td>0.556415</td>\n",
       "      <td>0.556415</td>\n",
       "    </tr>\n",
       "    <tr>\n",
       "      <th>5</th>\n",
       "      <td>MIN</td>\n",
       "      <td>0.550338</td>\n",
       "      <td>0.550338</td>\n",
       "    </tr>\n",
       "    <tr>\n",
       "      <th>35</th>\n",
       "      <td>MIN_RANK</td>\n",
       "      <td>-0.550338</td>\n",
       "      <td>0.550338</td>\n",
       "    </tr>\n",
       "    <tr>\n",
       "      <th>46</th>\n",
       "      <td>DREB_RANK</td>\n",
       "      <td>-0.523858</td>\n",
       "      <td>0.523858</td>\n",
       "    </tr>\n",
       "    <tr>\n",
       "      <th>16</th>\n",
       "      <td>DREB</td>\n",
       "      <td>0.523858</td>\n",
       "      <td>0.523858</td>\n",
       "    </tr>\n",
       "    <tr>\n",
       "      <th>22</th>\n",
       "      <td>BLKA</td>\n",
       "      <td>0.503338</td>\n",
       "      <td>0.503338</td>\n",
       "    </tr>\n",
       "    <tr>\n",
       "      <th>52</th>\n",
       "      <td>BLKA_RANK</td>\n",
       "      <td>0.503338</td>\n",
       "      <td>0.503338</td>\n",
       "    </tr>\n",
       "    <tr>\n",
       "      <th>50</th>\n",
       "      <td>STL_RANK</td>\n",
       "      <td>-0.486904</td>\n",
       "      <td>0.486904</td>\n",
       "    </tr>\n",
       "    <tr>\n",
       "      <th>20</th>\n",
       "      <td>STL</td>\n",
       "      <td>0.486904</td>\n",
       "      <td>0.486904</td>\n",
       "    </tr>\n",
       "    <tr>\n",
       "      <th>47</th>\n",
       "      <td>REB_RANK</td>\n",
       "      <td>-0.486434</td>\n",
       "      <td>0.486434</td>\n",
       "    </tr>\n",
       "  </tbody>\n",
       "</table>\n",
       "</div>"
      ],
      "text/plain": [
       "                  Feature    SALARY  ABS_CORR\n",
       "61                 SALARY  1.000000  1.000000\n",
       "25                    PTS  0.623405  0.623405\n",
       "55               PTS_RANK -0.623405  0.623405\n",
       "36               FGM_RANK -0.622615  0.622615\n",
       "6                     FGM  0.622615  0.622615\n",
       "37               FGA_RANK -0.616314  0.616314\n",
       "7                     FGA  0.616314  0.616314\n",
       "60  WNBA_FANTASY_PTS_RANK -0.614987  0.614987\n",
       "30       WNBA_FANTASY_PTS  0.614987  0.614987\n",
       "27        NBA_FANTASY_PTS  0.610239  0.610239\n",
       "57   NBA_FANTASY_PTS_RANK -0.610239  0.610239\n",
       "12                    FTM  0.603163  0.603163\n",
       "42               FTM_RANK -0.603163  0.603163\n",
       "24                    PFD  0.602887  0.602887\n",
       "54               PFD_RANK -0.602887  0.602887\n",
       "13                    FTA  0.591797  0.591797\n",
       "43               FTA_RANK -0.591797  0.591797\n",
       "19                    TOV  0.580784  0.580784\n",
       "49               TOV_RANK -0.580784  0.580784\n",
       "48               AST_RANK -0.556415  0.556415\n",
       "18                    AST  0.556415  0.556415\n",
       "5                     MIN  0.550338  0.550338\n",
       "35               MIN_RANK -0.550338  0.550338\n",
       "46              DREB_RANK -0.523858  0.523858\n",
       "16                   DREB  0.523858  0.523858\n",
       "22                   BLKA  0.503338  0.503338\n",
       "52              BLKA_RANK  0.503338  0.503338\n",
       "50               STL_RANK -0.486904  0.486904\n",
       "20                    STL  0.486904  0.486904\n",
       "47               REB_RANK -0.486434  0.486434"
      ]
     },
     "execution_count": 18,
     "metadata": {},
     "output_type": "execute_result"
    }
   ],
   "source": [
    "columns_to_drop = ['PLAYER_ID', 'PLAYER_NAME', 'NICKNAME', 'TEAM_ID', 'TEAM_ABBREVIATION']\n",
    "X.drop(columns=[col for col in columns_to_drop if col in X.columns], inplace=True)\n",
    "\n",
    "df_corr = pd.concat([X, y], axis=1)\n",
    "\n",
    "# Compute Spearman correlation\n",
    "spearman_corr = df_corr.corr(method='spearman')\n",
    "\n",
    "# # Show correlation between each feature and the target\n",
    "# corr_df = spearman_corr['SALARY'].sort_values(ascending=False)\n",
    "# corr_df\n",
    "corr_df = spearman_corr[['SALARY']].reset_index().rename(columns={'index': 'Feature'})\n",
    "\n",
    "corr_df['ABS_CORR'] = abs(corr_df['SALARY'])\n",
    "corr_df.sort_values(by = 'ABS_CORR', ascending=False, inplace=True)\n",
    "corr_df.head(30)"
   ]
  },
  {
   "cell_type": "code",
   "execution_count": 19,
   "id": "36668a40",
   "metadata": {},
   "outputs": [
    {
     "name": "stdout",
     "output_type": "stream",
     "text": [
      "RMSE: 7824161.16\n",
      "['NBA_FANTASY_PTS_RANK', 'PTS_RANK', 'FGA_RANK', 'PLUS_MINUS_RANK', 'MIN_RANK', 'FG3_PCT_RANK', 'FG_PCT_RANK', 'FGM_RANK', 'WNBA_FANTASY_PTS_RANK', 'FTM_RANK', 'PFD_RANK', 'FTA_RANK', 'TOV_RANK', 'AST_RANK', 'DREB_RANK', 'BLKA_RANK', 'STL_RANK', 'REB_RANK', 'DD2_RANK', 'FG3A_RANK', 'FG3M_RANK', 'PF_RANK', 'BLK_RANK', 'OREB_RANK', 'W_RANK', 'GP_RANK', 'FT_PCT_RANK', 'TD3_RANK', 'L_RANK', 'W_PCT_RANK']\n"
     ]
    }
   ],
   "source": [
    "import xgboost as xgb\n",
    "from sklearn.model_selection import train_test_split\n",
    "from sklearn.metrics import mean_squared_error as MSE\n",
    "import numpy as np\n",
    "import pandas as pd\n",
    "\n",
    "# Extract Spearman correlations with 'SALARY' as a DataFrame for merging\n",
    "corr_df = spearman_corr[['SALARY']].reset_index().rename(columns={'index': 'Feature'})\n",
    "corr_df['ABS_CORR'] = abs(corr_df['SALARY'])\n",
    "corr_df.sort_values(by='ABS_CORR', ascending=False, inplace=True)\n",
    "\n",
    "# Split data\n",
    "X_train, X_test, y_train, y_test = train_test_split(X, y, test_size=0.2, random_state=42)\n",
    "\n",
    "# Initialize model with parameters\n",
    "model = xgb.XGBRegressor(\n",
    "    objective='reg:squarederror',\n",
    "    max_depth=4,\n",
    "    learning_rate=0.1,\n",
    "    n_estimators=100,\n",
    "    random_state=42\n",
    ")\n",
    "\n",
    "# Train\n",
    "model.fit(X_train, y_train)\n",
    "\n",
    "# Predict & evaluate\n",
    "y_pred = model.predict(X_test)\n",
    "rmse = np.sqrt(MSE(y_test, y_pred))\n",
    "print(f\"RMSE: {rmse:.2f}\")\n",
    "\n",
    "# Create importance DataFrame\n",
    "importance_df = pd.DataFrame({\n",
    "    'Feature': model.feature_names_in_,\n",
    "    'Importance': model.feature_importances_\n",
    "})\n",
    "importance_df.sort_values(by='Importance', ascending=False, inplace=True)\n",
    "\n",
    "# Filter features with importance > 0.01 (optional)\n",
    "importance_filtered = importance_df[importance_df['Importance'] > 0.01]\n",
    "\n",
    "# Merge importance with Spearman correlations on 'Feature'\n",
    "corr_imp_table = importance_df.merge(corr_df, on='Feature')\n",
    "corr_imp_table.sort_values(by = ['Importance','ABS_CORR'],inplace=True, ascending=False)\n",
    "# feat_cut_df = corr_imp_table[(corr_imp_table['Importance']>0.01) & (corr_imp_table['ABS_CORR']>0.5)]\n",
    "feat_cut_df = corr_imp_table[corr_imp_table['Feature'].str.contains('RANK')]\n",
    "feat_cut_list = feat_cut_list = feat_cut_df['Feature'].tolist()\n",
    "print(feat_cut_list)\n",
    "\n"
   ]
  },
  {
   "cell_type": "code",
   "execution_count": 20,
   "id": "f31b5c48",
   "metadata": {},
   "outputs": [
    {
     "name": "stdout",
     "output_type": "stream",
     "text": [
      "RMSE: 7934578.15\n"
     ]
    }
   ],
   "source": [
    "# Initialize model with parameters\n",
    "feat_cut_list.append('AGE')\n",
    "feat_cut_list.append('GP')\n",
    "model_cut = xgb.XGBRegressor(\n",
    "    objective='reg:squarederror',\n",
    "    max_depth=4,\n",
    "    learning_rate=0.1,\n",
    "    n_estimators=100,\n",
    "    random_state=42\n",
    ")\n",
    "\n",
    "# Train\n",
    "model_cut.fit(X_train[feat_cut_list], y_train)\n",
    "\n",
    "# Predict & evaluate\n",
    "y_pred = model_cut.predict(X_test[feat_cut_list])\n",
    "rmse = np.sqrt(MSE(y_test, y_pred))\n",
    "print(f\"RMSE: {rmse:.2f}\")\n"
   ]
  },
  {
   "cell_type": "code",
   "execution_count": 21,
   "id": "c38ff9b7",
   "metadata": {},
   "outputs": [
    {
     "data": {
      "text/html": [
       "<div>\n",
       "<style scoped>\n",
       "    .dataframe tbody tr th:only-of-type {\n",
       "        vertical-align: middle;\n",
       "    }\n",
       "\n",
       "    .dataframe tbody tr th {\n",
       "        vertical-align: top;\n",
       "    }\n",
       "\n",
       "    .dataframe thead th {\n",
       "        text-align: right;\n",
       "    }\n",
       "</style>\n",
       "<table border=\"1\" class=\"dataframe\">\n",
       "  <thead>\n",
       "    <tr style=\"text-align: right;\">\n",
       "      <th></th>\n",
       "      <th>PLAYER_ID</th>\n",
       "      <th>PLAYER_NAME</th>\n",
       "      <th>NICKNAME</th>\n",
       "      <th>TEAM_ID</th>\n",
       "      <th>TEAM_ABBREVIATION</th>\n",
       "      <th>AGE</th>\n",
       "      <th>GP</th>\n",
       "      <th>W</th>\n",
       "      <th>L</th>\n",
       "      <th>W_PCT</th>\n",
       "      <th>...</th>\n",
       "      <th>PLUS_MINUS_RANK</th>\n",
       "      <th>NBA_FANTASY_PTS_RANK</th>\n",
       "      <th>DD2_RANK</th>\n",
       "      <th>TD3_RANK</th>\n",
       "      <th>WNBA_FANTASY_PTS_RANK</th>\n",
       "      <th>SALARY</th>\n",
       "      <th>PPG</th>\n",
       "      <th>RPG</th>\n",
       "      <th>APG</th>\n",
       "      <th>PREDICTED_SALARY</th>\n",
       "    </tr>\n",
       "  </thead>\n",
       "  <tbody>\n",
       "    <tr>\n",
       "      <th>501</th>\n",
       "      <td>201939</td>\n",
       "      <td>Stephen Curry</td>\n",
       "      <td>Stephen</td>\n",
       "      <td>1610612744</td>\n",
       "      <td>GSW</td>\n",
       "      <td>37.0</td>\n",
       "      <td>70</td>\n",
       "      <td>41</td>\n",
       "      <td>29</td>\n",
       "      <td>0.586</td>\n",
       "      <td>...</td>\n",
       "      <td>43</td>\n",
       "      <td>19</td>\n",
       "      <td>71</td>\n",
       "      <td>44</td>\n",
       "      <td>13</td>\n",
       "      <td>55761216.0</td>\n",
       "      <td>24.5</td>\n",
       "      <td>4.4</td>\n",
       "      <td>6.0</td>\n",
       "      <td>53951804.0</td>\n",
       "    </tr>\n",
       "    <tr>\n",
       "      <th>277</th>\n",
       "      <td>203954</td>\n",
       "      <td>Joel Embiid</td>\n",
       "      <td>Joel</td>\n",
       "      <td>1610612755</td>\n",
       "      <td>PHI</td>\n",
       "      <td>31.0</td>\n",
       "      <td>19</td>\n",
       "      <td>8</td>\n",
       "      <td>11</td>\n",
       "      <td>0.421</td>\n",
       "      <td>...</td>\n",
       "      <td>390</td>\n",
       "      <td>289</td>\n",
       "      <td>87</td>\n",
       "      <td>20</td>\n",
       "      <td>287</td>\n",
       "      <td>51415938.0</td>\n",
       "      <td>23.8</td>\n",
       "      <td>8.2</td>\n",
       "      <td>4.5</td>\n",
       "      <td>50544676.0</td>\n",
       "    </tr>\n",
       "    <tr>\n",
       "      <th>424</th>\n",
       "      <td>203999</td>\n",
       "      <td>Nikola Jokić</td>\n",
       "      <td>Nikola</td>\n",
       "      <td>1610612743</td>\n",
       "      <td>DEN</td>\n",
       "      <td>30.0</td>\n",
       "      <td>70</td>\n",
       "      <td>46</td>\n",
       "      <td>24</td>\n",
       "      <td>0.657</td>\n",
       "      <td>...</td>\n",
       "      <td>2</td>\n",
       "      <td>1</td>\n",
       "      <td>2</td>\n",
       "      <td>1</td>\n",
       "      <td>1</td>\n",
       "      <td>51415938.0</td>\n",
       "      <td>29.6</td>\n",
       "      <td>12.7</td>\n",
       "      <td>10.2</td>\n",
       "      <td>50310576.0</td>\n",
       "    </tr>\n",
       "    <tr>\n",
       "      <th>330</th>\n",
       "      <td>201142</td>\n",
       "      <td>Kevin Durant</td>\n",
       "      <td>Kevin</td>\n",
       "      <td>1610612756</td>\n",
       "      <td>PHX</td>\n",
       "      <td>36.0</td>\n",
       "      <td>62</td>\n",
       "      <td>33</td>\n",
       "      <td>29</td>\n",
       "      <td>0.532</td>\n",
       "      <td>...</td>\n",
       "      <td>361</td>\n",
       "      <td>30</td>\n",
       "      <td>106</td>\n",
       "      <td>44</td>\n",
       "      <td>24</td>\n",
       "      <td>51179021.0</td>\n",
       "      <td>26.6</td>\n",
       "      <td>6.0</td>\n",
       "      <td>4.2</td>\n",
       "      <td>49743656.0</td>\n",
       "    </tr>\n",
       "    <tr>\n",
       "      <th>180</th>\n",
       "      <td>203507</td>\n",
       "      <td>Giannis Antetokounmpo</td>\n",
       "      <td>Giannis</td>\n",
       "      <td>1610612749</td>\n",
       "      <td>MIL</td>\n",
       "      <td>30.0</td>\n",
       "      <td>67</td>\n",
       "      <td>40</td>\n",
       "      <td>27</td>\n",
       "      <td>0.597</td>\n",
       "      <td>...</td>\n",
       "      <td>28</td>\n",
       "      <td>3</td>\n",
       "      <td>5</td>\n",
       "      <td>2</td>\n",
       "      <td>4</td>\n",
       "      <td>48787676.0</td>\n",
       "      <td>30.4</td>\n",
       "      <td>11.9</td>\n",
       "      <td>6.5</td>\n",
       "      <td>49068100.0</td>\n",
       "    </tr>\n",
       "    <tr>\n",
       "      <th>314</th>\n",
       "      <td>1626157</td>\n",
       "      <td>Karl-Anthony Towns</td>\n",
       "      <td>Karl-Anthony</td>\n",
       "      <td>1610612752</td>\n",
       "      <td>NYK</td>\n",
       "      <td>29.0</td>\n",
       "      <td>72</td>\n",
       "      <td>46</td>\n",
       "      <td>26</td>\n",
       "      <td>0.639</td>\n",
       "      <td>...</td>\n",
       "      <td>21</td>\n",
       "      <td>8</td>\n",
       "      <td>4</td>\n",
       "      <td>20</td>\n",
       "      <td>9</td>\n",
       "      <td>49205800.0</td>\n",
       "      <td>24.4</td>\n",
       "      <td>12.8</td>\n",
       "      <td>3.1</td>\n",
       "      <td>48924916.0</td>\n",
       "    </tr>\n",
       "    <tr>\n",
       "      <th>359</th>\n",
       "      <td>2544</td>\n",
       "      <td>LeBron James</td>\n",
       "      <td>LeBron</td>\n",
       "      <td>1610612747</td>\n",
       "      <td>LAL</td>\n",
       "      <td>40.0</td>\n",
       "      <td>70</td>\n",
       "      <td>44</td>\n",
       "      <td>26</td>\n",
       "      <td>0.629</td>\n",
       "      <td>...</td>\n",
       "      <td>383</td>\n",
       "      <td>10</td>\n",
       "      <td>17</td>\n",
       "      <td>3</td>\n",
       "      <td>10</td>\n",
       "      <td>48728845.0</td>\n",
       "      <td>24.4</td>\n",
       "      <td>7.8</td>\n",
       "      <td>8.2</td>\n",
       "      <td>47428808.0</td>\n",
       "    </tr>\n",
       "    <tr>\n",
       "      <th>141</th>\n",
       "      <td>1626164</td>\n",
       "      <td>Devin Booker</td>\n",
       "      <td>Devin</td>\n",
       "      <td>1610612756</td>\n",
       "      <td>PHX</td>\n",
       "      <td>28.0</td>\n",
       "      <td>75</td>\n",
       "      <td>35</td>\n",
       "      <td>40</td>\n",
       "      <td>0.467</td>\n",
       "      <td>...</td>\n",
       "      <td>507</td>\n",
       "      <td>14</td>\n",
       "      <td>35</td>\n",
       "      <td>44</td>\n",
       "      <td>11</td>\n",
       "      <td>49205800.0</td>\n",
       "      <td>25.6</td>\n",
       "      <td>4.1</td>\n",
       "      <td>7.1</td>\n",
       "      <td>47362224.0</td>\n",
       "    </tr>\n",
       "    <tr>\n",
       "      <th>51</th>\n",
       "      <td>203078</td>\n",
       "      <td>Bradley Beal</td>\n",
       "      <td>Bradley</td>\n",
       "      <td>1610612756</td>\n",
       "      <td>PHX</td>\n",
       "      <td>32.0</td>\n",
       "      <td>53</td>\n",
       "      <td>22</td>\n",
       "      <td>31</td>\n",
       "      <td>0.415</td>\n",
       "      <td>...</td>\n",
       "      <td>537</td>\n",
       "      <td>138</td>\n",
       "      <td>198</td>\n",
       "      <td>44</td>\n",
       "      <td>127</td>\n",
       "      <td>50203930.0</td>\n",
       "      <td>17.0</td>\n",
       "      <td>3.3</td>\n",
       "      <td>3.7</td>\n",
       "      <td>46634556.0</td>\n",
       "    </tr>\n",
       "    <tr>\n",
       "      <th>255</th>\n",
       "      <td>1627759</td>\n",
       "      <td>Jaylen Brown</td>\n",
       "      <td>Jaylen</td>\n",
       "      <td>1610612738</td>\n",
       "      <td>BOS</td>\n",
       "      <td>28.0</td>\n",
       "      <td>63</td>\n",
       "      <td>46</td>\n",
       "      <td>17</td>\n",
       "      <td>0.730</td>\n",
       "      <td>...</td>\n",
       "      <td>18</td>\n",
       "      <td>54</td>\n",
       "      <td>106</td>\n",
       "      <td>44</td>\n",
       "      <td>52</td>\n",
       "      <td>49700000.0</td>\n",
       "      <td>22.2</td>\n",
       "      <td>5.8</td>\n",
       "      <td>4.5</td>\n",
       "      <td>46444640.0</td>\n",
       "    </tr>\n",
       "    <tr>\n",
       "      <th>451</th>\n",
       "      <td>202331</td>\n",
       "      <td>Paul George</td>\n",
       "      <td>Paul</td>\n",
       "      <td>1610612755</td>\n",
       "      <td>PHI</td>\n",
       "      <td>35.0</td>\n",
       "      <td>41</td>\n",
       "      <td>15</td>\n",
       "      <td>26</td>\n",
       "      <td>0.366</td>\n",
       "      <td>...</td>\n",
       "      <td>432</td>\n",
       "      <td>172</td>\n",
       "      <td>134</td>\n",
       "      <td>44</td>\n",
       "      <td>175</td>\n",
       "      <td>49205800.0</td>\n",
       "      <td>16.2</td>\n",
       "      <td>5.3</td>\n",
       "      <td>4.3</td>\n",
       "      <td>46352484.0</td>\n",
       "    </tr>\n",
       "    <tr>\n",
       "      <th>241</th>\n",
       "      <td>201935</td>\n",
       "      <td>James Harden</td>\n",
       "      <td>James</td>\n",
       "      <td>1610612746</td>\n",
       "      <td>LAC</td>\n",
       "      <td>35.0</td>\n",
       "      <td>79</td>\n",
       "      <td>50</td>\n",
       "      <td>29</td>\n",
       "      <td>0.633</td>\n",
       "      <td>...</td>\n",
       "      <td>24</td>\n",
       "      <td>4</td>\n",
       "      <td>11</td>\n",
       "      <td>11</td>\n",
       "      <td>5</td>\n",
       "      <td>33653846.0</td>\n",
       "      <td>22.8</td>\n",
       "      <td>5.8</td>\n",
       "      <td>8.7</td>\n",
       "      <td>44608736.0</td>\n",
       "    </tr>\n",
       "    <tr>\n",
       "      <th>526</th>\n",
       "      <td>1629027</td>\n",
       "      <td>Trae Young</td>\n",
       "      <td>Trae</td>\n",
       "      <td>1610612737</td>\n",
       "      <td>ATL</td>\n",
       "      <td>26.0</td>\n",
       "      <td>76</td>\n",
       "      <td>36</td>\n",
       "      <td>40</td>\n",
       "      <td>0.474</td>\n",
       "      <td>...</td>\n",
       "      <td>167</td>\n",
       "      <td>7</td>\n",
       "      <td>6</td>\n",
       "      <td>44</td>\n",
       "      <td>7</td>\n",
       "      <td>43031940.0</td>\n",
       "      <td>24.2</td>\n",
       "      <td>3.1</td>\n",
       "      <td>11.6</td>\n",
       "      <td>43262708.0</td>\n",
       "    </tr>\n",
       "    <tr>\n",
       "      <th>28</th>\n",
       "      <td>203076</td>\n",
       "      <td>Anthony Davis</td>\n",
       "      <td>Anthony</td>\n",
       "      <td>1610612742</td>\n",
       "      <td>DAL</td>\n",
       "      <td>32.0</td>\n",
       "      <td>51</td>\n",
       "      <td>30</td>\n",
       "      <td>21</td>\n",
       "      <td>0.588</td>\n",
       "      <td>...</td>\n",
       "      <td>180</td>\n",
       "      <td>35</td>\n",
       "      <td>14</td>\n",
       "      <td>20</td>\n",
       "      <td>45</td>\n",
       "      <td>43219440.0</td>\n",
       "      <td>24.7</td>\n",
       "      <td>11.6</td>\n",
       "      <td>3.5</td>\n",
       "      <td>42899940.0</td>\n",
       "    </tr>\n",
       "    <tr>\n",
       "      <th>445</th>\n",
       "      <td>1627783</td>\n",
       "      <td>Pascal Siakam</td>\n",
       "      <td>Pascal</td>\n",
       "      <td>1610612754</td>\n",
       "      <td>IND</td>\n",
       "      <td>31.0</td>\n",
       "      <td>78</td>\n",
       "      <td>47</td>\n",
       "      <td>31</td>\n",
       "      <td>0.603</td>\n",
       "      <td>...</td>\n",
       "      <td>37</td>\n",
       "      <td>20</td>\n",
       "      <td>55</td>\n",
       "      <td>44</td>\n",
       "      <td>22</td>\n",
       "      <td>42176400.0</td>\n",
       "      <td>20.2</td>\n",
       "      <td>6.9</td>\n",
       "      <td>3.4</td>\n",
       "      <td>42529264.0</td>\n",
       "    </tr>\n",
       "  </tbody>\n",
       "</table>\n",
       "<p>15 rows × 71 columns</p>\n",
       "</div>"
      ],
      "text/plain": [
       "     PLAYER_ID            PLAYER_NAME      NICKNAME     TEAM_ID  \\\n",
       "501     201939          Stephen Curry       Stephen  1610612744   \n",
       "277     203954            Joel Embiid          Joel  1610612755   \n",
       "424     203999           Nikola Jokić        Nikola  1610612743   \n",
       "330     201142           Kevin Durant         Kevin  1610612756   \n",
       "180     203507  Giannis Antetokounmpo       Giannis  1610612749   \n",
       "314    1626157     Karl-Anthony Towns  Karl-Anthony  1610612752   \n",
       "359       2544           LeBron James        LeBron  1610612747   \n",
       "141    1626164           Devin Booker         Devin  1610612756   \n",
       "51      203078           Bradley Beal       Bradley  1610612756   \n",
       "255    1627759           Jaylen Brown        Jaylen  1610612738   \n",
       "451     202331            Paul George          Paul  1610612755   \n",
       "241     201935           James Harden         James  1610612746   \n",
       "526    1629027             Trae Young          Trae  1610612737   \n",
       "28      203076          Anthony Davis       Anthony  1610612742   \n",
       "445    1627783          Pascal Siakam        Pascal  1610612754   \n",
       "\n",
       "    TEAM_ABBREVIATION   AGE  GP   W   L  W_PCT  ...  PLUS_MINUS_RANK  \\\n",
       "501               GSW  37.0  70  41  29  0.586  ...               43   \n",
       "277               PHI  31.0  19   8  11  0.421  ...              390   \n",
       "424               DEN  30.0  70  46  24  0.657  ...                2   \n",
       "330               PHX  36.0  62  33  29  0.532  ...              361   \n",
       "180               MIL  30.0  67  40  27  0.597  ...               28   \n",
       "314               NYK  29.0  72  46  26  0.639  ...               21   \n",
       "359               LAL  40.0  70  44  26  0.629  ...              383   \n",
       "141               PHX  28.0  75  35  40  0.467  ...              507   \n",
       "51                PHX  32.0  53  22  31  0.415  ...              537   \n",
       "255               BOS  28.0  63  46  17  0.730  ...               18   \n",
       "451               PHI  35.0  41  15  26  0.366  ...              432   \n",
       "241               LAC  35.0  79  50  29  0.633  ...               24   \n",
       "526               ATL  26.0  76  36  40  0.474  ...              167   \n",
       "28                DAL  32.0  51  30  21  0.588  ...              180   \n",
       "445               IND  31.0  78  47  31  0.603  ...               37   \n",
       "\n",
       "     NBA_FANTASY_PTS_RANK  DD2_RANK  TD3_RANK  WNBA_FANTASY_PTS_RANK  \\\n",
       "501                    19        71        44                     13   \n",
       "277                   289        87        20                    287   \n",
       "424                     1         2         1                      1   \n",
       "330                    30       106        44                     24   \n",
       "180                     3         5         2                      4   \n",
       "314                     8         4        20                      9   \n",
       "359                    10        17         3                     10   \n",
       "141                    14        35        44                     11   \n",
       "51                    138       198        44                    127   \n",
       "255                    54       106        44                     52   \n",
       "451                   172       134        44                    175   \n",
       "241                     4        11        11                      5   \n",
       "526                     7         6        44                      7   \n",
       "28                     35        14        20                     45   \n",
       "445                    20        55        44                     22   \n",
       "\n",
       "         SALARY   PPG   RPG   APG  PREDICTED_SALARY  \n",
       "501  55761216.0  24.5   4.4   6.0        53951804.0  \n",
       "277  51415938.0  23.8   8.2   4.5        50544676.0  \n",
       "424  51415938.0  29.6  12.7  10.2        50310576.0  \n",
       "330  51179021.0  26.6   6.0   4.2        49743656.0  \n",
       "180  48787676.0  30.4  11.9   6.5        49068100.0  \n",
       "314  49205800.0  24.4  12.8   3.1        48924916.0  \n",
       "359  48728845.0  24.4   7.8   8.2        47428808.0  \n",
       "141  49205800.0  25.6   4.1   7.1        47362224.0  \n",
       "51   50203930.0  17.0   3.3   3.7        46634556.0  \n",
       "255  49700000.0  22.2   5.8   4.5        46444640.0  \n",
       "451  49205800.0  16.2   5.3   4.3        46352484.0  \n",
       "241  33653846.0  22.8   5.8   8.7        44608736.0  \n",
       "526  43031940.0  24.2   3.1  11.6        43262708.0  \n",
       "28   43219440.0  24.7  11.6   3.5        42899940.0  \n",
       "445  42176400.0  20.2   6.9   3.4        42529264.0  \n",
       "\n",
       "[15 rows x 71 columns]"
      ]
     },
     "execution_count": 21,
     "metadata": {},
     "output_type": "execute_result"
    }
   ],
   "source": [
    "df['PREDICTED_SALARY'] = model_cut.predict(df[feat_cut_list])\n",
    "top_pred_df = df.sort_values(by = 'PREDICTED_SALARY',ascending=False)\n",
    "top_pred_df.head(15)"
   ]
  },
  {
   "cell_type": "code",
   "execution_count": 22,
   "id": "bef44c1d",
   "metadata": {},
   "outputs": [
    {
     "data": {
      "text/html": [
       "<div>\n",
       "<style scoped>\n",
       "    .dataframe tbody tr th:only-of-type {\n",
       "        vertical-align: middle;\n",
       "    }\n",
       "\n",
       "    .dataframe tbody tr th {\n",
       "        vertical-align: top;\n",
       "    }\n",
       "\n",
       "    .dataframe thead th {\n",
       "        text-align: right;\n",
       "    }\n",
       "</style>\n",
       "<table border=\"1\" class=\"dataframe\">\n",
       "  <thead>\n",
       "    <tr style=\"text-align: right;\">\n",
       "      <th></th>\n",
       "      <th>PLAYER_ID</th>\n",
       "      <th>PLAYER_NAME</th>\n",
       "      <th>NICKNAME</th>\n",
       "      <th>TEAM_ID</th>\n",
       "      <th>TEAM_ABBREVIATION</th>\n",
       "      <th>AGE</th>\n",
       "      <th>GP</th>\n",
       "      <th>W</th>\n",
       "      <th>L</th>\n",
       "      <th>W_PCT</th>\n",
       "      <th>...</th>\n",
       "      <th>DD2_RANK</th>\n",
       "      <th>TD3_RANK</th>\n",
       "      <th>WNBA_FANTASY_PTS_RANK</th>\n",
       "      <th>SALARY</th>\n",
       "      <th>PPG</th>\n",
       "      <th>RPG</th>\n",
       "      <th>APG</th>\n",
       "      <th>PREDICTED_SALARY</th>\n",
       "      <th>SALARY_DIFF</th>\n",
       "      <th>SALARY_PCT_CHANGE</th>\n",
       "    </tr>\n",
       "  </thead>\n",
       "  <tbody>\n",
       "    <tr>\n",
       "      <th>41</th>\n",
       "      <td>1627732</td>\n",
       "      <td>Ben Simmons</td>\n",
       "      <td>Ben</td>\n",
       "      <td>1610612746</td>\n",
       "      <td>LAC</td>\n",
       "      <td>28.0</td>\n",
       "      <td>51</td>\n",
       "      <td>26</td>\n",
       "      <td>25</td>\n",
       "      <td>0.510</td>\n",
       "      <td>...</td>\n",
       "      <td>198</td>\n",
       "      <td>44</td>\n",
       "      <td>261</td>\n",
       "      <td>40338144.0</td>\n",
       "      <td>5.0</td>\n",
       "      <td>4.7</td>\n",
       "      <td>5.6</td>\n",
       "      <td>15043256.0</td>\n",
       "      <td>-25294888.0</td>\n",
       "      <td>-62.707119</td>\n",
       "    </tr>\n",
       "    <tr>\n",
       "      <th>112</th>\n",
       "      <td>203081</td>\n",
       "      <td>Damian Lillard</td>\n",
       "      <td>Damian</td>\n",
       "      <td>1610612749</td>\n",
       "      <td>MIL</td>\n",
       "      <td>34.0</td>\n",
       "      <td>58</td>\n",
       "      <td>32</td>\n",
       "      <td>26</td>\n",
       "      <td>0.552</td>\n",
       "      <td>...</td>\n",
       "      <td>40</td>\n",
       "      <td>15</td>\n",
       "      <td>41</td>\n",
       "      <td>48787676.0</td>\n",
       "      <td>24.9</td>\n",
       "      <td>4.7</td>\n",
       "      <td>7.1</td>\n",
       "      <td>28912910.0</td>\n",
       "      <td>-19874766.0</td>\n",
       "      <td>-40.737267</td>\n",
       "    </tr>\n",
       "    <tr>\n",
       "      <th>316</th>\n",
       "      <td>202695</td>\n",
       "      <td>Kawhi Leonard</td>\n",
       "      <td>Kawhi</td>\n",
       "      <td>1610612746</td>\n",
       "      <td>LAC</td>\n",
       "      <td>34.0</td>\n",
       "      <td>37</td>\n",
       "      <td>26</td>\n",
       "      <td>11</td>\n",
       "      <td>0.703</td>\n",
       "      <td>...</td>\n",
       "      <td>106</td>\n",
       "      <td>44</td>\n",
       "      <td>169</td>\n",
       "      <td>49205800.0</td>\n",
       "      <td>21.5</td>\n",
       "      <td>5.9</td>\n",
       "      <td>3.1</td>\n",
       "      <td>32017928.0</td>\n",
       "      <td>-17187872.0</td>\n",
       "      <td>-34.930581</td>\n",
       "    </tr>\n",
       "    <tr>\n",
       "      <th>546</th>\n",
       "      <td>1630169</td>\n",
       "      <td>Tyrese Haliburton</td>\n",
       "      <td>Tyrese</td>\n",
       "      <td>1610612754</td>\n",
       "      <td>IND</td>\n",
       "      <td>25.0</td>\n",
       "      <td>73</td>\n",
       "      <td>46</td>\n",
       "      <td>27</td>\n",
       "      <td>0.630</td>\n",
       "      <td>...</td>\n",
       "      <td>18</td>\n",
       "      <td>44</td>\n",
       "      <td>19</td>\n",
       "      <td>42176400.0</td>\n",
       "      <td>18.6</td>\n",
       "      <td>3.5</td>\n",
       "      <td>9.2</td>\n",
       "      <td>25411114.0</td>\n",
       "      <td>-16765286.0</td>\n",
       "      <td>-39.750396</td>\n",
       "    </tr>\n",
       "    <tr>\n",
       "      <th>63</th>\n",
       "      <td>1628971</td>\n",
       "      <td>Bruce Brown</td>\n",
       "      <td>Bruce</td>\n",
       "      <td>1610612740</td>\n",
       "      <td>NOP</td>\n",
       "      <td>28.0</td>\n",
       "      <td>41</td>\n",
       "      <td>15</td>\n",
       "      <td>26</td>\n",
       "      <td>0.366</td>\n",
       "      <td>...</td>\n",
       "      <td>281</td>\n",
       "      <td>44</td>\n",
       "      <td>299</td>\n",
       "      <td>23000000.0</td>\n",
       "      <td>8.3</td>\n",
       "      <td>4.0</td>\n",
       "      <td>2.0</td>\n",
       "      <td>6495753.5</td>\n",
       "      <td>-16504246.5</td>\n",
       "      <td>-71.757593</td>\n",
       "    </tr>\n",
       "    <tr>\n",
       "      <th>...</th>\n",
       "      <td>...</td>\n",
       "      <td>...</td>\n",
       "      <td>...</td>\n",
       "      <td>...</td>\n",
       "      <td>...</td>\n",
       "      <td>...</td>\n",
       "      <td>...</td>\n",
       "      <td>...</td>\n",
       "      <td>...</td>\n",
       "      <td>...</td>\n",
       "      <td>...</td>\n",
       "      <td>...</td>\n",
       "      <td>...</td>\n",
       "      <td>...</td>\n",
       "      <td>...</td>\n",
       "      <td>...</td>\n",
       "      <td>...</td>\n",
       "      <td>...</td>\n",
       "      <td>...</td>\n",
       "      <td>...</td>\n",
       "      <td>...</td>\n",
       "    </tr>\n",
       "    <tr>\n",
       "      <th>420</th>\n",
       "      <td>1630208</td>\n",
       "      <td>Nick Richards</td>\n",
       "      <td>Nick</td>\n",
       "      <td>1610612756</td>\n",
       "      <td>PHX</td>\n",
       "      <td>27.0</td>\n",
       "      <td>57</td>\n",
       "      <td>17</td>\n",
       "      <td>40</td>\n",
       "      <td>0.298</td>\n",
       "      <td>...</td>\n",
       "      <td>35</td>\n",
       "      <td>44</td>\n",
       "      <td>203</td>\n",
       "      <td>5000000.0</td>\n",
       "      <td>9.3</td>\n",
       "      <td>8.2</td>\n",
       "      <td>0.9</td>\n",
       "      <td>16556462.0</td>\n",
       "      <td>11556462.0</td>\n",
       "      <td>231.129240</td>\n",
       "    </tr>\n",
       "    <tr>\n",
       "      <th>185</th>\n",
       "      <td>1627824</td>\n",
       "      <td>Guerschon Yabusele</td>\n",
       "      <td>Guerschon</td>\n",
       "      <td>1610612755</td>\n",
       "      <td>PHI</td>\n",
       "      <td>29.0</td>\n",
       "      <td>70</td>\n",
       "      <td>23</td>\n",
       "      <td>47</td>\n",
       "      <td>0.329</td>\n",
       "      <td>...</td>\n",
       "      <td>134</td>\n",
       "      <td>44</td>\n",
       "      <td>122</td>\n",
       "      <td>2087519.0</td>\n",
       "      <td>11.0</td>\n",
       "      <td>5.6</td>\n",
       "      <td>2.1</td>\n",
       "      <td>18774070.0</td>\n",
       "      <td>16686551.0</td>\n",
       "      <td>799.348461</td>\n",
       "    </tr>\n",
       "    <tr>\n",
       "      <th>498</th>\n",
       "      <td>203915</td>\n",
       "      <td>Spencer Dinwiddie</td>\n",
       "      <td>Spencer</td>\n",
       "      <td>1610612742</td>\n",
       "      <td>DAL</td>\n",
       "      <td>32.0</td>\n",
       "      <td>79</td>\n",
       "      <td>37</td>\n",
       "      <td>42</td>\n",
       "      <td>0.468</td>\n",
       "      <td>...</td>\n",
       "      <td>106</td>\n",
       "      <td>44</td>\n",
       "      <td>108</td>\n",
       "      <td>2087519.0</td>\n",
       "      <td>11.0</td>\n",
       "      <td>2.6</td>\n",
       "      <td>4.4</td>\n",
       "      <td>21373112.0</td>\n",
       "      <td>19285593.0</td>\n",
       "      <td>923.852334</td>\n",
       "    </tr>\n",
       "    <tr>\n",
       "      <th>36</th>\n",
       "      <td>1630559</td>\n",
       "      <td>Austin Reaves</td>\n",
       "      <td>Austin</td>\n",
       "      <td>1610612747</td>\n",
       "      <td>LAL</td>\n",
       "      <td>27.0</td>\n",
       "      <td>73</td>\n",
       "      <td>46</td>\n",
       "      <td>27</td>\n",
       "      <td>0.630</td>\n",
       "      <td>...</td>\n",
       "      <td>71</td>\n",
       "      <td>20</td>\n",
       "      <td>30</td>\n",
       "      <td>12976362.0</td>\n",
       "      <td>20.2</td>\n",
       "      <td>4.5</td>\n",
       "      <td>5.8</td>\n",
       "      <td>34417920.0</td>\n",
       "      <td>21441558.0</td>\n",
       "      <td>165.235511</td>\n",
       "    </tr>\n",
       "    <tr>\n",
       "      <th>204</th>\n",
       "      <td>1627826</td>\n",
       "      <td>Ivica Zubac</td>\n",
       "      <td>Ivica</td>\n",
       "      <td>1610612746</td>\n",
       "      <td>LAC</td>\n",
       "      <td>28.0</td>\n",
       "      <td>80</td>\n",
       "      <td>50</td>\n",
       "      <td>30</td>\n",
       "      <td>0.625</td>\n",
       "      <td>...</td>\n",
       "      <td>2</td>\n",
       "      <td>20</td>\n",
       "      <td>17</td>\n",
       "      <td>11743210.0</td>\n",
       "      <td>16.8</td>\n",
       "      <td>12.6</td>\n",
       "      <td>2.7</td>\n",
       "      <td>34069172.0</td>\n",
       "      <td>22325962.0</td>\n",
       "      <td>190.118051</td>\n",
       "    </tr>\n",
       "  </tbody>\n",
       "</table>\n",
       "<p>425 rows × 73 columns</p>\n",
       "</div>"
      ],
      "text/plain": [
       "     PLAYER_ID         PLAYER_NAME   NICKNAME     TEAM_ID TEAM_ABBREVIATION  \\\n",
       "41     1627732         Ben Simmons        Ben  1610612746               LAC   \n",
       "112     203081      Damian Lillard     Damian  1610612749               MIL   \n",
       "316     202695       Kawhi Leonard      Kawhi  1610612746               LAC   \n",
       "546    1630169   Tyrese Haliburton     Tyrese  1610612754               IND   \n",
       "63     1628971         Bruce Brown      Bruce  1610612740               NOP   \n",
       "..         ...                 ...        ...         ...               ...   \n",
       "420    1630208       Nick Richards       Nick  1610612756               PHX   \n",
       "185    1627824  Guerschon Yabusele  Guerschon  1610612755               PHI   \n",
       "498     203915   Spencer Dinwiddie    Spencer  1610612742               DAL   \n",
       "36     1630559       Austin Reaves     Austin  1610612747               LAL   \n",
       "204    1627826         Ivica Zubac      Ivica  1610612746               LAC   \n",
       "\n",
       "      AGE  GP   W   L  W_PCT  ...  DD2_RANK  TD3_RANK  WNBA_FANTASY_PTS_RANK  \\\n",
       "41   28.0  51  26  25  0.510  ...       198        44                    261   \n",
       "112  34.0  58  32  26  0.552  ...        40        15                     41   \n",
       "316  34.0  37  26  11  0.703  ...       106        44                    169   \n",
       "546  25.0  73  46  27  0.630  ...        18        44                     19   \n",
       "63   28.0  41  15  26  0.366  ...       281        44                    299   \n",
       "..    ...  ..  ..  ..    ...  ...       ...       ...                    ...   \n",
       "420  27.0  57  17  40  0.298  ...        35        44                    203   \n",
       "185  29.0  70  23  47  0.329  ...       134        44                    122   \n",
       "498  32.0  79  37  42  0.468  ...       106        44                    108   \n",
       "36   27.0  73  46  27  0.630  ...        71        20                     30   \n",
       "204  28.0  80  50  30  0.625  ...         2        20                     17   \n",
       "\n",
       "         SALARY   PPG   RPG  APG  PREDICTED_SALARY  SALARY_DIFF  \\\n",
       "41   40338144.0   5.0   4.7  5.6        15043256.0  -25294888.0   \n",
       "112  48787676.0  24.9   4.7  7.1        28912910.0  -19874766.0   \n",
       "316  49205800.0  21.5   5.9  3.1        32017928.0  -17187872.0   \n",
       "546  42176400.0  18.6   3.5  9.2        25411114.0  -16765286.0   \n",
       "63   23000000.0   8.3   4.0  2.0         6495753.5  -16504246.5   \n",
       "..          ...   ...   ...  ...               ...          ...   \n",
       "420   5000000.0   9.3   8.2  0.9        16556462.0   11556462.0   \n",
       "185   2087519.0  11.0   5.6  2.1        18774070.0   16686551.0   \n",
       "498   2087519.0  11.0   2.6  4.4        21373112.0   19285593.0   \n",
       "36   12976362.0  20.2   4.5  5.8        34417920.0   21441558.0   \n",
       "204  11743210.0  16.8  12.6  2.7        34069172.0   22325962.0   \n",
       "\n",
       "     SALARY_PCT_CHANGE  \n",
       "41          -62.707119  \n",
       "112         -40.737267  \n",
       "316         -34.930581  \n",
       "546         -39.750396  \n",
       "63          -71.757593  \n",
       "..                 ...  \n",
       "420         231.129240  \n",
       "185         799.348461  \n",
       "498         923.852334  \n",
       "36          165.235511  \n",
       "204         190.118051  \n",
       "\n",
       "[425 rows x 73 columns]"
      ]
     },
     "execution_count": 22,
     "metadata": {},
     "output_type": "execute_result"
    }
   ],
   "source": [
    "df['SALARY_DIFF'] = df['PREDICTED_SALARY'] - df['SALARY']\n",
    "df['SALARY_PCT_CHANGE'] = ((df['PREDICTED_SALARY'] - df['SALARY'])/df['SALARY'])*100\n",
    "# improved_df = df[df['SALARY_DIFF']>0]\n",
    "# improved_df.sort_values(by = 'SALARY_DIFF',ascending=False)\n",
    "\n",
    "df.sort_values(by = 'SALARY_DIFF',ascending=True)"
   ]
  },
  {
   "cell_type": "markdown",
   "id": "fa4932f3",
   "metadata": {},
   "source": [
    "*New Model*"
   ]
  },
  {
   "cell_type": "code",
   "execution_count": 26,
   "id": "9f854c8d",
   "metadata": {},
   "outputs": [
    {
     "data": {
      "text/plain": [
       "Index(['PLAYER_ID', 'PLAYER_NAME', 'NICKNAME', 'TEAM_ID', 'TEAM_ABBREVIATION',\n",
       "       'AGE', 'GP', 'W', 'L', 'W_PCT', 'MIN', 'FGM', 'FGA', 'FG_PCT', 'FG3M',\n",
       "       'FG3A', 'FG3_PCT', 'FTM', 'FTA', 'FT_PCT', 'OREB', 'DREB', 'REB', 'AST',\n",
       "       'TOV', 'STL', 'BLK', 'BLKA', 'PF', 'PFD', 'PTS', 'PLUS_MINUS',\n",
       "       'NBA_FANTASY_PTS', 'DD2', 'TD3', 'WNBA_FANTASY_PTS', 'GP_RANK',\n",
       "       'W_RANK', 'L_RANK', 'W_PCT_RANK', 'MIN_RANK', 'FGM_RANK', 'FGA_RANK',\n",
       "       'FG_PCT_RANK', 'FG3M_RANK', 'FG3A_RANK', 'FG3_PCT_RANK', 'FTM_RANK',\n",
       "       'FTA_RANK', 'FT_PCT_RANK', 'OREB_RANK', 'DREB_RANK', 'REB_RANK',\n",
       "       'AST_RANK', 'TOV_RANK', 'STL_RANK', 'BLK_RANK', 'BLKA_RANK', 'PF_RANK',\n",
       "       'PFD_RANK', 'PTS_RANK', 'PLUS_MINUS_RANK', 'NBA_FANTASY_PTS_RANK',\n",
       "       'DD2_RANK', 'TD3_RANK', 'WNBA_FANTASY_PTS_RANK', 'SALARY',\n",
       "       'SALARY_CONDENSED'],\n",
       "      dtype='object')"
      ]
     },
     "execution_count": 26,
     "metadata": {},
     "output_type": "execute_result"
    }
   ],
   "source": [
    "df.columns"
   ]
  },
  {
   "cell_type": "code",
   "execution_count": 65,
   "id": "771ae858",
   "metadata": {},
   "outputs": [
    {
     "name": "stdout",
     "output_type": "stream",
     "text": [
      "RMSE (in millions): 8.77\n"
     ]
    },
    {
     "data": {
      "text/html": [
       "<div>\n",
       "<style scoped>\n",
       "    .dataframe tbody tr th:only-of-type {\n",
       "        vertical-align: middle;\n",
       "    }\n",
       "\n",
       "    .dataframe tbody tr th {\n",
       "        vertical-align: top;\n",
       "    }\n",
       "\n",
       "    .dataframe thead th {\n",
       "        text-align: right;\n",
       "    }\n",
       "</style>\n",
       "<table border=\"1\" class=\"dataframe\">\n",
       "  <thead>\n",
       "    <tr style=\"text-align: right;\">\n",
       "      <th></th>\n",
       "      <th>index</th>\n",
       "      <th>PLAYER_NAME</th>\n",
       "      <th>PREDICTED_SALARY</th>\n",
       "      <th>SALARY_PCT_CHANGE</th>\n",
       "    </tr>\n",
       "  </thead>\n",
       "  <tbody>\n",
       "    <tr>\n",
       "      <th>0</th>\n",
       "      <td>501</td>\n",
       "      <td>Stephen Curry</td>\n",
       "      <td>53.259766</td>\n",
       "      <td>-4.483921</td>\n",
       "    </tr>\n",
       "    <tr>\n",
       "      <th>1</th>\n",
       "      <td>424</td>\n",
       "      <td>Nikola Jokić</td>\n",
       "      <td>50.449413</td>\n",
       "      <td>-1.887567</td>\n",
       "    </tr>\n",
       "    <tr>\n",
       "      <th>2</th>\n",
       "      <td>277</td>\n",
       "      <td>Joel Embiid</td>\n",
       "      <td>50.062534</td>\n",
       "      <td>-2.639957</td>\n",
       "    </tr>\n",
       "    <tr>\n",
       "      <th>3</th>\n",
       "      <td>330</td>\n",
       "      <td>Kevin Durant</td>\n",
       "      <td>49.628387</td>\n",
       "      <td>-3.031678</td>\n",
       "    </tr>\n",
       "    <tr>\n",
       "      <th>4</th>\n",
       "      <td>180</td>\n",
       "      <td>Giannis Antetokounmpo</td>\n",
       "      <td>48.530663</td>\n",
       "      <td>-0.531538</td>\n",
       "    </tr>\n",
       "    <tr>\n",
       "      <th>5</th>\n",
       "      <td>359</td>\n",
       "      <td>LeBron James</td>\n",
       "      <td>48.494038</td>\n",
       "      <td>-0.484224</td>\n",
       "    </tr>\n",
       "    <tr>\n",
       "      <th>6</th>\n",
       "      <td>314</td>\n",
       "      <td>Karl-Anthony Towns</td>\n",
       "      <td>48.351124</td>\n",
       "      <td>-1.745329</td>\n",
       "    </tr>\n",
       "    <tr>\n",
       "      <th>7</th>\n",
       "      <td>141</td>\n",
       "      <td>Devin Booker</td>\n",
       "      <td>46.954796</td>\n",
       "      <td>-4.582817</td>\n",
       "    </tr>\n",
       "    <tr>\n",
       "      <th>8</th>\n",
       "      <td>451</td>\n",
       "      <td>Paul George</td>\n",
       "      <td>46.919876</td>\n",
       "      <td>-4.653777</td>\n",
       "    </tr>\n",
       "    <tr>\n",
       "      <th>9</th>\n",
       "      <td>255</td>\n",
       "      <td>Jaylen Brown</td>\n",
       "      <td>45.738274</td>\n",
       "      <td>-7.971280</td>\n",
       "    </tr>\n",
       "    <tr>\n",
       "      <th>10</th>\n",
       "      <td>51</td>\n",
       "      <td>Bradley Beal</td>\n",
       "      <td>45.329002</td>\n",
       "      <td>-9.703183</td>\n",
       "    </tr>\n",
       "    <tr>\n",
       "      <th>11</th>\n",
       "      <td>493</td>\n",
       "      <td>Shai Gilgeous-Alexander</td>\n",
       "      <td>44.853920</td>\n",
       "      <td>25.080647</td>\n",
       "    </tr>\n",
       "    <tr>\n",
       "      <th>12</th>\n",
       "      <td>526</td>\n",
       "      <td>Trae Young</td>\n",
       "      <td>43.024609</td>\n",
       "      <td>-0.012529</td>\n",
       "    </tr>\n",
       "    <tr>\n",
       "      <th>13</th>\n",
       "      <td>28</td>\n",
       "      <td>Anthony Davis</td>\n",
       "      <td>42.258675</td>\n",
       "      <td>-2.224260</td>\n",
       "    </tr>\n",
       "    <tr>\n",
       "      <th>14</th>\n",
       "      <td>445</td>\n",
       "      <td>Pascal Siakam</td>\n",
       "      <td>42.175682</td>\n",
       "      <td>-0.010237</td>\n",
       "    </tr>\n",
       "  </tbody>\n",
       "</table>\n",
       "</div>"
      ],
      "text/plain": [
       "    index              PLAYER_NAME  PREDICTED_SALARY  SALARY_PCT_CHANGE\n",
       "0     501            Stephen Curry         53.259766          -4.483921\n",
       "1     424             Nikola Jokić         50.449413          -1.887567\n",
       "2     277              Joel Embiid         50.062534          -2.639957\n",
       "3     330             Kevin Durant         49.628387          -3.031678\n",
       "4     180    Giannis Antetokounmpo         48.530663          -0.531538\n",
       "5     359             LeBron James         48.494038          -0.484224\n",
       "6     314       Karl-Anthony Towns         48.351124          -1.745329\n",
       "7     141             Devin Booker         46.954796          -4.582817\n",
       "8     451              Paul George         46.919876          -4.653777\n",
       "9     255             Jaylen Brown         45.738274          -7.971280\n",
       "10     51             Bradley Beal         45.329002          -9.703183\n",
       "11    493  Shai Gilgeous-Alexander         44.853920          25.080647\n",
       "12    526               Trae Young         43.024609          -0.012529\n",
       "13     28            Anthony Davis         42.258675          -2.224260\n",
       "14    445            Pascal Siakam         42.175682          -0.010237"
      ]
     },
     "execution_count": 65,
     "metadata": {},
     "output_type": "execute_result"
    }
   ],
   "source": [
    "import xgboost as xgb\n",
    "from sklearn.model_selection import train_test_split\n",
    "from sklearn.metrics import mean_squared_error as MSE\n",
    "import numpy as np\n",
    "import pandas as pd\n",
    "\n",
    "# Load dataset\n",
    "df = pd.read_csv('../database/merged.csv')\n",
    "\n",
    "# Clean salary column\n",
    "df['SALARY'] = df['SALARY'].replace('[\\$,]', '', regex=True).astype(float)\n",
    "\n",
    "# Create condensed salary in millions\n",
    "df['SALARY_CONDENSED'] = df['SALARY'].apply(lambda x: round(x / 1_000_000, 2))\n",
    "\n",
    "# Drop rows with missing or invalid salary values\n",
    "df = df.dropna(subset=['SALARY', 'SALARY_CONDENSED'])\n",
    "df = df[~df['SALARY_CONDENSED'].isin([np.inf, -np.inf])]\n",
    "\n",
    "# Define features and target\n",
    "features = ['NBA_FANTASY_PTS_RANK', 'PTS_RANK', 'FGA_RANK', 'PLUS_MINUS_RANK', 'MIN_RANK',\n",
    "            'FG3_PCT_RANK', 'FG_PCT_RANK', 'FGM_RANK', 'WNBA_FANTASY_PTS_RANK', 'FTM_RANK',\n",
    "            'PFD_RANK', 'FTA_RANK', 'TOV_RANK', 'AST_RANK', 'DREB_RANK', 'BLKA_RANK',\n",
    "            'STL_RANK', 'REB_RANK', 'DD2_RANK', 'FG3A_RANK', 'FG3M_RANK', 'PF_RANK',\n",
    "            'BLK_RANK', 'OREB_RANK', 'W_RANK', 'GP_RANK', 'FT_PCT_RANK', 'TD3_RANK',\n",
    "            'L_RANK', 'W_PCT_RANK']\n",
    "\n",
    "X = df[features]\n",
    "y = df['SALARY_CONDENSED']\n",
    "\n",
    "# Train/test split\n",
    "X_train, X_test, y_train, y_test = train_test_split(X, y, test_size=0.2, random_state=42)\n",
    "\n",
    "# Initialize and train XGBoost model\n",
    "new_model = xgb.XGBRegressor(\n",
    "    objective='reg:squarederror',\n",
    "    max_depth=4,\n",
    "    learning_rate=0.1,\n",
    "    n_estimators=100,\n",
    "    random_state=42\n",
    ")\n",
    "\n",
    "new_model.fit(X_train, y_train)\n",
    "\n",
    "# Evaluate\n",
    "y_pred = new_model.predict(X_test)\n",
    "rmse = np.sqrt(MSE(y_test, y_pred))\n",
    "print(f\"RMSE (in millions): {rmse:.2f}\")\n",
    "\n",
    "# Predict on full dataset\n",
    "df['PREDICTED_SALARY'] = new_model.predict(X)\n",
    "df['PPG'] = round(df['PTS']/df['GP'],1)\n",
    "df['RPG'] = round(df['REB']/df['GP'],1)\n",
    "df['APG'] = round(df['AST']/df['GP'],1)\n",
    "\n",
    "df['SALARY_DIFF'] = df['PREDICTED_SALARY'] - df['SALARY_CONDENSED']\n",
    "df['SALARY_PCT_CHANGE'] = ((df['PREDICTED_SALARY'] - df['SALARY_CONDENSED'])/df['SALARY_CONDENSED'])*100\n",
    "\n",
    "# Show top 15 highest predicted salaries\n",
    "top_pred_df = df.sort_values(by='PREDICTED_SALARY', ascending=False)\n",
    "top_pred_df.head(15)[['PLAYER_NAME', 'PREDICTED_SALARY','SALARY_PCT_CHANGE']].reset_index()\n"
   ]
  },
  {
   "cell_type": "code",
   "execution_count": 74,
   "id": "98ab6602",
   "metadata": {},
   "outputs": [],
   "source": [
    "import plotly.express as px\n",
    "top_13_per_team = (\n",
    "    df.sort_values(by=['TEAM_ABBREVIATION', 'PREDICTED_SALARY'], ascending=[True, False])\n",
    "      .groupby('TEAM_ABBREVIATION')\n",
    "      .head(13)\n",
    ")\n",
    "wealthiest_df = top_13_per_team[['TEAM_ABBREVIATION','PLAYER_NAME','PREDICTED_SALARY']]\n",
    "team_salary_totals = (\n",
    "    wealthiest_df\n",
    "    .groupby('TEAM_ABBREVIATION')['PREDICTED_SALARY']\n",
    "    .sum()\n",
    "    .reset_index()\n",
    "    .sort_values(by='PREDICTED_SALARY', ascending=False)\n",
    ")\n",
    "wealthiest_teams = team_salary_totals.sort_values(by=\"PREDICTED_SALARY\", ascending=True).head(5)\n",
    "poorest_teams = team_salary_totals.sort_values(by=\"PREDICTED_SALARY\", ascending=False).head(5)\n"
   ]
  },
  {
   "cell_type": "code",
   "execution_count": 66,
   "id": "6e30a255",
   "metadata": {},
   "outputs": [],
   "source": [
    "import sqlite3\n",
    "\n",
    "# Step 1: Create a connection to a SQLite database file (it creates the file if it doesn't exist)\n",
    "conn = sqlite3.connect('nba_dataV2.db')\n",
    "\n",
    "# Step 2: Write the DataFrame to a SQL table\n",
    "df.to_sql('player_data', conn, if_exists='replace', index=False)\n",
    "\n",
    "# Step 3: (Optional) Close the connection when done\n",
    "conn.close()\n"
   ]
  },
  {
   "cell_type": "code",
   "execution_count": null,
   "id": "f815823e",
   "metadata": {},
   "outputs": [
    {
     "data": {
      "application/vnd.plotly.v1+json": {
       "config": {
        "plotlyServerURL": "https://plot.ly"
       },
       "data": [
        {
         "alignmentgroup": "True",
         "hovertemplate": "Total Salary (Millions)=%{marker.color}<br>Team=%{y}<extra></extra>",
         "legendgroup": "",
         "marker": {
          "color": [
           192.37423706054688,
           193.802734375,
           197.54824829101562,
           198.54429626464844,
           216.71067810058594
          ],
          "coloraxis": "coloraxis",
          "pattern": {
           "shape": ""
          }
         },
         "name": "",
         "offsetgroup": "",
         "orientation": "h",
         "showlegend": false,
         "textposition": "auto",
         "type": "bar",
         "x": [
          192.37423706054688,
          193.802734375,
          197.54824829101562,
          198.54429626464844,
          216.71067810058594
         ],
         "xaxis": "x",
         "y": [
          "BOS",
          "DEN",
          "NYK",
          "MIN",
          "PHX"
         ],
         "yaxis": "y"
        }
       ],
       "layout": {
        "barmode": "relative",
        "coloraxis": {
         "colorbar": {
          "title": {
           "text": "Total Salary (Millions)"
          }
         },
         "colorscale": [
          [
           0,
           "rgb(247,251,255)"
          ],
          [
           0.125,
           "rgb(222,235,247)"
          ],
          [
           0.25,
           "rgb(198,219,239)"
          ],
          [
           0.375,
           "rgb(158,202,225)"
          ],
          [
           0.5,
           "rgb(107,174,214)"
          ],
          [
           0.625,
           "rgb(66,146,198)"
          ],
          [
           0.75,
           "rgb(33,113,181)"
          ],
          [
           0.875,
           "rgb(8,81,156)"
          ],
          [
           1,
           "rgb(8,48,107)"
          ]
         ]
        },
        "legend": {
         "tracegroupgap": 0
        },
        "template": {
         "data": {
          "bar": [
           {
            "error_x": {
             "color": "#2a3f5f"
            },
            "error_y": {
             "color": "#2a3f5f"
            },
            "marker": {
             "line": {
              "color": "#E5ECF6",
              "width": 0.5
             },
             "pattern": {
              "fillmode": "overlay",
              "size": 10,
              "solidity": 0.2
             }
            },
            "type": "bar"
           }
          ],
          "barpolar": [
           {
            "marker": {
             "line": {
              "color": "#E5ECF6",
              "width": 0.5
             },
             "pattern": {
              "fillmode": "overlay",
              "size": 10,
              "solidity": 0.2
             }
            },
            "type": "barpolar"
           }
          ],
          "carpet": [
           {
            "aaxis": {
             "endlinecolor": "#2a3f5f",
             "gridcolor": "white",
             "linecolor": "white",
             "minorgridcolor": "white",
             "startlinecolor": "#2a3f5f"
            },
            "baxis": {
             "endlinecolor": "#2a3f5f",
             "gridcolor": "white",
             "linecolor": "white",
             "minorgridcolor": "white",
             "startlinecolor": "#2a3f5f"
            },
            "type": "carpet"
           }
          ],
          "choropleth": [
           {
            "colorbar": {
             "outlinewidth": 0,
             "ticks": ""
            },
            "type": "choropleth"
           }
          ],
          "contour": [
           {
            "colorbar": {
             "outlinewidth": 0,
             "ticks": ""
            },
            "colorscale": [
             [
              0,
              "#0d0887"
             ],
             [
              0.1111111111111111,
              "#46039f"
             ],
             [
              0.2222222222222222,
              "#7201a8"
             ],
             [
              0.3333333333333333,
              "#9c179e"
             ],
             [
              0.4444444444444444,
              "#bd3786"
             ],
             [
              0.5555555555555556,
              "#d8576b"
             ],
             [
              0.6666666666666666,
              "#ed7953"
             ],
             [
              0.7777777777777778,
              "#fb9f3a"
             ],
             [
              0.8888888888888888,
              "#fdca26"
             ],
             [
              1,
              "#f0f921"
             ]
            ],
            "type": "contour"
           }
          ],
          "contourcarpet": [
           {
            "colorbar": {
             "outlinewidth": 0,
             "ticks": ""
            },
            "type": "contourcarpet"
           }
          ],
          "heatmap": [
           {
            "colorbar": {
             "outlinewidth": 0,
             "ticks": ""
            },
            "colorscale": [
             [
              0,
              "#0d0887"
             ],
             [
              0.1111111111111111,
              "#46039f"
             ],
             [
              0.2222222222222222,
              "#7201a8"
             ],
             [
              0.3333333333333333,
              "#9c179e"
             ],
             [
              0.4444444444444444,
              "#bd3786"
             ],
             [
              0.5555555555555556,
              "#d8576b"
             ],
             [
              0.6666666666666666,
              "#ed7953"
             ],
             [
              0.7777777777777778,
              "#fb9f3a"
             ],
             [
              0.8888888888888888,
              "#fdca26"
             ],
             [
              1,
              "#f0f921"
             ]
            ],
            "type": "heatmap"
           }
          ],
          "heatmapgl": [
           {
            "colorbar": {
             "outlinewidth": 0,
             "ticks": ""
            },
            "colorscale": [
             [
              0,
              "#0d0887"
             ],
             [
              0.1111111111111111,
              "#46039f"
             ],
             [
              0.2222222222222222,
              "#7201a8"
             ],
             [
              0.3333333333333333,
              "#9c179e"
             ],
             [
              0.4444444444444444,
              "#bd3786"
             ],
             [
              0.5555555555555556,
              "#d8576b"
             ],
             [
              0.6666666666666666,
              "#ed7953"
             ],
             [
              0.7777777777777778,
              "#fb9f3a"
             ],
             [
              0.8888888888888888,
              "#fdca26"
             ],
             [
              1,
              "#f0f921"
             ]
            ],
            "type": "heatmapgl"
           }
          ],
          "histogram": [
           {
            "marker": {
             "pattern": {
              "fillmode": "overlay",
              "size": 10,
              "solidity": 0.2
             }
            },
            "type": "histogram"
           }
          ],
          "histogram2d": [
           {
            "colorbar": {
             "outlinewidth": 0,
             "ticks": ""
            },
            "colorscale": [
             [
              0,
              "#0d0887"
             ],
             [
              0.1111111111111111,
              "#46039f"
             ],
             [
              0.2222222222222222,
              "#7201a8"
             ],
             [
              0.3333333333333333,
              "#9c179e"
             ],
             [
              0.4444444444444444,
              "#bd3786"
             ],
             [
              0.5555555555555556,
              "#d8576b"
             ],
             [
              0.6666666666666666,
              "#ed7953"
             ],
             [
              0.7777777777777778,
              "#fb9f3a"
             ],
             [
              0.8888888888888888,
              "#fdca26"
             ],
             [
              1,
              "#f0f921"
             ]
            ],
            "type": "histogram2d"
           }
          ],
          "histogram2dcontour": [
           {
            "colorbar": {
             "outlinewidth": 0,
             "ticks": ""
            },
            "colorscale": [
             [
              0,
              "#0d0887"
             ],
             [
              0.1111111111111111,
              "#46039f"
             ],
             [
              0.2222222222222222,
              "#7201a8"
             ],
             [
              0.3333333333333333,
              "#9c179e"
             ],
             [
              0.4444444444444444,
              "#bd3786"
             ],
             [
              0.5555555555555556,
              "#d8576b"
             ],
             [
              0.6666666666666666,
              "#ed7953"
             ],
             [
              0.7777777777777778,
              "#fb9f3a"
             ],
             [
              0.8888888888888888,
              "#fdca26"
             ],
             [
              1,
              "#f0f921"
             ]
            ],
            "type": "histogram2dcontour"
           }
          ],
          "mesh3d": [
           {
            "colorbar": {
             "outlinewidth": 0,
             "ticks": ""
            },
            "type": "mesh3d"
           }
          ],
          "parcoords": [
           {
            "line": {
             "colorbar": {
              "outlinewidth": 0,
              "ticks": ""
             }
            },
            "type": "parcoords"
           }
          ],
          "pie": [
           {
            "automargin": true,
            "type": "pie"
           }
          ],
          "scatter": [
           {
            "fillpattern": {
             "fillmode": "overlay",
             "size": 10,
             "solidity": 0.2
            },
            "type": "scatter"
           }
          ],
          "scatter3d": [
           {
            "line": {
             "colorbar": {
              "outlinewidth": 0,
              "ticks": ""
             }
            },
            "marker": {
             "colorbar": {
              "outlinewidth": 0,
              "ticks": ""
             }
            },
            "type": "scatter3d"
           }
          ],
          "scattercarpet": [
           {
            "marker": {
             "colorbar": {
              "outlinewidth": 0,
              "ticks": ""
             }
            },
            "type": "scattercarpet"
           }
          ],
          "scattergeo": [
           {
            "marker": {
             "colorbar": {
              "outlinewidth": 0,
              "ticks": ""
             }
            },
            "type": "scattergeo"
           }
          ],
          "scattergl": [
           {
            "marker": {
             "colorbar": {
              "outlinewidth": 0,
              "ticks": ""
             }
            },
            "type": "scattergl"
           }
          ],
          "scattermapbox": [
           {
            "marker": {
             "colorbar": {
              "outlinewidth": 0,
              "ticks": ""
             }
            },
            "type": "scattermapbox"
           }
          ],
          "scatterpolar": [
           {
            "marker": {
             "colorbar": {
              "outlinewidth": 0,
              "ticks": ""
             }
            },
            "type": "scatterpolar"
           }
          ],
          "scatterpolargl": [
           {
            "marker": {
             "colorbar": {
              "outlinewidth": 0,
              "ticks": ""
             }
            },
            "type": "scatterpolargl"
           }
          ],
          "scatterternary": [
           {
            "marker": {
             "colorbar": {
              "outlinewidth": 0,
              "ticks": ""
             }
            },
            "type": "scatterternary"
           }
          ],
          "surface": [
           {
            "colorbar": {
             "outlinewidth": 0,
             "ticks": ""
            },
            "colorscale": [
             [
              0,
              "#0d0887"
             ],
             [
              0.1111111111111111,
              "#46039f"
             ],
             [
              0.2222222222222222,
              "#7201a8"
             ],
             [
              0.3333333333333333,
              "#9c179e"
             ],
             [
              0.4444444444444444,
              "#bd3786"
             ],
             [
              0.5555555555555556,
              "#d8576b"
             ],
             [
              0.6666666666666666,
              "#ed7953"
             ],
             [
              0.7777777777777778,
              "#fb9f3a"
             ],
             [
              0.8888888888888888,
              "#fdca26"
             ],
             [
              1,
              "#f0f921"
             ]
            ],
            "type": "surface"
           }
          ],
          "table": [
           {
            "cells": {
             "fill": {
              "color": "#EBF0F8"
             },
             "line": {
              "color": "white"
             }
            },
            "header": {
             "fill": {
              "color": "#C8D4E3"
             },
             "line": {
              "color": "white"
             }
            },
            "type": "table"
           }
          ]
         },
         "layout": {
          "annotationdefaults": {
           "arrowcolor": "#2a3f5f",
           "arrowhead": 0,
           "arrowwidth": 1
          },
          "autotypenumbers": "strict",
          "coloraxis": {
           "colorbar": {
            "outlinewidth": 0,
            "ticks": ""
           }
          },
          "colorscale": {
           "diverging": [
            [
             0,
             "#8e0152"
            ],
            [
             0.1,
             "#c51b7d"
            ],
            [
             0.2,
             "#de77ae"
            ],
            [
             0.3,
             "#f1b6da"
            ],
            [
             0.4,
             "#fde0ef"
            ],
            [
             0.5,
             "#f7f7f7"
            ],
            [
             0.6,
             "#e6f5d0"
            ],
            [
             0.7,
             "#b8e186"
            ],
            [
             0.8,
             "#7fbc41"
            ],
            [
             0.9,
             "#4d9221"
            ],
            [
             1,
             "#276419"
            ]
           ],
           "sequential": [
            [
             0,
             "#0d0887"
            ],
            [
             0.1111111111111111,
             "#46039f"
            ],
            [
             0.2222222222222222,
             "#7201a8"
            ],
            [
             0.3333333333333333,
             "#9c179e"
            ],
            [
             0.4444444444444444,
             "#bd3786"
            ],
            [
             0.5555555555555556,
             "#d8576b"
            ],
            [
             0.6666666666666666,
             "#ed7953"
            ],
            [
             0.7777777777777778,
             "#fb9f3a"
            ],
            [
             0.8888888888888888,
             "#fdca26"
            ],
            [
             1,
             "#f0f921"
            ]
           ],
           "sequentialminus": [
            [
             0,
             "#0d0887"
            ],
            [
             0.1111111111111111,
             "#46039f"
            ],
            [
             0.2222222222222222,
             "#7201a8"
            ],
            [
             0.3333333333333333,
             "#9c179e"
            ],
            [
             0.4444444444444444,
             "#bd3786"
            ],
            [
             0.5555555555555556,
             "#d8576b"
            ],
            [
             0.6666666666666666,
             "#ed7953"
            ],
            [
             0.7777777777777778,
             "#fb9f3a"
            ],
            [
             0.8888888888888888,
             "#fdca26"
            ],
            [
             1,
             "#f0f921"
            ]
           ]
          },
          "colorway": [
           "#636efa",
           "#EF553B",
           "#00cc96",
           "#ab63fa",
           "#FFA15A",
           "#19d3f3",
           "#FF6692",
           "#B6E880",
           "#FF97FF",
           "#FECB52"
          ],
          "font": {
           "color": "#2a3f5f"
          },
          "geo": {
           "bgcolor": "white",
           "lakecolor": "white",
           "landcolor": "#E5ECF6",
           "showlakes": true,
           "showland": true,
           "subunitcolor": "white"
          },
          "hoverlabel": {
           "align": "left"
          },
          "hovermode": "closest",
          "mapbox": {
           "style": "light"
          },
          "paper_bgcolor": "white",
          "plot_bgcolor": "#E5ECF6",
          "polar": {
           "angularaxis": {
            "gridcolor": "white",
            "linecolor": "white",
            "ticks": ""
           },
           "bgcolor": "#E5ECF6",
           "radialaxis": {
            "gridcolor": "white",
            "linecolor": "white",
            "ticks": ""
           }
          },
          "scene": {
           "xaxis": {
            "backgroundcolor": "#E5ECF6",
            "gridcolor": "white",
            "gridwidth": 2,
            "linecolor": "white",
            "showbackground": true,
            "ticks": "",
            "zerolinecolor": "white"
           },
           "yaxis": {
            "backgroundcolor": "#E5ECF6",
            "gridcolor": "white",
            "gridwidth": 2,
            "linecolor": "white",
            "showbackground": true,
            "ticks": "",
            "zerolinecolor": "white"
           },
           "zaxis": {
            "backgroundcolor": "#E5ECF6",
            "gridcolor": "white",
            "gridwidth": 2,
            "linecolor": "white",
            "showbackground": true,
            "ticks": "",
            "zerolinecolor": "white"
           }
          },
          "shapedefaults": {
           "line": {
            "color": "#2a3f5f"
           }
          },
          "ternary": {
           "aaxis": {
            "gridcolor": "white",
            "linecolor": "white",
            "ticks": ""
           },
           "baxis": {
            "gridcolor": "white",
            "linecolor": "white",
            "ticks": ""
           },
           "bgcolor": "#E5ECF6",
           "caxis": {
            "gridcolor": "white",
            "linecolor": "white",
            "ticks": ""
           }
          },
          "title": {
           "x": 0.05
          },
          "xaxis": {
           "automargin": true,
           "gridcolor": "white",
           "linecolor": "white",
           "ticks": "",
           "title": {
            "standoff": 15
           },
           "zerolinecolor": "white",
           "zerolinewidth": 2
          },
          "yaxis": {
           "automargin": true,
           "gridcolor": "white",
           "linecolor": "white",
           "ticks": "",
           "title": {
            "standoff": 15
           },
           "zerolinecolor": "white",
           "zerolinewidth": 2
          }
         }
        },
        "title": {
         "text": "Top 5 Wealthiest Teams (Predicted Salary Total)"
        },
        "xaxis": {
         "anchor": "y",
         "domain": [
          0,
          1
         ],
         "title": {
          "text": "Total Salary (Millions)"
         }
        },
        "yaxis": {
         "anchor": "x",
         "categoryorder": "total ascending",
         "domain": [
          0,
          1
         ],
         "title": {
          "text": "Team"
         }
        }
       }
      }
     },
     "metadata": {},
     "output_type": "display_data"
    },
    {
     "data": {
      "application/vnd.plotly.v1+json": {
       "config": {
        "plotlyServerURL": "https://plot.ly"
       },
       "data": [
        {
         "alignmentgroup": "True",
         "hovertemplate": "Total Salary (Millions)=%{marker.color}<br>Team=%{y}<extra></extra>",
         "legendgroup": "",
         "marker": {
          "color": [
           120.0794448852539,
           125.80643463134766,
           135.4496307373047,
           139.32867431640625,
           142.2670440673828
          ],
          "coloraxis": "coloraxis",
          "pattern": {
           "shape": ""
          }
         },
         "name": "",
         "offsetgroup": "",
         "orientation": "v",
         "showlegend": false,
         "textposition": "auto",
         "type": "bar",
         "x": [
          120.0794448852539,
          125.80643463134766,
          135.4496307373047,
          139.32867431640625,
          142.2670440673828
         ],
         "xaxis": "x",
         "y": [
          "BKN",
          "DET",
          "WAS",
          "CHI",
          "GSW"
         ],
         "yaxis": "y"
        }
       ],
       "layout": {
        "barmode": "relative",
        "coloraxis": {
         "colorbar": {
          "title": {
           "text": "Total Salary (Millions)"
          }
         },
         "colorscale": [
          [
           0,
           "rgb(255,245,240)"
          ],
          [
           0.125,
           "rgb(254,224,210)"
          ],
          [
           0.25,
           "rgb(252,187,161)"
          ],
          [
           0.375,
           "rgb(252,146,114)"
          ],
          [
           0.5,
           "rgb(251,106,74)"
          ],
          [
           0.625,
           "rgb(239,59,44)"
          ],
          [
           0.75,
           "rgb(203,24,29)"
          ],
          [
           0.875,
           "rgb(165,15,21)"
          ],
          [
           1,
           "rgb(103,0,13)"
          ]
         ]
        },
        "legend": {
         "tracegroupgap": 0
        },
        "template": {
         "data": {
          "bar": [
           {
            "error_x": {
             "color": "#2a3f5f"
            },
            "error_y": {
             "color": "#2a3f5f"
            },
            "marker": {
             "line": {
              "color": "#E5ECF6",
              "width": 0.5
             },
             "pattern": {
              "fillmode": "overlay",
              "size": 10,
              "solidity": 0.2
             }
            },
            "type": "bar"
           }
          ],
          "barpolar": [
           {
            "marker": {
             "line": {
              "color": "#E5ECF6",
              "width": 0.5
             },
             "pattern": {
              "fillmode": "overlay",
              "size": 10,
              "solidity": 0.2
             }
            },
            "type": "barpolar"
           }
          ],
          "carpet": [
           {
            "aaxis": {
             "endlinecolor": "#2a3f5f",
             "gridcolor": "white",
             "linecolor": "white",
             "minorgridcolor": "white",
             "startlinecolor": "#2a3f5f"
            },
            "baxis": {
             "endlinecolor": "#2a3f5f",
             "gridcolor": "white",
             "linecolor": "white",
             "minorgridcolor": "white",
             "startlinecolor": "#2a3f5f"
            },
            "type": "carpet"
           }
          ],
          "choropleth": [
           {
            "colorbar": {
             "outlinewidth": 0,
             "ticks": ""
            },
            "type": "choropleth"
           }
          ],
          "contour": [
           {
            "colorbar": {
             "outlinewidth": 0,
             "ticks": ""
            },
            "colorscale": [
             [
              0,
              "#0d0887"
             ],
             [
              0.1111111111111111,
              "#46039f"
             ],
             [
              0.2222222222222222,
              "#7201a8"
             ],
             [
              0.3333333333333333,
              "#9c179e"
             ],
             [
              0.4444444444444444,
              "#bd3786"
             ],
             [
              0.5555555555555556,
              "#d8576b"
             ],
             [
              0.6666666666666666,
              "#ed7953"
             ],
             [
              0.7777777777777778,
              "#fb9f3a"
             ],
             [
              0.8888888888888888,
              "#fdca26"
             ],
             [
              1,
              "#f0f921"
             ]
            ],
            "type": "contour"
           }
          ],
          "contourcarpet": [
           {
            "colorbar": {
             "outlinewidth": 0,
             "ticks": ""
            },
            "type": "contourcarpet"
           }
          ],
          "heatmap": [
           {
            "colorbar": {
             "outlinewidth": 0,
             "ticks": ""
            },
            "colorscale": [
             [
              0,
              "#0d0887"
             ],
             [
              0.1111111111111111,
              "#46039f"
             ],
             [
              0.2222222222222222,
              "#7201a8"
             ],
             [
              0.3333333333333333,
              "#9c179e"
             ],
             [
              0.4444444444444444,
              "#bd3786"
             ],
             [
              0.5555555555555556,
              "#d8576b"
             ],
             [
              0.6666666666666666,
              "#ed7953"
             ],
             [
              0.7777777777777778,
              "#fb9f3a"
             ],
             [
              0.8888888888888888,
              "#fdca26"
             ],
             [
              1,
              "#f0f921"
             ]
            ],
            "type": "heatmap"
           }
          ],
          "heatmapgl": [
           {
            "colorbar": {
             "outlinewidth": 0,
             "ticks": ""
            },
            "colorscale": [
             [
              0,
              "#0d0887"
             ],
             [
              0.1111111111111111,
              "#46039f"
             ],
             [
              0.2222222222222222,
              "#7201a8"
             ],
             [
              0.3333333333333333,
              "#9c179e"
             ],
             [
              0.4444444444444444,
              "#bd3786"
             ],
             [
              0.5555555555555556,
              "#d8576b"
             ],
             [
              0.6666666666666666,
              "#ed7953"
             ],
             [
              0.7777777777777778,
              "#fb9f3a"
             ],
             [
              0.8888888888888888,
              "#fdca26"
             ],
             [
              1,
              "#f0f921"
             ]
            ],
            "type": "heatmapgl"
           }
          ],
          "histogram": [
           {
            "marker": {
             "pattern": {
              "fillmode": "overlay",
              "size": 10,
              "solidity": 0.2
             }
            },
            "type": "histogram"
           }
          ],
          "histogram2d": [
           {
            "colorbar": {
             "outlinewidth": 0,
             "ticks": ""
            },
            "colorscale": [
             [
              0,
              "#0d0887"
             ],
             [
              0.1111111111111111,
              "#46039f"
             ],
             [
              0.2222222222222222,
              "#7201a8"
             ],
             [
              0.3333333333333333,
              "#9c179e"
             ],
             [
              0.4444444444444444,
              "#bd3786"
             ],
             [
              0.5555555555555556,
              "#d8576b"
             ],
             [
              0.6666666666666666,
              "#ed7953"
             ],
             [
              0.7777777777777778,
              "#fb9f3a"
             ],
             [
              0.8888888888888888,
              "#fdca26"
             ],
             [
              1,
              "#f0f921"
             ]
            ],
            "type": "histogram2d"
           }
          ],
          "histogram2dcontour": [
           {
            "colorbar": {
             "outlinewidth": 0,
             "ticks": ""
            },
            "colorscale": [
             [
              0,
              "#0d0887"
             ],
             [
              0.1111111111111111,
              "#46039f"
             ],
             [
              0.2222222222222222,
              "#7201a8"
             ],
             [
              0.3333333333333333,
              "#9c179e"
             ],
             [
              0.4444444444444444,
              "#bd3786"
             ],
             [
              0.5555555555555556,
              "#d8576b"
             ],
             [
              0.6666666666666666,
              "#ed7953"
             ],
             [
              0.7777777777777778,
              "#fb9f3a"
             ],
             [
              0.8888888888888888,
              "#fdca26"
             ],
             [
              1,
              "#f0f921"
             ]
            ],
            "type": "histogram2dcontour"
           }
          ],
          "mesh3d": [
           {
            "colorbar": {
             "outlinewidth": 0,
             "ticks": ""
            },
            "type": "mesh3d"
           }
          ],
          "parcoords": [
           {
            "line": {
             "colorbar": {
              "outlinewidth": 0,
              "ticks": ""
             }
            },
            "type": "parcoords"
           }
          ],
          "pie": [
           {
            "automargin": true,
            "type": "pie"
           }
          ],
          "scatter": [
           {
            "fillpattern": {
             "fillmode": "overlay",
             "size": 10,
             "solidity": 0.2
            },
            "type": "scatter"
           }
          ],
          "scatter3d": [
           {
            "line": {
             "colorbar": {
              "outlinewidth": 0,
              "ticks": ""
             }
            },
            "marker": {
             "colorbar": {
              "outlinewidth": 0,
              "ticks": ""
             }
            },
            "type": "scatter3d"
           }
          ],
          "scattercarpet": [
           {
            "marker": {
             "colorbar": {
              "outlinewidth": 0,
              "ticks": ""
             }
            },
            "type": "scattercarpet"
           }
          ],
          "scattergeo": [
           {
            "marker": {
             "colorbar": {
              "outlinewidth": 0,
              "ticks": ""
             }
            },
            "type": "scattergeo"
           }
          ],
          "scattergl": [
           {
            "marker": {
             "colorbar": {
              "outlinewidth": 0,
              "ticks": ""
             }
            },
            "type": "scattergl"
           }
          ],
          "scattermapbox": [
           {
            "marker": {
             "colorbar": {
              "outlinewidth": 0,
              "ticks": ""
             }
            },
            "type": "scattermapbox"
           }
          ],
          "scatterpolar": [
           {
            "marker": {
             "colorbar": {
              "outlinewidth": 0,
              "ticks": ""
             }
            },
            "type": "scatterpolar"
           }
          ],
          "scatterpolargl": [
           {
            "marker": {
             "colorbar": {
              "outlinewidth": 0,
              "ticks": ""
             }
            },
            "type": "scatterpolargl"
           }
          ],
          "scatterternary": [
           {
            "marker": {
             "colorbar": {
              "outlinewidth": 0,
              "ticks": ""
             }
            },
            "type": "scatterternary"
           }
          ],
          "surface": [
           {
            "colorbar": {
             "outlinewidth": 0,
             "ticks": ""
            },
            "colorscale": [
             [
              0,
              "#0d0887"
             ],
             [
              0.1111111111111111,
              "#46039f"
             ],
             [
              0.2222222222222222,
              "#7201a8"
             ],
             [
              0.3333333333333333,
              "#9c179e"
             ],
             [
              0.4444444444444444,
              "#bd3786"
             ],
             [
              0.5555555555555556,
              "#d8576b"
             ],
             [
              0.6666666666666666,
              "#ed7953"
             ],
             [
              0.7777777777777778,
              "#fb9f3a"
             ],
             [
              0.8888888888888888,
              "#fdca26"
             ],
             [
              1,
              "#f0f921"
             ]
            ],
            "type": "surface"
           }
          ],
          "table": [
           {
            "cells": {
             "fill": {
              "color": "#EBF0F8"
             },
             "line": {
              "color": "white"
             }
            },
            "header": {
             "fill": {
              "color": "#C8D4E3"
             },
             "line": {
              "color": "white"
             }
            },
            "type": "table"
           }
          ]
         },
         "layout": {
          "annotationdefaults": {
           "arrowcolor": "#2a3f5f",
           "arrowhead": 0,
           "arrowwidth": 1
          },
          "autotypenumbers": "strict",
          "coloraxis": {
           "colorbar": {
            "outlinewidth": 0,
            "ticks": ""
           }
          },
          "colorscale": {
           "diverging": [
            [
             0,
             "#8e0152"
            ],
            [
             0.1,
             "#c51b7d"
            ],
            [
             0.2,
             "#de77ae"
            ],
            [
             0.3,
             "#f1b6da"
            ],
            [
             0.4,
             "#fde0ef"
            ],
            [
             0.5,
             "#f7f7f7"
            ],
            [
             0.6,
             "#e6f5d0"
            ],
            [
             0.7,
             "#b8e186"
            ],
            [
             0.8,
             "#7fbc41"
            ],
            [
             0.9,
             "#4d9221"
            ],
            [
             1,
             "#276419"
            ]
           ],
           "sequential": [
            [
             0,
             "#0d0887"
            ],
            [
             0.1111111111111111,
             "#46039f"
            ],
            [
             0.2222222222222222,
             "#7201a8"
            ],
            [
             0.3333333333333333,
             "#9c179e"
            ],
            [
             0.4444444444444444,
             "#bd3786"
            ],
            [
             0.5555555555555556,
             "#d8576b"
            ],
            [
             0.6666666666666666,
             "#ed7953"
            ],
            [
             0.7777777777777778,
             "#fb9f3a"
            ],
            [
             0.8888888888888888,
             "#fdca26"
            ],
            [
             1,
             "#f0f921"
            ]
           ],
           "sequentialminus": [
            [
             0,
             "#0d0887"
            ],
            [
             0.1111111111111111,
             "#46039f"
            ],
            [
             0.2222222222222222,
             "#7201a8"
            ],
            [
             0.3333333333333333,
             "#9c179e"
            ],
            [
             0.4444444444444444,
             "#bd3786"
            ],
            [
             0.5555555555555556,
             "#d8576b"
            ],
            [
             0.6666666666666666,
             "#ed7953"
            ],
            [
             0.7777777777777778,
             "#fb9f3a"
            ],
            [
             0.8888888888888888,
             "#fdca26"
            ],
            [
             1,
             "#f0f921"
            ]
           ]
          },
          "colorway": [
           "#636efa",
           "#EF553B",
           "#00cc96",
           "#ab63fa",
           "#FFA15A",
           "#19d3f3",
           "#FF6692",
           "#B6E880",
           "#FF97FF",
           "#FECB52"
          ],
          "font": {
           "color": "#2a3f5f"
          },
          "geo": {
           "bgcolor": "white",
           "lakecolor": "white",
           "landcolor": "#E5ECF6",
           "showlakes": true,
           "showland": true,
           "subunitcolor": "white"
          },
          "hoverlabel": {
           "align": "left"
          },
          "hovermode": "closest",
          "mapbox": {
           "style": "light"
          },
          "paper_bgcolor": "white",
          "plot_bgcolor": "#E5ECF6",
          "polar": {
           "angularaxis": {
            "gridcolor": "white",
            "linecolor": "white",
            "ticks": ""
           },
           "bgcolor": "#E5ECF6",
           "radialaxis": {
            "gridcolor": "white",
            "linecolor": "white",
            "ticks": ""
           }
          },
          "scene": {
           "xaxis": {
            "backgroundcolor": "#E5ECF6",
            "gridcolor": "white",
            "gridwidth": 2,
            "linecolor": "white",
            "showbackground": true,
            "ticks": "",
            "zerolinecolor": "white"
           },
           "yaxis": {
            "backgroundcolor": "#E5ECF6",
            "gridcolor": "white",
            "gridwidth": 2,
            "linecolor": "white",
            "showbackground": true,
            "ticks": "",
            "zerolinecolor": "white"
           },
           "zaxis": {
            "backgroundcolor": "#E5ECF6",
            "gridcolor": "white",
            "gridwidth": 2,
            "linecolor": "white",
            "showbackground": true,
            "ticks": "",
            "zerolinecolor": "white"
           }
          },
          "shapedefaults": {
           "line": {
            "color": "#2a3f5f"
           }
          },
          "ternary": {
           "aaxis": {
            "gridcolor": "white",
            "linecolor": "white",
            "ticks": ""
           },
           "baxis": {
            "gridcolor": "white",
            "linecolor": "white",
            "ticks": ""
           },
           "bgcolor": "#E5ECF6",
           "caxis": {
            "gridcolor": "white",
            "linecolor": "white",
            "ticks": ""
           }
          },
          "title": {
           "x": 0.05
          },
          "xaxis": {
           "automargin": true,
           "gridcolor": "white",
           "linecolor": "white",
           "ticks": "",
           "title": {
            "standoff": 15
           },
           "zerolinecolor": "white",
           "zerolinewidth": 2
          },
          "yaxis": {
           "automargin": true,
           "gridcolor": "white",
           "linecolor": "white",
           "ticks": "",
           "title": {
            "standoff": 15
           },
           "zerolinecolor": "white",
           "zerolinewidth": 2
          }
         }
        },
        "title": {
         "text": "Top 5 Poorest Teams (Predicted Salary Total)"
        },
        "xaxis": {
         "anchor": "y",
         "domain": [
          0,
          1
         ],
         "title": {
          "text": "Total Salary (Millions)"
         }
        },
        "yaxis": {
         "anchor": "x",
         "categoryorder": "total ascending",
         "domain": [
          0,
          1
         ],
         "title": {
          "text": "Team"
         }
        }
       }
      }
     },
     "metadata": {},
     "output_type": "display_data"
    }
   ],
   "source": [
    "import plotly.express as px\n",
    "\n",
    "# Top 5 Wealthiest Teams - Vertical Bar Chart\n",
    "fig_wealthiest = px.bar(\n",
    "    poorest_teams.sort_values(by=\"PREDICTED_SALARY\", ascending=False),\n",
    "    x='TEAM_ABBREVIATION',\n",
    "    y='PREDICTED_SALARY',\n",
    "    title='Top 5 Wealthiest Teams (Predicted Salary Total)',\n",
    "    labels={'PREDICTED_SALARY': 'Total Salary (Millions)', 'TEAM_ABBREVIATION': 'Team'},\n",
    "    color='PREDICTED_SALARY',\n",
    "    color_continuous_scale='Blues'\n",
    ")\n",
    "fig_wealthiest.update_layout(xaxis=dict(categoryorder='total descending'))\n",
    "fig_wealthiest.show()\n",
    "\n",
    "# Top 5 Poorest Teams - Vertical Bar Chart\n",
    "fig_poorest = px.bar(\n",
    "    wealthiest_teams.sort_values(by=\"PREDICTED_SALARY\", ascending=True),\n",
    "    x='TEAM_ABBREVIATION',\n",
    "    y='PREDICTED_SALARY',\n",
    "    title='Top 5 Poorest Teams (Predicted Salary Total)',\n",
    "    labels={'PREDICTED_SALARY': 'Total Salary (Millions)', 'TEAM_ABBREVIATION': 'Team'},\n",
    "    color='PREDICTED_SALARY',\n",
    "    color_continuous_scale='Reds'\n",
    ")\n",
    "fig_poorest.update_layout(xaxis=dict(categoryorder='total ascending'))\n",
    "fig_poorest.show()\n"
   ]
  }
 ],
 "metadata": {
  "kernelspec": {
   "display_name": "Python 3",
   "language": "python",
   "name": "python3"
  },
  "language_info": {
   "codemirror_mode": {
    "name": "ipython",
    "version": 3
   },
   "file_extension": ".py",
   "mimetype": "text/x-python",
   "name": "python",
   "nbconvert_exporter": "python",
   "pygments_lexer": "ipython3",
   "version": "3.11.9"
  }
 },
 "nbformat": 4,
 "nbformat_minor": 5
}
