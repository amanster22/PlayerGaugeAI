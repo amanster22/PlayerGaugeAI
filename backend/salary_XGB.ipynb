{
 "cells": [
  {
   "cell_type": "code",
   "execution_count": null,
   "id": "636a2cf7",
   "metadata": {},
   "outputs": [],
   "source": [
    "from webscrapeData import updateData\n",
    "\n",
    "updateData('2024-25')"
   ]
  },
  {
   "cell_type": "code",
   "execution_count": 1,
   "id": "8cb4dfb7",
   "metadata": {},
   "outputs": [],
   "source": [
    "import numpy as np\n",
    "import pandas as pd\n",
    "import xgboost as xgb\n",
    "from sklearn.model_selection import train_test_split\n",
    "import pandas as pd\n",
    "from sklearn.metrics import mean_squared_error as MSE"
   ]
  },
  {
   "cell_type": "code",
   "execution_count": 2,
   "id": "acd136fe",
   "metadata": {},
   "outputs": [],
   "source": [
    "df = pd.read_csv('../database/merged.csv')\n",
    "df['SALARY'] = df['SALARY'].replace('[\\$,]', '', regex=True).astype(float)\n",
    "\n",
    "df.dropna(subset='SALARY',inplace=True)\n",
    "X = df.drop('SALARY', axis=1)\n",
    "y = df['SALARY']\n",
    "y = y.replace('[\\$,]', '', regex=True).astype(float)\n",
    "\n",
    "\n"
   ]
  },
  {
   "cell_type": "code",
   "execution_count": 3,
   "id": "82a23a88",
   "metadata": {},
   "outputs": [],
   "source": [
    "df.head()\n",
    "df['PPG'] = round(df['PTS']/df['GP'],1)\n",
    "df['RPG'] = round(df['REB']/df['GP'],1)\n",
    "df['APG'] = round(df['AST']/df['GP'],1)\n",
    "\n"
   ]
  },
  {
   "cell_type": "markdown",
   "id": "51b5872e",
   "metadata": {},
   "source": [
    "Feature Importance"
   ]
  },
  {
   "cell_type": "code",
   "execution_count": 4,
   "id": "5ab4681e",
   "metadata": {},
   "outputs": [
    {
     "data": {
      "text/html": [
       "<div>\n",
       "<style scoped>\n",
       "    .dataframe tbody tr th:only-of-type {\n",
       "        vertical-align: middle;\n",
       "    }\n",
       "\n",
       "    .dataframe tbody tr th {\n",
       "        vertical-align: top;\n",
       "    }\n",
       "\n",
       "    .dataframe thead th {\n",
       "        text-align: right;\n",
       "    }\n",
       "</style>\n",
       "<table border=\"1\" class=\"dataframe\">\n",
       "  <thead>\n",
       "    <tr style=\"text-align: right;\">\n",
       "      <th></th>\n",
       "      <th>Feature</th>\n",
       "      <th>SALARY</th>\n",
       "      <th>ABS_CORR</th>\n",
       "    </tr>\n",
       "  </thead>\n",
       "  <tbody>\n",
       "    <tr>\n",
       "      <th>61</th>\n",
       "      <td>SALARY</td>\n",
       "      <td>1.000000</td>\n",
       "      <td>1.000000</td>\n",
       "    </tr>\n",
       "    <tr>\n",
       "      <th>25</th>\n",
       "      <td>PTS</td>\n",
       "      <td>0.623405</td>\n",
       "      <td>0.623405</td>\n",
       "    </tr>\n",
       "    <tr>\n",
       "      <th>55</th>\n",
       "      <td>PTS_RANK</td>\n",
       "      <td>-0.623405</td>\n",
       "      <td>0.623405</td>\n",
       "    </tr>\n",
       "    <tr>\n",
       "      <th>36</th>\n",
       "      <td>FGM_RANK</td>\n",
       "      <td>-0.622615</td>\n",
       "      <td>0.622615</td>\n",
       "    </tr>\n",
       "    <tr>\n",
       "      <th>6</th>\n",
       "      <td>FGM</td>\n",
       "      <td>0.622615</td>\n",
       "      <td>0.622615</td>\n",
       "    </tr>\n",
       "    <tr>\n",
       "      <th>37</th>\n",
       "      <td>FGA_RANK</td>\n",
       "      <td>-0.616314</td>\n",
       "      <td>0.616314</td>\n",
       "    </tr>\n",
       "    <tr>\n",
       "      <th>7</th>\n",
       "      <td>FGA</td>\n",
       "      <td>0.616314</td>\n",
       "      <td>0.616314</td>\n",
       "    </tr>\n",
       "    <tr>\n",
       "      <th>60</th>\n",
       "      <td>WNBA_FANTASY_PTS_RANK</td>\n",
       "      <td>-0.614987</td>\n",
       "      <td>0.614987</td>\n",
       "    </tr>\n",
       "    <tr>\n",
       "      <th>30</th>\n",
       "      <td>WNBA_FANTASY_PTS</td>\n",
       "      <td>0.614987</td>\n",
       "      <td>0.614987</td>\n",
       "    </tr>\n",
       "    <tr>\n",
       "      <th>27</th>\n",
       "      <td>NBA_FANTASY_PTS</td>\n",
       "      <td>0.610239</td>\n",
       "      <td>0.610239</td>\n",
       "    </tr>\n",
       "    <tr>\n",
       "      <th>57</th>\n",
       "      <td>NBA_FANTASY_PTS_RANK</td>\n",
       "      <td>-0.610239</td>\n",
       "      <td>0.610239</td>\n",
       "    </tr>\n",
       "    <tr>\n",
       "      <th>12</th>\n",
       "      <td>FTM</td>\n",
       "      <td>0.603163</td>\n",
       "      <td>0.603163</td>\n",
       "    </tr>\n",
       "    <tr>\n",
       "      <th>42</th>\n",
       "      <td>FTM_RANK</td>\n",
       "      <td>-0.603163</td>\n",
       "      <td>0.603163</td>\n",
       "    </tr>\n",
       "    <tr>\n",
       "      <th>24</th>\n",
       "      <td>PFD</td>\n",
       "      <td>0.602887</td>\n",
       "      <td>0.602887</td>\n",
       "    </tr>\n",
       "    <tr>\n",
       "      <th>54</th>\n",
       "      <td>PFD_RANK</td>\n",
       "      <td>-0.602887</td>\n",
       "      <td>0.602887</td>\n",
       "    </tr>\n",
       "    <tr>\n",
       "      <th>13</th>\n",
       "      <td>FTA</td>\n",
       "      <td>0.591797</td>\n",
       "      <td>0.591797</td>\n",
       "    </tr>\n",
       "    <tr>\n",
       "      <th>43</th>\n",
       "      <td>FTA_RANK</td>\n",
       "      <td>-0.591797</td>\n",
       "      <td>0.591797</td>\n",
       "    </tr>\n",
       "    <tr>\n",
       "      <th>19</th>\n",
       "      <td>TOV</td>\n",
       "      <td>0.580784</td>\n",
       "      <td>0.580784</td>\n",
       "    </tr>\n",
       "    <tr>\n",
       "      <th>49</th>\n",
       "      <td>TOV_RANK</td>\n",
       "      <td>-0.580784</td>\n",
       "      <td>0.580784</td>\n",
       "    </tr>\n",
       "    <tr>\n",
       "      <th>48</th>\n",
       "      <td>AST_RANK</td>\n",
       "      <td>-0.556415</td>\n",
       "      <td>0.556415</td>\n",
       "    </tr>\n",
       "    <tr>\n",
       "      <th>18</th>\n",
       "      <td>AST</td>\n",
       "      <td>0.556415</td>\n",
       "      <td>0.556415</td>\n",
       "    </tr>\n",
       "    <tr>\n",
       "      <th>5</th>\n",
       "      <td>MIN</td>\n",
       "      <td>0.550338</td>\n",
       "      <td>0.550338</td>\n",
       "    </tr>\n",
       "    <tr>\n",
       "      <th>35</th>\n",
       "      <td>MIN_RANK</td>\n",
       "      <td>-0.550338</td>\n",
       "      <td>0.550338</td>\n",
       "    </tr>\n",
       "    <tr>\n",
       "      <th>46</th>\n",
       "      <td>DREB_RANK</td>\n",
       "      <td>-0.523858</td>\n",
       "      <td>0.523858</td>\n",
       "    </tr>\n",
       "    <tr>\n",
       "      <th>16</th>\n",
       "      <td>DREB</td>\n",
       "      <td>0.523858</td>\n",
       "      <td>0.523858</td>\n",
       "    </tr>\n",
       "    <tr>\n",
       "      <th>22</th>\n",
       "      <td>BLKA</td>\n",
       "      <td>0.503338</td>\n",
       "      <td>0.503338</td>\n",
       "    </tr>\n",
       "    <tr>\n",
       "      <th>52</th>\n",
       "      <td>BLKA_RANK</td>\n",
       "      <td>0.503338</td>\n",
       "      <td>0.503338</td>\n",
       "    </tr>\n",
       "    <tr>\n",
       "      <th>50</th>\n",
       "      <td>STL_RANK</td>\n",
       "      <td>-0.486904</td>\n",
       "      <td>0.486904</td>\n",
       "    </tr>\n",
       "    <tr>\n",
       "      <th>20</th>\n",
       "      <td>STL</td>\n",
       "      <td>0.486904</td>\n",
       "      <td>0.486904</td>\n",
       "    </tr>\n",
       "    <tr>\n",
       "      <th>47</th>\n",
       "      <td>REB_RANK</td>\n",
       "      <td>-0.486434</td>\n",
       "      <td>0.486434</td>\n",
       "    </tr>\n",
       "  </tbody>\n",
       "</table>\n",
       "</div>"
      ],
      "text/plain": [
       "                  Feature    SALARY  ABS_CORR\n",
       "61                 SALARY  1.000000  1.000000\n",
       "25                    PTS  0.623405  0.623405\n",
       "55               PTS_RANK -0.623405  0.623405\n",
       "36               FGM_RANK -0.622615  0.622615\n",
       "6                     FGM  0.622615  0.622615\n",
       "37               FGA_RANK -0.616314  0.616314\n",
       "7                     FGA  0.616314  0.616314\n",
       "60  WNBA_FANTASY_PTS_RANK -0.614987  0.614987\n",
       "30       WNBA_FANTASY_PTS  0.614987  0.614987\n",
       "27        NBA_FANTASY_PTS  0.610239  0.610239\n",
       "57   NBA_FANTASY_PTS_RANK -0.610239  0.610239\n",
       "12                    FTM  0.603163  0.603163\n",
       "42               FTM_RANK -0.603163  0.603163\n",
       "24                    PFD  0.602887  0.602887\n",
       "54               PFD_RANK -0.602887  0.602887\n",
       "13                    FTA  0.591797  0.591797\n",
       "43               FTA_RANK -0.591797  0.591797\n",
       "19                    TOV  0.580784  0.580784\n",
       "49               TOV_RANK -0.580784  0.580784\n",
       "48               AST_RANK -0.556415  0.556415\n",
       "18                    AST  0.556415  0.556415\n",
       "5                     MIN  0.550338  0.550338\n",
       "35               MIN_RANK -0.550338  0.550338\n",
       "46              DREB_RANK -0.523858  0.523858\n",
       "16                   DREB  0.523858  0.523858\n",
       "22                   BLKA  0.503338  0.503338\n",
       "52              BLKA_RANK  0.503338  0.503338\n",
       "50               STL_RANK -0.486904  0.486904\n",
       "20                    STL  0.486904  0.486904\n",
       "47               REB_RANK -0.486434  0.486434"
      ]
     },
     "execution_count": 4,
     "metadata": {},
     "output_type": "execute_result"
    }
   ],
   "source": [
    "columns_to_drop = ['PLAYER_ID', 'PLAYER_NAME', 'NICKNAME', 'TEAM_ID', 'TEAM_ABBREVIATION']\n",
    "X.drop(columns=[col for col in columns_to_drop if col in X.columns], inplace=True)\n",
    "\n",
    "df_corr = pd.concat([X, y], axis=1)\n",
    "\n",
    "# Compute Spearman correlation\n",
    "spearman_corr = df_corr.corr(method='spearman')\n",
    "\n",
    "# # Show correlation between each feature and the target\n",
    "# corr_df = spearman_corr['SALARY'].sort_values(ascending=False)\n",
    "# corr_df\n",
    "corr_df = spearman_corr[['SALARY']].reset_index().rename(columns={'index': 'Feature'})\n",
    "\n",
    "corr_df['ABS_CORR'] = abs(corr_df['SALARY'])\n",
    "corr_df.sort_values(by = 'ABS_CORR', ascending=False, inplace=True)\n",
    "corr_df.head(30)"
   ]
  },
  {
   "cell_type": "code",
   "execution_count": 5,
   "id": "36668a40",
   "metadata": {},
   "outputs": [
    {
     "name": "stdout",
     "output_type": "stream",
     "text": [
      "RMSE: 7824161.16\n",
      "['NBA_FANTASY_PTS_RANK', 'PTS_RANK', 'FGA_RANK', 'PLUS_MINUS_RANK', 'MIN_RANK', 'FG3_PCT_RANK', 'FG_PCT_RANK', 'FGM_RANK', 'WNBA_FANTASY_PTS_RANK', 'FTM_RANK', 'PFD_RANK', 'FTA_RANK', 'TOV_RANK', 'AST_RANK', 'DREB_RANK', 'BLKA_RANK', 'STL_RANK', 'REB_RANK', 'DD2_RANK', 'FG3A_RANK', 'FG3M_RANK', 'PF_RANK', 'BLK_RANK', 'OREB_RANK', 'W_RANK', 'GP_RANK', 'FT_PCT_RANK', 'TD3_RANK', 'L_RANK', 'W_PCT_RANK']\n"
     ]
    }
   ],
   "source": [
    "import xgboost as xgb\n",
    "from sklearn.model_selection import train_test_split\n",
    "from sklearn.metrics import mean_squared_error as MSE\n",
    "import numpy as np\n",
    "import pandas as pd\n",
    "\n",
    "# Extract Spearman correlations with 'SALARY' as a DataFrame for merging\n",
    "corr_df = spearman_corr[['SALARY']].reset_index().rename(columns={'index': 'Feature'})\n",
    "corr_df['ABS_CORR'] = abs(corr_df['SALARY'])\n",
    "corr_df.sort_values(by='ABS_CORR', ascending=False, inplace=True)\n",
    "\n",
    "# Split data\n",
    "X_train, X_test, y_train, y_test = train_test_split(X, y, test_size=0.2, random_state=42)\n",
    "\n",
    "# Initialize model with parameters\n",
    "model = xgb.XGBRegressor(\n",
    "    objective='reg:squarederror',\n",
    "    max_depth=4,\n",
    "    learning_rate=0.1,\n",
    "    n_estimators=100,\n",
    "    random_state=42\n",
    ")\n",
    "\n",
    "# Train\n",
    "model.fit(X_train, y_train)\n",
    "\n",
    "# Predict & evaluate\n",
    "y_pred = model.predict(X_test)\n",
    "rmse = np.sqrt(MSE(y_test, y_pred))\n",
    "print(f\"RMSE: {rmse:.2f}\")\n",
    "\n",
    "# Create importance DataFrame\n",
    "importance_df = pd.DataFrame({\n",
    "    'Feature': model.feature_names_in_,\n",
    "    'Importance': model.feature_importances_\n",
    "})\n",
    "importance_df.sort_values(by='Importance', ascending=False, inplace=True)\n",
    "\n",
    "# Filter features with importance > 0.01 (optional)\n",
    "importance_filtered = importance_df[importance_df['Importance'] > 0.01]\n",
    "\n",
    "# Merge importance with Spearman correlations on 'Feature'\n",
    "corr_imp_table = importance_df.merge(corr_df, on='Feature')\n",
    "corr_imp_table.sort_values(by = ['Importance','ABS_CORR'],inplace=True, ascending=False)\n",
    "# feat_cut_df = corr_imp_table[(corr_imp_table['Importance']>0.01) & (corr_imp_table['ABS_CORR']>0.5)]\n",
    "feat_cut_df = corr_imp_table[corr_imp_table['Feature'].str.contains('RANK')]\n",
    "feat_cut_list = feat_cut_list = feat_cut_df['Feature'].tolist()\n",
    "print(feat_cut_list)\n",
    "\n"
   ]
  },
  {
   "cell_type": "code",
   "execution_count": 6,
   "id": "f31b5c48",
   "metadata": {},
   "outputs": [
    {
     "name": "stdout",
     "output_type": "stream",
     "text": [
      "RMSE: 7934578.15\n"
     ]
    }
   ],
   "source": [
    "# Initialize model with parameters\n",
    "feat_cut_list.append('AGE')\n",
    "feat_cut_list.append('GP')\n",
    "model_cut = xgb.XGBRegressor(\n",
    "    objective='reg:squarederror',\n",
    "    max_depth=4,\n",
    "    learning_rate=0.1,\n",
    "    n_estimators=100,\n",
    "    random_state=42\n",
    ")\n",
    "\n",
    "# Train\n",
    "model_cut.fit(X_train[feat_cut_list], y_train)\n",
    "\n",
    "# Predict & evaluate\n",
    "y_pred = model_cut.predict(X_test[feat_cut_list])\n",
    "rmse = np.sqrt(MSE(y_test, y_pred))\n",
    "print(f\"RMSE: {rmse:.2f}\")\n"
   ]
  },
  {
   "cell_type": "code",
   "execution_count": 7,
   "id": "c38ff9b7",
   "metadata": {},
   "outputs": [
    {
     "data": {
      "text/html": [
       "<div>\n",
       "<style scoped>\n",
       "    .dataframe tbody tr th:only-of-type {\n",
       "        vertical-align: middle;\n",
       "    }\n",
       "\n",
       "    .dataframe tbody tr th {\n",
       "        vertical-align: top;\n",
       "    }\n",
       "\n",
       "    .dataframe thead th {\n",
       "        text-align: right;\n",
       "    }\n",
       "</style>\n",
       "<table border=\"1\" class=\"dataframe\">\n",
       "  <thead>\n",
       "    <tr style=\"text-align: right;\">\n",
       "      <th></th>\n",
       "      <th>PLAYER_ID</th>\n",
       "      <th>PLAYER_NAME</th>\n",
       "      <th>NICKNAME</th>\n",
       "      <th>TEAM_ID</th>\n",
       "      <th>TEAM_ABBREVIATION</th>\n",
       "      <th>AGE</th>\n",
       "      <th>GP</th>\n",
       "      <th>W</th>\n",
       "      <th>L</th>\n",
       "      <th>W_PCT</th>\n",
       "      <th>...</th>\n",
       "      <th>PLUS_MINUS_RANK</th>\n",
       "      <th>NBA_FANTASY_PTS_RANK</th>\n",
       "      <th>DD2_RANK</th>\n",
       "      <th>TD3_RANK</th>\n",
       "      <th>WNBA_FANTASY_PTS_RANK</th>\n",
       "      <th>SALARY</th>\n",
       "      <th>PPG</th>\n",
       "      <th>RPG</th>\n",
       "      <th>APG</th>\n",
       "      <th>PREDICTED_SALARY</th>\n",
       "    </tr>\n",
       "  </thead>\n",
       "  <tbody>\n",
       "    <tr>\n",
       "      <th>501</th>\n",
       "      <td>201939</td>\n",
       "      <td>Stephen Curry</td>\n",
       "      <td>Stephen</td>\n",
       "      <td>1610612744</td>\n",
       "      <td>GSW</td>\n",
       "      <td>37.0</td>\n",
       "      <td>70</td>\n",
       "      <td>41</td>\n",
       "      <td>29</td>\n",
       "      <td>0.586</td>\n",
       "      <td>...</td>\n",
       "      <td>43</td>\n",
       "      <td>19</td>\n",
       "      <td>71</td>\n",
       "      <td>44</td>\n",
       "      <td>13</td>\n",
       "      <td>55761216.0</td>\n",
       "      <td>24.5</td>\n",
       "      <td>4.4</td>\n",
       "      <td>6.0</td>\n",
       "      <td>53951804.0</td>\n",
       "    </tr>\n",
       "    <tr>\n",
       "      <th>277</th>\n",
       "      <td>203954</td>\n",
       "      <td>Joel Embiid</td>\n",
       "      <td>Joel</td>\n",
       "      <td>1610612755</td>\n",
       "      <td>PHI</td>\n",
       "      <td>31.0</td>\n",
       "      <td>19</td>\n",
       "      <td>8</td>\n",
       "      <td>11</td>\n",
       "      <td>0.421</td>\n",
       "      <td>...</td>\n",
       "      <td>390</td>\n",
       "      <td>289</td>\n",
       "      <td>87</td>\n",
       "      <td>20</td>\n",
       "      <td>287</td>\n",
       "      <td>51415938.0</td>\n",
       "      <td>23.8</td>\n",
       "      <td>8.2</td>\n",
       "      <td>4.5</td>\n",
       "      <td>50544676.0</td>\n",
       "    </tr>\n",
       "    <tr>\n",
       "      <th>424</th>\n",
       "      <td>203999</td>\n",
       "      <td>Nikola Jokić</td>\n",
       "      <td>Nikola</td>\n",
       "      <td>1610612743</td>\n",
       "      <td>DEN</td>\n",
       "      <td>30.0</td>\n",
       "      <td>70</td>\n",
       "      <td>46</td>\n",
       "      <td>24</td>\n",
       "      <td>0.657</td>\n",
       "      <td>...</td>\n",
       "      <td>2</td>\n",
       "      <td>1</td>\n",
       "      <td>2</td>\n",
       "      <td>1</td>\n",
       "      <td>1</td>\n",
       "      <td>51415938.0</td>\n",
       "      <td>29.6</td>\n",
       "      <td>12.7</td>\n",
       "      <td>10.2</td>\n",
       "      <td>50310576.0</td>\n",
       "    </tr>\n",
       "    <tr>\n",
       "      <th>330</th>\n",
       "      <td>201142</td>\n",
       "      <td>Kevin Durant</td>\n",
       "      <td>Kevin</td>\n",
       "      <td>1610612756</td>\n",
       "      <td>PHX</td>\n",
       "      <td>36.0</td>\n",
       "      <td>62</td>\n",
       "      <td>33</td>\n",
       "      <td>29</td>\n",
       "      <td>0.532</td>\n",
       "      <td>...</td>\n",
       "      <td>361</td>\n",
       "      <td>30</td>\n",
       "      <td>106</td>\n",
       "      <td>44</td>\n",
       "      <td>24</td>\n",
       "      <td>51179021.0</td>\n",
       "      <td>26.6</td>\n",
       "      <td>6.0</td>\n",
       "      <td>4.2</td>\n",
       "      <td>49743656.0</td>\n",
       "    </tr>\n",
       "    <tr>\n",
       "      <th>180</th>\n",
       "      <td>203507</td>\n",
       "      <td>Giannis Antetokounmpo</td>\n",
       "      <td>Giannis</td>\n",
       "      <td>1610612749</td>\n",
       "      <td>MIL</td>\n",
       "      <td>30.0</td>\n",
       "      <td>67</td>\n",
       "      <td>40</td>\n",
       "      <td>27</td>\n",
       "      <td>0.597</td>\n",
       "      <td>...</td>\n",
       "      <td>28</td>\n",
       "      <td>3</td>\n",
       "      <td>5</td>\n",
       "      <td>2</td>\n",
       "      <td>4</td>\n",
       "      <td>48787676.0</td>\n",
       "      <td>30.4</td>\n",
       "      <td>11.9</td>\n",
       "      <td>6.5</td>\n",
       "      <td>49068100.0</td>\n",
       "    </tr>\n",
       "    <tr>\n",
       "      <th>314</th>\n",
       "      <td>1626157</td>\n",
       "      <td>Karl-Anthony Towns</td>\n",
       "      <td>Karl-Anthony</td>\n",
       "      <td>1610612752</td>\n",
       "      <td>NYK</td>\n",
       "      <td>29.0</td>\n",
       "      <td>72</td>\n",
       "      <td>46</td>\n",
       "      <td>26</td>\n",
       "      <td>0.639</td>\n",
       "      <td>...</td>\n",
       "      <td>21</td>\n",
       "      <td>8</td>\n",
       "      <td>4</td>\n",
       "      <td>20</td>\n",
       "      <td>9</td>\n",
       "      <td>49205800.0</td>\n",
       "      <td>24.4</td>\n",
       "      <td>12.8</td>\n",
       "      <td>3.1</td>\n",
       "      <td>48924916.0</td>\n",
       "    </tr>\n",
       "    <tr>\n",
       "      <th>359</th>\n",
       "      <td>2544</td>\n",
       "      <td>LeBron James</td>\n",
       "      <td>LeBron</td>\n",
       "      <td>1610612747</td>\n",
       "      <td>LAL</td>\n",
       "      <td>40.0</td>\n",
       "      <td>70</td>\n",
       "      <td>44</td>\n",
       "      <td>26</td>\n",
       "      <td>0.629</td>\n",
       "      <td>...</td>\n",
       "      <td>383</td>\n",
       "      <td>10</td>\n",
       "      <td>17</td>\n",
       "      <td>3</td>\n",
       "      <td>10</td>\n",
       "      <td>48728845.0</td>\n",
       "      <td>24.4</td>\n",
       "      <td>7.8</td>\n",
       "      <td>8.2</td>\n",
       "      <td>47428808.0</td>\n",
       "    </tr>\n",
       "    <tr>\n",
       "      <th>141</th>\n",
       "      <td>1626164</td>\n",
       "      <td>Devin Booker</td>\n",
       "      <td>Devin</td>\n",
       "      <td>1610612756</td>\n",
       "      <td>PHX</td>\n",
       "      <td>28.0</td>\n",
       "      <td>75</td>\n",
       "      <td>35</td>\n",
       "      <td>40</td>\n",
       "      <td>0.467</td>\n",
       "      <td>...</td>\n",
       "      <td>507</td>\n",
       "      <td>14</td>\n",
       "      <td>35</td>\n",
       "      <td>44</td>\n",
       "      <td>11</td>\n",
       "      <td>49205800.0</td>\n",
       "      <td>25.6</td>\n",
       "      <td>4.1</td>\n",
       "      <td>7.1</td>\n",
       "      <td>47362224.0</td>\n",
       "    </tr>\n",
       "    <tr>\n",
       "      <th>51</th>\n",
       "      <td>203078</td>\n",
       "      <td>Bradley Beal</td>\n",
       "      <td>Bradley</td>\n",
       "      <td>1610612756</td>\n",
       "      <td>PHX</td>\n",
       "      <td>32.0</td>\n",
       "      <td>53</td>\n",
       "      <td>22</td>\n",
       "      <td>31</td>\n",
       "      <td>0.415</td>\n",
       "      <td>...</td>\n",
       "      <td>537</td>\n",
       "      <td>138</td>\n",
       "      <td>198</td>\n",
       "      <td>44</td>\n",
       "      <td>127</td>\n",
       "      <td>50203930.0</td>\n",
       "      <td>17.0</td>\n",
       "      <td>3.3</td>\n",
       "      <td>3.7</td>\n",
       "      <td>46634556.0</td>\n",
       "    </tr>\n",
       "    <tr>\n",
       "      <th>255</th>\n",
       "      <td>1627759</td>\n",
       "      <td>Jaylen Brown</td>\n",
       "      <td>Jaylen</td>\n",
       "      <td>1610612738</td>\n",
       "      <td>BOS</td>\n",
       "      <td>28.0</td>\n",
       "      <td>63</td>\n",
       "      <td>46</td>\n",
       "      <td>17</td>\n",
       "      <td>0.730</td>\n",
       "      <td>...</td>\n",
       "      <td>18</td>\n",
       "      <td>54</td>\n",
       "      <td>106</td>\n",
       "      <td>44</td>\n",
       "      <td>52</td>\n",
       "      <td>49700000.0</td>\n",
       "      <td>22.2</td>\n",
       "      <td>5.8</td>\n",
       "      <td>4.5</td>\n",
       "      <td>46444640.0</td>\n",
       "    </tr>\n",
       "    <tr>\n",
       "      <th>451</th>\n",
       "      <td>202331</td>\n",
       "      <td>Paul George</td>\n",
       "      <td>Paul</td>\n",
       "      <td>1610612755</td>\n",
       "      <td>PHI</td>\n",
       "      <td>35.0</td>\n",
       "      <td>41</td>\n",
       "      <td>15</td>\n",
       "      <td>26</td>\n",
       "      <td>0.366</td>\n",
       "      <td>...</td>\n",
       "      <td>432</td>\n",
       "      <td>172</td>\n",
       "      <td>134</td>\n",
       "      <td>44</td>\n",
       "      <td>175</td>\n",
       "      <td>49205800.0</td>\n",
       "      <td>16.2</td>\n",
       "      <td>5.3</td>\n",
       "      <td>4.3</td>\n",
       "      <td>46352484.0</td>\n",
       "    </tr>\n",
       "    <tr>\n",
       "      <th>241</th>\n",
       "      <td>201935</td>\n",
       "      <td>James Harden</td>\n",
       "      <td>James</td>\n",
       "      <td>1610612746</td>\n",
       "      <td>LAC</td>\n",
       "      <td>35.0</td>\n",
       "      <td>79</td>\n",
       "      <td>50</td>\n",
       "      <td>29</td>\n",
       "      <td>0.633</td>\n",
       "      <td>...</td>\n",
       "      <td>24</td>\n",
       "      <td>4</td>\n",
       "      <td>11</td>\n",
       "      <td>11</td>\n",
       "      <td>5</td>\n",
       "      <td>33653846.0</td>\n",
       "      <td>22.8</td>\n",
       "      <td>5.8</td>\n",
       "      <td>8.7</td>\n",
       "      <td>44608736.0</td>\n",
       "    </tr>\n",
       "    <tr>\n",
       "      <th>526</th>\n",
       "      <td>1629027</td>\n",
       "      <td>Trae Young</td>\n",
       "      <td>Trae</td>\n",
       "      <td>1610612737</td>\n",
       "      <td>ATL</td>\n",
       "      <td>26.0</td>\n",
       "      <td>76</td>\n",
       "      <td>36</td>\n",
       "      <td>40</td>\n",
       "      <td>0.474</td>\n",
       "      <td>...</td>\n",
       "      <td>167</td>\n",
       "      <td>7</td>\n",
       "      <td>6</td>\n",
       "      <td>44</td>\n",
       "      <td>7</td>\n",
       "      <td>43031940.0</td>\n",
       "      <td>24.2</td>\n",
       "      <td>3.1</td>\n",
       "      <td>11.6</td>\n",
       "      <td>43262708.0</td>\n",
       "    </tr>\n",
       "    <tr>\n",
       "      <th>28</th>\n",
       "      <td>203076</td>\n",
       "      <td>Anthony Davis</td>\n",
       "      <td>Anthony</td>\n",
       "      <td>1610612742</td>\n",
       "      <td>DAL</td>\n",
       "      <td>32.0</td>\n",
       "      <td>51</td>\n",
       "      <td>30</td>\n",
       "      <td>21</td>\n",
       "      <td>0.588</td>\n",
       "      <td>...</td>\n",
       "      <td>180</td>\n",
       "      <td>35</td>\n",
       "      <td>14</td>\n",
       "      <td>20</td>\n",
       "      <td>45</td>\n",
       "      <td>43219440.0</td>\n",
       "      <td>24.7</td>\n",
       "      <td>11.6</td>\n",
       "      <td>3.5</td>\n",
       "      <td>42899940.0</td>\n",
       "    </tr>\n",
       "    <tr>\n",
       "      <th>445</th>\n",
       "      <td>1627783</td>\n",
       "      <td>Pascal Siakam</td>\n",
       "      <td>Pascal</td>\n",
       "      <td>1610612754</td>\n",
       "      <td>IND</td>\n",
       "      <td>31.0</td>\n",
       "      <td>78</td>\n",
       "      <td>47</td>\n",
       "      <td>31</td>\n",
       "      <td>0.603</td>\n",
       "      <td>...</td>\n",
       "      <td>37</td>\n",
       "      <td>20</td>\n",
       "      <td>55</td>\n",
       "      <td>44</td>\n",
       "      <td>22</td>\n",
       "      <td>42176400.0</td>\n",
       "      <td>20.2</td>\n",
       "      <td>6.9</td>\n",
       "      <td>3.4</td>\n",
       "      <td>42529264.0</td>\n",
       "    </tr>\n",
       "  </tbody>\n",
       "</table>\n",
       "<p>15 rows × 71 columns</p>\n",
       "</div>"
      ],
      "text/plain": [
       "     PLAYER_ID            PLAYER_NAME      NICKNAME     TEAM_ID  \\\n",
       "501     201939          Stephen Curry       Stephen  1610612744   \n",
       "277     203954            Joel Embiid          Joel  1610612755   \n",
       "424     203999           Nikola Jokić        Nikola  1610612743   \n",
       "330     201142           Kevin Durant         Kevin  1610612756   \n",
       "180     203507  Giannis Antetokounmpo       Giannis  1610612749   \n",
       "314    1626157     Karl-Anthony Towns  Karl-Anthony  1610612752   \n",
       "359       2544           LeBron James        LeBron  1610612747   \n",
       "141    1626164           Devin Booker         Devin  1610612756   \n",
       "51      203078           Bradley Beal       Bradley  1610612756   \n",
       "255    1627759           Jaylen Brown        Jaylen  1610612738   \n",
       "451     202331            Paul George          Paul  1610612755   \n",
       "241     201935           James Harden         James  1610612746   \n",
       "526    1629027             Trae Young          Trae  1610612737   \n",
       "28      203076          Anthony Davis       Anthony  1610612742   \n",
       "445    1627783          Pascal Siakam        Pascal  1610612754   \n",
       "\n",
       "    TEAM_ABBREVIATION   AGE  GP   W   L  W_PCT  ...  PLUS_MINUS_RANK  \\\n",
       "501               GSW  37.0  70  41  29  0.586  ...               43   \n",
       "277               PHI  31.0  19   8  11  0.421  ...              390   \n",
       "424               DEN  30.0  70  46  24  0.657  ...                2   \n",
       "330               PHX  36.0  62  33  29  0.532  ...              361   \n",
       "180               MIL  30.0  67  40  27  0.597  ...               28   \n",
       "314               NYK  29.0  72  46  26  0.639  ...               21   \n",
       "359               LAL  40.0  70  44  26  0.629  ...              383   \n",
       "141               PHX  28.0  75  35  40  0.467  ...              507   \n",
       "51                PHX  32.0  53  22  31  0.415  ...              537   \n",
       "255               BOS  28.0  63  46  17  0.730  ...               18   \n",
       "451               PHI  35.0  41  15  26  0.366  ...              432   \n",
       "241               LAC  35.0  79  50  29  0.633  ...               24   \n",
       "526               ATL  26.0  76  36  40  0.474  ...              167   \n",
       "28                DAL  32.0  51  30  21  0.588  ...              180   \n",
       "445               IND  31.0  78  47  31  0.603  ...               37   \n",
       "\n",
       "     NBA_FANTASY_PTS_RANK  DD2_RANK  TD3_RANK  WNBA_FANTASY_PTS_RANK  \\\n",
       "501                    19        71        44                     13   \n",
       "277                   289        87        20                    287   \n",
       "424                     1         2         1                      1   \n",
       "330                    30       106        44                     24   \n",
       "180                     3         5         2                      4   \n",
       "314                     8         4        20                      9   \n",
       "359                    10        17         3                     10   \n",
       "141                    14        35        44                     11   \n",
       "51                    138       198        44                    127   \n",
       "255                    54       106        44                     52   \n",
       "451                   172       134        44                    175   \n",
       "241                     4        11        11                      5   \n",
       "526                     7         6        44                      7   \n",
       "28                     35        14        20                     45   \n",
       "445                    20        55        44                     22   \n",
       "\n",
       "         SALARY   PPG   RPG   APG  PREDICTED_SALARY  \n",
       "501  55761216.0  24.5   4.4   6.0        53951804.0  \n",
       "277  51415938.0  23.8   8.2   4.5        50544676.0  \n",
       "424  51415938.0  29.6  12.7  10.2        50310576.0  \n",
       "330  51179021.0  26.6   6.0   4.2        49743656.0  \n",
       "180  48787676.0  30.4  11.9   6.5        49068100.0  \n",
       "314  49205800.0  24.4  12.8   3.1        48924916.0  \n",
       "359  48728845.0  24.4   7.8   8.2        47428808.0  \n",
       "141  49205800.0  25.6   4.1   7.1        47362224.0  \n",
       "51   50203930.0  17.0   3.3   3.7        46634556.0  \n",
       "255  49700000.0  22.2   5.8   4.5        46444640.0  \n",
       "451  49205800.0  16.2   5.3   4.3        46352484.0  \n",
       "241  33653846.0  22.8   5.8   8.7        44608736.0  \n",
       "526  43031940.0  24.2   3.1  11.6        43262708.0  \n",
       "28   43219440.0  24.7  11.6   3.5        42899940.0  \n",
       "445  42176400.0  20.2   6.9   3.4        42529264.0  \n",
       "\n",
       "[15 rows x 71 columns]"
      ]
     },
     "execution_count": 7,
     "metadata": {},
     "output_type": "execute_result"
    }
   ],
   "source": [
    "df['PREDICTED_SALARY'] = model_cut.predict(df[feat_cut_list])\n",
    "top_pred_df = df.sort_values(by = 'PREDICTED_SALARY',ascending=False)\n",
    "top_pred_df.head(15)"
   ]
  },
  {
   "cell_type": "code",
   "execution_count": 8,
   "id": "bef44c1d",
   "metadata": {},
   "outputs": [
    {
     "data": {
      "text/html": [
       "<div>\n",
       "<style scoped>\n",
       "    .dataframe tbody tr th:only-of-type {\n",
       "        vertical-align: middle;\n",
       "    }\n",
       "\n",
       "    .dataframe tbody tr th {\n",
       "        vertical-align: top;\n",
       "    }\n",
       "\n",
       "    .dataframe thead th {\n",
       "        text-align: right;\n",
       "    }\n",
       "</style>\n",
       "<table border=\"1\" class=\"dataframe\">\n",
       "  <thead>\n",
       "    <tr style=\"text-align: right;\">\n",
       "      <th></th>\n",
       "      <th>PLAYER_ID</th>\n",
       "      <th>PLAYER_NAME</th>\n",
       "      <th>NICKNAME</th>\n",
       "      <th>TEAM_ID</th>\n",
       "      <th>TEAM_ABBREVIATION</th>\n",
       "      <th>AGE</th>\n",
       "      <th>GP</th>\n",
       "      <th>W</th>\n",
       "      <th>L</th>\n",
       "      <th>W_PCT</th>\n",
       "      <th>...</th>\n",
       "      <th>DD2_RANK</th>\n",
       "      <th>TD3_RANK</th>\n",
       "      <th>WNBA_FANTASY_PTS_RANK</th>\n",
       "      <th>SALARY</th>\n",
       "      <th>PPG</th>\n",
       "      <th>RPG</th>\n",
       "      <th>APG</th>\n",
       "      <th>PREDICTED_SALARY</th>\n",
       "      <th>SALARY_DIFF</th>\n",
       "      <th>SALARY_PCT_CHANGE</th>\n",
       "    </tr>\n",
       "  </thead>\n",
       "  <tbody>\n",
       "    <tr>\n",
       "      <th>41</th>\n",
       "      <td>1627732</td>\n",
       "      <td>Ben Simmons</td>\n",
       "      <td>Ben</td>\n",
       "      <td>1610612746</td>\n",
       "      <td>LAC</td>\n",
       "      <td>28.0</td>\n",
       "      <td>51</td>\n",
       "      <td>26</td>\n",
       "      <td>25</td>\n",
       "      <td>0.510</td>\n",
       "      <td>...</td>\n",
       "      <td>198</td>\n",
       "      <td>44</td>\n",
       "      <td>261</td>\n",
       "      <td>40338144.0</td>\n",
       "      <td>5.0</td>\n",
       "      <td>4.7</td>\n",
       "      <td>5.6</td>\n",
       "      <td>15043256.0</td>\n",
       "      <td>-25294888.0</td>\n",
       "      <td>-62.707119</td>\n",
       "    </tr>\n",
       "    <tr>\n",
       "      <th>112</th>\n",
       "      <td>203081</td>\n",
       "      <td>Damian Lillard</td>\n",
       "      <td>Damian</td>\n",
       "      <td>1610612749</td>\n",
       "      <td>MIL</td>\n",
       "      <td>34.0</td>\n",
       "      <td>58</td>\n",
       "      <td>32</td>\n",
       "      <td>26</td>\n",
       "      <td>0.552</td>\n",
       "      <td>...</td>\n",
       "      <td>40</td>\n",
       "      <td>15</td>\n",
       "      <td>41</td>\n",
       "      <td>48787676.0</td>\n",
       "      <td>24.9</td>\n",
       "      <td>4.7</td>\n",
       "      <td>7.1</td>\n",
       "      <td>28912910.0</td>\n",
       "      <td>-19874766.0</td>\n",
       "      <td>-40.737267</td>\n",
       "    </tr>\n",
       "    <tr>\n",
       "      <th>316</th>\n",
       "      <td>202695</td>\n",
       "      <td>Kawhi Leonard</td>\n",
       "      <td>Kawhi</td>\n",
       "      <td>1610612746</td>\n",
       "      <td>LAC</td>\n",
       "      <td>34.0</td>\n",
       "      <td>37</td>\n",
       "      <td>26</td>\n",
       "      <td>11</td>\n",
       "      <td>0.703</td>\n",
       "      <td>...</td>\n",
       "      <td>106</td>\n",
       "      <td>44</td>\n",
       "      <td>169</td>\n",
       "      <td>49205800.0</td>\n",
       "      <td>21.5</td>\n",
       "      <td>5.9</td>\n",
       "      <td>3.1</td>\n",
       "      <td>32017928.0</td>\n",
       "      <td>-17187872.0</td>\n",
       "      <td>-34.930581</td>\n",
       "    </tr>\n",
       "    <tr>\n",
       "      <th>546</th>\n",
       "      <td>1630169</td>\n",
       "      <td>Tyrese Haliburton</td>\n",
       "      <td>Tyrese</td>\n",
       "      <td>1610612754</td>\n",
       "      <td>IND</td>\n",
       "      <td>25.0</td>\n",
       "      <td>73</td>\n",
       "      <td>46</td>\n",
       "      <td>27</td>\n",
       "      <td>0.630</td>\n",
       "      <td>...</td>\n",
       "      <td>18</td>\n",
       "      <td>44</td>\n",
       "      <td>19</td>\n",
       "      <td>42176400.0</td>\n",
       "      <td>18.6</td>\n",
       "      <td>3.5</td>\n",
       "      <td>9.2</td>\n",
       "      <td>25411114.0</td>\n",
       "      <td>-16765286.0</td>\n",
       "      <td>-39.750396</td>\n",
       "    </tr>\n",
       "    <tr>\n",
       "      <th>63</th>\n",
       "      <td>1628971</td>\n",
       "      <td>Bruce Brown</td>\n",
       "      <td>Bruce</td>\n",
       "      <td>1610612740</td>\n",
       "      <td>NOP</td>\n",
       "      <td>28.0</td>\n",
       "      <td>41</td>\n",
       "      <td>15</td>\n",
       "      <td>26</td>\n",
       "      <td>0.366</td>\n",
       "      <td>...</td>\n",
       "      <td>281</td>\n",
       "      <td>44</td>\n",
       "      <td>299</td>\n",
       "      <td>23000000.0</td>\n",
       "      <td>8.3</td>\n",
       "      <td>4.0</td>\n",
       "      <td>2.0</td>\n",
       "      <td>6495753.5</td>\n",
       "      <td>-16504246.5</td>\n",
       "      <td>-71.757593</td>\n",
       "    </tr>\n",
       "    <tr>\n",
       "      <th>...</th>\n",
       "      <td>...</td>\n",
       "      <td>...</td>\n",
       "      <td>...</td>\n",
       "      <td>...</td>\n",
       "      <td>...</td>\n",
       "      <td>...</td>\n",
       "      <td>...</td>\n",
       "      <td>...</td>\n",
       "      <td>...</td>\n",
       "      <td>...</td>\n",
       "      <td>...</td>\n",
       "      <td>...</td>\n",
       "      <td>...</td>\n",
       "      <td>...</td>\n",
       "      <td>...</td>\n",
       "      <td>...</td>\n",
       "      <td>...</td>\n",
       "      <td>...</td>\n",
       "      <td>...</td>\n",
       "      <td>...</td>\n",
       "      <td>...</td>\n",
       "    </tr>\n",
       "    <tr>\n",
       "      <th>420</th>\n",
       "      <td>1630208</td>\n",
       "      <td>Nick Richards</td>\n",
       "      <td>Nick</td>\n",
       "      <td>1610612756</td>\n",
       "      <td>PHX</td>\n",
       "      <td>27.0</td>\n",
       "      <td>57</td>\n",
       "      <td>17</td>\n",
       "      <td>40</td>\n",
       "      <td>0.298</td>\n",
       "      <td>...</td>\n",
       "      <td>35</td>\n",
       "      <td>44</td>\n",
       "      <td>203</td>\n",
       "      <td>5000000.0</td>\n",
       "      <td>9.3</td>\n",
       "      <td>8.2</td>\n",
       "      <td>0.9</td>\n",
       "      <td>16556462.0</td>\n",
       "      <td>11556462.0</td>\n",
       "      <td>231.129240</td>\n",
       "    </tr>\n",
       "    <tr>\n",
       "      <th>185</th>\n",
       "      <td>1627824</td>\n",
       "      <td>Guerschon Yabusele</td>\n",
       "      <td>Guerschon</td>\n",
       "      <td>1610612755</td>\n",
       "      <td>PHI</td>\n",
       "      <td>29.0</td>\n",
       "      <td>70</td>\n",
       "      <td>23</td>\n",
       "      <td>47</td>\n",
       "      <td>0.329</td>\n",
       "      <td>...</td>\n",
       "      <td>134</td>\n",
       "      <td>44</td>\n",
       "      <td>122</td>\n",
       "      <td>2087519.0</td>\n",
       "      <td>11.0</td>\n",
       "      <td>5.6</td>\n",
       "      <td>2.1</td>\n",
       "      <td>18774070.0</td>\n",
       "      <td>16686551.0</td>\n",
       "      <td>799.348461</td>\n",
       "    </tr>\n",
       "    <tr>\n",
       "      <th>498</th>\n",
       "      <td>203915</td>\n",
       "      <td>Spencer Dinwiddie</td>\n",
       "      <td>Spencer</td>\n",
       "      <td>1610612742</td>\n",
       "      <td>DAL</td>\n",
       "      <td>32.0</td>\n",
       "      <td>79</td>\n",
       "      <td>37</td>\n",
       "      <td>42</td>\n",
       "      <td>0.468</td>\n",
       "      <td>...</td>\n",
       "      <td>106</td>\n",
       "      <td>44</td>\n",
       "      <td>108</td>\n",
       "      <td>2087519.0</td>\n",
       "      <td>11.0</td>\n",
       "      <td>2.6</td>\n",
       "      <td>4.4</td>\n",
       "      <td>21373112.0</td>\n",
       "      <td>19285593.0</td>\n",
       "      <td>923.852334</td>\n",
       "    </tr>\n",
       "    <tr>\n",
       "      <th>36</th>\n",
       "      <td>1630559</td>\n",
       "      <td>Austin Reaves</td>\n",
       "      <td>Austin</td>\n",
       "      <td>1610612747</td>\n",
       "      <td>LAL</td>\n",
       "      <td>27.0</td>\n",
       "      <td>73</td>\n",
       "      <td>46</td>\n",
       "      <td>27</td>\n",
       "      <td>0.630</td>\n",
       "      <td>...</td>\n",
       "      <td>71</td>\n",
       "      <td>20</td>\n",
       "      <td>30</td>\n",
       "      <td>12976362.0</td>\n",
       "      <td>20.2</td>\n",
       "      <td>4.5</td>\n",
       "      <td>5.8</td>\n",
       "      <td>34417920.0</td>\n",
       "      <td>21441558.0</td>\n",
       "      <td>165.235511</td>\n",
       "    </tr>\n",
       "    <tr>\n",
       "      <th>204</th>\n",
       "      <td>1627826</td>\n",
       "      <td>Ivica Zubac</td>\n",
       "      <td>Ivica</td>\n",
       "      <td>1610612746</td>\n",
       "      <td>LAC</td>\n",
       "      <td>28.0</td>\n",
       "      <td>80</td>\n",
       "      <td>50</td>\n",
       "      <td>30</td>\n",
       "      <td>0.625</td>\n",
       "      <td>...</td>\n",
       "      <td>2</td>\n",
       "      <td>20</td>\n",
       "      <td>17</td>\n",
       "      <td>11743210.0</td>\n",
       "      <td>16.8</td>\n",
       "      <td>12.6</td>\n",
       "      <td>2.7</td>\n",
       "      <td>34069172.0</td>\n",
       "      <td>22325962.0</td>\n",
       "      <td>190.118051</td>\n",
       "    </tr>\n",
       "  </tbody>\n",
       "</table>\n",
       "<p>425 rows × 73 columns</p>\n",
       "</div>"
      ],
      "text/plain": [
       "     PLAYER_ID         PLAYER_NAME   NICKNAME     TEAM_ID TEAM_ABBREVIATION  \\\n",
       "41     1627732         Ben Simmons        Ben  1610612746               LAC   \n",
       "112     203081      Damian Lillard     Damian  1610612749               MIL   \n",
       "316     202695       Kawhi Leonard      Kawhi  1610612746               LAC   \n",
       "546    1630169   Tyrese Haliburton     Tyrese  1610612754               IND   \n",
       "63     1628971         Bruce Brown      Bruce  1610612740               NOP   \n",
       "..         ...                 ...        ...         ...               ...   \n",
       "420    1630208       Nick Richards       Nick  1610612756               PHX   \n",
       "185    1627824  Guerschon Yabusele  Guerschon  1610612755               PHI   \n",
       "498     203915   Spencer Dinwiddie    Spencer  1610612742               DAL   \n",
       "36     1630559       Austin Reaves     Austin  1610612747               LAL   \n",
       "204    1627826         Ivica Zubac      Ivica  1610612746               LAC   \n",
       "\n",
       "      AGE  GP   W   L  W_PCT  ...  DD2_RANK  TD3_RANK  WNBA_FANTASY_PTS_RANK  \\\n",
       "41   28.0  51  26  25  0.510  ...       198        44                    261   \n",
       "112  34.0  58  32  26  0.552  ...        40        15                     41   \n",
       "316  34.0  37  26  11  0.703  ...       106        44                    169   \n",
       "546  25.0  73  46  27  0.630  ...        18        44                     19   \n",
       "63   28.0  41  15  26  0.366  ...       281        44                    299   \n",
       "..    ...  ..  ..  ..    ...  ...       ...       ...                    ...   \n",
       "420  27.0  57  17  40  0.298  ...        35        44                    203   \n",
       "185  29.0  70  23  47  0.329  ...       134        44                    122   \n",
       "498  32.0  79  37  42  0.468  ...       106        44                    108   \n",
       "36   27.0  73  46  27  0.630  ...        71        20                     30   \n",
       "204  28.0  80  50  30  0.625  ...         2        20                     17   \n",
       "\n",
       "         SALARY   PPG   RPG  APG  PREDICTED_SALARY  SALARY_DIFF  \\\n",
       "41   40338144.0   5.0   4.7  5.6        15043256.0  -25294888.0   \n",
       "112  48787676.0  24.9   4.7  7.1        28912910.0  -19874766.0   \n",
       "316  49205800.0  21.5   5.9  3.1        32017928.0  -17187872.0   \n",
       "546  42176400.0  18.6   3.5  9.2        25411114.0  -16765286.0   \n",
       "63   23000000.0   8.3   4.0  2.0         6495753.5  -16504246.5   \n",
       "..          ...   ...   ...  ...               ...          ...   \n",
       "420   5000000.0   9.3   8.2  0.9        16556462.0   11556462.0   \n",
       "185   2087519.0  11.0   5.6  2.1        18774070.0   16686551.0   \n",
       "498   2087519.0  11.0   2.6  4.4        21373112.0   19285593.0   \n",
       "36   12976362.0  20.2   4.5  5.8        34417920.0   21441558.0   \n",
       "204  11743210.0  16.8  12.6  2.7        34069172.0   22325962.0   \n",
       "\n",
       "     SALARY_PCT_CHANGE  \n",
       "41          -62.707119  \n",
       "112         -40.737267  \n",
       "316         -34.930581  \n",
       "546         -39.750396  \n",
       "63          -71.757593  \n",
       "..                 ...  \n",
       "420         231.129240  \n",
       "185         799.348461  \n",
       "498         923.852334  \n",
       "36          165.235511  \n",
       "204         190.118051  \n",
       "\n",
       "[425 rows x 73 columns]"
      ]
     },
     "execution_count": 8,
     "metadata": {},
     "output_type": "execute_result"
    }
   ],
   "source": [
    "df['SALARY_DIFF'] = df['PREDICTED_SALARY'] - df['SALARY']\n",
    "df['SALARY_PCT_CHANGE'] = ((df['PREDICTED_SALARY'] - df['SALARY'])/df['SALARY'])*100\n",
    "# improved_df = df[df['SALARY_DIFF']>0]\n",
    "# improved_df.sort_values(by = 'SALARY_DIFF',ascending=False)\n",
    "\n",
    "df.sort_values(by = 'SALARY_DIFF',ascending=True)"
   ]
  },
  {
   "cell_type": "markdown",
   "id": "fa4932f3",
   "metadata": {},
   "source": [
    "*New Model*"
   ]
  },
  {
   "cell_type": "code",
   "execution_count": 9,
   "id": "9f854c8d",
   "metadata": {},
   "outputs": [
    {
     "data": {
      "text/plain": [
       "Index(['PLAYER_ID', 'PLAYER_NAME', 'NICKNAME', 'TEAM_ID', 'TEAM_ABBREVIATION',\n",
       "       'AGE', 'GP', 'W', 'L', 'W_PCT', 'MIN', 'FGM', 'FGA', 'FG_PCT', 'FG3M',\n",
       "       'FG3A', 'FG3_PCT', 'FTM', 'FTA', 'FT_PCT', 'OREB', 'DREB', 'REB', 'AST',\n",
       "       'TOV', 'STL', 'BLK', 'BLKA', 'PF', 'PFD', 'PTS', 'PLUS_MINUS',\n",
       "       'NBA_FANTASY_PTS', 'DD2', 'TD3', 'WNBA_FANTASY_PTS', 'GP_RANK',\n",
       "       'W_RANK', 'L_RANK', 'W_PCT_RANK', 'MIN_RANK', 'FGM_RANK', 'FGA_RANK',\n",
       "       'FG_PCT_RANK', 'FG3M_RANK', 'FG3A_RANK', 'FG3_PCT_RANK', 'FTM_RANK',\n",
       "       'FTA_RANK', 'FT_PCT_RANK', 'OREB_RANK', 'DREB_RANK', 'REB_RANK',\n",
       "       'AST_RANK', 'TOV_RANK', 'STL_RANK', 'BLK_RANK', 'BLKA_RANK', 'PF_RANK',\n",
       "       'PFD_RANK', 'PTS_RANK', 'PLUS_MINUS_RANK', 'NBA_FANTASY_PTS_RANK',\n",
       "       'DD2_RANK', 'TD3_RANK', 'WNBA_FANTASY_PTS_RANK', 'SALARY', 'PPG', 'RPG',\n",
       "       'APG', 'PREDICTED_SALARY', 'SALARY_DIFF', 'SALARY_PCT_CHANGE'],\n",
       "      dtype='object')"
      ]
     },
     "execution_count": 9,
     "metadata": {},
     "output_type": "execute_result"
    }
   ],
   "source": [
    "df.columns"
   ]
  },
  {
   "cell_type": "code",
   "execution_count": 1,
   "id": "771ae858",
   "metadata": {},
   "outputs": [
    {
     "name": "stdout",
     "output_type": "stream",
     "text": [
      "RMSE (in millions): 8.77\n"
     ]
    },
    {
     "data": {
      "text/html": [
       "<div>\n",
       "<style scoped>\n",
       "    .dataframe tbody tr th:only-of-type {\n",
       "        vertical-align: middle;\n",
       "    }\n",
       "\n",
       "    .dataframe tbody tr th {\n",
       "        vertical-align: top;\n",
       "    }\n",
       "\n",
       "    .dataframe thead th {\n",
       "        text-align: right;\n",
       "    }\n",
       "</style>\n",
       "<table border=\"1\" class=\"dataframe\">\n",
       "  <thead>\n",
       "    <tr style=\"text-align: right;\">\n",
       "      <th></th>\n",
       "      <th>index</th>\n",
       "      <th>PLAYER_NAME</th>\n",
       "      <th>PREDICTED_SALARY</th>\n",
       "      <th>SALARY_PCT_CHANGE</th>\n",
       "    </tr>\n",
       "  </thead>\n",
       "  <tbody>\n",
       "    <tr>\n",
       "      <th>0</th>\n",
       "      <td>501</td>\n",
       "      <td>Stephen Curry</td>\n",
       "      <td>53.259766</td>\n",
       "      <td>-4.483921</td>\n",
       "    </tr>\n",
       "    <tr>\n",
       "      <th>1</th>\n",
       "      <td>424</td>\n",
       "      <td>Nikola Jokić</td>\n",
       "      <td>50.449413</td>\n",
       "      <td>-1.887567</td>\n",
       "    </tr>\n",
       "    <tr>\n",
       "      <th>2</th>\n",
       "      <td>277</td>\n",
       "      <td>Joel Embiid</td>\n",
       "      <td>50.062534</td>\n",
       "      <td>-2.639957</td>\n",
       "    </tr>\n",
       "    <tr>\n",
       "      <th>3</th>\n",
       "      <td>330</td>\n",
       "      <td>Kevin Durant</td>\n",
       "      <td>49.628387</td>\n",
       "      <td>-3.031678</td>\n",
       "    </tr>\n",
       "    <tr>\n",
       "      <th>4</th>\n",
       "      <td>180</td>\n",
       "      <td>Giannis Antetokounmpo</td>\n",
       "      <td>48.530663</td>\n",
       "      <td>-0.531538</td>\n",
       "    </tr>\n",
       "    <tr>\n",
       "      <th>5</th>\n",
       "      <td>359</td>\n",
       "      <td>LeBron James</td>\n",
       "      <td>48.494038</td>\n",
       "      <td>-0.484224</td>\n",
       "    </tr>\n",
       "    <tr>\n",
       "      <th>6</th>\n",
       "      <td>314</td>\n",
       "      <td>Karl-Anthony Towns</td>\n",
       "      <td>48.351124</td>\n",
       "      <td>-1.745329</td>\n",
       "    </tr>\n",
       "    <tr>\n",
       "      <th>7</th>\n",
       "      <td>141</td>\n",
       "      <td>Devin Booker</td>\n",
       "      <td>46.954796</td>\n",
       "      <td>-4.582817</td>\n",
       "    </tr>\n",
       "    <tr>\n",
       "      <th>8</th>\n",
       "      <td>451</td>\n",
       "      <td>Paul George</td>\n",
       "      <td>46.919876</td>\n",
       "      <td>-4.653777</td>\n",
       "    </tr>\n",
       "    <tr>\n",
       "      <th>9</th>\n",
       "      <td>255</td>\n",
       "      <td>Jaylen Brown</td>\n",
       "      <td>45.738274</td>\n",
       "      <td>-7.971280</td>\n",
       "    </tr>\n",
       "    <tr>\n",
       "      <th>10</th>\n",
       "      <td>51</td>\n",
       "      <td>Bradley Beal</td>\n",
       "      <td>45.329002</td>\n",
       "      <td>-9.703183</td>\n",
       "    </tr>\n",
       "    <tr>\n",
       "      <th>11</th>\n",
       "      <td>493</td>\n",
       "      <td>Shai Gilgeous-Alexander</td>\n",
       "      <td>44.853920</td>\n",
       "      <td>25.080647</td>\n",
       "    </tr>\n",
       "    <tr>\n",
       "      <th>12</th>\n",
       "      <td>526</td>\n",
       "      <td>Trae Young</td>\n",
       "      <td>43.024609</td>\n",
       "      <td>-0.012529</td>\n",
       "    </tr>\n",
       "    <tr>\n",
       "      <th>13</th>\n",
       "      <td>28</td>\n",
       "      <td>Anthony Davis</td>\n",
       "      <td>42.258675</td>\n",
       "      <td>-2.224260</td>\n",
       "    </tr>\n",
       "    <tr>\n",
       "      <th>14</th>\n",
       "      <td>445</td>\n",
       "      <td>Pascal Siakam</td>\n",
       "      <td>42.175682</td>\n",
       "      <td>-0.010237</td>\n",
       "    </tr>\n",
       "  </tbody>\n",
       "</table>\n",
       "</div>"
      ],
      "text/plain": [
       "    index              PLAYER_NAME  PREDICTED_SALARY  SALARY_PCT_CHANGE\n",
       "0     501            Stephen Curry         53.259766          -4.483921\n",
       "1     424             Nikola Jokić         50.449413          -1.887567\n",
       "2     277              Joel Embiid         50.062534          -2.639957\n",
       "3     330             Kevin Durant         49.628387          -3.031678\n",
       "4     180    Giannis Antetokounmpo         48.530663          -0.531538\n",
       "5     359             LeBron James         48.494038          -0.484224\n",
       "6     314       Karl-Anthony Towns         48.351124          -1.745329\n",
       "7     141             Devin Booker         46.954796          -4.582817\n",
       "8     451              Paul George         46.919876          -4.653777\n",
       "9     255             Jaylen Brown         45.738274          -7.971280\n",
       "10     51             Bradley Beal         45.329002          -9.703183\n",
       "11    493  Shai Gilgeous-Alexander         44.853920          25.080647\n",
       "12    526               Trae Young         43.024609          -0.012529\n",
       "13     28            Anthony Davis         42.258675          -2.224260\n",
       "14    445            Pascal Siakam         42.175682          -0.010237"
      ]
     },
     "execution_count": 1,
     "metadata": {},
     "output_type": "execute_result"
    }
   ],
   "source": [
    "import xgboost as xgb\n",
    "from sklearn.model_selection import train_test_split\n",
    "from sklearn.metrics import mean_squared_error as MSE\n",
    "import numpy as np\n",
    "import pandas as pd\n",
    "\n",
    "# Load dataset\n",
    "df = pd.read_csv('../database/merged.csv')\n",
    "\n",
    "# Clean salary column\n",
    "df['SALARY'] = df['SALARY'].replace('[\\$,]', '', regex=True).astype(float)\n",
    "\n",
    "# Create condensed salary in millions\n",
    "df['SALARY_CONDENSED'] = df['SALARY'].apply(lambda x: round(x / 1_000_000, 2))\n",
    "\n",
    "# Drop rows with missing or invalid salary values\n",
    "df = df.dropna(subset=['SALARY', 'SALARY_CONDENSED'])\n",
    "df = df[~df['SALARY_CONDENSED'].isin([np.inf, -np.inf])]\n",
    "\n",
    "# Define features and target\n",
    "features = ['NBA_FANTASY_PTS_RANK', 'PTS_RANK', 'FGA_RANK', 'PLUS_MINUS_RANK', 'MIN_RANK',\n",
    "            'FG3_PCT_RANK', 'FG_PCT_RANK', 'FGM_RANK', 'WNBA_FANTASY_PTS_RANK', 'FTM_RANK',\n",
    "            'PFD_RANK', 'FTA_RANK', 'TOV_RANK', 'AST_RANK', 'DREB_RANK', 'BLKA_RANK',\n",
    "            'STL_RANK', 'REB_RANK', 'DD2_RANK', 'FG3A_RANK', 'FG3M_RANK', 'PF_RANK',\n",
    "            'BLK_RANK', 'OREB_RANK', 'W_RANK', 'GP_RANK', 'FT_PCT_RANK', 'TD3_RANK',\n",
    "            'L_RANK', 'W_PCT_RANK']\n",
    "\n",
    "X = df[features]\n",
    "y = df['SALARY_CONDENSED']\n",
    "\n",
    "# Train/test split\n",
    "X_train, X_test, y_train, y_test = train_test_split(X, y, test_size=0.2, random_state=42)\n",
    "\n",
    "# Initialize and train XGBoost model\n",
    "new_model = xgb.XGBRegressor(\n",
    "    objective='reg:squarederror',\n",
    "    max_depth=4,\n",
    "    learning_rate=0.1,\n",
    "    n_estimators=100,\n",
    "    random_state=42\n",
    ")\n",
    "\n",
    "new_model.fit(X_train, y_train)\n",
    "\n",
    "# Evaluate\n",
    "y_pred = new_model.predict(X_test)\n",
    "rmse = np.sqrt(MSE(y_test, y_pred))\n",
    "print(f\"RMSE (in millions): {rmse:.2f}\")\n",
    "\n",
    "# Predict on full dataset\n",
    "df['PREDICTED_SALARY'] = new_model.predict(X)\n",
    "df['PPG'] = round(df['PTS']/df['GP'],1)\n",
    "df['RPG'] = round(df['REB']/df['GP'],1)\n",
    "df['APG'] = round(df['AST']/df['GP'],1)\n",
    "\n",
    "df['SALARY_DIFF'] = df['PREDICTED_SALARY'] - df['SALARY_CONDENSED']\n",
    "df['SALARY_PCT_CHANGE'] = ((df['PREDICTED_SALARY'] - df['SALARY_CONDENSED'])/df['SALARY_CONDENSED'])*100\n",
    "\n",
    "# Show top 15 highest predicted salaries\n",
    "top_pred_df = df.sort_values(by='PREDICTED_SALARY', ascending=False)\n",
    "top_pred_df.head(15)[['PLAYER_NAME', 'PREDICTED_SALARY','SALARY_PCT_CHANGE']].reset_index()\n"
   ]
  },
  {
   "cell_type": "code",
   "execution_count": 3,
   "id": "98ab6602",
   "metadata": {},
   "outputs": [],
   "source": [
    "import plotly.express as px\n",
    "top_13_per_team = (\n",
    "    df.sort_values(by=['TEAM_ABBREVIATION', 'PREDICTED_SALARY'], ascending=[True, False])\n",
    "      .groupby('TEAM_ABBREVIATION')\n",
    "      .head(13)\n",
    ")\n",
    "wealthiest_df = top_13_per_team[['TEAM_ABBREVIATION','PLAYER_NAME','PREDICTED_SALARY']]\n",
    "team_salary_totals = (\n",
    "    wealthiest_df\n",
    "    .groupby('TEAM_ABBREVIATION')['PREDICTED_SALARY']\n",
    "    .sum()\n",
    "    .reset_index()\n",
    "    .sort_values(by='PREDICTED_SALARY', ascending=False)\n",
    ")\n",
    "wealthiest_teams = team_salary_totals.sort_values(by=\"PREDICTED_SALARY\", ascending=True).head(5)\n",
    "poorest_teams = team_salary_totals.sort_values(by=\"PREDICTED_SALARY\", ascending=False).head(5)\n"
   ]
  },
  {
   "cell_type": "code",
   "execution_count": 27,
   "id": "d4a35fd5",
   "metadata": {},
   "outputs": [
    {
     "data": {
      "text/plain": [
       "Index(['PLAYER_ID', 'PLAYER_NAME', 'NICKNAME', 'TEAM_ID_x',\n",
       "       'TEAM_ABBREVIATION', 'AGE', 'GP', 'W', 'L', 'W_PCT', 'MIN', 'FGM',\n",
       "       'FGA', 'FG_PCT', 'FG3M', 'FG3A', 'FG3_PCT', 'FTM', 'FTA', 'FT_PCT',\n",
       "       'OREB', 'DREB', 'REB', 'AST', 'TOV', 'STL', 'BLK', 'BLKA', 'PF', 'PFD',\n",
       "       'PTS', 'PLUS_MINUS', 'NBA_FANTASY_PTS', 'DD2', 'TD3',\n",
       "       'WNBA_FANTASY_PTS', 'GP_RANK', 'W_RANK', 'L_RANK', 'W_PCT_RANK',\n",
       "       'MIN_RANK', 'FGM_RANK', 'FGA_RANK', 'FG_PCT_RANK', 'FG3M_RANK',\n",
       "       'FG3A_RANK', 'FG3_PCT_RANK', 'FTM_RANK', 'FTA_RANK', 'FT_PCT_RANK',\n",
       "       'OREB_RANK', 'DREB_RANK', 'REB_RANK', 'AST_RANK', 'TOV_RANK',\n",
       "       'STL_RANK', 'BLK_RANK', 'BLKA_RANK', 'PF_RANK', 'PFD_RANK', 'PTS_RANK',\n",
       "       'PLUS_MINUS_RANK', 'NBA_FANTASY_PTS_RANK', 'DD2_RANK', 'TD3_RANK',\n",
       "       'WNBA_FANTASY_PTS_RANK', 'SALARY', 'SALARY_CONDENSED',\n",
       "       'PREDICTED_SALARY', 'PPG', 'RPG', 'APG', 'SALARY_DIFF',\n",
       "       'SALARY_PCT_CHANGE', 'UNNAMED: 0', 'ID', 'FIRST_NAME', 'LAST_NAME',\n",
       "       'POSITION', 'HEIGHT', 'WEIGHT', 'JERSEY_NUMBER', 'COLLEGE', 'COUNTRY',\n",
       "       'DRAFT_YEAR', 'DRAFT_ROUND', 'DRAFT_NUMBER', 'TEAM'],\n",
       "      dtype='object')"
      ]
     },
     "execution_count": 27,
     "metadata": {},
     "output_type": "execute_result"
    }
   ],
   "source": [
    "import pandas as pd\n",
    "\n",
    "player_info_df = pd.read_csv(\"df_players.csv\")\n",
    "\n",
    "# Step 1: Make all column names in player_info_df uppercase\n",
    "player_info_df.columns = [col.upper() for col in player_info_df.columns]\n",
    "\n",
    "# Step 2: Create PLAYER_NAME column in player_info_df to match df\n",
    "player_info_df['PLAYER_NAME'] = (player_info_df['FIRST_NAME'] + ' ' + player_info_df['LAST_NAME']).str.strip()\n",
    "\n",
    "# Step 3: Drop FIRST_NAME and LAST_NAME if you no longer need them\n",
    "# (optional, only if they’re not useful post-merge)\n",
    "# player_info_df = player_info_df.drop(columns=['FIRST_NAME', 'LAST_NAME'])\n",
    "\n",
    "# Step 4: Merge\n",
    "merged_df = df.merge(player_info_df, how='left', on='PLAYER_NAME')\n",
    "\n",
    "# Step 5: Preview\n",
    "merged_df.drop(['TEAM_ID_y'], axis=1, inplace=True)\n",
    "merged_df.columns"
   ]
  },
  {
   "cell_type": "code",
   "execution_count": null,
   "id": "6e30a255",
   "metadata": {},
   "outputs": [],
   "source": [
    "import sqlite3\n",
    "\n",
    "# Step 1: Create a connection to a SQLite database file (it creates the file if it doesn't exist)\n",
    "conn = sqlite3.connect('nba_dataV4.db')\n",
    "\n",
    "# Step 2: Write the DataFrame to a SQL table\n",
    "merged_df.to_sql('player_data', conn, if_exists='replace', index=False)\n",
    "\n",
    "# Step 3: (Optional) Close the connection when done\n",
    "conn.close()\n"
   ]
  },
  {
   "cell_type": "code",
   "execution_count": 4,
   "id": "f815823e",
   "metadata": {},
   "outputs": [
    {
     "name": "stderr",
     "output_type": "stream",
     "text": [
      "C:\\Users\\amans\\AppData\\Local\\Packages\\PythonSoftwareFoundation.Python.3.11_qbz5n2kfra8p0\\LocalCache\\local-packages\\Python311\\site-packages\\kaleido\\__init__.py:14: UserWarning:\n",
      "\n",
      "\n",
      "\n",
      "Warning: You have Plotly version 5.24.1, which is not compatible with this version of Kaleido (1.0.0).\n",
      "\n",
      "This means that static image generation (e.g. `fig.write_image()`) will not work.\n",
      "\n",
      "Please upgrade Plotly to version 6.1.1 or greater, or downgrade Kaleido to version 0.2.1.\n",
      "\n",
      "\n"
     ]
    },
    {
     "data": {
      "application/vnd.plotly.v1+json": {
       "config": {
        "plotlyServerURL": "https://plot.ly"
       },
       "data": [
        {
         "alignmentgroup": "True",
         "hovertemplate": "Team=%{x}<br>Total Salary (Millions)=%{marker.color}<extra></extra>",
         "legendgroup": "",
         "marker": {
          "color": [
           216.71068,
           198.5443,
           197.54825,
           193.80273,
           192.37424
          ],
          "coloraxis": "coloraxis",
          "pattern": {
           "shape": ""
          }
         },
         "name": "",
         "offsetgroup": "",
         "orientation": "v",
         "showlegend": false,
         "textposition": "auto",
         "type": "bar",
         "x": [
          "PHX",
          "MIN",
          "NYK",
          "DEN",
          "BOS"
         ],
         "xaxis": "x",
         "y": [
          216.71068,
          198.5443,
          197.54825,
          193.80273,
          192.37424
         ],
         "yaxis": "y"
        }
       ],
       "layout": {
        "barmode": "relative",
        "coloraxis": {
         "colorbar": {
          "title": {
           "text": "Total Salary (Millions)"
          }
         },
         "colorscale": [
          [
           0,
           "rgb(247,251,255)"
          ],
          [
           0.125,
           "rgb(222,235,247)"
          ],
          [
           0.25,
           "rgb(198,219,239)"
          ],
          [
           0.375,
           "rgb(158,202,225)"
          ],
          [
           0.5,
           "rgb(107,174,214)"
          ],
          [
           0.625,
           "rgb(66,146,198)"
          ],
          [
           0.75,
           "rgb(33,113,181)"
          ],
          [
           0.875,
           "rgb(8,81,156)"
          ],
          [
           1,
           "rgb(8,48,107)"
          ]
         ]
        },
        "legend": {
         "tracegroupgap": 0
        },
        "template": {
         "data": {
          "bar": [
           {
            "error_x": {
             "color": "#2a3f5f"
            },
            "error_y": {
             "color": "#2a3f5f"
            },
            "marker": {
             "line": {
              "color": "#E5ECF6",
              "width": 0.5
             },
             "pattern": {
              "fillmode": "overlay",
              "size": 10,
              "solidity": 0.2
             }
            },
            "type": "bar"
           }
          ],
          "barpolar": [
           {
            "marker": {
             "line": {
              "color": "#E5ECF6",
              "width": 0.5
             },
             "pattern": {
              "fillmode": "overlay",
              "size": 10,
              "solidity": 0.2
             }
            },
            "type": "barpolar"
           }
          ],
          "carpet": [
           {
            "aaxis": {
             "endlinecolor": "#2a3f5f",
             "gridcolor": "white",
             "linecolor": "white",
             "minorgridcolor": "white",
             "startlinecolor": "#2a3f5f"
            },
            "baxis": {
             "endlinecolor": "#2a3f5f",
             "gridcolor": "white",
             "linecolor": "white",
             "minorgridcolor": "white",
             "startlinecolor": "#2a3f5f"
            },
            "type": "carpet"
           }
          ],
          "choropleth": [
           {
            "colorbar": {
             "outlinewidth": 0,
             "ticks": ""
            },
            "type": "choropleth"
           }
          ],
          "contour": [
           {
            "colorbar": {
             "outlinewidth": 0,
             "ticks": ""
            },
            "colorscale": [
             [
              0,
              "#0d0887"
             ],
             [
              0.1111111111111111,
              "#46039f"
             ],
             [
              0.2222222222222222,
              "#7201a8"
             ],
             [
              0.3333333333333333,
              "#9c179e"
             ],
             [
              0.4444444444444444,
              "#bd3786"
             ],
             [
              0.5555555555555556,
              "#d8576b"
             ],
             [
              0.6666666666666666,
              "#ed7953"
             ],
             [
              0.7777777777777778,
              "#fb9f3a"
             ],
             [
              0.8888888888888888,
              "#fdca26"
             ],
             [
              1,
              "#f0f921"
             ]
            ],
            "type": "contour"
           }
          ],
          "contourcarpet": [
           {
            "colorbar": {
             "outlinewidth": 0,
             "ticks": ""
            },
            "type": "contourcarpet"
           }
          ],
          "heatmap": [
           {
            "colorbar": {
             "outlinewidth": 0,
             "ticks": ""
            },
            "colorscale": [
             [
              0,
              "#0d0887"
             ],
             [
              0.1111111111111111,
              "#46039f"
             ],
             [
              0.2222222222222222,
              "#7201a8"
             ],
             [
              0.3333333333333333,
              "#9c179e"
             ],
             [
              0.4444444444444444,
              "#bd3786"
             ],
             [
              0.5555555555555556,
              "#d8576b"
             ],
             [
              0.6666666666666666,
              "#ed7953"
             ],
             [
              0.7777777777777778,
              "#fb9f3a"
             ],
             [
              0.8888888888888888,
              "#fdca26"
             ],
             [
              1,
              "#f0f921"
             ]
            ],
            "type": "heatmap"
           }
          ],
          "heatmapgl": [
           {
            "colorbar": {
             "outlinewidth": 0,
             "ticks": ""
            },
            "colorscale": [
             [
              0,
              "#0d0887"
             ],
             [
              0.1111111111111111,
              "#46039f"
             ],
             [
              0.2222222222222222,
              "#7201a8"
             ],
             [
              0.3333333333333333,
              "#9c179e"
             ],
             [
              0.4444444444444444,
              "#bd3786"
             ],
             [
              0.5555555555555556,
              "#d8576b"
             ],
             [
              0.6666666666666666,
              "#ed7953"
             ],
             [
              0.7777777777777778,
              "#fb9f3a"
             ],
             [
              0.8888888888888888,
              "#fdca26"
             ],
             [
              1,
              "#f0f921"
             ]
            ],
            "type": "heatmapgl"
           }
          ],
          "histogram": [
           {
            "marker": {
             "pattern": {
              "fillmode": "overlay",
              "size": 10,
              "solidity": 0.2
             }
            },
            "type": "histogram"
           }
          ],
          "histogram2d": [
           {
            "colorbar": {
             "outlinewidth": 0,
             "ticks": ""
            },
            "colorscale": [
             [
              0,
              "#0d0887"
             ],
             [
              0.1111111111111111,
              "#46039f"
             ],
             [
              0.2222222222222222,
              "#7201a8"
             ],
             [
              0.3333333333333333,
              "#9c179e"
             ],
             [
              0.4444444444444444,
              "#bd3786"
             ],
             [
              0.5555555555555556,
              "#d8576b"
             ],
             [
              0.6666666666666666,
              "#ed7953"
             ],
             [
              0.7777777777777778,
              "#fb9f3a"
             ],
             [
              0.8888888888888888,
              "#fdca26"
             ],
             [
              1,
              "#f0f921"
             ]
            ],
            "type": "histogram2d"
           }
          ],
          "histogram2dcontour": [
           {
            "colorbar": {
             "outlinewidth": 0,
             "ticks": ""
            },
            "colorscale": [
             [
              0,
              "#0d0887"
             ],
             [
              0.1111111111111111,
              "#46039f"
             ],
             [
              0.2222222222222222,
              "#7201a8"
             ],
             [
              0.3333333333333333,
              "#9c179e"
             ],
             [
              0.4444444444444444,
              "#bd3786"
             ],
             [
              0.5555555555555556,
              "#d8576b"
             ],
             [
              0.6666666666666666,
              "#ed7953"
             ],
             [
              0.7777777777777778,
              "#fb9f3a"
             ],
             [
              0.8888888888888888,
              "#fdca26"
             ],
             [
              1,
              "#f0f921"
             ]
            ],
            "type": "histogram2dcontour"
           }
          ],
          "mesh3d": [
           {
            "colorbar": {
             "outlinewidth": 0,
             "ticks": ""
            },
            "type": "mesh3d"
           }
          ],
          "parcoords": [
           {
            "line": {
             "colorbar": {
              "outlinewidth": 0,
              "ticks": ""
             }
            },
            "type": "parcoords"
           }
          ],
          "pie": [
           {
            "automargin": true,
            "type": "pie"
           }
          ],
          "scatter": [
           {
            "fillpattern": {
             "fillmode": "overlay",
             "size": 10,
             "solidity": 0.2
            },
            "type": "scatter"
           }
          ],
          "scatter3d": [
           {
            "line": {
             "colorbar": {
              "outlinewidth": 0,
              "ticks": ""
             }
            },
            "marker": {
             "colorbar": {
              "outlinewidth": 0,
              "ticks": ""
             }
            },
            "type": "scatter3d"
           }
          ],
          "scattercarpet": [
           {
            "marker": {
             "colorbar": {
              "outlinewidth": 0,
              "ticks": ""
             }
            },
            "type": "scattercarpet"
           }
          ],
          "scattergeo": [
           {
            "marker": {
             "colorbar": {
              "outlinewidth": 0,
              "ticks": ""
             }
            },
            "type": "scattergeo"
           }
          ],
          "scattergl": [
           {
            "marker": {
             "colorbar": {
              "outlinewidth": 0,
              "ticks": ""
             }
            },
            "type": "scattergl"
           }
          ],
          "scattermapbox": [
           {
            "marker": {
             "colorbar": {
              "outlinewidth": 0,
              "ticks": ""
             }
            },
            "type": "scattermapbox"
           }
          ],
          "scatterpolar": [
           {
            "marker": {
             "colorbar": {
              "outlinewidth": 0,
              "ticks": ""
             }
            },
            "type": "scatterpolar"
           }
          ],
          "scatterpolargl": [
           {
            "marker": {
             "colorbar": {
              "outlinewidth": 0,
              "ticks": ""
             }
            },
            "type": "scatterpolargl"
           }
          ],
          "scatterternary": [
           {
            "marker": {
             "colorbar": {
              "outlinewidth": 0,
              "ticks": ""
             }
            },
            "type": "scatterternary"
           }
          ],
          "surface": [
           {
            "colorbar": {
             "outlinewidth": 0,
             "ticks": ""
            },
            "colorscale": [
             [
              0,
              "#0d0887"
             ],
             [
              0.1111111111111111,
              "#46039f"
             ],
             [
              0.2222222222222222,
              "#7201a8"
             ],
             [
              0.3333333333333333,
              "#9c179e"
             ],
             [
              0.4444444444444444,
              "#bd3786"
             ],
             [
              0.5555555555555556,
              "#d8576b"
             ],
             [
              0.6666666666666666,
              "#ed7953"
             ],
             [
              0.7777777777777778,
              "#fb9f3a"
             ],
             [
              0.8888888888888888,
              "#fdca26"
             ],
             [
              1,
              "#f0f921"
             ]
            ],
            "type": "surface"
           }
          ],
          "table": [
           {
            "cells": {
             "fill": {
              "color": "#EBF0F8"
             },
             "line": {
              "color": "white"
             }
            },
            "header": {
             "fill": {
              "color": "#C8D4E3"
             },
             "line": {
              "color": "white"
             }
            },
            "type": "table"
           }
          ]
         },
         "layout": {
          "annotationdefaults": {
           "arrowcolor": "#2a3f5f",
           "arrowhead": 0,
           "arrowwidth": 1
          },
          "autotypenumbers": "strict",
          "coloraxis": {
           "colorbar": {
            "outlinewidth": 0,
            "ticks": ""
           }
          },
          "colorscale": {
           "diverging": [
            [
             0,
             "#8e0152"
            ],
            [
             0.1,
             "#c51b7d"
            ],
            [
             0.2,
             "#de77ae"
            ],
            [
             0.3,
             "#f1b6da"
            ],
            [
             0.4,
             "#fde0ef"
            ],
            [
             0.5,
             "#f7f7f7"
            ],
            [
             0.6,
             "#e6f5d0"
            ],
            [
             0.7,
             "#b8e186"
            ],
            [
             0.8,
             "#7fbc41"
            ],
            [
             0.9,
             "#4d9221"
            ],
            [
             1,
             "#276419"
            ]
           ],
           "sequential": [
            [
             0,
             "#0d0887"
            ],
            [
             0.1111111111111111,
             "#46039f"
            ],
            [
             0.2222222222222222,
             "#7201a8"
            ],
            [
             0.3333333333333333,
             "#9c179e"
            ],
            [
             0.4444444444444444,
             "#bd3786"
            ],
            [
             0.5555555555555556,
             "#d8576b"
            ],
            [
             0.6666666666666666,
             "#ed7953"
            ],
            [
             0.7777777777777778,
             "#fb9f3a"
            ],
            [
             0.8888888888888888,
             "#fdca26"
            ],
            [
             1,
             "#f0f921"
            ]
           ],
           "sequentialminus": [
            [
             0,
             "#0d0887"
            ],
            [
             0.1111111111111111,
             "#46039f"
            ],
            [
             0.2222222222222222,
             "#7201a8"
            ],
            [
             0.3333333333333333,
             "#9c179e"
            ],
            [
             0.4444444444444444,
             "#bd3786"
            ],
            [
             0.5555555555555556,
             "#d8576b"
            ],
            [
             0.6666666666666666,
             "#ed7953"
            ],
            [
             0.7777777777777778,
             "#fb9f3a"
            ],
            [
             0.8888888888888888,
             "#fdca26"
            ],
            [
             1,
             "#f0f921"
            ]
           ]
          },
          "colorway": [
           "#636efa",
           "#EF553B",
           "#00cc96",
           "#ab63fa",
           "#FFA15A",
           "#19d3f3",
           "#FF6692",
           "#B6E880",
           "#FF97FF",
           "#FECB52"
          ],
          "font": {
           "color": "#2a3f5f"
          },
          "geo": {
           "bgcolor": "white",
           "lakecolor": "white",
           "landcolor": "#E5ECF6",
           "showlakes": true,
           "showland": true,
           "subunitcolor": "white"
          },
          "hoverlabel": {
           "align": "left"
          },
          "hovermode": "closest",
          "mapbox": {
           "style": "light"
          },
          "paper_bgcolor": "white",
          "plot_bgcolor": "#E5ECF6",
          "polar": {
           "angularaxis": {
            "gridcolor": "white",
            "linecolor": "white",
            "ticks": ""
           },
           "bgcolor": "#E5ECF6",
           "radialaxis": {
            "gridcolor": "white",
            "linecolor": "white",
            "ticks": ""
           }
          },
          "scene": {
           "xaxis": {
            "backgroundcolor": "#E5ECF6",
            "gridcolor": "white",
            "gridwidth": 2,
            "linecolor": "white",
            "showbackground": true,
            "ticks": "",
            "zerolinecolor": "white"
           },
           "yaxis": {
            "backgroundcolor": "#E5ECF6",
            "gridcolor": "white",
            "gridwidth": 2,
            "linecolor": "white",
            "showbackground": true,
            "ticks": "",
            "zerolinecolor": "white"
           },
           "zaxis": {
            "backgroundcolor": "#E5ECF6",
            "gridcolor": "white",
            "gridwidth": 2,
            "linecolor": "white",
            "showbackground": true,
            "ticks": "",
            "zerolinecolor": "white"
           }
          },
          "shapedefaults": {
           "line": {
            "color": "#2a3f5f"
           }
          },
          "ternary": {
           "aaxis": {
            "gridcolor": "white",
            "linecolor": "white",
            "ticks": ""
           },
           "baxis": {
            "gridcolor": "white",
            "linecolor": "white",
            "ticks": ""
           },
           "bgcolor": "#E5ECF6",
           "caxis": {
            "gridcolor": "white",
            "linecolor": "white",
            "ticks": ""
           }
          },
          "title": {
           "x": 0.05
          },
          "xaxis": {
           "automargin": true,
           "gridcolor": "white",
           "linecolor": "white",
           "ticks": "",
           "title": {
            "standoff": 15
           },
           "zerolinecolor": "white",
           "zerolinewidth": 2
          },
          "yaxis": {
           "automargin": true,
           "gridcolor": "white",
           "linecolor": "white",
           "ticks": "",
           "title": {
            "standoff": 15
           },
           "zerolinecolor": "white",
           "zerolinewidth": 2
          }
         }
        },
        "title": {
         "text": "Top 5 Wealthiest Teams (Predicted Salary Total)"
        },
        "xaxis": {
         "anchor": "y",
         "categoryorder": "total descending",
         "domain": [
          0,
          1
         ],
         "title": {
          "text": "Team"
         }
        },
        "yaxis": {
         "anchor": "x",
         "domain": [
          0,
          1
         ],
         "title": {
          "text": "Total Salary (Millions)"
         }
        }
       }
      }
     },
     "metadata": {},
     "output_type": "display_data"
    },
    {
     "data": {
      "application/vnd.plotly.v1+json": {
       "config": {
        "plotlyServerURL": "https://plot.ly"
       },
       "data": [
        {
         "alignmentgroup": "True",
         "hovertemplate": "Team=%{x}<br>Total Salary (Millions)=%{marker.color}<extra></extra>",
         "legendgroup": "",
         "marker": {
          "color": [
           120.079445,
           125.806435,
           135.44963,
           139.32867,
           142.26704
          ],
          "coloraxis": "coloraxis",
          "pattern": {
           "shape": ""
          }
         },
         "name": "",
         "offsetgroup": "",
         "orientation": "v",
         "showlegend": false,
         "textposition": "auto",
         "type": "bar",
         "x": [
          "BKN",
          "DET",
          "WAS",
          "CHI",
          "GSW"
         ],
         "xaxis": "x",
         "y": [
          120.079445,
          125.806435,
          135.44963,
          139.32867,
          142.26704
         ],
         "yaxis": "y"
        }
       ],
       "layout": {
        "barmode": "relative",
        "coloraxis": {
         "colorbar": {
          "title": {
           "text": "Total Salary (Millions)"
          }
         },
         "colorscale": [
          [
           0,
           "rgb(255,245,240)"
          ],
          [
           0.125,
           "rgb(254,224,210)"
          ],
          [
           0.25,
           "rgb(252,187,161)"
          ],
          [
           0.375,
           "rgb(252,146,114)"
          ],
          [
           0.5,
           "rgb(251,106,74)"
          ],
          [
           0.625,
           "rgb(239,59,44)"
          ],
          [
           0.75,
           "rgb(203,24,29)"
          ],
          [
           0.875,
           "rgb(165,15,21)"
          ],
          [
           1,
           "rgb(103,0,13)"
          ]
         ]
        },
        "legend": {
         "tracegroupgap": 0
        },
        "template": {
         "data": {
          "bar": [
           {
            "error_x": {
             "color": "#2a3f5f"
            },
            "error_y": {
             "color": "#2a3f5f"
            },
            "marker": {
             "line": {
              "color": "#E5ECF6",
              "width": 0.5
             },
             "pattern": {
              "fillmode": "overlay",
              "size": 10,
              "solidity": 0.2
             }
            },
            "type": "bar"
           }
          ],
          "barpolar": [
           {
            "marker": {
             "line": {
              "color": "#E5ECF6",
              "width": 0.5
             },
             "pattern": {
              "fillmode": "overlay",
              "size": 10,
              "solidity": 0.2
             }
            },
            "type": "barpolar"
           }
          ],
          "carpet": [
           {
            "aaxis": {
             "endlinecolor": "#2a3f5f",
             "gridcolor": "white",
             "linecolor": "white",
             "minorgridcolor": "white",
             "startlinecolor": "#2a3f5f"
            },
            "baxis": {
             "endlinecolor": "#2a3f5f",
             "gridcolor": "white",
             "linecolor": "white",
             "minorgridcolor": "white",
             "startlinecolor": "#2a3f5f"
            },
            "type": "carpet"
           }
          ],
          "choropleth": [
           {
            "colorbar": {
             "outlinewidth": 0,
             "ticks": ""
            },
            "type": "choropleth"
           }
          ],
          "contour": [
           {
            "colorbar": {
             "outlinewidth": 0,
             "ticks": ""
            },
            "colorscale": [
             [
              0,
              "#0d0887"
             ],
             [
              0.1111111111111111,
              "#46039f"
             ],
             [
              0.2222222222222222,
              "#7201a8"
             ],
             [
              0.3333333333333333,
              "#9c179e"
             ],
             [
              0.4444444444444444,
              "#bd3786"
             ],
             [
              0.5555555555555556,
              "#d8576b"
             ],
             [
              0.6666666666666666,
              "#ed7953"
             ],
             [
              0.7777777777777778,
              "#fb9f3a"
             ],
             [
              0.8888888888888888,
              "#fdca26"
             ],
             [
              1,
              "#f0f921"
             ]
            ],
            "type": "contour"
           }
          ],
          "contourcarpet": [
           {
            "colorbar": {
             "outlinewidth": 0,
             "ticks": ""
            },
            "type": "contourcarpet"
           }
          ],
          "heatmap": [
           {
            "colorbar": {
             "outlinewidth": 0,
             "ticks": ""
            },
            "colorscale": [
             [
              0,
              "#0d0887"
             ],
             [
              0.1111111111111111,
              "#46039f"
             ],
             [
              0.2222222222222222,
              "#7201a8"
             ],
             [
              0.3333333333333333,
              "#9c179e"
             ],
             [
              0.4444444444444444,
              "#bd3786"
             ],
             [
              0.5555555555555556,
              "#d8576b"
             ],
             [
              0.6666666666666666,
              "#ed7953"
             ],
             [
              0.7777777777777778,
              "#fb9f3a"
             ],
             [
              0.8888888888888888,
              "#fdca26"
             ],
             [
              1,
              "#f0f921"
             ]
            ],
            "type": "heatmap"
           }
          ],
          "heatmapgl": [
           {
            "colorbar": {
             "outlinewidth": 0,
             "ticks": ""
            },
            "colorscale": [
             [
              0,
              "#0d0887"
             ],
             [
              0.1111111111111111,
              "#46039f"
             ],
             [
              0.2222222222222222,
              "#7201a8"
             ],
             [
              0.3333333333333333,
              "#9c179e"
             ],
             [
              0.4444444444444444,
              "#bd3786"
             ],
             [
              0.5555555555555556,
              "#d8576b"
             ],
             [
              0.6666666666666666,
              "#ed7953"
             ],
             [
              0.7777777777777778,
              "#fb9f3a"
             ],
             [
              0.8888888888888888,
              "#fdca26"
             ],
             [
              1,
              "#f0f921"
             ]
            ],
            "type": "heatmapgl"
           }
          ],
          "histogram": [
           {
            "marker": {
             "pattern": {
              "fillmode": "overlay",
              "size": 10,
              "solidity": 0.2
             }
            },
            "type": "histogram"
           }
          ],
          "histogram2d": [
           {
            "colorbar": {
             "outlinewidth": 0,
             "ticks": ""
            },
            "colorscale": [
             [
              0,
              "#0d0887"
             ],
             [
              0.1111111111111111,
              "#46039f"
             ],
             [
              0.2222222222222222,
              "#7201a8"
             ],
             [
              0.3333333333333333,
              "#9c179e"
             ],
             [
              0.4444444444444444,
              "#bd3786"
             ],
             [
              0.5555555555555556,
              "#d8576b"
             ],
             [
              0.6666666666666666,
              "#ed7953"
             ],
             [
              0.7777777777777778,
              "#fb9f3a"
             ],
             [
              0.8888888888888888,
              "#fdca26"
             ],
             [
              1,
              "#f0f921"
             ]
            ],
            "type": "histogram2d"
           }
          ],
          "histogram2dcontour": [
           {
            "colorbar": {
             "outlinewidth": 0,
             "ticks": ""
            },
            "colorscale": [
             [
              0,
              "#0d0887"
             ],
             [
              0.1111111111111111,
              "#46039f"
             ],
             [
              0.2222222222222222,
              "#7201a8"
             ],
             [
              0.3333333333333333,
              "#9c179e"
             ],
             [
              0.4444444444444444,
              "#bd3786"
             ],
             [
              0.5555555555555556,
              "#d8576b"
             ],
             [
              0.6666666666666666,
              "#ed7953"
             ],
             [
              0.7777777777777778,
              "#fb9f3a"
             ],
             [
              0.8888888888888888,
              "#fdca26"
             ],
             [
              1,
              "#f0f921"
             ]
            ],
            "type": "histogram2dcontour"
           }
          ],
          "mesh3d": [
           {
            "colorbar": {
             "outlinewidth": 0,
             "ticks": ""
            },
            "type": "mesh3d"
           }
          ],
          "parcoords": [
           {
            "line": {
             "colorbar": {
              "outlinewidth": 0,
              "ticks": ""
             }
            },
            "type": "parcoords"
           }
          ],
          "pie": [
           {
            "automargin": true,
            "type": "pie"
           }
          ],
          "scatter": [
           {
            "fillpattern": {
             "fillmode": "overlay",
             "size": 10,
             "solidity": 0.2
            },
            "type": "scatter"
           }
          ],
          "scatter3d": [
           {
            "line": {
             "colorbar": {
              "outlinewidth": 0,
              "ticks": ""
             }
            },
            "marker": {
             "colorbar": {
              "outlinewidth": 0,
              "ticks": ""
             }
            },
            "type": "scatter3d"
           }
          ],
          "scattercarpet": [
           {
            "marker": {
             "colorbar": {
              "outlinewidth": 0,
              "ticks": ""
             }
            },
            "type": "scattercarpet"
           }
          ],
          "scattergeo": [
           {
            "marker": {
             "colorbar": {
              "outlinewidth": 0,
              "ticks": ""
             }
            },
            "type": "scattergeo"
           }
          ],
          "scattergl": [
           {
            "marker": {
             "colorbar": {
              "outlinewidth": 0,
              "ticks": ""
             }
            },
            "type": "scattergl"
           }
          ],
          "scattermapbox": [
           {
            "marker": {
             "colorbar": {
              "outlinewidth": 0,
              "ticks": ""
             }
            },
            "type": "scattermapbox"
           }
          ],
          "scatterpolar": [
           {
            "marker": {
             "colorbar": {
              "outlinewidth": 0,
              "ticks": ""
             }
            },
            "type": "scatterpolar"
           }
          ],
          "scatterpolargl": [
           {
            "marker": {
             "colorbar": {
              "outlinewidth": 0,
              "ticks": ""
             }
            },
            "type": "scatterpolargl"
           }
          ],
          "scatterternary": [
           {
            "marker": {
             "colorbar": {
              "outlinewidth": 0,
              "ticks": ""
             }
            },
            "type": "scatterternary"
           }
          ],
          "surface": [
           {
            "colorbar": {
             "outlinewidth": 0,
             "ticks": ""
            },
            "colorscale": [
             [
              0,
              "#0d0887"
             ],
             [
              0.1111111111111111,
              "#46039f"
             ],
             [
              0.2222222222222222,
              "#7201a8"
             ],
             [
              0.3333333333333333,
              "#9c179e"
             ],
             [
              0.4444444444444444,
              "#bd3786"
             ],
             [
              0.5555555555555556,
              "#d8576b"
             ],
             [
              0.6666666666666666,
              "#ed7953"
             ],
             [
              0.7777777777777778,
              "#fb9f3a"
             ],
             [
              0.8888888888888888,
              "#fdca26"
             ],
             [
              1,
              "#f0f921"
             ]
            ],
            "type": "surface"
           }
          ],
          "table": [
           {
            "cells": {
             "fill": {
              "color": "#EBF0F8"
             },
             "line": {
              "color": "white"
             }
            },
            "header": {
             "fill": {
              "color": "#C8D4E3"
             },
             "line": {
              "color": "white"
             }
            },
            "type": "table"
           }
          ]
         },
         "layout": {
          "annotationdefaults": {
           "arrowcolor": "#2a3f5f",
           "arrowhead": 0,
           "arrowwidth": 1
          },
          "autotypenumbers": "strict",
          "coloraxis": {
           "colorbar": {
            "outlinewidth": 0,
            "ticks": ""
           }
          },
          "colorscale": {
           "diverging": [
            [
             0,
             "#8e0152"
            ],
            [
             0.1,
             "#c51b7d"
            ],
            [
             0.2,
             "#de77ae"
            ],
            [
             0.3,
             "#f1b6da"
            ],
            [
             0.4,
             "#fde0ef"
            ],
            [
             0.5,
             "#f7f7f7"
            ],
            [
             0.6,
             "#e6f5d0"
            ],
            [
             0.7,
             "#b8e186"
            ],
            [
             0.8,
             "#7fbc41"
            ],
            [
             0.9,
             "#4d9221"
            ],
            [
             1,
             "#276419"
            ]
           ],
           "sequential": [
            [
             0,
             "#0d0887"
            ],
            [
             0.1111111111111111,
             "#46039f"
            ],
            [
             0.2222222222222222,
             "#7201a8"
            ],
            [
             0.3333333333333333,
             "#9c179e"
            ],
            [
             0.4444444444444444,
             "#bd3786"
            ],
            [
             0.5555555555555556,
             "#d8576b"
            ],
            [
             0.6666666666666666,
             "#ed7953"
            ],
            [
             0.7777777777777778,
             "#fb9f3a"
            ],
            [
             0.8888888888888888,
             "#fdca26"
            ],
            [
             1,
             "#f0f921"
            ]
           ],
           "sequentialminus": [
            [
             0,
             "#0d0887"
            ],
            [
             0.1111111111111111,
             "#46039f"
            ],
            [
             0.2222222222222222,
             "#7201a8"
            ],
            [
             0.3333333333333333,
             "#9c179e"
            ],
            [
             0.4444444444444444,
             "#bd3786"
            ],
            [
             0.5555555555555556,
             "#d8576b"
            ],
            [
             0.6666666666666666,
             "#ed7953"
            ],
            [
             0.7777777777777778,
             "#fb9f3a"
            ],
            [
             0.8888888888888888,
             "#fdca26"
            ],
            [
             1,
             "#f0f921"
            ]
           ]
          },
          "colorway": [
           "#636efa",
           "#EF553B",
           "#00cc96",
           "#ab63fa",
           "#FFA15A",
           "#19d3f3",
           "#FF6692",
           "#B6E880",
           "#FF97FF",
           "#FECB52"
          ],
          "font": {
           "color": "#2a3f5f"
          },
          "geo": {
           "bgcolor": "white",
           "lakecolor": "white",
           "landcolor": "#E5ECF6",
           "showlakes": true,
           "showland": true,
           "subunitcolor": "white"
          },
          "hoverlabel": {
           "align": "left"
          },
          "hovermode": "closest",
          "mapbox": {
           "style": "light"
          },
          "paper_bgcolor": "white",
          "plot_bgcolor": "#E5ECF6",
          "polar": {
           "angularaxis": {
            "gridcolor": "white",
            "linecolor": "white",
            "ticks": ""
           },
           "bgcolor": "#E5ECF6",
           "radialaxis": {
            "gridcolor": "white",
            "linecolor": "white",
            "ticks": ""
           }
          },
          "scene": {
           "xaxis": {
            "backgroundcolor": "#E5ECF6",
            "gridcolor": "white",
            "gridwidth": 2,
            "linecolor": "white",
            "showbackground": true,
            "ticks": "",
            "zerolinecolor": "white"
           },
           "yaxis": {
            "backgroundcolor": "#E5ECF6",
            "gridcolor": "white",
            "gridwidth": 2,
            "linecolor": "white",
            "showbackground": true,
            "ticks": "",
            "zerolinecolor": "white"
           },
           "zaxis": {
            "backgroundcolor": "#E5ECF6",
            "gridcolor": "white",
            "gridwidth": 2,
            "linecolor": "white",
            "showbackground": true,
            "ticks": "",
            "zerolinecolor": "white"
           }
          },
          "shapedefaults": {
           "line": {
            "color": "#2a3f5f"
           }
          },
          "ternary": {
           "aaxis": {
            "gridcolor": "white",
            "linecolor": "white",
            "ticks": ""
           },
           "baxis": {
            "gridcolor": "white",
            "linecolor": "white",
            "ticks": ""
           },
           "bgcolor": "#E5ECF6",
           "caxis": {
            "gridcolor": "white",
            "linecolor": "white",
            "ticks": ""
           }
          },
          "title": {
           "x": 0.05
          },
          "xaxis": {
           "automargin": true,
           "gridcolor": "white",
           "linecolor": "white",
           "ticks": "",
           "title": {
            "standoff": 15
           },
           "zerolinecolor": "white",
           "zerolinewidth": 2
          },
          "yaxis": {
           "automargin": true,
           "gridcolor": "white",
           "linecolor": "white",
           "ticks": "",
           "title": {
            "standoff": 15
           },
           "zerolinecolor": "white",
           "zerolinewidth": 2
          }
         }
        },
        "title": {
         "text": "Top 5 Poorest Teams (Predicted Salary Total)"
        },
        "xaxis": {
         "anchor": "y",
         "categoryorder": "total ascending",
         "domain": [
          0,
          1
         ],
         "title": {
          "text": "Team"
         }
        },
        "yaxis": {
         "anchor": "x",
         "domain": [
          0,
          1
         ],
         "title": {
          "text": "Total Salary (Millions)"
         }
        }
       }
      }
     },
     "metadata": {},
     "output_type": "display_data"
    }
   ],
   "source": [
    "import plotly.express as px\n",
    "\n",
    "# Top 5 Wealthiest Teams - Vertical Bar Chart\n",
    "fig_wealthiest = px.bar(\n",
    "    poorest_teams.sort_values(by=\"PREDICTED_SALARY\", ascending=False),\n",
    "    x='TEAM_ABBREVIATION',\n",
    "    y='PREDICTED_SALARY',\n",
    "    title='Top 5 Wealthiest Teams (Predicted Salary Total)',\n",
    "    labels={'PREDICTED_SALARY': 'Total Salary (Millions)', 'TEAM_ABBREVIATION': 'Team'},\n",
    "    color='PREDICTED_SALARY',\n",
    "    color_continuous_scale='Blues'\n",
    ")\n",
    "fig_wealthiest.update_layout(xaxis=dict(categoryorder='total descending'))\n",
    "fig_wealthiest.show()\n",
    "fig_wealthiest.write_html('../database/wealthiestTeams.html')\n",
    "\n",
    "# Top 5 Poorest Teams - Vertical Bar Chart\n",
    "fig_poorest = px.bar(\n",
    "    wealthiest_teams.sort_values(by=\"PREDICTED_SALARY\", ascending=True),\n",
    "    x='TEAM_ABBREVIATION',\n",
    "    y='PREDICTED_SALARY',\n",
    "    title='Top 5 Poorest Teams (Predicted Salary Total)',\n",
    "    labels={'PREDICTED_SALARY': 'Total Salary (Millions)', 'TEAM_ABBREVIATION': 'Team'},\n",
    "    color='PREDICTED_SALARY',\n",
    "    color_continuous_scale='Reds'\n",
    ")\n",
    "fig_poorest.update_layout(xaxis=dict(categoryorder='total ascending'))\n",
    "fig_poorest.show()\n",
    "fig_poorest.write_html('../database/poorestTeams.html')\n"
   ]
  },
  {
   "cell_type": "code",
   "execution_count": 5,
   "id": "62b934dc",
   "metadata": {},
   "outputs": [
    {
     "data": {
      "application/vnd.plotly.v1+json": {
       "config": {
        "plotlyServerURL": "https://plot.ly"
       },
       "data": [
        {
         "marker": {
          "color": [
           216.71068,
           198.5443,
           197.54825,
           193.80273,
           192.37424
          ],
          "colorscale": [
           [
            0,
            "rgb(247,251,255)"
           ],
           [
            0.125,
            "rgb(222,235,247)"
           ],
           [
            0.25,
            "rgb(198,219,239)"
           ],
           [
            0.375,
            "rgb(158,202,225)"
           ],
           [
            0.5,
            "rgb(107,174,214)"
           ],
           [
            0.625,
            "rgb(66,146,198)"
           ],
           [
            0.75,
            "rgb(33,113,181)"
           ],
           [
            0.875,
            "rgb(8,81,156)"
           ],
           [
            1,
            "rgb(8,48,107)"
           ]
          ]
         },
         "text": [
          "<img src='https://a.espncdn.com/i/teamlogos/nba/500/phx.png' style='height:40px'>",
          "<img src='https://a.espncdn.com/i/teamlogos/nba/500/min.png' style='height:40px'>",
          "<img src='https://a.espncdn.com/i/teamlogos/nba/500/ny.png' style='height:40px'>",
          "<img src='https://a.espncdn.com/i/teamlogos/nba/500/den.png' style='height:40px'>",
          "<img src='https://a.espncdn.com/i/teamlogos/nba/500/bos.png' style='height:40px'>"
         ],
         "textposition": "outside",
         "type": "bar",
         "x": [
          "PHX",
          "MIN",
          "NYK",
          "DEN",
          "BOS"
         ],
         "y": [
          216.71068,
          198.5443,
          197.54825,
          193.80273,
          192.37424
         ]
        }
       ],
       "layout": {
        "template": {
         "data": {
          "bar": [
           {
            "error_x": {
             "color": "#2a3f5f"
            },
            "error_y": {
             "color": "#2a3f5f"
            },
            "marker": {
             "line": {
              "color": "#E5ECF6",
              "width": 0.5
             },
             "pattern": {
              "fillmode": "overlay",
              "size": 10,
              "solidity": 0.2
             }
            },
            "type": "bar"
           }
          ],
          "barpolar": [
           {
            "marker": {
             "line": {
              "color": "#E5ECF6",
              "width": 0.5
             },
             "pattern": {
              "fillmode": "overlay",
              "size": 10,
              "solidity": 0.2
             }
            },
            "type": "barpolar"
           }
          ],
          "carpet": [
           {
            "aaxis": {
             "endlinecolor": "#2a3f5f",
             "gridcolor": "white",
             "linecolor": "white",
             "minorgridcolor": "white",
             "startlinecolor": "#2a3f5f"
            },
            "baxis": {
             "endlinecolor": "#2a3f5f",
             "gridcolor": "white",
             "linecolor": "white",
             "minorgridcolor": "white",
             "startlinecolor": "#2a3f5f"
            },
            "type": "carpet"
           }
          ],
          "choropleth": [
           {
            "colorbar": {
             "outlinewidth": 0,
             "ticks": ""
            },
            "type": "choropleth"
           }
          ],
          "contour": [
           {
            "colorbar": {
             "outlinewidth": 0,
             "ticks": ""
            },
            "colorscale": [
             [
              0,
              "#0d0887"
             ],
             [
              0.1111111111111111,
              "#46039f"
             ],
             [
              0.2222222222222222,
              "#7201a8"
             ],
             [
              0.3333333333333333,
              "#9c179e"
             ],
             [
              0.4444444444444444,
              "#bd3786"
             ],
             [
              0.5555555555555556,
              "#d8576b"
             ],
             [
              0.6666666666666666,
              "#ed7953"
             ],
             [
              0.7777777777777778,
              "#fb9f3a"
             ],
             [
              0.8888888888888888,
              "#fdca26"
             ],
             [
              1,
              "#f0f921"
             ]
            ],
            "type": "contour"
           }
          ],
          "contourcarpet": [
           {
            "colorbar": {
             "outlinewidth": 0,
             "ticks": ""
            },
            "type": "contourcarpet"
           }
          ],
          "heatmap": [
           {
            "colorbar": {
             "outlinewidth": 0,
             "ticks": ""
            },
            "colorscale": [
             [
              0,
              "#0d0887"
             ],
             [
              0.1111111111111111,
              "#46039f"
             ],
             [
              0.2222222222222222,
              "#7201a8"
             ],
             [
              0.3333333333333333,
              "#9c179e"
             ],
             [
              0.4444444444444444,
              "#bd3786"
             ],
             [
              0.5555555555555556,
              "#d8576b"
             ],
             [
              0.6666666666666666,
              "#ed7953"
             ],
             [
              0.7777777777777778,
              "#fb9f3a"
             ],
             [
              0.8888888888888888,
              "#fdca26"
             ],
             [
              1,
              "#f0f921"
             ]
            ],
            "type": "heatmap"
           }
          ],
          "heatmapgl": [
           {
            "colorbar": {
             "outlinewidth": 0,
             "ticks": ""
            },
            "colorscale": [
             [
              0,
              "#0d0887"
             ],
             [
              0.1111111111111111,
              "#46039f"
             ],
             [
              0.2222222222222222,
              "#7201a8"
             ],
             [
              0.3333333333333333,
              "#9c179e"
             ],
             [
              0.4444444444444444,
              "#bd3786"
             ],
             [
              0.5555555555555556,
              "#d8576b"
             ],
             [
              0.6666666666666666,
              "#ed7953"
             ],
             [
              0.7777777777777778,
              "#fb9f3a"
             ],
             [
              0.8888888888888888,
              "#fdca26"
             ],
             [
              1,
              "#f0f921"
             ]
            ],
            "type": "heatmapgl"
           }
          ],
          "histogram": [
           {
            "marker": {
             "pattern": {
              "fillmode": "overlay",
              "size": 10,
              "solidity": 0.2
             }
            },
            "type": "histogram"
           }
          ],
          "histogram2d": [
           {
            "colorbar": {
             "outlinewidth": 0,
             "ticks": ""
            },
            "colorscale": [
             [
              0,
              "#0d0887"
             ],
             [
              0.1111111111111111,
              "#46039f"
             ],
             [
              0.2222222222222222,
              "#7201a8"
             ],
             [
              0.3333333333333333,
              "#9c179e"
             ],
             [
              0.4444444444444444,
              "#bd3786"
             ],
             [
              0.5555555555555556,
              "#d8576b"
             ],
             [
              0.6666666666666666,
              "#ed7953"
             ],
             [
              0.7777777777777778,
              "#fb9f3a"
             ],
             [
              0.8888888888888888,
              "#fdca26"
             ],
             [
              1,
              "#f0f921"
             ]
            ],
            "type": "histogram2d"
           }
          ],
          "histogram2dcontour": [
           {
            "colorbar": {
             "outlinewidth": 0,
             "ticks": ""
            },
            "colorscale": [
             [
              0,
              "#0d0887"
             ],
             [
              0.1111111111111111,
              "#46039f"
             ],
             [
              0.2222222222222222,
              "#7201a8"
             ],
             [
              0.3333333333333333,
              "#9c179e"
             ],
             [
              0.4444444444444444,
              "#bd3786"
             ],
             [
              0.5555555555555556,
              "#d8576b"
             ],
             [
              0.6666666666666666,
              "#ed7953"
             ],
             [
              0.7777777777777778,
              "#fb9f3a"
             ],
             [
              0.8888888888888888,
              "#fdca26"
             ],
             [
              1,
              "#f0f921"
             ]
            ],
            "type": "histogram2dcontour"
           }
          ],
          "mesh3d": [
           {
            "colorbar": {
             "outlinewidth": 0,
             "ticks": ""
            },
            "type": "mesh3d"
           }
          ],
          "parcoords": [
           {
            "line": {
             "colorbar": {
              "outlinewidth": 0,
              "ticks": ""
             }
            },
            "type": "parcoords"
           }
          ],
          "pie": [
           {
            "automargin": true,
            "type": "pie"
           }
          ],
          "scatter": [
           {
            "fillpattern": {
             "fillmode": "overlay",
             "size": 10,
             "solidity": 0.2
            },
            "type": "scatter"
           }
          ],
          "scatter3d": [
           {
            "line": {
             "colorbar": {
              "outlinewidth": 0,
              "ticks": ""
             }
            },
            "marker": {
             "colorbar": {
              "outlinewidth": 0,
              "ticks": ""
             }
            },
            "type": "scatter3d"
           }
          ],
          "scattercarpet": [
           {
            "marker": {
             "colorbar": {
              "outlinewidth": 0,
              "ticks": ""
             }
            },
            "type": "scattercarpet"
           }
          ],
          "scattergeo": [
           {
            "marker": {
             "colorbar": {
              "outlinewidth": 0,
              "ticks": ""
             }
            },
            "type": "scattergeo"
           }
          ],
          "scattergl": [
           {
            "marker": {
             "colorbar": {
              "outlinewidth": 0,
              "ticks": ""
             }
            },
            "type": "scattergl"
           }
          ],
          "scattermapbox": [
           {
            "marker": {
             "colorbar": {
              "outlinewidth": 0,
              "ticks": ""
             }
            },
            "type": "scattermapbox"
           }
          ],
          "scatterpolar": [
           {
            "marker": {
             "colorbar": {
              "outlinewidth": 0,
              "ticks": ""
             }
            },
            "type": "scatterpolar"
           }
          ],
          "scatterpolargl": [
           {
            "marker": {
             "colorbar": {
              "outlinewidth": 0,
              "ticks": ""
             }
            },
            "type": "scatterpolargl"
           }
          ],
          "scatterternary": [
           {
            "marker": {
             "colorbar": {
              "outlinewidth": 0,
              "ticks": ""
             }
            },
            "type": "scatterternary"
           }
          ],
          "surface": [
           {
            "colorbar": {
             "outlinewidth": 0,
             "ticks": ""
            },
            "colorscale": [
             [
              0,
              "#0d0887"
             ],
             [
              0.1111111111111111,
              "#46039f"
             ],
             [
              0.2222222222222222,
              "#7201a8"
             ],
             [
              0.3333333333333333,
              "#9c179e"
             ],
             [
              0.4444444444444444,
              "#bd3786"
             ],
             [
              0.5555555555555556,
              "#d8576b"
             ],
             [
              0.6666666666666666,
              "#ed7953"
             ],
             [
              0.7777777777777778,
              "#fb9f3a"
             ],
             [
              0.8888888888888888,
              "#fdca26"
             ],
             [
              1,
              "#f0f921"
             ]
            ],
            "type": "surface"
           }
          ],
          "table": [
           {
            "cells": {
             "fill": {
              "color": "#EBF0F8"
             },
             "line": {
              "color": "white"
             }
            },
            "header": {
             "fill": {
              "color": "#C8D4E3"
             },
             "line": {
              "color": "white"
             }
            },
            "type": "table"
           }
          ]
         },
         "layout": {
          "annotationdefaults": {
           "arrowcolor": "#2a3f5f",
           "arrowhead": 0,
           "arrowwidth": 1
          },
          "autotypenumbers": "strict",
          "coloraxis": {
           "colorbar": {
            "outlinewidth": 0,
            "ticks": ""
           }
          },
          "colorscale": {
           "diverging": [
            [
             0,
             "#8e0152"
            ],
            [
             0.1,
             "#c51b7d"
            ],
            [
             0.2,
             "#de77ae"
            ],
            [
             0.3,
             "#f1b6da"
            ],
            [
             0.4,
             "#fde0ef"
            ],
            [
             0.5,
             "#f7f7f7"
            ],
            [
             0.6,
             "#e6f5d0"
            ],
            [
             0.7,
             "#b8e186"
            ],
            [
             0.8,
             "#7fbc41"
            ],
            [
             0.9,
             "#4d9221"
            ],
            [
             1,
             "#276419"
            ]
           ],
           "sequential": [
            [
             0,
             "#0d0887"
            ],
            [
             0.1111111111111111,
             "#46039f"
            ],
            [
             0.2222222222222222,
             "#7201a8"
            ],
            [
             0.3333333333333333,
             "#9c179e"
            ],
            [
             0.4444444444444444,
             "#bd3786"
            ],
            [
             0.5555555555555556,
             "#d8576b"
            ],
            [
             0.6666666666666666,
             "#ed7953"
            ],
            [
             0.7777777777777778,
             "#fb9f3a"
            ],
            [
             0.8888888888888888,
             "#fdca26"
            ],
            [
             1,
             "#f0f921"
            ]
           ],
           "sequentialminus": [
            [
             0,
             "#0d0887"
            ],
            [
             0.1111111111111111,
             "#46039f"
            ],
            [
             0.2222222222222222,
             "#7201a8"
            ],
            [
             0.3333333333333333,
             "#9c179e"
            ],
            [
             0.4444444444444444,
             "#bd3786"
            ],
            [
             0.5555555555555556,
             "#d8576b"
            ],
            [
             0.6666666666666666,
             "#ed7953"
            ],
            [
             0.7777777777777778,
             "#fb9f3a"
            ],
            [
             0.8888888888888888,
             "#fdca26"
            ],
            [
             1,
             "#f0f921"
            ]
           ]
          },
          "colorway": [
           "#636efa",
           "#EF553B",
           "#00cc96",
           "#ab63fa",
           "#FFA15A",
           "#19d3f3",
           "#FF6692",
           "#B6E880",
           "#FF97FF",
           "#FECB52"
          ],
          "font": {
           "color": "#2a3f5f"
          },
          "geo": {
           "bgcolor": "white",
           "lakecolor": "white",
           "landcolor": "#E5ECF6",
           "showlakes": true,
           "showland": true,
           "subunitcolor": "white"
          },
          "hoverlabel": {
           "align": "left"
          },
          "hovermode": "closest",
          "mapbox": {
           "style": "light"
          },
          "paper_bgcolor": "white",
          "plot_bgcolor": "#E5ECF6",
          "polar": {
           "angularaxis": {
            "gridcolor": "white",
            "linecolor": "white",
            "ticks": ""
           },
           "bgcolor": "#E5ECF6",
           "radialaxis": {
            "gridcolor": "white",
            "linecolor": "white",
            "ticks": ""
           }
          },
          "scene": {
           "xaxis": {
            "backgroundcolor": "#E5ECF6",
            "gridcolor": "white",
            "gridwidth": 2,
            "linecolor": "white",
            "showbackground": true,
            "ticks": "",
            "zerolinecolor": "white"
           },
           "yaxis": {
            "backgroundcolor": "#E5ECF6",
            "gridcolor": "white",
            "gridwidth": 2,
            "linecolor": "white",
            "showbackground": true,
            "ticks": "",
            "zerolinecolor": "white"
           },
           "zaxis": {
            "backgroundcolor": "#E5ECF6",
            "gridcolor": "white",
            "gridwidth": 2,
            "linecolor": "white",
            "showbackground": true,
            "ticks": "",
            "zerolinecolor": "white"
           }
          },
          "shapedefaults": {
           "line": {
            "color": "#2a3f5f"
           }
          },
          "ternary": {
           "aaxis": {
            "gridcolor": "white",
            "linecolor": "white",
            "ticks": ""
           },
           "baxis": {
            "gridcolor": "white",
            "linecolor": "white",
            "ticks": ""
           },
           "bgcolor": "#E5ECF6",
           "caxis": {
            "gridcolor": "white",
            "linecolor": "white",
            "ticks": ""
           }
          },
          "title": {
           "x": 0.05
          },
          "xaxis": {
           "automargin": true,
           "gridcolor": "white",
           "linecolor": "white",
           "ticks": "",
           "title": {
            "standoff": 15
           },
           "zerolinecolor": "white",
           "zerolinewidth": 2
          },
          "yaxis": {
           "automargin": true,
           "gridcolor": "white",
           "linecolor": "white",
           "ticks": "",
           "title": {
            "standoff": 15
           },
           "zerolinecolor": "white",
           "zerolinewidth": 2
          }
         }
        },
        "title": {
         "text": "Top 5 Wealthiest Teams (Predicted Salary Total)"
        },
        "xaxis": {
         "categoryorder": "total descending",
         "title": {
          "text": "Team"
         }
        },
        "yaxis": {
         "title": {
          "text": "Total Salary (Millions)"
         }
        }
       }
      }
     },
     "metadata": {},
     "output_type": "display_data"
    },
    {
     "data": {
      "application/vnd.plotly.v1+json": {
       "config": {
        "plotlyServerURL": "https://plot.ly"
       },
       "data": [
        {
         "marker": {
          "color": [
           120.079445,
           125.806435,
           135.44963,
           139.32867,
           142.26704
          ],
          "colorscale": [
           [
            0,
            "rgb(255,245,240)"
           ],
           [
            0.125,
            "rgb(254,224,210)"
           ],
           [
            0.25,
            "rgb(252,187,161)"
           ],
           [
            0.375,
            "rgb(252,146,114)"
           ],
           [
            0.5,
            "rgb(251,106,74)"
           ],
           [
            0.625,
            "rgb(239,59,44)"
           ],
           [
            0.75,
            "rgb(203,24,29)"
           ],
           [
            0.875,
            "rgb(165,15,21)"
           ],
           [
            1,
            "rgb(103,0,13)"
           ]
          ]
         },
         "text": [
          "<img src='https://a.espncdn.com/i/teamlogos/nba/500/bkn.png' style='height:40px'>",
          "<img src='https://a.espncdn.com/i/teamlogos/nba/500/det.png' style='height:40px'>",
          "<img src='https://a.espncdn.com/i/teamlogos/nba/500/wsh.png' style='height:40px'>",
          "<img src='https://a.espncdn.com/i/teamlogos/nba/500/chi.png' style='height:40px'>",
          "<img src='https://a.espncdn.com/i/teamlogos/nba/500/gs.png' style='height:40px'>"
         ],
         "textposition": "outside",
         "type": "bar",
         "x": [
          "BKN",
          "DET",
          "WAS",
          "CHI",
          "GSW"
         ],
         "y": [
          120.079445,
          125.806435,
          135.44963,
          139.32867,
          142.26704
         ]
        }
       ],
       "layout": {
        "template": {
         "data": {
          "bar": [
           {
            "error_x": {
             "color": "#2a3f5f"
            },
            "error_y": {
             "color": "#2a3f5f"
            },
            "marker": {
             "line": {
              "color": "#E5ECF6",
              "width": 0.5
             },
             "pattern": {
              "fillmode": "overlay",
              "size": 10,
              "solidity": 0.2
             }
            },
            "type": "bar"
           }
          ],
          "barpolar": [
           {
            "marker": {
             "line": {
              "color": "#E5ECF6",
              "width": 0.5
             },
             "pattern": {
              "fillmode": "overlay",
              "size": 10,
              "solidity": 0.2
             }
            },
            "type": "barpolar"
           }
          ],
          "carpet": [
           {
            "aaxis": {
             "endlinecolor": "#2a3f5f",
             "gridcolor": "white",
             "linecolor": "white",
             "minorgridcolor": "white",
             "startlinecolor": "#2a3f5f"
            },
            "baxis": {
             "endlinecolor": "#2a3f5f",
             "gridcolor": "white",
             "linecolor": "white",
             "minorgridcolor": "white",
             "startlinecolor": "#2a3f5f"
            },
            "type": "carpet"
           }
          ],
          "choropleth": [
           {
            "colorbar": {
             "outlinewidth": 0,
             "ticks": ""
            },
            "type": "choropleth"
           }
          ],
          "contour": [
           {
            "colorbar": {
             "outlinewidth": 0,
             "ticks": ""
            },
            "colorscale": [
             [
              0,
              "#0d0887"
             ],
             [
              0.1111111111111111,
              "#46039f"
             ],
             [
              0.2222222222222222,
              "#7201a8"
             ],
             [
              0.3333333333333333,
              "#9c179e"
             ],
             [
              0.4444444444444444,
              "#bd3786"
             ],
             [
              0.5555555555555556,
              "#d8576b"
             ],
             [
              0.6666666666666666,
              "#ed7953"
             ],
             [
              0.7777777777777778,
              "#fb9f3a"
             ],
             [
              0.8888888888888888,
              "#fdca26"
             ],
             [
              1,
              "#f0f921"
             ]
            ],
            "type": "contour"
           }
          ],
          "contourcarpet": [
           {
            "colorbar": {
             "outlinewidth": 0,
             "ticks": ""
            },
            "type": "contourcarpet"
           }
          ],
          "heatmap": [
           {
            "colorbar": {
             "outlinewidth": 0,
             "ticks": ""
            },
            "colorscale": [
             [
              0,
              "#0d0887"
             ],
             [
              0.1111111111111111,
              "#46039f"
             ],
             [
              0.2222222222222222,
              "#7201a8"
             ],
             [
              0.3333333333333333,
              "#9c179e"
             ],
             [
              0.4444444444444444,
              "#bd3786"
             ],
             [
              0.5555555555555556,
              "#d8576b"
             ],
             [
              0.6666666666666666,
              "#ed7953"
             ],
             [
              0.7777777777777778,
              "#fb9f3a"
             ],
             [
              0.8888888888888888,
              "#fdca26"
             ],
             [
              1,
              "#f0f921"
             ]
            ],
            "type": "heatmap"
           }
          ],
          "heatmapgl": [
           {
            "colorbar": {
             "outlinewidth": 0,
             "ticks": ""
            },
            "colorscale": [
             [
              0,
              "#0d0887"
             ],
             [
              0.1111111111111111,
              "#46039f"
             ],
             [
              0.2222222222222222,
              "#7201a8"
             ],
             [
              0.3333333333333333,
              "#9c179e"
             ],
             [
              0.4444444444444444,
              "#bd3786"
             ],
             [
              0.5555555555555556,
              "#d8576b"
             ],
             [
              0.6666666666666666,
              "#ed7953"
             ],
             [
              0.7777777777777778,
              "#fb9f3a"
             ],
             [
              0.8888888888888888,
              "#fdca26"
             ],
             [
              1,
              "#f0f921"
             ]
            ],
            "type": "heatmapgl"
           }
          ],
          "histogram": [
           {
            "marker": {
             "pattern": {
              "fillmode": "overlay",
              "size": 10,
              "solidity": 0.2
             }
            },
            "type": "histogram"
           }
          ],
          "histogram2d": [
           {
            "colorbar": {
             "outlinewidth": 0,
             "ticks": ""
            },
            "colorscale": [
             [
              0,
              "#0d0887"
             ],
             [
              0.1111111111111111,
              "#46039f"
             ],
             [
              0.2222222222222222,
              "#7201a8"
             ],
             [
              0.3333333333333333,
              "#9c179e"
             ],
             [
              0.4444444444444444,
              "#bd3786"
             ],
             [
              0.5555555555555556,
              "#d8576b"
             ],
             [
              0.6666666666666666,
              "#ed7953"
             ],
             [
              0.7777777777777778,
              "#fb9f3a"
             ],
             [
              0.8888888888888888,
              "#fdca26"
             ],
             [
              1,
              "#f0f921"
             ]
            ],
            "type": "histogram2d"
           }
          ],
          "histogram2dcontour": [
           {
            "colorbar": {
             "outlinewidth": 0,
             "ticks": ""
            },
            "colorscale": [
             [
              0,
              "#0d0887"
             ],
             [
              0.1111111111111111,
              "#46039f"
             ],
             [
              0.2222222222222222,
              "#7201a8"
             ],
             [
              0.3333333333333333,
              "#9c179e"
             ],
             [
              0.4444444444444444,
              "#bd3786"
             ],
             [
              0.5555555555555556,
              "#d8576b"
             ],
             [
              0.6666666666666666,
              "#ed7953"
             ],
             [
              0.7777777777777778,
              "#fb9f3a"
             ],
             [
              0.8888888888888888,
              "#fdca26"
             ],
             [
              1,
              "#f0f921"
             ]
            ],
            "type": "histogram2dcontour"
           }
          ],
          "mesh3d": [
           {
            "colorbar": {
             "outlinewidth": 0,
             "ticks": ""
            },
            "type": "mesh3d"
           }
          ],
          "parcoords": [
           {
            "line": {
             "colorbar": {
              "outlinewidth": 0,
              "ticks": ""
             }
            },
            "type": "parcoords"
           }
          ],
          "pie": [
           {
            "automargin": true,
            "type": "pie"
           }
          ],
          "scatter": [
           {
            "fillpattern": {
             "fillmode": "overlay",
             "size": 10,
             "solidity": 0.2
            },
            "type": "scatter"
           }
          ],
          "scatter3d": [
           {
            "line": {
             "colorbar": {
              "outlinewidth": 0,
              "ticks": ""
             }
            },
            "marker": {
             "colorbar": {
              "outlinewidth": 0,
              "ticks": ""
             }
            },
            "type": "scatter3d"
           }
          ],
          "scattercarpet": [
           {
            "marker": {
             "colorbar": {
              "outlinewidth": 0,
              "ticks": ""
             }
            },
            "type": "scattercarpet"
           }
          ],
          "scattergeo": [
           {
            "marker": {
             "colorbar": {
              "outlinewidth": 0,
              "ticks": ""
             }
            },
            "type": "scattergeo"
           }
          ],
          "scattergl": [
           {
            "marker": {
             "colorbar": {
              "outlinewidth": 0,
              "ticks": ""
             }
            },
            "type": "scattergl"
           }
          ],
          "scattermapbox": [
           {
            "marker": {
             "colorbar": {
              "outlinewidth": 0,
              "ticks": ""
             }
            },
            "type": "scattermapbox"
           }
          ],
          "scatterpolar": [
           {
            "marker": {
             "colorbar": {
              "outlinewidth": 0,
              "ticks": ""
             }
            },
            "type": "scatterpolar"
           }
          ],
          "scatterpolargl": [
           {
            "marker": {
             "colorbar": {
              "outlinewidth": 0,
              "ticks": ""
             }
            },
            "type": "scatterpolargl"
           }
          ],
          "scatterternary": [
           {
            "marker": {
             "colorbar": {
              "outlinewidth": 0,
              "ticks": ""
             }
            },
            "type": "scatterternary"
           }
          ],
          "surface": [
           {
            "colorbar": {
             "outlinewidth": 0,
             "ticks": ""
            },
            "colorscale": [
             [
              0,
              "#0d0887"
             ],
             [
              0.1111111111111111,
              "#46039f"
             ],
             [
              0.2222222222222222,
              "#7201a8"
             ],
             [
              0.3333333333333333,
              "#9c179e"
             ],
             [
              0.4444444444444444,
              "#bd3786"
             ],
             [
              0.5555555555555556,
              "#d8576b"
             ],
             [
              0.6666666666666666,
              "#ed7953"
             ],
             [
              0.7777777777777778,
              "#fb9f3a"
             ],
             [
              0.8888888888888888,
              "#fdca26"
             ],
             [
              1,
              "#f0f921"
             ]
            ],
            "type": "surface"
           }
          ],
          "table": [
           {
            "cells": {
             "fill": {
              "color": "#EBF0F8"
             },
             "line": {
              "color": "white"
             }
            },
            "header": {
             "fill": {
              "color": "#C8D4E3"
             },
             "line": {
              "color": "white"
             }
            },
            "type": "table"
           }
          ]
         },
         "layout": {
          "annotationdefaults": {
           "arrowcolor": "#2a3f5f",
           "arrowhead": 0,
           "arrowwidth": 1
          },
          "autotypenumbers": "strict",
          "coloraxis": {
           "colorbar": {
            "outlinewidth": 0,
            "ticks": ""
           }
          },
          "colorscale": {
           "diverging": [
            [
             0,
             "#8e0152"
            ],
            [
             0.1,
             "#c51b7d"
            ],
            [
             0.2,
             "#de77ae"
            ],
            [
             0.3,
             "#f1b6da"
            ],
            [
             0.4,
             "#fde0ef"
            ],
            [
             0.5,
             "#f7f7f7"
            ],
            [
             0.6,
             "#e6f5d0"
            ],
            [
             0.7,
             "#b8e186"
            ],
            [
             0.8,
             "#7fbc41"
            ],
            [
             0.9,
             "#4d9221"
            ],
            [
             1,
             "#276419"
            ]
           ],
           "sequential": [
            [
             0,
             "#0d0887"
            ],
            [
             0.1111111111111111,
             "#46039f"
            ],
            [
             0.2222222222222222,
             "#7201a8"
            ],
            [
             0.3333333333333333,
             "#9c179e"
            ],
            [
             0.4444444444444444,
             "#bd3786"
            ],
            [
             0.5555555555555556,
             "#d8576b"
            ],
            [
             0.6666666666666666,
             "#ed7953"
            ],
            [
             0.7777777777777778,
             "#fb9f3a"
            ],
            [
             0.8888888888888888,
             "#fdca26"
            ],
            [
             1,
             "#f0f921"
            ]
           ],
           "sequentialminus": [
            [
             0,
             "#0d0887"
            ],
            [
             0.1111111111111111,
             "#46039f"
            ],
            [
             0.2222222222222222,
             "#7201a8"
            ],
            [
             0.3333333333333333,
             "#9c179e"
            ],
            [
             0.4444444444444444,
             "#bd3786"
            ],
            [
             0.5555555555555556,
             "#d8576b"
            ],
            [
             0.6666666666666666,
             "#ed7953"
            ],
            [
             0.7777777777777778,
             "#fb9f3a"
            ],
            [
             0.8888888888888888,
             "#fdca26"
            ],
            [
             1,
             "#f0f921"
            ]
           ]
          },
          "colorway": [
           "#636efa",
           "#EF553B",
           "#00cc96",
           "#ab63fa",
           "#FFA15A",
           "#19d3f3",
           "#FF6692",
           "#B6E880",
           "#FF97FF",
           "#FECB52"
          ],
          "font": {
           "color": "#2a3f5f"
          },
          "geo": {
           "bgcolor": "white",
           "lakecolor": "white",
           "landcolor": "#E5ECF6",
           "showlakes": true,
           "showland": true,
           "subunitcolor": "white"
          },
          "hoverlabel": {
           "align": "left"
          },
          "hovermode": "closest",
          "mapbox": {
           "style": "light"
          },
          "paper_bgcolor": "white",
          "plot_bgcolor": "#E5ECF6",
          "polar": {
           "angularaxis": {
            "gridcolor": "white",
            "linecolor": "white",
            "ticks": ""
           },
           "bgcolor": "#E5ECF6",
           "radialaxis": {
            "gridcolor": "white",
            "linecolor": "white",
            "ticks": ""
           }
          },
          "scene": {
           "xaxis": {
            "backgroundcolor": "#E5ECF6",
            "gridcolor": "white",
            "gridwidth": 2,
            "linecolor": "white",
            "showbackground": true,
            "ticks": "",
            "zerolinecolor": "white"
           },
           "yaxis": {
            "backgroundcolor": "#E5ECF6",
            "gridcolor": "white",
            "gridwidth": 2,
            "linecolor": "white",
            "showbackground": true,
            "ticks": "",
            "zerolinecolor": "white"
           },
           "zaxis": {
            "backgroundcolor": "#E5ECF6",
            "gridcolor": "white",
            "gridwidth": 2,
            "linecolor": "white",
            "showbackground": true,
            "ticks": "",
            "zerolinecolor": "white"
           }
          },
          "shapedefaults": {
           "line": {
            "color": "#2a3f5f"
           }
          },
          "ternary": {
           "aaxis": {
            "gridcolor": "white",
            "linecolor": "white",
            "ticks": ""
           },
           "baxis": {
            "gridcolor": "white",
            "linecolor": "white",
            "ticks": ""
           },
           "bgcolor": "#E5ECF6",
           "caxis": {
            "gridcolor": "white",
            "linecolor": "white",
            "ticks": ""
           }
          },
          "title": {
           "x": 0.05
          },
          "xaxis": {
           "automargin": true,
           "gridcolor": "white",
           "linecolor": "white",
           "ticks": "",
           "title": {
            "standoff": 15
           },
           "zerolinecolor": "white",
           "zerolinewidth": 2
          },
          "yaxis": {
           "automargin": true,
           "gridcolor": "white",
           "linecolor": "white",
           "ticks": "",
           "title": {
            "standoff": 15
           },
           "zerolinecolor": "white",
           "zerolinewidth": 2
          }
         }
        },
        "title": {
         "text": "Top 5 Poorest Teams (Predicted Salary Total)"
        },
        "xaxis": {
         "categoryorder": "total ascending",
         "title": {
          "text": "Team"
         }
        },
        "yaxis": {
         "title": {
          "text": "Total Salary (Millions)"
         }
        }
       }
      }
     },
     "metadata": {},
     "output_type": "display_data"
    }
   ],
   "source": [
    "# import plotly.graph_objects as go\n",
    "import plotly.express as px\n",
    "import plotly.graph_objects as go\n",
    "\n",
    "# Full NBA team logos dictionary (ESPN 500px logos)\n",
    "team_logos = {\n",
    "    \"ATL\": \"https://a.espncdn.com/i/teamlogos/nba/500/atl.png\",\n",
    "    \"BOS\": \"https://a.espncdn.com/i/teamlogos/nba/500/bos.png\",\n",
    "    \"BKN\": \"https://a.espncdn.com/i/teamlogos/nba/500/bkn.png\",\n",
    "    \"CHA\": \"https://a.espncdn.com/i/teamlogos/nba/500/cha.png\",\n",
    "    \"CHI\": \"https://a.espncdn.com/i/teamlogos/nba/500/chi.png\",\n",
    "    \"CLE\": \"https://a.espncdn.com/i/teamlogos/nba/500/cle.png\",\n",
    "    \"DAL\": \"https://a.espncdn.com/i/teamlogos/nba/500/dal.png\",\n",
    "    \"DEN\": \"https://a.espncdn.com/i/teamlogos/nba/500/den.png\",\n",
    "    \"DET\": \"https://a.espncdn.com/i/teamlogos/nba/500/det.png\",\n",
    "    \"GSW\": \"https://a.espncdn.com/i/teamlogos/nba/500/gs.png\",\n",
    "    \"HOU\": \"https://a.espncdn.com/i/teamlogos/nba/500/hou.png\",\n",
    "    \"IND\": \"https://a.espncdn.com/i/teamlogos/nba/500/ind.png\",\n",
    "    \"LAC\": \"https://a.espncdn.com/i/teamlogos/nba/500/lac.png\",\n",
    "    \"LAL\": \"https://a.espncdn.com/i/teamlogos/nba/500/lal.png\",\n",
    "    \"MEM\": \"https://a.espncdn.com/i/teamlogos/nba/500/mem.png\",\n",
    "    \"MIA\": \"https://a.espncdn.com/i/teamlogos/nba/500/mia.png\",\n",
    "    \"MIL\": \"https://a.espncdn.com/i/teamlogos/nba/500/mil.png\",\n",
    "    \"MIN\": \"https://a.espncdn.com/i/teamlogos/nba/500/min.png\",\n",
    "    \"NOP\": \"https://a.espncdn.com/i/teamlogos/nba/500/no.png\",\n",
    "    \"NYK\": \"https://a.espncdn.com/i/teamlogos/nba/500/ny.png\",\n",
    "    \"OKC\": \"https://a.espncdn.com/i/teamlogos/nba/500/okc.png\",\n",
    "    \"ORL\": \"https://a.espncdn.com/i/teamlogos/nba/500/orl.png\",\n",
    "    \"PHI\": \"https://a.espncdn.com/i/teamlogos/nba/500/phi.png\",\n",
    "    \"PHX\": \"https://a.espncdn.com/i/teamlogos/nba/500/phx.png\",\n",
    "    \"POR\": \"https://a.espncdn.com/i/teamlogos/nba/500/por.png\",\n",
    "    \"SAC\": \"https://a.espncdn.com/i/teamlogos/nba/500/sac.png\",\n",
    "    \"SAS\": \"https://a.espncdn.com/i/teamlogos/nba/500/sa.png\",\n",
    "    \"TOR\": \"https://a.espncdn.com/i/teamlogos/nba/500/tor.png\",\n",
    "    \"UTA\": \"https://a.espncdn.com/i/teamlogos/nba/500/utah.png\",\n",
    "    \"WAS\": \"https://a.espncdn.com/i/teamlogos/nba/500/wsh.png\",\n",
    "}\n",
    "\n",
    "# ===== Wealthiest Teams Chart =====\n",
    "teams_wealthiest = poorest_teams.sort_values(by=\"PREDICTED_SALARY\", ascending=False)\n",
    "\n",
    "fig_wealthiest = go.Figure()\n",
    "\n",
    "fig_wealthiest.add_trace(\n",
    "    go.Bar(\n",
    "        x=teams_wealthiest['TEAM_ABBREVIATION'],\n",
    "        y=teams_wealthiest['PREDICTED_SALARY'],\n",
    "        marker=dict(color=teams_wealthiest['PREDICTED_SALARY'], colorscale=\"Blues\"),\n",
    "        text=[\n",
    "            f\"<img src='{team_logos[t]}' style='height:40px'>\" if t in team_logos else \"\"\n",
    "            for t in teams_wealthiest['TEAM_ABBREVIATION']\n",
    "        ],\n",
    "        textposition=\"outside\"\n",
    "    )\n",
    ")\n",
    "\n",
    "fig_wealthiest.update_layout(\n",
    "    title=\"Top 5 Wealthiest Teams (Predicted Salary Total)\",\n",
    "    xaxis=dict(title=\"Team\", categoryorder='total descending'),\n",
    "    yaxis=dict(title=\"Total Salary (Millions)\")\n",
    ")\n",
    "\n",
    "fig_wealthiest.show()\n",
    "fig_wealthiest.write_html('../database/wealthiestTeams.html')\n",
    "\n",
    "# ===== Poorest Teams Chart =====\n",
    "teams_poorest = wealthiest_teams.sort_values(by=\"PREDICTED_SALARY\", ascending=True)\n",
    "\n",
    "fig_poorest = go.Figure()\n",
    "\n",
    "fig_poorest.add_trace(\n",
    "    go.Bar(\n",
    "        x=teams_poorest['TEAM_ABBREVIATION'],\n",
    "        y=teams_poorest['PREDICTED_SALARY'],\n",
    "        marker=dict(color=teams_poorest['PREDICTED_SALARY'], colorscale=\"Reds\"),\n",
    "        text=[\n",
    "            f\"<img src='{team_logos[t]}' style='height:40px'>\" if t in team_logos else \"\"\n",
    "            for t in teams_poorest['TEAM_ABBREVIATION']\n",
    "        ],\n",
    "        textposition=\"outside\"\n",
    "    )\n",
    ")\n",
    "\n",
    "fig_poorest.update_layout(\n",
    "    title=\"Top 5 Poorest Teams (Predicted Salary Total)\",\n",
    "    xaxis=dict(title=\"Team\", categoryorder='total ascending'),\n",
    "    yaxis=dict(title=\"Total Salary (Millions)\")\n",
    ")\n",
    "\n",
    "fig_poorest.show()\n",
    "fig_poorest.write_html('../database/poorestTeams.html')\n"
   ]
  },
  {
   "cell_type": "code",
   "execution_count": 6,
   "id": "43ad57c0",
   "metadata": {},
   "outputs": [
    {
     "data": {
      "application/vnd.plotly.v1+json": {
       "config": {
        "plotlyServerURL": "https://plot.ly"
       },
       "data": [
        {
         "alignmentgroup": "True",
         "hovertemplate": "Team=%{x}<br>Total Salary (Millions)=%{marker.color}<extra></extra>",
         "legendgroup": "",
         "marker": {
          "color": [
           216.71068,
           198.5443,
           197.54825,
           193.80273,
           192.37424
          ],
          "coloraxis": "coloraxis",
          "pattern": {
           "shape": ""
          }
         },
         "name": "",
         "offsetgroup": "",
         "orientation": "v",
         "showlegend": false,
         "textposition": "auto",
         "type": "bar",
         "x": [
          "PHX",
          "MIN",
          "NYK",
          "DEN",
          "BOS"
         ],
         "xaxis": "x",
         "y": [
          216.71068,
          198.5443,
          197.54825,
          193.80273,
          192.37424
         ],
         "yaxis": "y"
        }
       ],
       "layout": {
        "barmode": "relative",
        "coloraxis": {
         "colorbar": {
          "title": {
           "text": "Total Salary (Millions)"
          }
         },
         "colorscale": [
          [
           0,
           "rgb(247,251,255)"
          ],
          [
           0.125,
           "rgb(222,235,247)"
          ],
          [
           0.25,
           "rgb(198,219,239)"
          ],
          [
           0.375,
           "rgb(158,202,225)"
          ],
          [
           0.5,
           "rgb(107,174,214)"
          ],
          [
           0.625,
           "rgb(66,146,198)"
          ],
          [
           0.75,
           "rgb(33,113,181)"
          ],
          [
           0.875,
           "rgb(8,81,156)"
          ],
          [
           1,
           "rgb(8,48,107)"
          ]
         ]
        },
        "height": 600,
        "images": [
         {
          "layer": "above",
          "sizex": 0.3,
          "sizey": 108.35533905029297,
          "source": "https://a.espncdn.com/i/teamlogos/nba/500/phx.png",
          "x": "PHX",
          "xanchor": "center",
          "xref": "x",
          "y": 108.35533905029297,
          "yanchor": "middle",
          "yref": "y"
         },
         {
          "layer": "above",
          "sizex": 0.3,
          "sizey": 99.27214813232422,
          "source": "https://a.espncdn.com/i/teamlogos/nba/500/min.png",
          "x": "MIN",
          "xanchor": "center",
          "xref": "x",
          "y": 99.27214813232422,
          "yanchor": "middle",
          "yref": "y"
         },
         {
          "layer": "above",
          "sizex": 0.3,
          "sizey": 98.77412414550781,
          "source": "https://a.espncdn.com/i/teamlogos/nba/500/ny.png",
          "x": "NYK",
          "xanchor": "center",
          "xref": "x",
          "y": 98.77412414550781,
          "yanchor": "middle",
          "yref": "y"
         },
         {
          "layer": "above",
          "sizex": 0.3,
          "sizey": 96.9013671875,
          "source": "https://a.espncdn.com/i/teamlogos/nba/500/den.png",
          "x": "DEN",
          "xanchor": "center",
          "xref": "x",
          "y": 96.9013671875,
          "yanchor": "middle",
          "yref": "y"
         },
         {
          "layer": "above",
          "sizex": 0.3,
          "sizey": 96.18711853027344,
          "source": "https://a.espncdn.com/i/teamlogos/nba/500/bos.png",
          "x": "BOS",
          "xanchor": "center",
          "xref": "x",
          "y": 96.18711853027344,
          "yanchor": "middle",
          "yref": "y"
         }
        ],
        "legend": {
         "tracegroupgap": 0
        },
        "template": {
         "data": {
          "bar": [
           {
            "error_x": {
             "color": "#2a3f5f"
            },
            "error_y": {
             "color": "#2a3f5f"
            },
            "marker": {
             "line": {
              "color": "#E5ECF6",
              "width": 0.5
             },
             "pattern": {
              "fillmode": "overlay",
              "size": 10,
              "solidity": 0.2
             }
            },
            "type": "bar"
           }
          ],
          "barpolar": [
           {
            "marker": {
             "line": {
              "color": "#E5ECF6",
              "width": 0.5
             },
             "pattern": {
              "fillmode": "overlay",
              "size": 10,
              "solidity": 0.2
             }
            },
            "type": "barpolar"
           }
          ],
          "carpet": [
           {
            "aaxis": {
             "endlinecolor": "#2a3f5f",
             "gridcolor": "white",
             "linecolor": "white",
             "minorgridcolor": "white",
             "startlinecolor": "#2a3f5f"
            },
            "baxis": {
             "endlinecolor": "#2a3f5f",
             "gridcolor": "white",
             "linecolor": "white",
             "minorgridcolor": "white",
             "startlinecolor": "#2a3f5f"
            },
            "type": "carpet"
           }
          ],
          "choropleth": [
           {
            "colorbar": {
             "outlinewidth": 0,
             "ticks": ""
            },
            "type": "choropleth"
           }
          ],
          "contour": [
           {
            "colorbar": {
             "outlinewidth": 0,
             "ticks": ""
            },
            "colorscale": [
             [
              0,
              "#0d0887"
             ],
             [
              0.1111111111111111,
              "#46039f"
             ],
             [
              0.2222222222222222,
              "#7201a8"
             ],
             [
              0.3333333333333333,
              "#9c179e"
             ],
             [
              0.4444444444444444,
              "#bd3786"
             ],
             [
              0.5555555555555556,
              "#d8576b"
             ],
             [
              0.6666666666666666,
              "#ed7953"
             ],
             [
              0.7777777777777778,
              "#fb9f3a"
             ],
             [
              0.8888888888888888,
              "#fdca26"
             ],
             [
              1,
              "#f0f921"
             ]
            ],
            "type": "contour"
           }
          ],
          "contourcarpet": [
           {
            "colorbar": {
             "outlinewidth": 0,
             "ticks": ""
            },
            "type": "contourcarpet"
           }
          ],
          "heatmap": [
           {
            "colorbar": {
             "outlinewidth": 0,
             "ticks": ""
            },
            "colorscale": [
             [
              0,
              "#0d0887"
             ],
             [
              0.1111111111111111,
              "#46039f"
             ],
             [
              0.2222222222222222,
              "#7201a8"
             ],
             [
              0.3333333333333333,
              "#9c179e"
             ],
             [
              0.4444444444444444,
              "#bd3786"
             ],
             [
              0.5555555555555556,
              "#d8576b"
             ],
             [
              0.6666666666666666,
              "#ed7953"
             ],
             [
              0.7777777777777778,
              "#fb9f3a"
             ],
             [
              0.8888888888888888,
              "#fdca26"
             ],
             [
              1,
              "#f0f921"
             ]
            ],
            "type": "heatmap"
           }
          ],
          "heatmapgl": [
           {
            "colorbar": {
             "outlinewidth": 0,
             "ticks": ""
            },
            "colorscale": [
             [
              0,
              "#0d0887"
             ],
             [
              0.1111111111111111,
              "#46039f"
             ],
             [
              0.2222222222222222,
              "#7201a8"
             ],
             [
              0.3333333333333333,
              "#9c179e"
             ],
             [
              0.4444444444444444,
              "#bd3786"
             ],
             [
              0.5555555555555556,
              "#d8576b"
             ],
             [
              0.6666666666666666,
              "#ed7953"
             ],
             [
              0.7777777777777778,
              "#fb9f3a"
             ],
             [
              0.8888888888888888,
              "#fdca26"
             ],
             [
              1,
              "#f0f921"
             ]
            ],
            "type": "heatmapgl"
           }
          ],
          "histogram": [
           {
            "marker": {
             "pattern": {
              "fillmode": "overlay",
              "size": 10,
              "solidity": 0.2
             }
            },
            "type": "histogram"
           }
          ],
          "histogram2d": [
           {
            "colorbar": {
             "outlinewidth": 0,
             "ticks": ""
            },
            "colorscale": [
             [
              0,
              "#0d0887"
             ],
             [
              0.1111111111111111,
              "#46039f"
             ],
             [
              0.2222222222222222,
              "#7201a8"
             ],
             [
              0.3333333333333333,
              "#9c179e"
             ],
             [
              0.4444444444444444,
              "#bd3786"
             ],
             [
              0.5555555555555556,
              "#d8576b"
             ],
             [
              0.6666666666666666,
              "#ed7953"
             ],
             [
              0.7777777777777778,
              "#fb9f3a"
             ],
             [
              0.8888888888888888,
              "#fdca26"
             ],
             [
              1,
              "#f0f921"
             ]
            ],
            "type": "histogram2d"
           }
          ],
          "histogram2dcontour": [
           {
            "colorbar": {
             "outlinewidth": 0,
             "ticks": ""
            },
            "colorscale": [
             [
              0,
              "#0d0887"
             ],
             [
              0.1111111111111111,
              "#46039f"
             ],
             [
              0.2222222222222222,
              "#7201a8"
             ],
             [
              0.3333333333333333,
              "#9c179e"
             ],
             [
              0.4444444444444444,
              "#bd3786"
             ],
             [
              0.5555555555555556,
              "#d8576b"
             ],
             [
              0.6666666666666666,
              "#ed7953"
             ],
             [
              0.7777777777777778,
              "#fb9f3a"
             ],
             [
              0.8888888888888888,
              "#fdca26"
             ],
             [
              1,
              "#f0f921"
             ]
            ],
            "type": "histogram2dcontour"
           }
          ],
          "mesh3d": [
           {
            "colorbar": {
             "outlinewidth": 0,
             "ticks": ""
            },
            "type": "mesh3d"
           }
          ],
          "parcoords": [
           {
            "line": {
             "colorbar": {
              "outlinewidth": 0,
              "ticks": ""
             }
            },
            "type": "parcoords"
           }
          ],
          "pie": [
           {
            "automargin": true,
            "type": "pie"
           }
          ],
          "scatter": [
           {
            "fillpattern": {
             "fillmode": "overlay",
             "size": 10,
             "solidity": 0.2
            },
            "type": "scatter"
           }
          ],
          "scatter3d": [
           {
            "line": {
             "colorbar": {
              "outlinewidth": 0,
              "ticks": ""
             }
            },
            "marker": {
             "colorbar": {
              "outlinewidth": 0,
              "ticks": ""
             }
            },
            "type": "scatter3d"
           }
          ],
          "scattercarpet": [
           {
            "marker": {
             "colorbar": {
              "outlinewidth": 0,
              "ticks": ""
             }
            },
            "type": "scattercarpet"
           }
          ],
          "scattergeo": [
           {
            "marker": {
             "colorbar": {
              "outlinewidth": 0,
              "ticks": ""
             }
            },
            "type": "scattergeo"
           }
          ],
          "scattergl": [
           {
            "marker": {
             "colorbar": {
              "outlinewidth": 0,
              "ticks": ""
             }
            },
            "type": "scattergl"
           }
          ],
          "scattermapbox": [
           {
            "marker": {
             "colorbar": {
              "outlinewidth": 0,
              "ticks": ""
             }
            },
            "type": "scattermapbox"
           }
          ],
          "scatterpolar": [
           {
            "marker": {
             "colorbar": {
              "outlinewidth": 0,
              "ticks": ""
             }
            },
            "type": "scatterpolar"
           }
          ],
          "scatterpolargl": [
           {
            "marker": {
             "colorbar": {
              "outlinewidth": 0,
              "ticks": ""
             }
            },
            "type": "scatterpolargl"
           }
          ],
          "scatterternary": [
           {
            "marker": {
             "colorbar": {
              "outlinewidth": 0,
              "ticks": ""
             }
            },
            "type": "scatterternary"
           }
          ],
          "surface": [
           {
            "colorbar": {
             "outlinewidth": 0,
             "ticks": ""
            },
            "colorscale": [
             [
              0,
              "#0d0887"
             ],
             [
              0.1111111111111111,
              "#46039f"
             ],
             [
              0.2222222222222222,
              "#7201a8"
             ],
             [
              0.3333333333333333,
              "#9c179e"
             ],
             [
              0.4444444444444444,
              "#bd3786"
             ],
             [
              0.5555555555555556,
              "#d8576b"
             ],
             [
              0.6666666666666666,
              "#ed7953"
             ],
             [
              0.7777777777777778,
              "#fb9f3a"
             ],
             [
              0.8888888888888888,
              "#fdca26"
             ],
             [
              1,
              "#f0f921"
             ]
            ],
            "type": "surface"
           }
          ],
          "table": [
           {
            "cells": {
             "fill": {
              "color": "#EBF0F8"
             },
             "line": {
              "color": "white"
             }
            },
            "header": {
             "fill": {
              "color": "#C8D4E3"
             },
             "line": {
              "color": "white"
             }
            },
            "type": "table"
           }
          ]
         },
         "layout": {
          "annotationdefaults": {
           "arrowcolor": "#2a3f5f",
           "arrowhead": 0,
           "arrowwidth": 1
          },
          "autotypenumbers": "strict",
          "coloraxis": {
           "colorbar": {
            "outlinewidth": 0,
            "ticks": ""
           }
          },
          "colorscale": {
           "diverging": [
            [
             0,
             "#8e0152"
            ],
            [
             0.1,
             "#c51b7d"
            ],
            [
             0.2,
             "#de77ae"
            ],
            [
             0.3,
             "#f1b6da"
            ],
            [
             0.4,
             "#fde0ef"
            ],
            [
             0.5,
             "#f7f7f7"
            ],
            [
             0.6,
             "#e6f5d0"
            ],
            [
             0.7,
             "#b8e186"
            ],
            [
             0.8,
             "#7fbc41"
            ],
            [
             0.9,
             "#4d9221"
            ],
            [
             1,
             "#276419"
            ]
           ],
           "sequential": [
            [
             0,
             "#0d0887"
            ],
            [
             0.1111111111111111,
             "#46039f"
            ],
            [
             0.2222222222222222,
             "#7201a8"
            ],
            [
             0.3333333333333333,
             "#9c179e"
            ],
            [
             0.4444444444444444,
             "#bd3786"
            ],
            [
             0.5555555555555556,
             "#d8576b"
            ],
            [
             0.6666666666666666,
             "#ed7953"
            ],
            [
             0.7777777777777778,
             "#fb9f3a"
            ],
            [
             0.8888888888888888,
             "#fdca26"
            ],
            [
             1,
             "#f0f921"
            ]
           ],
           "sequentialminus": [
            [
             0,
             "#0d0887"
            ],
            [
             0.1111111111111111,
             "#46039f"
            ],
            [
             0.2222222222222222,
             "#7201a8"
            ],
            [
             0.3333333333333333,
             "#9c179e"
            ],
            [
             0.4444444444444444,
             "#bd3786"
            ],
            [
             0.5555555555555556,
             "#d8576b"
            ],
            [
             0.6666666666666666,
             "#ed7953"
            ],
            [
             0.7777777777777778,
             "#fb9f3a"
            ],
            [
             0.8888888888888888,
             "#fdca26"
            ],
            [
             1,
             "#f0f921"
            ]
           ]
          },
          "colorway": [
           "#636efa",
           "#EF553B",
           "#00cc96",
           "#ab63fa",
           "#FFA15A",
           "#19d3f3",
           "#FF6692",
           "#B6E880",
           "#FF97FF",
           "#FECB52"
          ],
          "font": {
           "color": "#2a3f5f"
          },
          "geo": {
           "bgcolor": "white",
           "lakecolor": "white",
           "landcolor": "#E5ECF6",
           "showlakes": true,
           "showland": true,
           "subunitcolor": "white"
          },
          "hoverlabel": {
           "align": "left"
          },
          "hovermode": "closest",
          "mapbox": {
           "style": "light"
          },
          "paper_bgcolor": "white",
          "plot_bgcolor": "#E5ECF6",
          "polar": {
           "angularaxis": {
            "gridcolor": "white",
            "linecolor": "white",
            "ticks": ""
           },
           "bgcolor": "#E5ECF6",
           "radialaxis": {
            "gridcolor": "white",
            "linecolor": "white",
            "ticks": ""
           }
          },
          "scene": {
           "xaxis": {
            "backgroundcolor": "#E5ECF6",
            "gridcolor": "white",
            "gridwidth": 2,
            "linecolor": "white",
            "showbackground": true,
            "ticks": "",
            "zerolinecolor": "white"
           },
           "yaxis": {
            "backgroundcolor": "#E5ECF6",
            "gridcolor": "white",
            "gridwidth": 2,
            "linecolor": "white",
            "showbackground": true,
            "ticks": "",
            "zerolinecolor": "white"
           },
           "zaxis": {
            "backgroundcolor": "#E5ECF6",
            "gridcolor": "white",
            "gridwidth": 2,
            "linecolor": "white",
            "showbackground": true,
            "ticks": "",
            "zerolinecolor": "white"
           }
          },
          "shapedefaults": {
           "line": {
            "color": "#2a3f5f"
           }
          },
          "ternary": {
           "aaxis": {
            "gridcolor": "white",
            "linecolor": "white",
            "ticks": ""
           },
           "baxis": {
            "gridcolor": "white",
            "linecolor": "white",
            "ticks": ""
           },
           "bgcolor": "#E5ECF6",
           "caxis": {
            "gridcolor": "white",
            "linecolor": "white",
            "ticks": ""
           }
          },
          "title": {
           "x": 0.05
          },
          "xaxis": {
           "automargin": true,
           "gridcolor": "white",
           "linecolor": "white",
           "ticks": "",
           "title": {
            "standoff": 15
           },
           "zerolinecolor": "white",
           "zerolinewidth": 2
          },
          "yaxis": {
           "automargin": true,
           "gridcolor": "white",
           "linecolor": "white",
           "ticks": "",
           "title": {
            "standoff": 15
           },
           "zerolinecolor": "white",
           "zerolinewidth": 2
          }
         }
        },
        "title": {
         "text": "Top 5 Wealthiest Teams (Predicted Salary Total)"
        },
        "width": 800,
        "xaxis": {
         "anchor": "y",
         "categoryorder": "total descending",
         "domain": [
          0,
          1
         ],
         "title": {
          "text": "Team"
         }
        },
        "yaxis": {
         "anchor": "x",
         "domain": [
          0,
          1
         ],
         "title": {
          "text": "Total Salary (Millions)"
         }
        }
       }
      }
     },
     "metadata": {},
     "output_type": "display_data"
    },
    {
     "data": {
      "application/vnd.plotly.v1+json": {
       "config": {
        "plotlyServerURL": "https://plot.ly"
       },
       "data": [
        {
         "alignmentgroup": "True",
         "hovertemplate": "Team=%{x}<br>Total Salary (Millions)=%{marker.color}<extra></extra>",
         "legendgroup": "",
         "marker": {
          "color": [
           120.079445,
           125.806435,
           135.44963,
           139.32867,
           142.26704
          ],
          "coloraxis": "coloraxis",
          "pattern": {
           "shape": ""
          }
         },
         "name": "",
         "offsetgroup": "",
         "orientation": "v",
         "showlegend": false,
         "textposition": "auto",
         "type": "bar",
         "x": [
          "BKN",
          "DET",
          "WAS",
          "CHI",
          "GSW"
         ],
         "xaxis": "x",
         "y": [
          120.079445,
          125.806435,
          135.44963,
          139.32867,
          142.26704
         ],
         "yaxis": "y"
        }
       ],
       "layout": {
        "barmode": "relative",
        "coloraxis": {
         "colorbar": {
          "title": {
           "text": "Total Salary (Millions)"
          }
         },
         "colorscale": [
          [
           0,
           "rgb(255,245,240)"
          ],
          [
           0.125,
           "rgb(254,224,210)"
          ],
          [
           0.25,
           "rgb(252,187,161)"
          ],
          [
           0.375,
           "rgb(252,146,114)"
          ],
          [
           0.5,
           "rgb(251,106,74)"
          ],
          [
           0.625,
           "rgb(239,59,44)"
          ],
          [
           0.75,
           "rgb(203,24,29)"
          ],
          [
           0.875,
           "rgb(165,15,21)"
          ],
          [
           1,
           "rgb(103,0,13)"
          ]
         ]
        },
        "height": 600,
        "images": [
         {
          "layer": "above",
          "sizex": 0.3,
          "sizey": 60.03972244262695,
          "source": "https://a.espncdn.com/i/teamlogos/nba/500/bkn.png",
          "x": "BKN",
          "xanchor": "center",
          "xref": "x",
          "y": 60.03972244262695,
          "yanchor": "middle",
          "yref": "y"
         },
         {
          "layer": "above",
          "sizex": 0.3,
          "sizey": 62.90321731567383,
          "source": "https://a.espncdn.com/i/teamlogos/nba/500/det.png",
          "x": "DET",
          "xanchor": "center",
          "xref": "x",
          "y": 62.90321731567383,
          "yanchor": "middle",
          "yref": "y"
         },
         {
          "layer": "above",
          "sizex": 0.3,
          "sizey": 67.72481536865234,
          "source": "https://a.espncdn.com/i/teamlogos/nba/500/wsh.png",
          "x": "WAS",
          "xanchor": "center",
          "xref": "x",
          "y": 67.72481536865234,
          "yanchor": "middle",
          "yref": "y"
         },
         {
          "layer": "above",
          "sizex": 0.3,
          "sizey": 69.66433715820312,
          "source": "https://a.espncdn.com/i/teamlogos/nba/500/chi.png",
          "x": "CHI",
          "xanchor": "center",
          "xref": "x",
          "y": 69.66433715820312,
          "yanchor": "middle",
          "yref": "y"
         },
         {
          "layer": "above",
          "sizex": 0.3,
          "sizey": 71.1335220336914,
          "source": "https://a.espncdn.com/i/teamlogos/nba/500/gs.png",
          "x": "GSW",
          "xanchor": "center",
          "xref": "x",
          "y": 71.1335220336914,
          "yanchor": "middle",
          "yref": "y"
         }
        ],
        "legend": {
         "tracegroupgap": 0
        },
        "template": {
         "data": {
          "bar": [
           {
            "error_x": {
             "color": "#2a3f5f"
            },
            "error_y": {
             "color": "#2a3f5f"
            },
            "marker": {
             "line": {
              "color": "#E5ECF6",
              "width": 0.5
             },
             "pattern": {
              "fillmode": "overlay",
              "size": 10,
              "solidity": 0.2
             }
            },
            "type": "bar"
           }
          ],
          "barpolar": [
           {
            "marker": {
             "line": {
              "color": "#E5ECF6",
              "width": 0.5
             },
             "pattern": {
              "fillmode": "overlay",
              "size": 10,
              "solidity": 0.2
             }
            },
            "type": "barpolar"
           }
          ],
          "carpet": [
           {
            "aaxis": {
             "endlinecolor": "#2a3f5f",
             "gridcolor": "white",
             "linecolor": "white",
             "minorgridcolor": "white",
             "startlinecolor": "#2a3f5f"
            },
            "baxis": {
             "endlinecolor": "#2a3f5f",
             "gridcolor": "white",
             "linecolor": "white",
             "minorgridcolor": "white",
             "startlinecolor": "#2a3f5f"
            },
            "type": "carpet"
           }
          ],
          "choropleth": [
           {
            "colorbar": {
             "outlinewidth": 0,
             "ticks": ""
            },
            "type": "choropleth"
           }
          ],
          "contour": [
           {
            "colorbar": {
             "outlinewidth": 0,
             "ticks": ""
            },
            "colorscale": [
             [
              0,
              "#0d0887"
             ],
             [
              0.1111111111111111,
              "#46039f"
             ],
             [
              0.2222222222222222,
              "#7201a8"
             ],
             [
              0.3333333333333333,
              "#9c179e"
             ],
             [
              0.4444444444444444,
              "#bd3786"
             ],
             [
              0.5555555555555556,
              "#d8576b"
             ],
             [
              0.6666666666666666,
              "#ed7953"
             ],
             [
              0.7777777777777778,
              "#fb9f3a"
             ],
             [
              0.8888888888888888,
              "#fdca26"
             ],
             [
              1,
              "#f0f921"
             ]
            ],
            "type": "contour"
           }
          ],
          "contourcarpet": [
           {
            "colorbar": {
             "outlinewidth": 0,
             "ticks": ""
            },
            "type": "contourcarpet"
           }
          ],
          "heatmap": [
           {
            "colorbar": {
             "outlinewidth": 0,
             "ticks": ""
            },
            "colorscale": [
             [
              0,
              "#0d0887"
             ],
             [
              0.1111111111111111,
              "#46039f"
             ],
             [
              0.2222222222222222,
              "#7201a8"
             ],
             [
              0.3333333333333333,
              "#9c179e"
             ],
             [
              0.4444444444444444,
              "#bd3786"
             ],
             [
              0.5555555555555556,
              "#d8576b"
             ],
             [
              0.6666666666666666,
              "#ed7953"
             ],
             [
              0.7777777777777778,
              "#fb9f3a"
             ],
             [
              0.8888888888888888,
              "#fdca26"
             ],
             [
              1,
              "#f0f921"
             ]
            ],
            "type": "heatmap"
           }
          ],
          "heatmapgl": [
           {
            "colorbar": {
             "outlinewidth": 0,
             "ticks": ""
            },
            "colorscale": [
             [
              0,
              "#0d0887"
             ],
             [
              0.1111111111111111,
              "#46039f"
             ],
             [
              0.2222222222222222,
              "#7201a8"
             ],
             [
              0.3333333333333333,
              "#9c179e"
             ],
             [
              0.4444444444444444,
              "#bd3786"
             ],
             [
              0.5555555555555556,
              "#d8576b"
             ],
             [
              0.6666666666666666,
              "#ed7953"
             ],
             [
              0.7777777777777778,
              "#fb9f3a"
             ],
             [
              0.8888888888888888,
              "#fdca26"
             ],
             [
              1,
              "#f0f921"
             ]
            ],
            "type": "heatmapgl"
           }
          ],
          "histogram": [
           {
            "marker": {
             "pattern": {
              "fillmode": "overlay",
              "size": 10,
              "solidity": 0.2
             }
            },
            "type": "histogram"
           }
          ],
          "histogram2d": [
           {
            "colorbar": {
             "outlinewidth": 0,
             "ticks": ""
            },
            "colorscale": [
             [
              0,
              "#0d0887"
             ],
             [
              0.1111111111111111,
              "#46039f"
             ],
             [
              0.2222222222222222,
              "#7201a8"
             ],
             [
              0.3333333333333333,
              "#9c179e"
             ],
             [
              0.4444444444444444,
              "#bd3786"
             ],
             [
              0.5555555555555556,
              "#d8576b"
             ],
             [
              0.6666666666666666,
              "#ed7953"
             ],
             [
              0.7777777777777778,
              "#fb9f3a"
             ],
             [
              0.8888888888888888,
              "#fdca26"
             ],
             [
              1,
              "#f0f921"
             ]
            ],
            "type": "histogram2d"
           }
          ],
          "histogram2dcontour": [
           {
            "colorbar": {
             "outlinewidth": 0,
             "ticks": ""
            },
            "colorscale": [
             [
              0,
              "#0d0887"
             ],
             [
              0.1111111111111111,
              "#46039f"
             ],
             [
              0.2222222222222222,
              "#7201a8"
             ],
             [
              0.3333333333333333,
              "#9c179e"
             ],
             [
              0.4444444444444444,
              "#bd3786"
             ],
             [
              0.5555555555555556,
              "#d8576b"
             ],
             [
              0.6666666666666666,
              "#ed7953"
             ],
             [
              0.7777777777777778,
              "#fb9f3a"
             ],
             [
              0.8888888888888888,
              "#fdca26"
             ],
             [
              1,
              "#f0f921"
             ]
            ],
            "type": "histogram2dcontour"
           }
          ],
          "mesh3d": [
           {
            "colorbar": {
             "outlinewidth": 0,
             "ticks": ""
            },
            "type": "mesh3d"
           }
          ],
          "parcoords": [
           {
            "line": {
             "colorbar": {
              "outlinewidth": 0,
              "ticks": ""
             }
            },
            "type": "parcoords"
           }
          ],
          "pie": [
           {
            "automargin": true,
            "type": "pie"
           }
          ],
          "scatter": [
           {
            "fillpattern": {
             "fillmode": "overlay",
             "size": 10,
             "solidity": 0.2
            },
            "type": "scatter"
           }
          ],
          "scatter3d": [
           {
            "line": {
             "colorbar": {
              "outlinewidth": 0,
              "ticks": ""
             }
            },
            "marker": {
             "colorbar": {
              "outlinewidth": 0,
              "ticks": ""
             }
            },
            "type": "scatter3d"
           }
          ],
          "scattercarpet": [
           {
            "marker": {
             "colorbar": {
              "outlinewidth": 0,
              "ticks": ""
             }
            },
            "type": "scattercarpet"
           }
          ],
          "scattergeo": [
           {
            "marker": {
             "colorbar": {
              "outlinewidth": 0,
              "ticks": ""
             }
            },
            "type": "scattergeo"
           }
          ],
          "scattergl": [
           {
            "marker": {
             "colorbar": {
              "outlinewidth": 0,
              "ticks": ""
             }
            },
            "type": "scattergl"
           }
          ],
          "scattermapbox": [
           {
            "marker": {
             "colorbar": {
              "outlinewidth": 0,
              "ticks": ""
             }
            },
            "type": "scattermapbox"
           }
          ],
          "scatterpolar": [
           {
            "marker": {
             "colorbar": {
              "outlinewidth": 0,
              "ticks": ""
             }
            },
            "type": "scatterpolar"
           }
          ],
          "scatterpolargl": [
           {
            "marker": {
             "colorbar": {
              "outlinewidth": 0,
              "ticks": ""
             }
            },
            "type": "scatterpolargl"
           }
          ],
          "scatterternary": [
           {
            "marker": {
             "colorbar": {
              "outlinewidth": 0,
              "ticks": ""
             }
            },
            "type": "scatterternary"
           }
          ],
          "surface": [
           {
            "colorbar": {
             "outlinewidth": 0,
             "ticks": ""
            },
            "colorscale": [
             [
              0,
              "#0d0887"
             ],
             [
              0.1111111111111111,
              "#46039f"
             ],
             [
              0.2222222222222222,
              "#7201a8"
             ],
             [
              0.3333333333333333,
              "#9c179e"
             ],
             [
              0.4444444444444444,
              "#bd3786"
             ],
             [
              0.5555555555555556,
              "#d8576b"
             ],
             [
              0.6666666666666666,
              "#ed7953"
             ],
             [
              0.7777777777777778,
              "#fb9f3a"
             ],
             [
              0.8888888888888888,
              "#fdca26"
             ],
             [
              1,
              "#f0f921"
             ]
            ],
            "type": "surface"
           }
          ],
          "table": [
           {
            "cells": {
             "fill": {
              "color": "#EBF0F8"
             },
             "line": {
              "color": "white"
             }
            },
            "header": {
             "fill": {
              "color": "#C8D4E3"
             },
             "line": {
              "color": "white"
             }
            },
            "type": "table"
           }
          ]
         },
         "layout": {
          "annotationdefaults": {
           "arrowcolor": "#2a3f5f",
           "arrowhead": 0,
           "arrowwidth": 1
          },
          "autotypenumbers": "strict",
          "coloraxis": {
           "colorbar": {
            "outlinewidth": 0,
            "ticks": ""
           }
          },
          "colorscale": {
           "diverging": [
            [
             0,
             "#8e0152"
            ],
            [
             0.1,
             "#c51b7d"
            ],
            [
             0.2,
             "#de77ae"
            ],
            [
             0.3,
             "#f1b6da"
            ],
            [
             0.4,
             "#fde0ef"
            ],
            [
             0.5,
             "#f7f7f7"
            ],
            [
             0.6,
             "#e6f5d0"
            ],
            [
             0.7,
             "#b8e186"
            ],
            [
             0.8,
             "#7fbc41"
            ],
            [
             0.9,
             "#4d9221"
            ],
            [
             1,
             "#276419"
            ]
           ],
           "sequential": [
            [
             0,
             "#0d0887"
            ],
            [
             0.1111111111111111,
             "#46039f"
            ],
            [
             0.2222222222222222,
             "#7201a8"
            ],
            [
             0.3333333333333333,
             "#9c179e"
            ],
            [
             0.4444444444444444,
             "#bd3786"
            ],
            [
             0.5555555555555556,
             "#d8576b"
            ],
            [
             0.6666666666666666,
             "#ed7953"
            ],
            [
             0.7777777777777778,
             "#fb9f3a"
            ],
            [
             0.8888888888888888,
             "#fdca26"
            ],
            [
             1,
             "#f0f921"
            ]
           ],
           "sequentialminus": [
            [
             0,
             "#0d0887"
            ],
            [
             0.1111111111111111,
             "#46039f"
            ],
            [
             0.2222222222222222,
             "#7201a8"
            ],
            [
             0.3333333333333333,
             "#9c179e"
            ],
            [
             0.4444444444444444,
             "#bd3786"
            ],
            [
             0.5555555555555556,
             "#d8576b"
            ],
            [
             0.6666666666666666,
             "#ed7953"
            ],
            [
             0.7777777777777778,
             "#fb9f3a"
            ],
            [
             0.8888888888888888,
             "#fdca26"
            ],
            [
             1,
             "#f0f921"
            ]
           ]
          },
          "colorway": [
           "#636efa",
           "#EF553B",
           "#00cc96",
           "#ab63fa",
           "#FFA15A",
           "#19d3f3",
           "#FF6692",
           "#B6E880",
           "#FF97FF",
           "#FECB52"
          ],
          "font": {
           "color": "#2a3f5f"
          },
          "geo": {
           "bgcolor": "white",
           "lakecolor": "white",
           "landcolor": "#E5ECF6",
           "showlakes": true,
           "showland": true,
           "subunitcolor": "white"
          },
          "hoverlabel": {
           "align": "left"
          },
          "hovermode": "closest",
          "mapbox": {
           "style": "light"
          },
          "paper_bgcolor": "white",
          "plot_bgcolor": "#E5ECF6",
          "polar": {
           "angularaxis": {
            "gridcolor": "white",
            "linecolor": "white",
            "ticks": ""
           },
           "bgcolor": "#E5ECF6",
           "radialaxis": {
            "gridcolor": "white",
            "linecolor": "white",
            "ticks": ""
           }
          },
          "scene": {
           "xaxis": {
            "backgroundcolor": "#E5ECF6",
            "gridcolor": "white",
            "gridwidth": 2,
            "linecolor": "white",
            "showbackground": true,
            "ticks": "",
            "zerolinecolor": "white"
           },
           "yaxis": {
            "backgroundcolor": "#E5ECF6",
            "gridcolor": "white",
            "gridwidth": 2,
            "linecolor": "white",
            "showbackground": true,
            "ticks": "",
            "zerolinecolor": "white"
           },
           "zaxis": {
            "backgroundcolor": "#E5ECF6",
            "gridcolor": "white",
            "gridwidth": 2,
            "linecolor": "white",
            "showbackground": true,
            "ticks": "",
            "zerolinecolor": "white"
           }
          },
          "shapedefaults": {
           "line": {
            "color": "#2a3f5f"
           }
          },
          "ternary": {
           "aaxis": {
            "gridcolor": "white",
            "linecolor": "white",
            "ticks": ""
           },
           "baxis": {
            "gridcolor": "white",
            "linecolor": "white",
            "ticks": ""
           },
           "bgcolor": "#E5ECF6",
           "caxis": {
            "gridcolor": "white",
            "linecolor": "white",
            "ticks": ""
           }
          },
          "title": {
           "x": 0.05
          },
          "xaxis": {
           "automargin": true,
           "gridcolor": "white",
           "linecolor": "white",
           "ticks": "",
           "title": {
            "standoff": 15
           },
           "zerolinecolor": "white",
           "zerolinewidth": 2
          },
          "yaxis": {
           "automargin": true,
           "gridcolor": "white",
           "linecolor": "white",
           "ticks": "",
           "title": {
            "standoff": 15
           },
           "zerolinecolor": "white",
           "zerolinewidth": 2
          }
         }
        },
        "title": {
         "text": "Top 5 Poorest Teams (Predicted Salary Total)"
        },
        "width": 800,
        "xaxis": {
         "anchor": "y",
         "categoryorder": "total ascending",
         "domain": [
          0,
          1
         ],
         "title": {
          "text": "Team"
         }
        },
        "yaxis": {
         "anchor": "x",
         "domain": [
          0,
          1
         ],
         "title": {
          "text": "Total Salary (Millions)"
         }
        }
       }
      }
     },
     "metadata": {},
     "output_type": "display_data"
    }
   ],
   "source": [
    "import plotly.express as px\n",
    "# Full NBA team logos dictionary (ESPN 500px logos)\n",
    "team_logos = {\n",
    "    \"ATL\": \"https://a.espncdn.com/i/teamlogos/nba/500/atl.png\",\n",
    "    \"BOS\": \"https://a.espncdn.com/i/teamlogos/nba/500/bos.png\",\n",
    "    \"BKN\": \"https://a.espncdn.com/i/teamlogos/nba/500/bkn.png\",\n",
    "    \"CHA\": \"https://a.espncdn.com/i/teamlogos/nba/500/cha.png\",\n",
    "    \"CHI\": \"https://a.espncdn.com/i/teamlogos/nba/500/chi.png\",\n",
    "    \"CLE\": \"https://a.espncdn.com/i/teamlogos/nba/500/cle.png\",\n",
    "    \"DAL\": \"https://a.espncdn.com/i/teamlogos/nba/500/dal.png\",\n",
    "    \"DEN\": \"https://a.espncdn.com/i/teamlogos/nba/500/den.png\",\n",
    "    \"DET\": \"https://a.espncdn.com/i/teamlogos/nba/500/det.png\",\n",
    "    \"GSW\": \"https://a.espncdn.com/i/teamlogos/nba/500/gs.png\",\n",
    "    \"HOU\": \"https://a.espncdn.com/i/teamlogos/nba/500/hou.png\",\n",
    "    \"IND\": \"https://a.espncdn.com/i/teamlogos/nba/500/ind.png\",\n",
    "    \"LAC\": \"https://a.espncdn.com/i/teamlogos/nba/500/lac.png\",\n",
    "    \"LAL\": \"https://a.espncdn.com/i/teamlogos/nba/500/lal.png\",\n",
    "    \"MEM\": \"https://a.espncdn.com/i/teamlogos/nba/500/mem.png\",\n",
    "    \"MIA\": \"https://a.espncdn.com/i/teamlogos/nba/500/mia.png\",\n",
    "    \"MIL\": \"https://a.espncdn.com/i/teamlogos/nba/500/mil.png\",\n",
    "    \"MIN\": \"https://a.espncdn.com/i/teamlogos/nba/500/min.png\",\n",
    "    \"NOP\": \"https://a.espncdn.com/i/teamlogos/nba/500/no.png\",\n",
    "    \"NYK\": \"https://a.espncdn.com/i/teamlogos/nba/500/ny.png\",\n",
    "    \"OKC\": \"https://a.espncdn.com/i/teamlogos/nba/500/okc.png\",\n",
    "    \"ORL\": \"https://a.espncdn.com/i/teamlogos/nba/500/orl.png\",\n",
    "    \"PHI\": \"https://a.espncdn.com/i/teamlogos/nba/500/phi.png\",\n",
    "    \"PHX\": \"https://a.espncdn.com/i/teamlogos/nba/500/phx.png\",\n",
    "    \"POR\": \"https://a.espncdn.com/i/teamlogos/nba/500/por.png\",\n",
    "    \"SAC\": \"https://a.espncdn.com/i/teamlogos/nba/500/sac.png\",\n",
    "    \"SAS\": \"https://a.espncdn.com/i/teamlogos/nba/500/sa.png\",\n",
    "    \"TOR\": \"https://a.espncdn.com/i/teamlogos/nba/500/tor.png\",\n",
    "    \"UTA\": \"https://a.espncdn.com/i/teamlogos/nba/500/utah.png\",\n",
    "    \"WAS\": \"https://a.espncdn.com/i/teamlogos/nba/500/wsh.png\",\n",
    "}\n",
    "\n",
    "teams_wealthiest = poorest_teams.sort_values(by=\"PREDICTED_SALARY\", ascending=False)\n",
    "\n",
    "\n",
    "fig = px.bar(\n",
    "    teams_wealthiest,\n",
    "    x='TEAM_ABBREVIATION',\n",
    "    y='PREDICTED_SALARY',\n",
    "    color='PREDICTED_SALARY',\n",
    "    color_continuous_scale='Blues',\n",
    "    labels={'PREDICTED_SALARY': 'Total Salary (Millions)', 'TEAM_ABBREVIATION': 'Team'},\n",
    "    title=\"Top 5 Wealthiest Teams (Predicted Salary Total)\"\n",
    ")\n",
    "\n",
    "fig.update_layout(\n",
    "    xaxis=dict(categoryorder='total descending'),\n",
    "    width=800,   # square width\n",
    "    height=600   # square height\n",
    ")\n",
    "\n",
    "for i, row in teams_wealthiest.iterrows():\n",
    "    team = row['TEAM_ABBREVIATION']\n",
    "    salary = row['PREDICTED_SALARY']\n",
    "    if team in team_logos:\n",
    "        fig.add_layout_image(\n",
    "            dict(\n",
    "                source=team_logos[team],\n",
    "                x=team,\n",
    "                y=salary / 2,        # center vertically inside the bar\n",
    "                xref=\"x\",\n",
    "                yref=\"y\",\n",
    "                xanchor=\"center\",     # center horizontally\n",
    "                yanchor=\"middle\",     # align middle of image with y\n",
    "                sizex=0.3,            # fraction of category width\n",
    "                sizey=salary * 0.5,   # scale relative to bar height\n",
    "                layer=\"above\"\n",
    "            )\n",
    "        )\n",
    "\n",
    "fig.show()\n",
    "fig.write_html('../database/wealthiestTeams2.html')\n",
    "import plotly.express as px\n",
    "\n",
    "teams_poorest = wealthiest_teams.sort_values(by=\"PREDICTED_SALARY\", ascending=True)\n",
    "\n",
    "fig = px.bar(\n",
    "    teams_poorest,\n",
    "    x='TEAM_ABBREVIATION',\n",
    "    y='PREDICTED_SALARY',\n",
    "    color='PREDICTED_SALARY',\n",
    "    color_continuous_scale='Reds',\n",
    "    labels={'PREDICTED_SALARY': 'Total Salary (Millions)', 'TEAM_ABBREVIATION': 'Team'},\n",
    "    title=\"Top 5 Poorest Teams (Predicted Salary Total)\"\n",
    ")\n",
    "\n",
    "# fig.update_layout(xaxis=dict(categoryorder='total ascending'))\n",
    "fig.update_layout(\n",
    "    xaxis=dict(categoryorder='total ascending'),\n",
    "    width=800,   # square width\n",
    "    height=600   # square height\n",
    ")\n",
    "for i, row in teams_poorest.iterrows():\n",
    "    team = row['TEAM_ABBREVIATION']\n",
    "    salary = row['PREDICTED_SALARY']\n",
    "    if team in team_logos:\n",
    "        fig.add_layout_image(\n",
    "            dict(\n",
    "                source=team_logos[team],\n",
    "                x=team,\n",
    "                y=salary / 2,        # center vertically inside the bar\n",
    "                xref=\"x\",\n",
    "                yref=\"y\",\n",
    "                xanchor=\"center\",     # center horizontally\n",
    "                yanchor=\"middle\",     # align middle of image with y\n",
    "                sizex=0.3,            # fraction of category width\n",
    "                sizey=salary * 0.5,   # scale relative to bar height\n",
    "                layer=\"above\"\n",
    "            )\n",
    "        )\n",
    "\n",
    "fig.show()\n",
    "\n",
    "fig.write_html('../database/poorestTeams2.html')\n",
    "\n"
   ]
  },
  {
   "cell_type": "code",
   "execution_count": 7,
   "id": "1199fbba",
   "metadata": {},
   "outputs": [
    {
     "data": {
      "application/vnd.plotly.v1+json": {
       "config": {
        "plotlyServerURL": "https://plot.ly"
       },
       "data": [
        {
         "alignmentgroup": "True",
         "hovertemplate": "Team=%{x}<br>Total Salary (Millions)=%{marker.color}<extra></extra>",
         "legendgroup": "",
         "marker": {
          "color": [
           216.71068,
           198.5443,
           197.54825,
           193.80273,
           192.37424
          ],
          "coloraxis": "coloraxis",
          "pattern": {
           "shape": ""
          }
         },
         "name": "",
         "offsetgroup": "",
         "orientation": "v",
         "showlegend": false,
         "textposition": "auto",
         "type": "bar",
         "x": [
          "PHX",
          "MIN",
          "NYK",
          "DEN",
          "BOS"
         ],
         "xaxis": "x",
         "y": [
          216.71068,
          198.5443,
          197.54825,
          193.80273,
          192.37424
         ],
         "yaxis": "y"
        }
       ],
       "layout": {
        "barmode": "relative",
        "coloraxis": {
         "colorbar": {
          "title": {
           "text": "Total Salary (Millions)"
          }
         },
         "colorscale": [
          [
           0,
           "rgb(247,251,255)"
          ],
          [
           0.125,
           "rgb(222,235,247)"
          ],
          [
           0.25,
           "rgb(198,219,239)"
          ],
          [
           0.375,
           "rgb(158,202,225)"
          ],
          [
           0.5,
           "rgb(107,174,214)"
          ],
          [
           0.625,
           "rgb(66,146,198)"
          ],
          [
           0.75,
           "rgb(33,113,181)"
          ],
          [
           0.875,
           "rgb(8,81,156)"
          ],
          [
           1,
           "rgb(8,48,107)"
          ]
         ]
        },
        "height": 600,
        "legend": {
         "tracegroupgap": 0
        },
        "template": {
         "data": {
          "bar": [
           {
            "error_x": {
             "color": "#2a3f5f"
            },
            "error_y": {
             "color": "#2a3f5f"
            },
            "marker": {
             "line": {
              "color": "#E5ECF6",
              "width": 0.5
             },
             "pattern": {
              "fillmode": "overlay",
              "size": 10,
              "solidity": 0.2
             }
            },
            "type": "bar"
           }
          ],
          "barpolar": [
           {
            "marker": {
             "line": {
              "color": "#E5ECF6",
              "width": 0.5
             },
             "pattern": {
              "fillmode": "overlay",
              "size": 10,
              "solidity": 0.2
             }
            },
            "type": "barpolar"
           }
          ],
          "carpet": [
           {
            "aaxis": {
             "endlinecolor": "#2a3f5f",
             "gridcolor": "white",
             "linecolor": "white",
             "minorgridcolor": "white",
             "startlinecolor": "#2a3f5f"
            },
            "baxis": {
             "endlinecolor": "#2a3f5f",
             "gridcolor": "white",
             "linecolor": "white",
             "minorgridcolor": "white",
             "startlinecolor": "#2a3f5f"
            },
            "type": "carpet"
           }
          ],
          "choropleth": [
           {
            "colorbar": {
             "outlinewidth": 0,
             "ticks": ""
            },
            "type": "choropleth"
           }
          ],
          "contour": [
           {
            "colorbar": {
             "outlinewidth": 0,
             "ticks": ""
            },
            "colorscale": [
             [
              0,
              "#0d0887"
             ],
             [
              0.1111111111111111,
              "#46039f"
             ],
             [
              0.2222222222222222,
              "#7201a8"
             ],
             [
              0.3333333333333333,
              "#9c179e"
             ],
             [
              0.4444444444444444,
              "#bd3786"
             ],
             [
              0.5555555555555556,
              "#d8576b"
             ],
             [
              0.6666666666666666,
              "#ed7953"
             ],
             [
              0.7777777777777778,
              "#fb9f3a"
             ],
             [
              0.8888888888888888,
              "#fdca26"
             ],
             [
              1,
              "#f0f921"
             ]
            ],
            "type": "contour"
           }
          ],
          "contourcarpet": [
           {
            "colorbar": {
             "outlinewidth": 0,
             "ticks": ""
            },
            "type": "contourcarpet"
           }
          ],
          "heatmap": [
           {
            "colorbar": {
             "outlinewidth": 0,
             "ticks": ""
            },
            "colorscale": [
             [
              0,
              "#0d0887"
             ],
             [
              0.1111111111111111,
              "#46039f"
             ],
             [
              0.2222222222222222,
              "#7201a8"
             ],
             [
              0.3333333333333333,
              "#9c179e"
             ],
             [
              0.4444444444444444,
              "#bd3786"
             ],
             [
              0.5555555555555556,
              "#d8576b"
             ],
             [
              0.6666666666666666,
              "#ed7953"
             ],
             [
              0.7777777777777778,
              "#fb9f3a"
             ],
             [
              0.8888888888888888,
              "#fdca26"
             ],
             [
              1,
              "#f0f921"
             ]
            ],
            "type": "heatmap"
           }
          ],
          "heatmapgl": [
           {
            "colorbar": {
             "outlinewidth": 0,
             "ticks": ""
            },
            "colorscale": [
             [
              0,
              "#0d0887"
             ],
             [
              0.1111111111111111,
              "#46039f"
             ],
             [
              0.2222222222222222,
              "#7201a8"
             ],
             [
              0.3333333333333333,
              "#9c179e"
             ],
             [
              0.4444444444444444,
              "#bd3786"
             ],
             [
              0.5555555555555556,
              "#d8576b"
             ],
             [
              0.6666666666666666,
              "#ed7953"
             ],
             [
              0.7777777777777778,
              "#fb9f3a"
             ],
             [
              0.8888888888888888,
              "#fdca26"
             ],
             [
              1,
              "#f0f921"
             ]
            ],
            "type": "heatmapgl"
           }
          ],
          "histogram": [
           {
            "marker": {
             "pattern": {
              "fillmode": "overlay",
              "size": 10,
              "solidity": 0.2
             }
            },
            "type": "histogram"
           }
          ],
          "histogram2d": [
           {
            "colorbar": {
             "outlinewidth": 0,
             "ticks": ""
            },
            "colorscale": [
             [
              0,
              "#0d0887"
             ],
             [
              0.1111111111111111,
              "#46039f"
             ],
             [
              0.2222222222222222,
              "#7201a8"
             ],
             [
              0.3333333333333333,
              "#9c179e"
             ],
             [
              0.4444444444444444,
              "#bd3786"
             ],
             [
              0.5555555555555556,
              "#d8576b"
             ],
             [
              0.6666666666666666,
              "#ed7953"
             ],
             [
              0.7777777777777778,
              "#fb9f3a"
             ],
             [
              0.8888888888888888,
              "#fdca26"
             ],
             [
              1,
              "#f0f921"
             ]
            ],
            "type": "histogram2d"
           }
          ],
          "histogram2dcontour": [
           {
            "colorbar": {
             "outlinewidth": 0,
             "ticks": ""
            },
            "colorscale": [
             [
              0,
              "#0d0887"
             ],
             [
              0.1111111111111111,
              "#46039f"
             ],
             [
              0.2222222222222222,
              "#7201a8"
             ],
             [
              0.3333333333333333,
              "#9c179e"
             ],
             [
              0.4444444444444444,
              "#bd3786"
             ],
             [
              0.5555555555555556,
              "#d8576b"
             ],
             [
              0.6666666666666666,
              "#ed7953"
             ],
             [
              0.7777777777777778,
              "#fb9f3a"
             ],
             [
              0.8888888888888888,
              "#fdca26"
             ],
             [
              1,
              "#f0f921"
             ]
            ],
            "type": "histogram2dcontour"
           }
          ],
          "mesh3d": [
           {
            "colorbar": {
             "outlinewidth": 0,
             "ticks": ""
            },
            "type": "mesh3d"
           }
          ],
          "parcoords": [
           {
            "line": {
             "colorbar": {
              "outlinewidth": 0,
              "ticks": ""
             }
            },
            "type": "parcoords"
           }
          ],
          "pie": [
           {
            "automargin": true,
            "type": "pie"
           }
          ],
          "scatter": [
           {
            "fillpattern": {
             "fillmode": "overlay",
             "size": 10,
             "solidity": 0.2
            },
            "type": "scatter"
           }
          ],
          "scatter3d": [
           {
            "line": {
             "colorbar": {
              "outlinewidth": 0,
              "ticks": ""
             }
            },
            "marker": {
             "colorbar": {
              "outlinewidth": 0,
              "ticks": ""
             }
            },
            "type": "scatter3d"
           }
          ],
          "scattercarpet": [
           {
            "marker": {
             "colorbar": {
              "outlinewidth": 0,
              "ticks": ""
             }
            },
            "type": "scattercarpet"
           }
          ],
          "scattergeo": [
           {
            "marker": {
             "colorbar": {
              "outlinewidth": 0,
              "ticks": ""
             }
            },
            "type": "scattergeo"
           }
          ],
          "scattergl": [
           {
            "marker": {
             "colorbar": {
              "outlinewidth": 0,
              "ticks": ""
             }
            },
            "type": "scattergl"
           }
          ],
          "scattermapbox": [
           {
            "marker": {
             "colorbar": {
              "outlinewidth": 0,
              "ticks": ""
             }
            },
            "type": "scattermapbox"
           }
          ],
          "scatterpolar": [
           {
            "marker": {
             "colorbar": {
              "outlinewidth": 0,
              "ticks": ""
             }
            },
            "type": "scatterpolar"
           }
          ],
          "scatterpolargl": [
           {
            "marker": {
             "colorbar": {
              "outlinewidth": 0,
              "ticks": ""
             }
            },
            "type": "scatterpolargl"
           }
          ],
          "scatterternary": [
           {
            "marker": {
             "colorbar": {
              "outlinewidth": 0,
              "ticks": ""
             }
            },
            "type": "scatterternary"
           }
          ],
          "surface": [
           {
            "colorbar": {
             "outlinewidth": 0,
             "ticks": ""
            },
            "colorscale": [
             [
              0,
              "#0d0887"
             ],
             [
              0.1111111111111111,
              "#46039f"
             ],
             [
              0.2222222222222222,
              "#7201a8"
             ],
             [
              0.3333333333333333,
              "#9c179e"
             ],
             [
              0.4444444444444444,
              "#bd3786"
             ],
             [
              0.5555555555555556,
              "#d8576b"
             ],
             [
              0.6666666666666666,
              "#ed7953"
             ],
             [
              0.7777777777777778,
              "#fb9f3a"
             ],
             [
              0.8888888888888888,
              "#fdca26"
             ],
             [
              1,
              "#f0f921"
             ]
            ],
            "type": "surface"
           }
          ],
          "table": [
           {
            "cells": {
             "fill": {
              "color": "#EBF0F8"
             },
             "line": {
              "color": "white"
             }
            },
            "header": {
             "fill": {
              "color": "#C8D4E3"
             },
             "line": {
              "color": "white"
             }
            },
            "type": "table"
           }
          ]
         },
         "layout": {
          "annotationdefaults": {
           "arrowcolor": "#2a3f5f",
           "arrowhead": 0,
           "arrowwidth": 1
          },
          "autotypenumbers": "strict",
          "coloraxis": {
           "colorbar": {
            "outlinewidth": 0,
            "ticks": ""
           }
          },
          "colorscale": {
           "diverging": [
            [
             0,
             "#8e0152"
            ],
            [
             0.1,
             "#c51b7d"
            ],
            [
             0.2,
             "#de77ae"
            ],
            [
             0.3,
             "#f1b6da"
            ],
            [
             0.4,
             "#fde0ef"
            ],
            [
             0.5,
             "#f7f7f7"
            ],
            [
             0.6,
             "#e6f5d0"
            ],
            [
             0.7,
             "#b8e186"
            ],
            [
             0.8,
             "#7fbc41"
            ],
            [
             0.9,
             "#4d9221"
            ],
            [
             1,
             "#276419"
            ]
           ],
           "sequential": [
            [
             0,
             "#0d0887"
            ],
            [
             0.1111111111111111,
             "#46039f"
            ],
            [
             0.2222222222222222,
             "#7201a8"
            ],
            [
             0.3333333333333333,
             "#9c179e"
            ],
            [
             0.4444444444444444,
             "#bd3786"
            ],
            [
             0.5555555555555556,
             "#d8576b"
            ],
            [
             0.6666666666666666,
             "#ed7953"
            ],
            [
             0.7777777777777778,
             "#fb9f3a"
            ],
            [
             0.8888888888888888,
             "#fdca26"
            ],
            [
             1,
             "#f0f921"
            ]
           ],
           "sequentialminus": [
            [
             0,
             "#0d0887"
            ],
            [
             0.1111111111111111,
             "#46039f"
            ],
            [
             0.2222222222222222,
             "#7201a8"
            ],
            [
             0.3333333333333333,
             "#9c179e"
            ],
            [
             0.4444444444444444,
             "#bd3786"
            ],
            [
             0.5555555555555556,
             "#d8576b"
            ],
            [
             0.6666666666666666,
             "#ed7953"
            ],
            [
             0.7777777777777778,
             "#fb9f3a"
            ],
            [
             0.8888888888888888,
             "#fdca26"
            ],
            [
             1,
             "#f0f921"
            ]
           ]
          },
          "colorway": [
           "#636efa",
           "#EF553B",
           "#00cc96",
           "#ab63fa",
           "#FFA15A",
           "#19d3f3",
           "#FF6692",
           "#B6E880",
           "#FF97FF",
           "#FECB52"
          ],
          "font": {
           "color": "#2a3f5f"
          },
          "geo": {
           "bgcolor": "white",
           "lakecolor": "white",
           "landcolor": "#E5ECF6",
           "showlakes": true,
           "showland": true,
           "subunitcolor": "white"
          },
          "hoverlabel": {
           "align": "left"
          },
          "hovermode": "closest",
          "mapbox": {
           "style": "light"
          },
          "paper_bgcolor": "white",
          "plot_bgcolor": "#E5ECF6",
          "polar": {
           "angularaxis": {
            "gridcolor": "white",
            "linecolor": "white",
            "ticks": ""
           },
           "bgcolor": "#E5ECF6",
           "radialaxis": {
            "gridcolor": "white",
            "linecolor": "white",
            "ticks": ""
           }
          },
          "scene": {
           "xaxis": {
            "backgroundcolor": "#E5ECF6",
            "gridcolor": "white",
            "gridwidth": 2,
            "linecolor": "white",
            "showbackground": true,
            "ticks": "",
            "zerolinecolor": "white"
           },
           "yaxis": {
            "backgroundcolor": "#E5ECF6",
            "gridcolor": "white",
            "gridwidth": 2,
            "linecolor": "white",
            "showbackground": true,
            "ticks": "",
            "zerolinecolor": "white"
           },
           "zaxis": {
            "backgroundcolor": "#E5ECF6",
            "gridcolor": "white",
            "gridwidth": 2,
            "linecolor": "white",
            "showbackground": true,
            "ticks": "",
            "zerolinecolor": "white"
           }
          },
          "shapedefaults": {
           "line": {
            "color": "#2a3f5f"
           }
          },
          "ternary": {
           "aaxis": {
            "gridcolor": "white",
            "linecolor": "white",
            "ticks": ""
           },
           "baxis": {
            "gridcolor": "white",
            "linecolor": "white",
            "ticks": ""
           },
           "bgcolor": "#E5ECF6",
           "caxis": {
            "gridcolor": "white",
            "linecolor": "white",
            "ticks": ""
           }
          },
          "title": {
           "x": 0.05
          },
          "xaxis": {
           "automargin": true,
           "gridcolor": "white",
           "linecolor": "white",
           "ticks": "",
           "title": {
            "standoff": 15
           },
           "zerolinecolor": "white",
           "zerolinewidth": 2
          },
          "yaxis": {
           "automargin": true,
           "gridcolor": "white",
           "linecolor": "white",
           "ticks": "",
           "title": {
            "standoff": 15
           },
           "zerolinecolor": "white",
           "zerolinewidth": 2
          }
         }
        },
        "title": {
         "text": "Top 5 Wealthiest Teams (Predicted Salary Total)"
        },
        "width": 600,
        "xaxis": {
         "anchor": "y",
         "categoryorder": "total descending",
         "domain": [
          0,
          1
         ],
         "title": {
          "text": "Team"
         }
        },
        "yaxis": {
         "anchor": "x",
         "domain": [
          0,
          1
         ],
         "title": {
          "text": "Total Salary (Millions)"
         }
        }
       }
      }
     },
     "metadata": {},
     "output_type": "display_data"
    },
    {
     "data": {
      "application/vnd.plotly.v1+json": {
       "config": {
        "plotlyServerURL": "https://plot.ly"
       },
       "data": [
        {
         "alignmentgroup": "True",
         "hovertemplate": "Team=%{x}<br>Total Salary (Millions)=%{marker.color}<extra></extra>",
         "legendgroup": "",
         "marker": {
          "color": [
           120.079445,
           125.806435,
           135.44963,
           139.32867,
           142.26704
          ],
          "coloraxis": "coloraxis",
          "pattern": {
           "shape": ""
          }
         },
         "name": "",
         "offsetgroup": "",
         "orientation": "v",
         "showlegend": false,
         "textposition": "auto",
         "type": "bar",
         "x": [
          "BKN",
          "DET",
          "WAS",
          "CHI",
          "GSW"
         ],
         "xaxis": "x",
         "y": [
          120.079445,
          125.806435,
          135.44963,
          139.32867,
          142.26704
         ],
         "yaxis": "y"
        }
       ],
       "layout": {
        "barmode": "relative",
        "coloraxis": {
         "colorbar": {
          "title": {
           "text": "Total Salary (Millions)"
          }
         },
         "colorscale": [
          [
           0,
           "rgb(255,245,240)"
          ],
          [
           0.125,
           "rgb(254,224,210)"
          ],
          [
           0.25,
           "rgb(252,187,161)"
          ],
          [
           0.375,
           "rgb(252,146,114)"
          ],
          [
           0.5,
           "rgb(251,106,74)"
          ],
          [
           0.625,
           "rgb(239,59,44)"
          ],
          [
           0.75,
           "rgb(203,24,29)"
          ],
          [
           0.875,
           "rgb(165,15,21)"
          ],
          [
           1,
           "rgb(103,0,13)"
          ]
         ]
        },
        "height": 600,
        "legend": {
         "tracegroupgap": 0
        },
        "template": {
         "data": {
          "bar": [
           {
            "error_x": {
             "color": "#2a3f5f"
            },
            "error_y": {
             "color": "#2a3f5f"
            },
            "marker": {
             "line": {
              "color": "#E5ECF6",
              "width": 0.5
             },
             "pattern": {
              "fillmode": "overlay",
              "size": 10,
              "solidity": 0.2
             }
            },
            "type": "bar"
           }
          ],
          "barpolar": [
           {
            "marker": {
             "line": {
              "color": "#E5ECF6",
              "width": 0.5
             },
             "pattern": {
              "fillmode": "overlay",
              "size": 10,
              "solidity": 0.2
             }
            },
            "type": "barpolar"
           }
          ],
          "carpet": [
           {
            "aaxis": {
             "endlinecolor": "#2a3f5f",
             "gridcolor": "white",
             "linecolor": "white",
             "minorgridcolor": "white",
             "startlinecolor": "#2a3f5f"
            },
            "baxis": {
             "endlinecolor": "#2a3f5f",
             "gridcolor": "white",
             "linecolor": "white",
             "minorgridcolor": "white",
             "startlinecolor": "#2a3f5f"
            },
            "type": "carpet"
           }
          ],
          "choropleth": [
           {
            "colorbar": {
             "outlinewidth": 0,
             "ticks": ""
            },
            "type": "choropleth"
           }
          ],
          "contour": [
           {
            "colorbar": {
             "outlinewidth": 0,
             "ticks": ""
            },
            "colorscale": [
             [
              0,
              "#0d0887"
             ],
             [
              0.1111111111111111,
              "#46039f"
             ],
             [
              0.2222222222222222,
              "#7201a8"
             ],
             [
              0.3333333333333333,
              "#9c179e"
             ],
             [
              0.4444444444444444,
              "#bd3786"
             ],
             [
              0.5555555555555556,
              "#d8576b"
             ],
             [
              0.6666666666666666,
              "#ed7953"
             ],
             [
              0.7777777777777778,
              "#fb9f3a"
             ],
             [
              0.8888888888888888,
              "#fdca26"
             ],
             [
              1,
              "#f0f921"
             ]
            ],
            "type": "contour"
           }
          ],
          "contourcarpet": [
           {
            "colorbar": {
             "outlinewidth": 0,
             "ticks": ""
            },
            "type": "contourcarpet"
           }
          ],
          "heatmap": [
           {
            "colorbar": {
             "outlinewidth": 0,
             "ticks": ""
            },
            "colorscale": [
             [
              0,
              "#0d0887"
             ],
             [
              0.1111111111111111,
              "#46039f"
             ],
             [
              0.2222222222222222,
              "#7201a8"
             ],
             [
              0.3333333333333333,
              "#9c179e"
             ],
             [
              0.4444444444444444,
              "#bd3786"
             ],
             [
              0.5555555555555556,
              "#d8576b"
             ],
             [
              0.6666666666666666,
              "#ed7953"
             ],
             [
              0.7777777777777778,
              "#fb9f3a"
             ],
             [
              0.8888888888888888,
              "#fdca26"
             ],
             [
              1,
              "#f0f921"
             ]
            ],
            "type": "heatmap"
           }
          ],
          "heatmapgl": [
           {
            "colorbar": {
             "outlinewidth": 0,
             "ticks": ""
            },
            "colorscale": [
             [
              0,
              "#0d0887"
             ],
             [
              0.1111111111111111,
              "#46039f"
             ],
             [
              0.2222222222222222,
              "#7201a8"
             ],
             [
              0.3333333333333333,
              "#9c179e"
             ],
             [
              0.4444444444444444,
              "#bd3786"
             ],
             [
              0.5555555555555556,
              "#d8576b"
             ],
             [
              0.6666666666666666,
              "#ed7953"
             ],
             [
              0.7777777777777778,
              "#fb9f3a"
             ],
             [
              0.8888888888888888,
              "#fdca26"
             ],
             [
              1,
              "#f0f921"
             ]
            ],
            "type": "heatmapgl"
           }
          ],
          "histogram": [
           {
            "marker": {
             "pattern": {
              "fillmode": "overlay",
              "size": 10,
              "solidity": 0.2
             }
            },
            "type": "histogram"
           }
          ],
          "histogram2d": [
           {
            "colorbar": {
             "outlinewidth": 0,
             "ticks": ""
            },
            "colorscale": [
             [
              0,
              "#0d0887"
             ],
             [
              0.1111111111111111,
              "#46039f"
             ],
             [
              0.2222222222222222,
              "#7201a8"
             ],
             [
              0.3333333333333333,
              "#9c179e"
             ],
             [
              0.4444444444444444,
              "#bd3786"
             ],
             [
              0.5555555555555556,
              "#d8576b"
             ],
             [
              0.6666666666666666,
              "#ed7953"
             ],
             [
              0.7777777777777778,
              "#fb9f3a"
             ],
             [
              0.8888888888888888,
              "#fdca26"
             ],
             [
              1,
              "#f0f921"
             ]
            ],
            "type": "histogram2d"
           }
          ],
          "histogram2dcontour": [
           {
            "colorbar": {
             "outlinewidth": 0,
             "ticks": ""
            },
            "colorscale": [
             [
              0,
              "#0d0887"
             ],
             [
              0.1111111111111111,
              "#46039f"
             ],
             [
              0.2222222222222222,
              "#7201a8"
             ],
             [
              0.3333333333333333,
              "#9c179e"
             ],
             [
              0.4444444444444444,
              "#bd3786"
             ],
             [
              0.5555555555555556,
              "#d8576b"
             ],
             [
              0.6666666666666666,
              "#ed7953"
             ],
             [
              0.7777777777777778,
              "#fb9f3a"
             ],
             [
              0.8888888888888888,
              "#fdca26"
             ],
             [
              1,
              "#f0f921"
             ]
            ],
            "type": "histogram2dcontour"
           }
          ],
          "mesh3d": [
           {
            "colorbar": {
             "outlinewidth": 0,
             "ticks": ""
            },
            "type": "mesh3d"
           }
          ],
          "parcoords": [
           {
            "line": {
             "colorbar": {
              "outlinewidth": 0,
              "ticks": ""
             }
            },
            "type": "parcoords"
           }
          ],
          "pie": [
           {
            "automargin": true,
            "type": "pie"
           }
          ],
          "scatter": [
           {
            "fillpattern": {
             "fillmode": "overlay",
             "size": 10,
             "solidity": 0.2
            },
            "type": "scatter"
           }
          ],
          "scatter3d": [
           {
            "line": {
             "colorbar": {
              "outlinewidth": 0,
              "ticks": ""
             }
            },
            "marker": {
             "colorbar": {
              "outlinewidth": 0,
              "ticks": ""
             }
            },
            "type": "scatter3d"
           }
          ],
          "scattercarpet": [
           {
            "marker": {
             "colorbar": {
              "outlinewidth": 0,
              "ticks": ""
             }
            },
            "type": "scattercarpet"
           }
          ],
          "scattergeo": [
           {
            "marker": {
             "colorbar": {
              "outlinewidth": 0,
              "ticks": ""
             }
            },
            "type": "scattergeo"
           }
          ],
          "scattergl": [
           {
            "marker": {
             "colorbar": {
              "outlinewidth": 0,
              "ticks": ""
             }
            },
            "type": "scattergl"
           }
          ],
          "scattermapbox": [
           {
            "marker": {
             "colorbar": {
              "outlinewidth": 0,
              "ticks": ""
             }
            },
            "type": "scattermapbox"
           }
          ],
          "scatterpolar": [
           {
            "marker": {
             "colorbar": {
              "outlinewidth": 0,
              "ticks": ""
             }
            },
            "type": "scatterpolar"
           }
          ],
          "scatterpolargl": [
           {
            "marker": {
             "colorbar": {
              "outlinewidth": 0,
              "ticks": ""
             }
            },
            "type": "scatterpolargl"
           }
          ],
          "scatterternary": [
           {
            "marker": {
             "colorbar": {
              "outlinewidth": 0,
              "ticks": ""
             }
            },
            "type": "scatterternary"
           }
          ],
          "surface": [
           {
            "colorbar": {
             "outlinewidth": 0,
             "ticks": ""
            },
            "colorscale": [
             [
              0,
              "#0d0887"
             ],
             [
              0.1111111111111111,
              "#46039f"
             ],
             [
              0.2222222222222222,
              "#7201a8"
             ],
             [
              0.3333333333333333,
              "#9c179e"
             ],
             [
              0.4444444444444444,
              "#bd3786"
             ],
             [
              0.5555555555555556,
              "#d8576b"
             ],
             [
              0.6666666666666666,
              "#ed7953"
             ],
             [
              0.7777777777777778,
              "#fb9f3a"
             ],
             [
              0.8888888888888888,
              "#fdca26"
             ],
             [
              1,
              "#f0f921"
             ]
            ],
            "type": "surface"
           }
          ],
          "table": [
           {
            "cells": {
             "fill": {
              "color": "#EBF0F8"
             },
             "line": {
              "color": "white"
             }
            },
            "header": {
             "fill": {
              "color": "#C8D4E3"
             },
             "line": {
              "color": "white"
             }
            },
            "type": "table"
           }
          ]
         },
         "layout": {
          "annotationdefaults": {
           "arrowcolor": "#2a3f5f",
           "arrowhead": 0,
           "arrowwidth": 1
          },
          "autotypenumbers": "strict",
          "coloraxis": {
           "colorbar": {
            "outlinewidth": 0,
            "ticks": ""
           }
          },
          "colorscale": {
           "diverging": [
            [
             0,
             "#8e0152"
            ],
            [
             0.1,
             "#c51b7d"
            ],
            [
             0.2,
             "#de77ae"
            ],
            [
             0.3,
             "#f1b6da"
            ],
            [
             0.4,
             "#fde0ef"
            ],
            [
             0.5,
             "#f7f7f7"
            ],
            [
             0.6,
             "#e6f5d0"
            ],
            [
             0.7,
             "#b8e186"
            ],
            [
             0.8,
             "#7fbc41"
            ],
            [
             0.9,
             "#4d9221"
            ],
            [
             1,
             "#276419"
            ]
           ],
           "sequential": [
            [
             0,
             "#0d0887"
            ],
            [
             0.1111111111111111,
             "#46039f"
            ],
            [
             0.2222222222222222,
             "#7201a8"
            ],
            [
             0.3333333333333333,
             "#9c179e"
            ],
            [
             0.4444444444444444,
             "#bd3786"
            ],
            [
             0.5555555555555556,
             "#d8576b"
            ],
            [
             0.6666666666666666,
             "#ed7953"
            ],
            [
             0.7777777777777778,
             "#fb9f3a"
            ],
            [
             0.8888888888888888,
             "#fdca26"
            ],
            [
             1,
             "#f0f921"
            ]
           ],
           "sequentialminus": [
            [
             0,
             "#0d0887"
            ],
            [
             0.1111111111111111,
             "#46039f"
            ],
            [
             0.2222222222222222,
             "#7201a8"
            ],
            [
             0.3333333333333333,
             "#9c179e"
            ],
            [
             0.4444444444444444,
             "#bd3786"
            ],
            [
             0.5555555555555556,
             "#d8576b"
            ],
            [
             0.6666666666666666,
             "#ed7953"
            ],
            [
             0.7777777777777778,
             "#fb9f3a"
            ],
            [
             0.8888888888888888,
             "#fdca26"
            ],
            [
             1,
             "#f0f921"
            ]
           ]
          },
          "colorway": [
           "#636efa",
           "#EF553B",
           "#00cc96",
           "#ab63fa",
           "#FFA15A",
           "#19d3f3",
           "#FF6692",
           "#B6E880",
           "#FF97FF",
           "#FECB52"
          ],
          "font": {
           "color": "#2a3f5f"
          },
          "geo": {
           "bgcolor": "white",
           "lakecolor": "white",
           "landcolor": "#E5ECF6",
           "showlakes": true,
           "showland": true,
           "subunitcolor": "white"
          },
          "hoverlabel": {
           "align": "left"
          },
          "hovermode": "closest",
          "mapbox": {
           "style": "light"
          },
          "paper_bgcolor": "white",
          "plot_bgcolor": "#E5ECF6",
          "polar": {
           "angularaxis": {
            "gridcolor": "white",
            "linecolor": "white",
            "ticks": ""
           },
           "bgcolor": "#E5ECF6",
           "radialaxis": {
            "gridcolor": "white",
            "linecolor": "white",
            "ticks": ""
           }
          },
          "scene": {
           "xaxis": {
            "backgroundcolor": "#E5ECF6",
            "gridcolor": "white",
            "gridwidth": 2,
            "linecolor": "white",
            "showbackground": true,
            "ticks": "",
            "zerolinecolor": "white"
           },
           "yaxis": {
            "backgroundcolor": "#E5ECF6",
            "gridcolor": "white",
            "gridwidth": 2,
            "linecolor": "white",
            "showbackground": true,
            "ticks": "",
            "zerolinecolor": "white"
           },
           "zaxis": {
            "backgroundcolor": "#E5ECF6",
            "gridcolor": "white",
            "gridwidth": 2,
            "linecolor": "white",
            "showbackground": true,
            "ticks": "",
            "zerolinecolor": "white"
           }
          },
          "shapedefaults": {
           "line": {
            "color": "#2a3f5f"
           }
          },
          "ternary": {
           "aaxis": {
            "gridcolor": "white",
            "linecolor": "white",
            "ticks": ""
           },
           "baxis": {
            "gridcolor": "white",
            "linecolor": "white",
            "ticks": ""
           },
           "bgcolor": "#E5ECF6",
           "caxis": {
            "gridcolor": "white",
            "linecolor": "white",
            "ticks": ""
           }
          },
          "title": {
           "x": 0.05
          },
          "xaxis": {
           "automargin": true,
           "gridcolor": "white",
           "linecolor": "white",
           "ticks": "",
           "title": {
            "standoff": 15
           },
           "zerolinecolor": "white",
           "zerolinewidth": 2
          },
          "yaxis": {
           "automargin": true,
           "gridcolor": "white",
           "linecolor": "white",
           "ticks": "",
           "title": {
            "standoff": 15
           },
           "zerolinecolor": "white",
           "zerolinewidth": 2
          }
         }
        },
        "title": {
         "text": "Top 5 Poorest Teams (Predicted Salary Total)"
        },
        "width": 600,
        "xaxis": {
         "anchor": "y",
         "categoryorder": "total ascending",
         "domain": [
          0,
          1
         ],
         "title": {
          "text": "Team"
         }
        },
        "yaxis": {
         "anchor": "x",
         "domain": [
          0,
          1
         ],
         "title": {
          "text": "Total Salary (Millions)"
         }
        }
       }
      }
     },
     "metadata": {},
     "output_type": "display_data"
    }
   ],
   "source": [
    "import plotly.express as px\n",
    "\n",
    "# Wealthiest Teams\n",
    "teams_wealthiest = poorest_teams.sort_values(by=\"PREDICTED_SALARY\", ascending=False)\n",
    "\n",
    "fig = px.bar(\n",
    "    teams_wealthiest,\n",
    "    x='TEAM_ABBREVIATION',\n",
    "    y='PREDICTED_SALARY',\n",
    "    color='PREDICTED_SALARY',\n",
    "    color_continuous_scale='Blues',\n",
    "    labels={'PREDICTED_SALARY': 'Total Salary (Millions)', 'TEAM_ABBREVIATION': 'Team'},\n",
    "    title=\"Top 5 Wealthiest Teams (Predicted Salary Total)\"\n",
    ")\n",
    "\n",
    "fig.update_layout(\n",
    "    xaxis=dict(categoryorder='total descending'),\n",
    "    width=600,   # set width\n",
    "    height=600   # set height to make it square\n",
    ")\n",
    "\n",
    "fig.show()\n",
    "fig.write_html('../database/wealthiestTeams2.html')\n",
    "\n",
    "\n",
    "# Poorest Teams\n",
    "teams_poorest = wealthiest_teams.sort_values(by=\"PREDICTED_SALARY\", ascending=True)\n",
    "\n",
    "fig = px.bar(\n",
    "    teams_poorest,\n",
    "    x='TEAM_ABBREVIATION',\n",
    "    y='PREDICTED_SALARY',\n",
    "    color='PREDICTED_SALARY',\n",
    "    color_continuous_scale='Reds',\n",
    "    labels={'PREDICTED_SALARY': 'Total Salary (Millions)', 'TEAM_ABBREVIATION': 'Team'},\n",
    "    title=\"Top 5 Poorest Teams (Predicted Salary Total)\"\n",
    ")\n",
    "\n",
    "fig.update_layout(\n",
    "    xaxis=dict(categoryorder='total ascending'),\n",
    "    width=600,   # square width\n",
    "    height=600   # square height\n",
    ")\n",
    "\n",
    "fig.show()\n",
    "fig.write_html('../database/poorestTeams2.html')\n"
   ]
  },
  {
   "cell_type": "code",
   "execution_count": 8,
   "id": "9125d411",
   "metadata": {},
   "outputs": [
    {
     "name": "stdout",
     "output_type": "stream",
     "text": [
      "Requirement already satisfied: kaleido in c:\\users\\amans\\appdata\\local\\packages\\pythonsoftwarefoundation.python.3.11_qbz5n2kfra8p0\\localcache\\local-packages\\python311\\site-packages (1.0.0)\n",
      "Requirement already satisfied: choreographer>=1.0.5 in c:\\users\\amans\\appdata\\local\\packages\\pythonsoftwarefoundation.python.3.11_qbz5n2kfra8p0\\localcache\\local-packages\\python311\\site-packages (from kaleido) (1.0.9)\n",
      "Requirement already satisfied: logistro>=1.0.8 in c:\\users\\amans\\appdata\\local\\packages\\pythonsoftwarefoundation.python.3.11_qbz5n2kfra8p0\\localcache\\local-packages\\python311\\site-packages (from kaleido) (1.1.0)\n",
      "Requirement already satisfied: orjson>=3.10.15 in c:\\users\\amans\\appdata\\local\\packages\\pythonsoftwarefoundation.python.3.11_qbz5n2kfra8p0\\localcache\\local-packages\\python311\\site-packages (from kaleido) (3.11.2)\n",
      "Requirement already satisfied: packaging in c:\\users\\amans\\appdata\\local\\packages\\pythonsoftwarefoundation.python.3.11_qbz5n2kfra8p0\\localcache\\local-packages\\python311\\site-packages (from kaleido) (24.2)\n",
      "Requirement already satisfied: simplejson>=3.19.3 in c:\\users\\amans\\appdata\\local\\packages\\pythonsoftwarefoundation.python.3.11_qbz5n2kfra8p0\\localcache\\local-packages\\python311\\site-packages (from choreographer>=1.0.5->kaleido) (3.20.1)\n"
     ]
    },
    {
     "data": {
      "application/vnd.plotly.v1+json": {
       "config": {
        "plotlyServerURL": "https://plot.ly"
       },
       "data": [
        {
         "alignmentgroup": "True",
         "hovertemplate": "Team=%{x}<br>Team Salary (Millions)=%{marker.color}<extra></extra>",
         "legendgroup": "",
         "marker": {
          "color": [
           120.079445,
           125.806435,
           135.44963,
           139.32867,
           142.26704
          ],
          "coloraxis": "coloraxis",
          "pattern": {
           "shape": ""
          }
         },
         "name": "",
         "offsetgroup": "",
         "orientation": "v",
         "showlegend": false,
         "textposition": "auto",
         "type": "bar",
         "x": [
          "BKN",
          "DET",
          "WAS",
          "CHI",
          "GSW"
         ],
         "xaxis": "x",
         "y": [
          120.079445,
          125.806435,
          135.44963,
          139.32867,
          142.26704
         ],
         "yaxis": "y"
        }
       ],
       "layout": {
        "barmode": "relative",
        "coloraxis": {
         "colorbar": {
          "title": {
           "text": "Team Salary (Millions)"
          }
         },
         "colorscale": [
          [
           0,
           "rgb(255,245,240)"
          ],
          [
           0.125,
           "rgb(254,224,210)"
          ],
          [
           0.25,
           "rgb(252,187,161)"
          ],
          [
           0.375,
           "rgb(252,146,114)"
          ],
          [
           0.5,
           "rgb(251,106,74)"
          ],
          [
           0.625,
           "rgb(239,59,44)"
          ],
          [
           0.75,
           "rgb(203,24,29)"
          ],
          [
           0.875,
           "rgb(165,15,21)"
          ],
          [
           1,
           "rgb(103,0,13)"
          ]
         ]
        },
        "images": [
         {
          "layer": "above",
          "sizex": 0.3,
          "sizey": 60.03972244262695,
          "source": "https://a.espncdn.com/i/teamlogos/nba/500/bkn.png",
          "x": "BKN",
          "xanchor": "center",
          "xref": "x",
          "y": 60.03972244262695,
          "yanchor": "middle",
          "yref": "y"
         },
         {
          "layer": "above",
          "sizex": 0.3,
          "sizey": 62.90321731567383,
          "source": "https://a.espncdn.com/i/teamlogos/nba/500/det.png",
          "x": "DET",
          "xanchor": "center",
          "xref": "x",
          "y": 62.90321731567383,
          "yanchor": "middle",
          "yref": "y"
         },
         {
          "layer": "above",
          "sizex": 0.3,
          "sizey": 67.72481536865234,
          "source": "https://a.espncdn.com/i/teamlogos/nba/500/wsh.png",
          "x": "WAS",
          "xanchor": "center",
          "xref": "x",
          "y": 67.72481536865234,
          "yanchor": "middle",
          "yref": "y"
         },
         {
          "layer": "above",
          "sizex": 0.3,
          "sizey": 69.66433715820312,
          "source": "https://a.espncdn.com/i/teamlogos/nba/500/chi.png",
          "x": "CHI",
          "xanchor": "center",
          "xref": "x",
          "y": 69.66433715820312,
          "yanchor": "middle",
          "yref": "y"
         },
         {
          "layer": "above",
          "sizex": 0.3,
          "sizey": 71.1335220336914,
          "source": "https://a.espncdn.com/i/teamlogos/nba/500/gs.png",
          "x": "GSW",
          "xanchor": "center",
          "xref": "x",
          "y": 71.1335220336914,
          "yanchor": "middle",
          "yref": "y"
         }
        ],
        "legend": {
         "tracegroupgap": 0
        },
        "template": {
         "data": {
          "bar": [
           {
            "error_x": {
             "color": "#2a3f5f"
            },
            "error_y": {
             "color": "#2a3f5f"
            },
            "marker": {
             "line": {
              "color": "#E5ECF6",
              "width": 0.5
             },
             "pattern": {
              "fillmode": "overlay",
              "size": 10,
              "solidity": 0.2
             }
            },
            "type": "bar"
           }
          ],
          "barpolar": [
           {
            "marker": {
             "line": {
              "color": "#E5ECF6",
              "width": 0.5
             },
             "pattern": {
              "fillmode": "overlay",
              "size": 10,
              "solidity": 0.2
             }
            },
            "type": "barpolar"
           }
          ],
          "carpet": [
           {
            "aaxis": {
             "endlinecolor": "#2a3f5f",
             "gridcolor": "white",
             "linecolor": "white",
             "minorgridcolor": "white",
             "startlinecolor": "#2a3f5f"
            },
            "baxis": {
             "endlinecolor": "#2a3f5f",
             "gridcolor": "white",
             "linecolor": "white",
             "minorgridcolor": "white",
             "startlinecolor": "#2a3f5f"
            },
            "type": "carpet"
           }
          ],
          "choropleth": [
           {
            "colorbar": {
             "outlinewidth": 0,
             "ticks": ""
            },
            "type": "choropleth"
           }
          ],
          "contour": [
           {
            "colorbar": {
             "outlinewidth": 0,
             "ticks": ""
            },
            "colorscale": [
             [
              0,
              "#0d0887"
             ],
             [
              0.1111111111111111,
              "#46039f"
             ],
             [
              0.2222222222222222,
              "#7201a8"
             ],
             [
              0.3333333333333333,
              "#9c179e"
             ],
             [
              0.4444444444444444,
              "#bd3786"
             ],
             [
              0.5555555555555556,
              "#d8576b"
             ],
             [
              0.6666666666666666,
              "#ed7953"
             ],
             [
              0.7777777777777778,
              "#fb9f3a"
             ],
             [
              0.8888888888888888,
              "#fdca26"
             ],
             [
              1,
              "#f0f921"
             ]
            ],
            "type": "contour"
           }
          ],
          "contourcarpet": [
           {
            "colorbar": {
             "outlinewidth": 0,
             "ticks": ""
            },
            "type": "contourcarpet"
           }
          ],
          "heatmap": [
           {
            "colorbar": {
             "outlinewidth": 0,
             "ticks": ""
            },
            "colorscale": [
             [
              0,
              "#0d0887"
             ],
             [
              0.1111111111111111,
              "#46039f"
             ],
             [
              0.2222222222222222,
              "#7201a8"
             ],
             [
              0.3333333333333333,
              "#9c179e"
             ],
             [
              0.4444444444444444,
              "#bd3786"
             ],
             [
              0.5555555555555556,
              "#d8576b"
             ],
             [
              0.6666666666666666,
              "#ed7953"
             ],
             [
              0.7777777777777778,
              "#fb9f3a"
             ],
             [
              0.8888888888888888,
              "#fdca26"
             ],
             [
              1,
              "#f0f921"
             ]
            ],
            "type": "heatmap"
           }
          ],
          "heatmapgl": [
           {
            "colorbar": {
             "outlinewidth": 0,
             "ticks": ""
            },
            "colorscale": [
             [
              0,
              "#0d0887"
             ],
             [
              0.1111111111111111,
              "#46039f"
             ],
             [
              0.2222222222222222,
              "#7201a8"
             ],
             [
              0.3333333333333333,
              "#9c179e"
             ],
             [
              0.4444444444444444,
              "#bd3786"
             ],
             [
              0.5555555555555556,
              "#d8576b"
             ],
             [
              0.6666666666666666,
              "#ed7953"
             ],
             [
              0.7777777777777778,
              "#fb9f3a"
             ],
             [
              0.8888888888888888,
              "#fdca26"
             ],
             [
              1,
              "#f0f921"
             ]
            ],
            "type": "heatmapgl"
           }
          ],
          "histogram": [
           {
            "marker": {
             "pattern": {
              "fillmode": "overlay",
              "size": 10,
              "solidity": 0.2
             }
            },
            "type": "histogram"
           }
          ],
          "histogram2d": [
           {
            "colorbar": {
             "outlinewidth": 0,
             "ticks": ""
            },
            "colorscale": [
             [
              0,
              "#0d0887"
             ],
             [
              0.1111111111111111,
              "#46039f"
             ],
             [
              0.2222222222222222,
              "#7201a8"
             ],
             [
              0.3333333333333333,
              "#9c179e"
             ],
             [
              0.4444444444444444,
              "#bd3786"
             ],
             [
              0.5555555555555556,
              "#d8576b"
             ],
             [
              0.6666666666666666,
              "#ed7953"
             ],
             [
              0.7777777777777778,
              "#fb9f3a"
             ],
             [
              0.8888888888888888,
              "#fdca26"
             ],
             [
              1,
              "#f0f921"
             ]
            ],
            "type": "histogram2d"
           }
          ],
          "histogram2dcontour": [
           {
            "colorbar": {
             "outlinewidth": 0,
             "ticks": ""
            },
            "colorscale": [
             [
              0,
              "#0d0887"
             ],
             [
              0.1111111111111111,
              "#46039f"
             ],
             [
              0.2222222222222222,
              "#7201a8"
             ],
             [
              0.3333333333333333,
              "#9c179e"
             ],
             [
              0.4444444444444444,
              "#bd3786"
             ],
             [
              0.5555555555555556,
              "#d8576b"
             ],
             [
              0.6666666666666666,
              "#ed7953"
             ],
             [
              0.7777777777777778,
              "#fb9f3a"
             ],
             [
              0.8888888888888888,
              "#fdca26"
             ],
             [
              1,
              "#f0f921"
             ]
            ],
            "type": "histogram2dcontour"
           }
          ],
          "mesh3d": [
           {
            "colorbar": {
             "outlinewidth": 0,
             "ticks": ""
            },
            "type": "mesh3d"
           }
          ],
          "parcoords": [
           {
            "line": {
             "colorbar": {
              "outlinewidth": 0,
              "ticks": ""
             }
            },
            "type": "parcoords"
           }
          ],
          "pie": [
           {
            "automargin": true,
            "type": "pie"
           }
          ],
          "scatter": [
           {
            "fillpattern": {
             "fillmode": "overlay",
             "size": 10,
             "solidity": 0.2
            },
            "type": "scatter"
           }
          ],
          "scatter3d": [
           {
            "line": {
             "colorbar": {
              "outlinewidth": 0,
              "ticks": ""
             }
            },
            "marker": {
             "colorbar": {
              "outlinewidth": 0,
              "ticks": ""
             }
            },
            "type": "scatter3d"
           }
          ],
          "scattercarpet": [
           {
            "marker": {
             "colorbar": {
              "outlinewidth": 0,
              "ticks": ""
             }
            },
            "type": "scattercarpet"
           }
          ],
          "scattergeo": [
           {
            "marker": {
             "colorbar": {
              "outlinewidth": 0,
              "ticks": ""
             }
            },
            "type": "scattergeo"
           }
          ],
          "scattergl": [
           {
            "marker": {
             "colorbar": {
              "outlinewidth": 0,
              "ticks": ""
             }
            },
            "type": "scattergl"
           }
          ],
          "scattermapbox": [
           {
            "marker": {
             "colorbar": {
              "outlinewidth": 0,
              "ticks": ""
             }
            },
            "type": "scattermapbox"
           }
          ],
          "scatterpolar": [
           {
            "marker": {
             "colorbar": {
              "outlinewidth": 0,
              "ticks": ""
             }
            },
            "type": "scatterpolar"
           }
          ],
          "scatterpolargl": [
           {
            "marker": {
             "colorbar": {
              "outlinewidth": 0,
              "ticks": ""
             }
            },
            "type": "scatterpolargl"
           }
          ],
          "scatterternary": [
           {
            "marker": {
             "colorbar": {
              "outlinewidth": 0,
              "ticks": ""
             }
            },
            "type": "scatterternary"
           }
          ],
          "surface": [
           {
            "colorbar": {
             "outlinewidth": 0,
             "ticks": ""
            },
            "colorscale": [
             [
              0,
              "#0d0887"
             ],
             [
              0.1111111111111111,
              "#46039f"
             ],
             [
              0.2222222222222222,
              "#7201a8"
             ],
             [
              0.3333333333333333,
              "#9c179e"
             ],
             [
              0.4444444444444444,
              "#bd3786"
             ],
             [
              0.5555555555555556,
              "#d8576b"
             ],
             [
              0.6666666666666666,
              "#ed7953"
             ],
             [
              0.7777777777777778,
              "#fb9f3a"
             ],
             [
              0.8888888888888888,
              "#fdca26"
             ],
             [
              1,
              "#f0f921"
             ]
            ],
            "type": "surface"
           }
          ],
          "table": [
           {
            "cells": {
             "fill": {
              "color": "#EBF0F8"
             },
             "line": {
              "color": "white"
             }
            },
            "header": {
             "fill": {
              "color": "#C8D4E3"
             },
             "line": {
              "color": "white"
             }
            },
            "type": "table"
           }
          ]
         },
         "layout": {
          "annotationdefaults": {
           "arrowcolor": "#2a3f5f",
           "arrowhead": 0,
           "arrowwidth": 1
          },
          "autotypenumbers": "strict",
          "coloraxis": {
           "colorbar": {
            "outlinewidth": 0,
            "ticks": ""
           }
          },
          "colorscale": {
           "diverging": [
            [
             0,
             "#8e0152"
            ],
            [
             0.1,
             "#c51b7d"
            ],
            [
             0.2,
             "#de77ae"
            ],
            [
             0.3,
             "#f1b6da"
            ],
            [
             0.4,
             "#fde0ef"
            ],
            [
             0.5,
             "#f7f7f7"
            ],
            [
             0.6,
             "#e6f5d0"
            ],
            [
             0.7,
             "#b8e186"
            ],
            [
             0.8,
             "#7fbc41"
            ],
            [
             0.9,
             "#4d9221"
            ],
            [
             1,
             "#276419"
            ]
           ],
           "sequential": [
            [
             0,
             "#0d0887"
            ],
            [
             0.1111111111111111,
             "#46039f"
            ],
            [
             0.2222222222222222,
             "#7201a8"
            ],
            [
             0.3333333333333333,
             "#9c179e"
            ],
            [
             0.4444444444444444,
             "#bd3786"
            ],
            [
             0.5555555555555556,
             "#d8576b"
            ],
            [
             0.6666666666666666,
             "#ed7953"
            ],
            [
             0.7777777777777778,
             "#fb9f3a"
            ],
            [
             0.8888888888888888,
             "#fdca26"
            ],
            [
             1,
             "#f0f921"
            ]
           ],
           "sequentialminus": [
            [
             0,
             "#0d0887"
            ],
            [
             0.1111111111111111,
             "#46039f"
            ],
            [
             0.2222222222222222,
             "#7201a8"
            ],
            [
             0.3333333333333333,
             "#9c179e"
            ],
            [
             0.4444444444444444,
             "#bd3786"
            ],
            [
             0.5555555555555556,
             "#d8576b"
            ],
            [
             0.6666666666666666,
             "#ed7953"
            ],
            [
             0.7777777777777778,
             "#fb9f3a"
            ],
            [
             0.8888888888888888,
             "#fdca26"
            ],
            [
             1,
             "#f0f921"
            ]
           ]
          },
          "colorway": [
           "#636efa",
           "#EF553B",
           "#00cc96",
           "#ab63fa",
           "#FFA15A",
           "#19d3f3",
           "#FF6692",
           "#B6E880",
           "#FF97FF",
           "#FECB52"
          ],
          "font": {
           "color": "#2a3f5f"
          },
          "geo": {
           "bgcolor": "white",
           "lakecolor": "white",
           "landcolor": "#E5ECF6",
           "showlakes": true,
           "showland": true,
           "subunitcolor": "white"
          },
          "hoverlabel": {
           "align": "left"
          },
          "hovermode": "closest",
          "mapbox": {
           "style": "light"
          },
          "paper_bgcolor": "white",
          "plot_bgcolor": "#E5ECF6",
          "polar": {
           "angularaxis": {
            "gridcolor": "white",
            "linecolor": "white",
            "ticks": ""
           },
           "bgcolor": "#E5ECF6",
           "radialaxis": {
            "gridcolor": "white",
            "linecolor": "white",
            "ticks": ""
           }
          },
          "scene": {
           "xaxis": {
            "backgroundcolor": "#E5ECF6",
            "gridcolor": "white",
            "gridwidth": 2,
            "linecolor": "white",
            "showbackground": true,
            "ticks": "",
            "zerolinecolor": "white"
           },
           "yaxis": {
            "backgroundcolor": "#E5ECF6",
            "gridcolor": "white",
            "gridwidth": 2,
            "linecolor": "white",
            "showbackground": true,
            "ticks": "",
            "zerolinecolor": "white"
           },
           "zaxis": {
            "backgroundcolor": "#E5ECF6",
            "gridcolor": "white",
            "gridwidth": 2,
            "linecolor": "white",
            "showbackground": true,
            "ticks": "",
            "zerolinecolor": "white"
           }
          },
          "shapedefaults": {
           "line": {
            "color": "#2a3f5f"
           }
          },
          "ternary": {
           "aaxis": {
            "gridcolor": "white",
            "linecolor": "white",
            "ticks": ""
           },
           "baxis": {
            "gridcolor": "white",
            "linecolor": "white",
            "ticks": ""
           },
           "bgcolor": "#E5ECF6",
           "caxis": {
            "gridcolor": "white",
            "linecolor": "white",
            "ticks": ""
           }
          },
          "title": {
           "x": 0.05
          },
          "xaxis": {
           "automargin": true,
           "gridcolor": "white",
           "linecolor": "white",
           "ticks": "",
           "title": {
            "standoff": 15
           },
           "zerolinecolor": "white",
           "zerolinewidth": 2
          },
          "yaxis": {
           "automargin": true,
           "gridcolor": "white",
           "linecolor": "white",
           "ticks": "",
           "title": {
            "standoff": 15
           },
           "zerolinecolor": "white",
           "zerolinewidth": 2
          }
         }
        },
        "title": {
         "text": "Top 5 Poorest Teams (Predicted Salary Total)"
        },
        "xaxis": {
         "anchor": "y",
         "categoryorder": "total ascending",
         "domain": [
          0,
          1
         ],
         "title": {
          "text": "Team"
         }
        },
        "yaxis": {
         "anchor": "x",
         "domain": [
          0,
          1
         ],
         "title": {
          "text": "Team Salary (Millions)"
         }
        }
       }
      }
     },
     "metadata": {},
     "output_type": "display_data"
    },
    {
     "ename": "ValueError",
     "evalue": "\nImage export using the \"kaleido\" engine requires the kaleido package,\nwhich can be installed using pip:\n    $ pip install -U kaleido\n",
     "output_type": "error",
     "traceback": [
      "\u001b[1;31m---------------------------------------------------------------------------\u001b[0m",
      "\u001b[1;31mValueError\u001b[0m                                Traceback (most recent call last)",
      "Cell \u001b[1;32mIn[8], line 38\u001b[0m\n\u001b[0;32m     22\u001b[0m         fig\u001b[38;5;241m.\u001b[39madd_layout_image(\n\u001b[0;32m     23\u001b[0m             \u001b[38;5;28mdict\u001b[39m(\n\u001b[0;32m     24\u001b[0m                 source\u001b[38;5;241m=\u001b[39mteam_logos[team],\n\u001b[1;32m   (...)\u001b[0m\n\u001b[0;32m     34\u001b[0m             )\n\u001b[0;32m     35\u001b[0m         )\n\u001b[0;32m     37\u001b[0m fig\u001b[38;5;241m.\u001b[39mshow()\n\u001b[1;32m---> 38\u001b[0m \u001b[43mfig\u001b[49m\u001b[38;5;241;43m.\u001b[39;49m\u001b[43mwrite_image\u001b[49m\u001b[43m(\u001b[49m\n\u001b[0;32m     39\u001b[0m \u001b[43m    \u001b[49m\u001b[38;5;124;43m\"\u001b[39;49m\u001b[38;5;124;43m../database/poorestTeams.png\u001b[39;49m\u001b[38;5;124;43m\"\u001b[39;49m\u001b[43m,\u001b[49m\u001b[43m  \u001b[49m\u001b[38;5;66;43;03m# path and file type\u001b[39;49;00m\n\u001b[0;32m     40\u001b[0m \u001b[43m    \u001b[49m\u001b[43mwidth\u001b[49m\u001b[38;5;241;43m=\u001b[39;49m\u001b[38;5;241;43m1200\u001b[39;49m\u001b[43m,\u001b[49m\u001b[43m     \u001b[49m\u001b[38;5;66;43;03m# width in pixels\u001b[39;49;00m\n\u001b[0;32m     41\u001b[0m \u001b[43m    \u001b[49m\u001b[43mheight\u001b[49m\u001b[38;5;241;43m=\u001b[39;49m\u001b[38;5;241;43m800\u001b[39;49m\u001b[43m,\u001b[49m\u001b[43m     \u001b[49m\u001b[38;5;66;43;03m# height in pixels\u001b[39;49;00m\n\u001b[0;32m     42\u001b[0m \u001b[43m    \u001b[49m\u001b[43mscale\u001b[49m\u001b[38;5;241;43m=\u001b[39;49m\u001b[38;5;241;43m2\u001b[39;49m\u001b[43m         \u001b[49m\u001b[38;5;66;43;03m# 2x resolution (makes it sharp)\u001b[39;49;00m\n\u001b[0;32m     43\u001b[0m \u001b[43m)\u001b[49m\n",
      "File \u001b[1;32m~\\AppData\\Local\\Packages\\PythonSoftwareFoundation.Python.3.11_qbz5n2kfra8p0\\LocalCache\\local-packages\\Python311\\site-packages\\plotly\\basedatatypes.py:3835\u001b[0m, in \u001b[0;36mBaseFigure.write_image\u001b[1;34m(self, *args, **kwargs)\u001b[0m\n\u001b[0;32m   3775\u001b[0m \u001b[38;5;250m\u001b[39m\u001b[38;5;124;03m\"\"\"\u001b[39;00m\n\u001b[0;32m   3776\u001b[0m \u001b[38;5;124;03mConvert a figure to a static image and write it to a file or writeable\u001b[39;00m\n\u001b[0;32m   3777\u001b[0m \u001b[38;5;124;03mobject\u001b[39;00m\n\u001b[1;32m   (...)\u001b[0m\n\u001b[0;32m   3831\u001b[0m \u001b[38;5;124;03mNone\u001b[39;00m\n\u001b[0;32m   3832\u001b[0m \u001b[38;5;124;03m\"\"\"\u001b[39;00m\n\u001b[0;32m   3833\u001b[0m \u001b[38;5;28;01mimport\u001b[39;00m\u001b[38;5;250m \u001b[39m\u001b[38;5;21;01mplotly\u001b[39;00m\u001b[38;5;21;01m.\u001b[39;00m\u001b[38;5;21;01mio\u001b[39;00m\u001b[38;5;250m \u001b[39m\u001b[38;5;28;01mas\u001b[39;00m\u001b[38;5;250m \u001b[39m\u001b[38;5;21;01mpio\u001b[39;00m\n\u001b[1;32m-> 3835\u001b[0m \u001b[38;5;28;01mreturn\u001b[39;00m \u001b[43mpio\u001b[49m\u001b[38;5;241;43m.\u001b[39;49m\u001b[43mwrite_image\u001b[49m\u001b[43m(\u001b[49m\u001b[38;5;28;43mself\u001b[39;49m\u001b[43m,\u001b[49m\u001b[43m \u001b[49m\u001b[38;5;241;43m*\u001b[39;49m\u001b[43margs\u001b[49m\u001b[43m,\u001b[49m\u001b[43m \u001b[49m\u001b[38;5;241;43m*\u001b[39;49m\u001b[38;5;241;43m*\u001b[39;49m\u001b[43mkwargs\u001b[49m\u001b[43m)\u001b[49m\n",
      "File \u001b[1;32m~\\AppData\\Local\\Packages\\PythonSoftwareFoundation.Python.3.11_qbz5n2kfra8p0\\LocalCache\\local-packages\\Python311\\site-packages\\plotly\\io\\_kaleido.py:266\u001b[0m, in \u001b[0;36mwrite_image\u001b[1;34m(fig, file, format, scale, width, height, validate, engine)\u001b[0m\n\u001b[0;32m    250\u001b[0m             \u001b[38;5;28;01mraise\u001b[39;00m \u001b[38;5;167;01mValueError\u001b[39;00m(\n\u001b[0;32m    251\u001b[0m \u001b[38;5;250m                \u001b[39m\u001b[38;5;124;03m\"\"\"\u001b[39;00m\n\u001b[0;32m    252\u001b[0m \u001b[38;5;124;03mCannot infer image type from output path '{file}'.\u001b[39;00m\n\u001b[1;32m   (...)\u001b[0m\n\u001b[0;32m    260\u001b[0m                 )\n\u001b[0;32m    261\u001b[0m             )\n\u001b[0;32m    263\u001b[0m     \u001b[38;5;66;03m# Request image\u001b[39;00m\n\u001b[0;32m    264\u001b[0m     \u001b[38;5;66;03m# -------------\u001b[39;00m\n\u001b[0;32m    265\u001b[0m     \u001b[38;5;66;03m# Do this first so we don't create a file if image conversion fails\u001b[39;00m\n\u001b[1;32m--> 266\u001b[0m     img_data \u001b[38;5;241m=\u001b[39m \u001b[43mto_image\u001b[49m\u001b[43m(\u001b[49m\n\u001b[0;32m    267\u001b[0m \u001b[43m        \u001b[49m\u001b[43mfig\u001b[49m\u001b[43m,\u001b[49m\n\u001b[0;32m    268\u001b[0m \u001b[43m        \u001b[49m\u001b[38;5;28;43mformat\u001b[39;49m\u001b[38;5;241;43m=\u001b[39;49m\u001b[38;5;28;43mformat\u001b[39;49m\u001b[43m,\u001b[49m\n\u001b[0;32m    269\u001b[0m \u001b[43m        \u001b[49m\u001b[43mscale\u001b[49m\u001b[38;5;241;43m=\u001b[39;49m\u001b[43mscale\u001b[49m\u001b[43m,\u001b[49m\n\u001b[0;32m    270\u001b[0m \u001b[43m        \u001b[49m\u001b[43mwidth\u001b[49m\u001b[38;5;241;43m=\u001b[39;49m\u001b[43mwidth\u001b[49m\u001b[43m,\u001b[49m\n\u001b[0;32m    271\u001b[0m \u001b[43m        \u001b[49m\u001b[43mheight\u001b[49m\u001b[38;5;241;43m=\u001b[39;49m\u001b[43mheight\u001b[49m\u001b[43m,\u001b[49m\n\u001b[0;32m    272\u001b[0m \u001b[43m        \u001b[49m\u001b[43mvalidate\u001b[49m\u001b[38;5;241;43m=\u001b[39;49m\u001b[43mvalidate\u001b[49m\u001b[43m,\u001b[49m\n\u001b[0;32m    273\u001b[0m \u001b[43m        \u001b[49m\u001b[43mengine\u001b[49m\u001b[38;5;241;43m=\u001b[39;49m\u001b[43mengine\u001b[49m\u001b[43m,\u001b[49m\n\u001b[0;32m    274\u001b[0m \u001b[43m    \u001b[49m\u001b[43m)\u001b[49m\n\u001b[0;32m    276\u001b[0m     \u001b[38;5;66;03m# Open file\u001b[39;00m\n\u001b[0;32m    277\u001b[0m     \u001b[38;5;66;03m# ---------\u001b[39;00m\n\u001b[0;32m    278\u001b[0m     \u001b[38;5;28;01mif\u001b[39;00m path \u001b[38;5;129;01mis\u001b[39;00m \u001b[38;5;28;01mNone\u001b[39;00m:\n\u001b[0;32m    279\u001b[0m         \u001b[38;5;66;03m# We previously failed to make sense of `file` as a pathlib object.\u001b[39;00m\n\u001b[0;32m    280\u001b[0m         \u001b[38;5;66;03m# Attempt to write to `file` as an open file descriptor.\u001b[39;00m\n",
      "File \u001b[1;32m~\\AppData\\Local\\Packages\\PythonSoftwareFoundation.Python.3.11_qbz5n2kfra8p0\\LocalCache\\local-packages\\Python311\\site-packages\\plotly\\io\\_kaleido.py:132\u001b[0m, in \u001b[0;36mto_image\u001b[1;34m(fig, format, width, height, scale, validate, engine)\u001b[0m\n\u001b[0;32m    130\u001b[0m     \u001b[38;5;66;03m# Raise informative error message if Kaleido is not installed\u001b[39;00m\n\u001b[0;32m    131\u001b[0m     \u001b[38;5;28;01mif\u001b[39;00m scope \u001b[38;5;129;01mis\u001b[39;00m \u001b[38;5;28;01mNone\u001b[39;00m:\n\u001b[1;32m--> 132\u001b[0m         \u001b[38;5;28;01mraise\u001b[39;00m \u001b[38;5;167;01mValueError\u001b[39;00m(\n\u001b[0;32m    133\u001b[0m \u001b[38;5;250m            \u001b[39m\u001b[38;5;124;03m\"\"\"\u001b[39;00m\n\u001b[0;32m    134\u001b[0m \u001b[38;5;124;03mImage export using the \"kaleido\" engine requires the kaleido package,\u001b[39;00m\n\u001b[0;32m    135\u001b[0m \u001b[38;5;124;03mwhich can be installed using pip:\u001b[39;00m\n\u001b[0;32m    136\u001b[0m \u001b[38;5;124;03m    $ pip install -U kaleido\u001b[39;00m\n\u001b[0;32m    137\u001b[0m \u001b[38;5;124;03m\"\"\"\u001b[39;00m\n\u001b[0;32m    138\u001b[0m         )\n\u001b[0;32m    140\u001b[0m     \u001b[38;5;66;03m# Validate figure\u001b[39;00m\n\u001b[0;32m    141\u001b[0m     \u001b[38;5;66;03m# ---------------\u001b[39;00m\n\u001b[0;32m    142\u001b[0m     fig_dict \u001b[38;5;241m=\u001b[39m validate_coerce_fig_to_dict(fig, validate)\n",
      "\u001b[1;31mValueError\u001b[0m: \nImage export using the \"kaleido\" engine requires the kaleido package,\nwhich can be installed using pip:\n    $ pip install -U kaleido\n"
     ]
    }
   ],
   "source": [
    "!pip install -U kaleido\n",
    "import plotly.express as px\n",
    "\n",
    "teams_poorest = wealthiest_teams.sort_values(by=\"PREDICTED_SALARY\", ascending=True)\n",
    "\n",
    "fig = px.bar(\n",
    "    teams_poorest,\n",
    "    x='TEAM_ABBREVIATION',\n",
    "    y='PREDICTED_SALARY',\n",
    "    color='PREDICTED_SALARY',\n",
    "    color_continuous_scale='Reds',\n",
    "    labels={'PREDICTED_SALARY': 'Team Salary (Millions)', 'TEAM_ABBREVIATION': 'Team'},\n",
    "    title=\"Top 5 Poorest Teams (Predicted Salary Total)\"\n",
    ")\n",
    "\n",
    "fig.update_layout(xaxis=dict(categoryorder='total ascending'))\n",
    "\n",
    "for i, row in teams_poorest.iterrows():\n",
    "    team = row['TEAM_ABBREVIATION']\n",
    "    salary = row['PREDICTED_SALARY']\n",
    "    if team in team_logos:\n",
    "        fig.add_layout_image(\n",
    "            dict(\n",
    "                source=team_logos[team],\n",
    "                x=team,\n",
    "                y=salary / 2,        # center vertically inside the bar\n",
    "                xref=\"x\",\n",
    "                yref=\"y\",\n",
    "                xanchor=\"center\",     # center horizontally\n",
    "                yanchor=\"middle\",     # align middle of image with y\n",
    "                sizex=0.3,            # fraction of category width\n",
    "                sizey=salary * 0.5,   # scale relative to bar height\n",
    "                layer=\"above\"\n",
    "            )\n",
    "        )\n",
    "\n",
    "fig.show()\n",
    "fig.write_image(\n",
    "    \"../database/poorestTeams.png\",  # path and file type\n",
    "    width=1200,     # width in pixels\n",
    "    height=800,     # height in pixels\n",
    "    scale=2         # 2x resolution (makes it sharp)\n",
    ")\n",
    "\n"
   ]
  },
  {
   "cell_type": "code",
   "execution_count": null,
   "id": "f8e00fc2",
   "metadata": {},
   "outputs": [
    {
     "data": {
      "application/vnd.plotly.v1+json": {
       "config": {
        "plotlyServerURL": "https://plot.ly"
       },
       "data": [
        {
         "alignmentgroup": "True",
         "hovertemplate": "Team=%{x}<br>Average Age=%{marker.color}<extra></extra>",
         "legendgroup": "",
         "marker": {
          "color": [
           30.615384615384617,
           30.153846153846153,
           29.53846153846154,
           29.307692307692307,
           28.846153846153847,
           28.46153846153846,
           28.384615384615383,
           28.272727272727273,
           28.076923076923077,
           28,
           27.923076923076923,
           27.692307692307693,
           27.23076923076923,
           26.615384615384617,
           26.384615384615383,
           26.307692307692307,
           26.23076923076923,
           26.076923076923077,
           26,
           25.846153846153847,
           25.846153846153847,
           25.846153846153847,
           25.692307692307693,
           25.615384615384617,
           25.384615384615383,
           25.307692307692307,
           25.153846153846153,
           24.846153846153847,
           24.153846153846153,
           24.076923076923077
          ],
          "coloraxis": "coloraxis",
          "pattern": {
           "shape": ""
          }
         },
         "name": "",
         "offsetgroup": "",
         "orientation": "v",
         "showlegend": false,
         "textposition": "auto",
         "type": "bar",
         "x": [
          "LAC",
          "PHI",
          "PHX",
          "LAL",
          "BOS",
          "MIL",
          "NYK",
          "SAC",
          "MIA",
          "GSW",
          "DEN",
          "DAL",
          "NOP",
          "CLE",
          "DET",
          "MIN",
          "HOU",
          "ATL",
          "MEM",
          "IND",
          "CHI",
          "TOR",
          "CHA",
          "WAS",
          "SAS",
          "ORL",
          "OKC",
          "POR",
          "UTA",
          "BKN"
         ],
         "xaxis": "x",
         "y": [
          30.615384615384617,
          30.153846153846153,
          29.53846153846154,
          29.307692307692307,
          28.846153846153847,
          28.46153846153846,
          28.384615384615383,
          28.272727272727273,
          28.076923076923077,
          28,
          27.923076923076923,
          27.692307692307693,
          27.23076923076923,
          26.615384615384617,
          26.384615384615383,
          26.307692307692307,
          26.23076923076923,
          26.076923076923077,
          26,
          25.846153846153847,
          25.846153846153847,
          25.846153846153847,
          25.692307692307693,
          25.615384615384617,
          25.384615384615383,
          25.307692307692307,
          25.153846153846153,
          24.846153846153847,
          24.153846153846153,
          24.076923076923077
         ],
         "yaxis": "y"
        }
       ],
       "layout": {
        "barmode": "relative",
        "coloraxis": {
         "colorbar": {
          "title": {
           "text": "Average Age"
          }
         },
         "colorscale": [
          [
           0,
           "#440154"
          ],
          [
           0.1111111111111111,
           "#482878"
          ],
          [
           0.2222222222222222,
           "#3e4989"
          ],
          [
           0.3333333333333333,
           "#31688e"
          ],
          [
           0.4444444444444444,
           "#26828e"
          ],
          [
           0.5555555555555556,
           "#1f9e89"
          ],
          [
           0.6666666666666666,
           "#35b779"
          ],
          [
           0.7777777777777778,
           "#6ece58"
          ],
          [
           0.8888888888888888,
           "#b5de2b"
          ],
          [
           1,
           "#fde725"
          ]
         ]
        },
        "legend": {
         "tracegroupgap": 0
        },
        "template": {
         "data": {
          "bar": [
           {
            "error_x": {
             "color": "#2a3f5f"
            },
            "error_y": {
             "color": "#2a3f5f"
            },
            "marker": {
             "line": {
              "color": "#E5ECF6",
              "width": 0.5
             },
             "pattern": {
              "fillmode": "overlay",
              "size": 10,
              "solidity": 0.2
             }
            },
            "type": "bar"
           }
          ],
          "barpolar": [
           {
            "marker": {
             "line": {
              "color": "#E5ECF6",
              "width": 0.5
             },
             "pattern": {
              "fillmode": "overlay",
              "size": 10,
              "solidity": 0.2
             }
            },
            "type": "barpolar"
           }
          ],
          "carpet": [
           {
            "aaxis": {
             "endlinecolor": "#2a3f5f",
             "gridcolor": "white",
             "linecolor": "white",
             "minorgridcolor": "white",
             "startlinecolor": "#2a3f5f"
            },
            "baxis": {
             "endlinecolor": "#2a3f5f",
             "gridcolor": "white",
             "linecolor": "white",
             "minorgridcolor": "white",
             "startlinecolor": "#2a3f5f"
            },
            "type": "carpet"
           }
          ],
          "choropleth": [
           {
            "colorbar": {
             "outlinewidth": 0,
             "ticks": ""
            },
            "type": "choropleth"
           }
          ],
          "contour": [
           {
            "colorbar": {
             "outlinewidth": 0,
             "ticks": ""
            },
            "colorscale": [
             [
              0,
              "#0d0887"
             ],
             [
              0.1111111111111111,
              "#46039f"
             ],
             [
              0.2222222222222222,
              "#7201a8"
             ],
             [
              0.3333333333333333,
              "#9c179e"
             ],
             [
              0.4444444444444444,
              "#bd3786"
             ],
             [
              0.5555555555555556,
              "#d8576b"
             ],
             [
              0.6666666666666666,
              "#ed7953"
             ],
             [
              0.7777777777777778,
              "#fb9f3a"
             ],
             [
              0.8888888888888888,
              "#fdca26"
             ],
             [
              1,
              "#f0f921"
             ]
            ],
            "type": "contour"
           }
          ],
          "contourcarpet": [
           {
            "colorbar": {
             "outlinewidth": 0,
             "ticks": ""
            },
            "type": "contourcarpet"
           }
          ],
          "heatmap": [
           {
            "colorbar": {
             "outlinewidth": 0,
             "ticks": ""
            },
            "colorscale": [
             [
              0,
              "#0d0887"
             ],
             [
              0.1111111111111111,
              "#46039f"
             ],
             [
              0.2222222222222222,
              "#7201a8"
             ],
             [
              0.3333333333333333,
              "#9c179e"
             ],
             [
              0.4444444444444444,
              "#bd3786"
             ],
             [
              0.5555555555555556,
              "#d8576b"
             ],
             [
              0.6666666666666666,
              "#ed7953"
             ],
             [
              0.7777777777777778,
              "#fb9f3a"
             ],
             [
              0.8888888888888888,
              "#fdca26"
             ],
             [
              1,
              "#f0f921"
             ]
            ],
            "type": "heatmap"
           }
          ],
          "heatmapgl": [
           {
            "colorbar": {
             "outlinewidth": 0,
             "ticks": ""
            },
            "colorscale": [
             [
              0,
              "#0d0887"
             ],
             [
              0.1111111111111111,
              "#46039f"
             ],
             [
              0.2222222222222222,
              "#7201a8"
             ],
             [
              0.3333333333333333,
              "#9c179e"
             ],
             [
              0.4444444444444444,
              "#bd3786"
             ],
             [
              0.5555555555555556,
              "#d8576b"
             ],
             [
              0.6666666666666666,
              "#ed7953"
             ],
             [
              0.7777777777777778,
              "#fb9f3a"
             ],
             [
              0.8888888888888888,
              "#fdca26"
             ],
             [
              1,
              "#f0f921"
             ]
            ],
            "type": "heatmapgl"
           }
          ],
          "histogram": [
           {
            "marker": {
             "pattern": {
              "fillmode": "overlay",
              "size": 10,
              "solidity": 0.2
             }
            },
            "type": "histogram"
           }
          ],
          "histogram2d": [
           {
            "colorbar": {
             "outlinewidth": 0,
             "ticks": ""
            },
            "colorscale": [
             [
              0,
              "#0d0887"
             ],
             [
              0.1111111111111111,
              "#46039f"
             ],
             [
              0.2222222222222222,
              "#7201a8"
             ],
             [
              0.3333333333333333,
              "#9c179e"
             ],
             [
              0.4444444444444444,
              "#bd3786"
             ],
             [
              0.5555555555555556,
              "#d8576b"
             ],
             [
              0.6666666666666666,
              "#ed7953"
             ],
             [
              0.7777777777777778,
              "#fb9f3a"
             ],
             [
              0.8888888888888888,
              "#fdca26"
             ],
             [
              1,
              "#f0f921"
             ]
            ],
            "type": "histogram2d"
           }
          ],
          "histogram2dcontour": [
           {
            "colorbar": {
             "outlinewidth": 0,
             "ticks": ""
            },
            "colorscale": [
             [
              0,
              "#0d0887"
             ],
             [
              0.1111111111111111,
              "#46039f"
             ],
             [
              0.2222222222222222,
              "#7201a8"
             ],
             [
              0.3333333333333333,
              "#9c179e"
             ],
             [
              0.4444444444444444,
              "#bd3786"
             ],
             [
              0.5555555555555556,
              "#d8576b"
             ],
             [
              0.6666666666666666,
              "#ed7953"
             ],
             [
              0.7777777777777778,
              "#fb9f3a"
             ],
             [
              0.8888888888888888,
              "#fdca26"
             ],
             [
              1,
              "#f0f921"
             ]
            ],
            "type": "histogram2dcontour"
           }
          ],
          "mesh3d": [
           {
            "colorbar": {
             "outlinewidth": 0,
             "ticks": ""
            },
            "type": "mesh3d"
           }
          ],
          "parcoords": [
           {
            "line": {
             "colorbar": {
              "outlinewidth": 0,
              "ticks": ""
             }
            },
            "type": "parcoords"
           }
          ],
          "pie": [
           {
            "automargin": true,
            "type": "pie"
           }
          ],
          "scatter": [
           {
            "fillpattern": {
             "fillmode": "overlay",
             "size": 10,
             "solidity": 0.2
            },
            "type": "scatter"
           }
          ],
          "scatter3d": [
           {
            "line": {
             "colorbar": {
              "outlinewidth": 0,
              "ticks": ""
             }
            },
            "marker": {
             "colorbar": {
              "outlinewidth": 0,
              "ticks": ""
             }
            },
            "type": "scatter3d"
           }
          ],
          "scattercarpet": [
           {
            "marker": {
             "colorbar": {
              "outlinewidth": 0,
              "ticks": ""
             }
            },
            "type": "scattercarpet"
           }
          ],
          "scattergeo": [
           {
            "marker": {
             "colorbar": {
              "outlinewidth": 0,
              "ticks": ""
             }
            },
            "type": "scattergeo"
           }
          ],
          "scattergl": [
           {
            "marker": {
             "colorbar": {
              "outlinewidth": 0,
              "ticks": ""
             }
            },
            "type": "scattergl"
           }
          ],
          "scattermapbox": [
           {
            "marker": {
             "colorbar": {
              "outlinewidth": 0,
              "ticks": ""
             }
            },
            "type": "scattermapbox"
           }
          ],
          "scatterpolar": [
           {
            "marker": {
             "colorbar": {
              "outlinewidth": 0,
              "ticks": ""
             }
            },
            "type": "scatterpolar"
           }
          ],
          "scatterpolargl": [
           {
            "marker": {
             "colorbar": {
              "outlinewidth": 0,
              "ticks": ""
             }
            },
            "type": "scatterpolargl"
           }
          ],
          "scatterternary": [
           {
            "marker": {
             "colorbar": {
              "outlinewidth": 0,
              "ticks": ""
             }
            },
            "type": "scatterternary"
           }
          ],
          "surface": [
           {
            "colorbar": {
             "outlinewidth": 0,
             "ticks": ""
            },
            "colorscale": [
             [
              0,
              "#0d0887"
             ],
             [
              0.1111111111111111,
              "#46039f"
             ],
             [
              0.2222222222222222,
              "#7201a8"
             ],
             [
              0.3333333333333333,
              "#9c179e"
             ],
             [
              0.4444444444444444,
              "#bd3786"
             ],
             [
              0.5555555555555556,
              "#d8576b"
             ],
             [
              0.6666666666666666,
              "#ed7953"
             ],
             [
              0.7777777777777778,
              "#fb9f3a"
             ],
             [
              0.8888888888888888,
              "#fdca26"
             ],
             [
              1,
              "#f0f921"
             ]
            ],
            "type": "surface"
           }
          ],
          "table": [
           {
            "cells": {
             "fill": {
              "color": "#EBF0F8"
             },
             "line": {
              "color": "white"
             }
            },
            "header": {
             "fill": {
              "color": "#C8D4E3"
             },
             "line": {
              "color": "white"
             }
            },
            "type": "table"
           }
          ]
         },
         "layout": {
          "annotationdefaults": {
           "arrowcolor": "#2a3f5f",
           "arrowhead": 0,
           "arrowwidth": 1
          },
          "autotypenumbers": "strict",
          "coloraxis": {
           "colorbar": {
            "outlinewidth": 0,
            "ticks": ""
           }
          },
          "colorscale": {
           "diverging": [
            [
             0,
             "#8e0152"
            ],
            [
             0.1,
             "#c51b7d"
            ],
            [
             0.2,
             "#de77ae"
            ],
            [
             0.3,
             "#f1b6da"
            ],
            [
             0.4,
             "#fde0ef"
            ],
            [
             0.5,
             "#f7f7f7"
            ],
            [
             0.6,
             "#e6f5d0"
            ],
            [
             0.7,
             "#b8e186"
            ],
            [
             0.8,
             "#7fbc41"
            ],
            [
             0.9,
             "#4d9221"
            ],
            [
             1,
             "#276419"
            ]
           ],
           "sequential": [
            [
             0,
             "#0d0887"
            ],
            [
             0.1111111111111111,
             "#46039f"
            ],
            [
             0.2222222222222222,
             "#7201a8"
            ],
            [
             0.3333333333333333,
             "#9c179e"
            ],
            [
             0.4444444444444444,
             "#bd3786"
            ],
            [
             0.5555555555555556,
             "#d8576b"
            ],
            [
             0.6666666666666666,
             "#ed7953"
            ],
            [
             0.7777777777777778,
             "#fb9f3a"
            ],
            [
             0.8888888888888888,
             "#fdca26"
            ],
            [
             1,
             "#f0f921"
            ]
           ],
           "sequentialminus": [
            [
             0,
             "#0d0887"
            ],
            [
             0.1111111111111111,
             "#46039f"
            ],
            [
             0.2222222222222222,
             "#7201a8"
            ],
            [
             0.3333333333333333,
             "#9c179e"
            ],
            [
             0.4444444444444444,
             "#bd3786"
            ],
            [
             0.5555555555555556,
             "#d8576b"
            ],
            [
             0.6666666666666666,
             "#ed7953"
            ],
            [
             0.7777777777777778,
             "#fb9f3a"
            ],
            [
             0.8888888888888888,
             "#fdca26"
            ],
            [
             1,
             "#f0f921"
            ]
           ]
          },
          "colorway": [
           "#636efa",
           "#EF553B",
           "#00cc96",
           "#ab63fa",
           "#FFA15A",
           "#19d3f3",
           "#FF6692",
           "#B6E880",
           "#FF97FF",
           "#FECB52"
          ],
          "font": {
           "color": "#2a3f5f"
          },
          "geo": {
           "bgcolor": "white",
           "lakecolor": "white",
           "landcolor": "#E5ECF6",
           "showlakes": true,
           "showland": true,
           "subunitcolor": "white"
          },
          "hoverlabel": {
           "align": "left"
          },
          "hovermode": "closest",
          "mapbox": {
           "style": "light"
          },
          "paper_bgcolor": "white",
          "plot_bgcolor": "#E5ECF6",
          "polar": {
           "angularaxis": {
            "gridcolor": "white",
            "linecolor": "white",
            "ticks": ""
           },
           "bgcolor": "#E5ECF6",
           "radialaxis": {
            "gridcolor": "white",
            "linecolor": "white",
            "ticks": ""
           }
          },
          "scene": {
           "xaxis": {
            "backgroundcolor": "#E5ECF6",
            "gridcolor": "white",
            "gridwidth": 2,
            "linecolor": "white",
            "showbackground": true,
            "ticks": "",
            "zerolinecolor": "white"
           },
           "yaxis": {
            "backgroundcolor": "#E5ECF6",
            "gridcolor": "white",
            "gridwidth": 2,
            "linecolor": "white",
            "showbackground": true,
            "ticks": "",
            "zerolinecolor": "white"
           },
           "zaxis": {
            "backgroundcolor": "#E5ECF6",
            "gridcolor": "white",
            "gridwidth": 2,
            "linecolor": "white",
            "showbackground": true,
            "ticks": "",
            "zerolinecolor": "white"
           }
          },
          "shapedefaults": {
           "line": {
            "color": "#2a3f5f"
           }
          },
          "ternary": {
           "aaxis": {
            "gridcolor": "white",
            "linecolor": "white",
            "ticks": ""
           },
           "baxis": {
            "gridcolor": "white",
            "linecolor": "white",
            "ticks": ""
           },
           "bgcolor": "#E5ECF6",
           "caxis": {
            "gridcolor": "white",
            "linecolor": "white",
            "ticks": ""
           }
          },
          "title": {
           "x": 0.05
          },
          "xaxis": {
           "automargin": true,
           "gridcolor": "white",
           "linecolor": "white",
           "ticks": "",
           "title": {
            "standoff": 15
           },
           "zerolinecolor": "white",
           "zerolinewidth": 2
          },
          "yaxis": {
           "automargin": true,
           "gridcolor": "white",
           "linecolor": "white",
           "ticks": "",
           "title": {
            "standoff": 15
           },
           "zerolinecolor": "white",
           "zerolinewidth": 2
          }
         }
        },
        "title": {
         "text": "Average Age of Top 13 Predicted Salary Players per Team"
        },
        "xaxis": {
         "anchor": "y",
         "categoryorder": "total descending",
         "domain": [
          0,
          1
         ],
         "title": {
          "text": "Team"
         }
        },
        "yaxis": {
         "anchor": "x",
         "domain": [
          0,
          1
         ],
         "title": {
          "text": "Average Age"
         }
        }
       }
      }
     },
     "metadata": {},
     "output_type": "display_data"
    }
   ],
   "source": [
    "import plotly.express as px\n",
    "\n",
    "# Step 1: Get top 13 paid players per team\n",
    "top_13_age = (\n",
    "    df.sort_values(by=['TEAM_ABBREVIATION', 'PREDICTED_SALARY'], ascending=[True, False])\n",
    "      .groupby('TEAM_ABBREVIATION')\n",
    "      .head(13)\n",
    ")\n",
    "\n",
    "# Step 2: Compute average age per team\n",
    "avg_age_df = (\n",
    "    top_13_age.groupby('TEAM_ABBREVIATION')['AGE']\n",
    "    .mean()\n",
    "    .reset_index()\n",
    "    .sort_values(by='AGE', ascending=False)\n",
    ")\n",
    "\n",
    "# Step 3: Plot vertical bar chart\n",
    "fig_avg_age = px.bar(\n",
    "    avg_age_df,\n",
    "    x='TEAM_ABBREVIATION',\n",
    "    y='AGE',\n",
    "    title='Average Age of Top 13 Predicted Salary Players per Team',\n",
    "    labels={'AGE': 'Average Age', 'TEAM_ABBREVIATION': 'Team'},\n",
    "    color='AGE',\n",
    "    color_continuous_scale='Viridis'\n",
    ")\n",
    "fig_avg_age.update_layout(xaxis=dict(categoryorder='total descending'))\n",
    "fig_avg_age.show()\n"
   ]
  },
  {
   "cell_type": "code",
   "execution_count": null,
   "id": "c1cf1b2c",
   "metadata": {},
   "outputs": [
    {
     "data": {
      "application/vnd.plotly.v1+json": {
       "config": {
        "plotlyServerURL": "https://plot.ly"
       },
       "data": [
        {
         "customdata": [
          [
           "AJ Johnson",
           2.8,
           7.422981943402979
          ],
          [
           "Aaron Wiggins",
           10.51,
           10.309593570901598
          ],
          [
           "Adem Bona",
           1.16,
           101.17315752752899
          ],
          [
           "Alec Burks",
           2.09,
           58.28175978227096
          ],
          [
           "Alex Len",
           2.09,
           85.20956404471512
          ],
          [
           "Alex Sarr",
           11.25,
           5.828492906358507
          ],
          [
           "Alperen Sengun",
           5.42,
           15.90603972713006
          ],
          [
           "Amen Thompson",
           9.25,
           22.63840340279244
          ],
          [
           "Andre Drummond",
           5,
           5.684499740600586
          ],
          [
           "Andre Jackson Jr.",
           1.89,
           160.95602247450088
          ],
          [
           "Andrew Nembhard",
           2.02,
           109.4807247124096
          ],
          [
           "Austin Reaves",
           12.98,
           166.74073723321334
          ],
          [
           "Baylor Scheierman",
           2.49,
           14.994049072265614
          ],
          [
           "Ben Sheppard",
           2.66,
           18.576422669833757
          ],
          [
           "Bennedict Mathurin",
           7.25,
           45.01939970871498
          ],
          [
           "Blake Wesley",
           2.62,
           77.50880190434346
          ],
          [
           "Bobi Klintman",
           1.26,
           78.26261974516369
          ],
          [
           "Brandin Podziemski",
           3.52,
           342.25326993248683
          ],
          [
           "Brandon Miller",
           11.42,
           119.21293121712011
          ],
          [
           "Bronny James",
           1.16,
           27.78075604603209
          ],
          [
           "Buddy Hield",
           8.78,
           10.188041026608555
          ],
          [
           "Cade Cunningham",
           13.94,
           5.255693411040344
          ],
          [
           "Caleb Houstan",
           2.02,
           31.567126453512966
          ],
          [
           "Cam Christie",
           1.16,
           77.505139646859
          ],
          [
           "Cam Reddish",
           2.46,
           24.358549350645486
          ],
          [
           "Cam Thomas",
           4.04,
           60.451230436268425
          ],
          [
           "Cam Whitmore",
           3.38,
           22.297628391423878
          ],
          [
           "Cameron Johnson",
           22.5,
           6.103880140516493
          ],
          [
           "Cameron Payne",
           2.09,
           437.07405710904794
          ],
          [
           "Cason Wallace",
           5.56,
           11.490916862762239
          ],
          [
           "Charles Bassey",
           2.09,
           69.64736737703024
          ],
          [
           "Chris Livingston",
           1.89,
           15.063947344583184
          ],
          [
           "Christian Braun",
           3.09,
           102.4068184269285
          ],
          [
           "Coby White",
           12,
           9.409658114115398
          ],
          [
           "Colby Jones",
           2.12,
           21.22239706651219
          ],
          [
           "Cole Anthony",
           12.9,
           15.517194880995635
          ],
          [
           "Cory Joseph",
           3.3,
           17.492863626191117
          ],
          [
           "Craig Porter Jr.",
           1.89,
           187.67434377518916
          ],
          [
           "D'Angelo Russell",
           18.69,
           51.85981207572564
          ],
          [
           "DaQuan Jeffries",
           3.08,
           13.629760680260594
          ],
          [
           "Dalano Banton",
           2.2,
           416.15910096602005
          ],
          [
           "Dalen Terry",
           3.51,
           6.691791121436666
          ],
          [
           "Damion Lee",
           2.09,
           11.614619715932461
          ],
          [
           "Daniel Theis",
           2.09,
           62.46463693500136
          ],
          [
           "David Roddy",
           2.85,
           23.560303135922076
          ],
          [
           "Day'Ron Sharpe",
           3.99,
           31.230103342156657
          ],
          [
           "DeAndre Jordan",
           2.09,
           74.27883650127211
          ],
          [
           "Delon Wright",
           2.09,
           76.85551392404658
          ],
          [
           "Derrick Jones Jr.",
           9.52,
           23.829921754468394
          ],
          [
           "Dillon Jones",
           2.62,
           17.524106993930026
          ],
          [
           "Donovan Clingan",
           6.84,
           80.81273251806785
          ],
          [
           "Donte DiVincenzo",
           11.45,
           21.9743870231262
          ],
          [
           "Doug McDermott",
           2.09,
           30.671040293132297
          ],
          [
           "Duop Reath",
           2.05,
           73.0714658411538
          ],
          [
           "Dyson Daniels",
           6.06,
           10.858006052451566
          ],
          [
           "E.J. Liddell",
           0.71,
           422.1718801579006
          ],
          [
           "Eric Gordon",
           3.3,
           6.197819565281729
          ],
          [
           "Evan Mobley",
           11.23,
           168.592257002901
          ],
          [
           "Franz Wagner",
           7.01,
           34.83952183526185
          ],
          [
           "Garrett Temple",
           2.09,
           11.469731946881316
          ],
          [
           "Garrison Mathews",
           2.23,
           76.9656450759135
          ],
          [
           "Gary Trent Jr.",
           2.09,
           45.54314636157461
          ],
          [
           "Goga Bitadze",
           9.06,
           10.29861357564694
          ],
          [
           "Gradey Dick",
           4.76,
           30.910683078926155
          ],
          [
           "Grayson Allen",
           15.62,
           34.2482450829578
          ],
          [
           "Guerschon Yabusele",
           2.09,
           420.47939391797814
          ],
          [
           "Gui Santos",
           1.89,
           90.37993496687956
          ],
          [
           "Haywood Highsmith",
           5.2,
           6.5214047065147955
          ],
          [
           "Hunter Tyson",
           1.89,
           6.171098335710157
          ],
          [
           "Isaiah Collier",
           2.51,
           10.327751038084001
          ],
          [
           "Ivica Zubac",
           11.74,
           101.4979308874075
          ],
          [
           "Jabari Smith Jr.",
           9.77,
           20.18624445311001
          ],
          [
           "Jabari Walker",
           2.02,
           10.345099231984355
          ],
          [
           "Jaden Hardy",
           2.02,
           64.56231032267655
          ],
          [
           "Jaden Ivey",
           7.98,
           7.549437902923807
          ],
          [
           "Jaime Jaquez Jr.",
           3.69,
           18.138124626180346
          ],
          [
           "Jake LaRavia",
           3.35,
           175.4913443949685
          ],
          [
           "Jalen Brunson",
           24.96,
           12.971518284235243
          ],
          [
           "Jalen Duren",
           4.54,
           20.995233762631855
          ],
          [
           "Jalen Johnson",
           4.51,
           73.32875279259524
          ],
          [
           "Jalen Pickett",
           1.89,
           141.52876838805187
          ],
          [
           "Jalen Suggs",
           9.19,
           265.45584328934734
          ],
          [
           "Jalen Williams",
           4.78,
           416.56060637789284
          ],
          [
           "Jalen Wilson",
           1.89,
           77.5581748397262
          ],
          [
           "Jamal Shead",
           1.86,
           20.931812511977324
          ],
          [
           "James Harden",
           33.65,
           19.29122902131896
          ],
          [
           "James Johnson",
           2.09,
           5.785867243862616
          ],
          [
           "James Wiseman",
           2.24,
           25.807683382715485
          ],
          [
           "Jarace Walker",
           6.36,
           23.551559148344598
          ],
          [
           "Jared McCain",
           4.02,
           93.58554289708685
          ],
          [
           "Javonte Green",
           2.09,
           63.06634154616362
          ],
          [
           "Jaxson Hayes",
           2.46,
           31.264178733515546
          ],
          [
           "Jay Huff",
           2.09,
           112.18121907357394
          ],
          [
           "Jaylen Nowell",
           0.28,
           815.5875444412229
          ],
          [
           "Jaylen Wells",
           1.16,
           1058.0211540748332
          ],
          [
           "Jaylin Williams",
           2.02,
           94.86098006220148
          ],
          [
           "Jaylon Tyson",
           3.33,
           5.011978664913691
          ],
          [
           "Jeremy Sochan",
           5.57,
           30.59735084136469
          ],
          [
           "Jericho Sims",
           2.09,
           53.86567731793418
          ],
          [
           "Joe Ingles",
           2.09,
           7.935296291369578
          ],
          [
           "Johnny Furphy",
           1.85,
           51.959677000303515
          ],
          [
           "Jonathan Kuminga",
           7.64,
           37.163356960756
          ],
          [
           "Jonathan Mogbo",
           1.86,
           83.52830281821629
          ],
          [
           "Jordan Hawkins",
           4.53,
           20.7517051275729
          ],
          [
           "Jordan McLaughlin",
           2.09,
           18.968783383164116
          ],
          [
           "Jordan Walsh",
           1.89,
           38.58535302379145
          ],
          [
           "Jose Alvarado",
           1.99,
           132.94381759873585
          ],
          [
           "Josh Minott",
           2.02,
           38.964735635436405
          ],
          [
           "Julian Champagnie",
           3,
           300.72711308797204
          ],
          [
           "Julian Phillips",
           1.89,
           12.541188638677047
          ],
          [
           "Julian Strawther",
           2.55,
           72.07508461148132
          ],
          [
           "Karlo Matković",
           1.41,
           56.52954155671682
          ],
          [
           "Keegan Murray",
           8.81,
           11.86043331219849
          ],
          [
           "Kel'el Ware",
           4.23,
           242.4515059090111
          ],
          [
           "Kelly Oubre Jr.",
           7.98,
           22.958580055332416
          ],
          [
           "Keon Ellis",
           2.12,
           89.31094205604408
          ],
          [
           "Keon Johnson",
           2.16,
           15.005826508557346
          ],
          [
           "Kevin Love",
           3.85,
           57.554378757229095
          ],
          [
           "Keyonte George",
           4.08,
           32.558299045936735
          ],
          [
           "Klay Thompson",
           15.87,
           18.821005289405875
          ],
          [
           "Kris Dunn",
           5.17,
           11.713935143712412
          ],
          [
           "Kris Murray",
           2.99,
           47.63441372874587
          ],
          [
           "Kyle Filipowski",
           3,
           182.68578847249347
          ],
          [
           "Kyle Lowry",
           2.09,
           87.48219503740376
          ],
          [
           "Kyshawn George",
           2.83,
           30.949256276915854
          ],
          [
           "Lindy Waters III",
           2.2,
           138.05999755859372
          ],
          [
           "Luka Garza",
           2.16,
           10.803997075116186
          ],
          [
           "Luke Kornet",
           2.09,
           35.33957266921633
          ],
          [
           "Malevy Leons",
           1.1,
           87.1872381730513
          ],
          [
           "Malik Beasley",
           6,
           13.88538678487142
          ],
          [
           "Malik Monk",
           17.41,
           5.78861050329148
          ],
          [
           "Marcus Sasser",
           2.76,
           94.2138913748921
          ],
          [
           "Mark Williams",
           4.09,
           41.98882655584434
          ],
          [
           "Markieff Morris",
           2.09,
           31.681490172609767
          ],
          [
           "Mason Plumlee",
           2.09,
           51.52999658904008
          ],
          [
           "Matt Ryan",
           0.62,
           145.85218198837774
          ],
          [
           "Max Christie",
           7.14,
           87.41190934381567
          ],
          [
           "Maxwell Lewis",
           1.89,
           32.321403140113475
          ],
          [
           "Mike Conley",
           9.98,
           13.31442601695089
          ],
          [
           "Miles McBride",
           4.71,
           32.72335068688525
          ],
          [
           "Mo Bamba",
           2.09,
           91.31112897224976
          ],
          [
           "Moritz Wagner",
           11,
           13.604198802601209
          ],
          [
           "Moses Brown",
           0.31,
           434.1927851400068
          ],
          [
           "Moses Moody",
           5.8,
           26.02932699795427
          ],
          [
           "Mouhamed Gueye",
           1.89,
           114.57460191514758
          ],
          [
           "Naji Marshall",
           8.57,
           5.6892368312199135
          ],
          [
           "Neemias Queta",
           2.16,
           28.718570426658342
          ],
          [
           "Nick Richards",
           5,
           146.01083755493164
          ],
          [
           "Nick Smith Jr.",
           2.59,
           12.64127193730771
          ],
          [
           "Nickeil Alexander-Walker",
           4.31,
           30.124180610108
          ],
          [
           "Nikola Jović",
           2.46,
           193.65669421064175
          ],
          [
           "Noah Clowney",
           3.24,
           46.26279289339795
          ],
          [
           "Norman Powell",
           19.24,
           7.7671308775205965
          ],
          [
           "Ochai Agbaji",
           4.31,
           28.271806544328243
          ],
          [
           "Orlando Robinson",
           2.09,
           10.174936540959562
          ],
          [
           "Oso Ighodaro",
           1.16,
           199.13032877034155
          ],
          [
           "Paolo Banchero",
           12.16,
           13.711239475952949
          ],
          [
           "Patrick Baldwin Jr.",
           2.45,
           19.590992830237557
          ],
          [
           "Patty Mills",
           2.09,
           29.606438595712483
          ],
          [
           "Paul Reed",
           2.49,
           149.66257164277224
          ],
          [
           "Pelle Larsson",
           1.16,
           119.96859846443968
          ],
          [
           "Peyton Watson",
           2.41,
           142.01565263676937
          ],
          [
           "Precious Achiuwa",
           6,
           12.113006909688313
          ],
          [
           "Quentin Grimes",
           4.3,
           49.370526158532435
          ],
          [
           "Rayan Rupert",
           1.89,
           22.28085250450821
          ],
          [
           "Ricky Council IV",
           1.89,
           38.35076932553893
          ],
          [
           "Russell Westbrook",
           5.63,
           16.114201384793382
          ],
          [
           "Russell Westbrook",
           5.63,
           16.114201384793382
          ],
          [
           "Ryan Dunn",
           2.53,
           66.68004951929389
          ],
          [
           "Ryan Rollins",
           0.6,
           1004.0145556132
          ],
          [
           "Sam Hauser",
           2.09,
           38.70301999543844
          ],
          [
           "Sam Merrill",
           2.16,
           89.42289882236055
          ],
          [
           "Sandro Mamukelashvili",
           2.09,
           84.3062200044331
          ],
          [
           "Santi Aldama",
           3.96,
           74.8847479772086
          ],
          [
           "Scottie Barnes",
           10.13,
           88.8258388929753
          ],
          [
           "Scotty Pippen Jr.",
           2.09,
           43.85175476804306
          ],
          [
           "Shaedon Sharpe",
           6.61,
           50.39360288772928
          ],
          [
           "Shai Gilgeous-Alexander",
           35.86,
           25.08064691274444
          ],
          [
           "Sidy Cissoko",
           1.89,
           25.890080890958277
          ],
          [
           "Spencer Dinwiddie",
           2.09,
           660.836395920749
          ],
          [
           "Svi Mykhailiuk",
           3.5,
           68.46908841814313
          ],
          [
           "Taj Gibson",
           2.09,
           71.91783092809067
          ],
          [
           "Talen Horton-Tucker",
           2.09,
           18.2858567488821
          ],
          [
           "Tari Eason",
           3.7,
           31.797970952214417
          ],
          [
           "Taurean Prince",
           2.09,
           367.587566832036
          ],
          [
           "Terrence Shannon Jr.",
           2.55,
           23.55989568373737
          ],
          [
           "Thomas Bryant",
           2.09,
           133.16698211231872
          ],
          [
           "Torrey Craig",
           2.85,
           26.802837639524224
          ],
          [
           "Toumani Camara",
           1.89,
           84.75828978119705
          ],
          [
           "Trayce Jackson-Davis",
           1.89,
           76.61644668175431
          ],
          [
           "Tre Jones",
           9.1,
           8.943865849421579
          ],
          [
           "Tre Mann",
           4.91,
           8.375054027300985
          ],
          [
           "Trendon Watford",
           2.73,
           36.225808671105916
          ],
          [
           "Trey Murphy III",
           5.16,
           66.04318175204963
          ],
          [
           "Tristan Thompson",
           2.09,
           14.477091428765847
          ],
          [
           "Ty Jerome",
           2.56,
           64.19555991888046
          ],
          [
           "Tyler Smith",
           1.16,
           117.92089116984401
          ],
          [
           "Tyus Jones",
           2.09,
           69.00131006560258
          ],
          [
           "Vasilije Micić",
           7.72,
           8.623035213490228
          ],
          [
           "Victor Wembanyama",
           12.77,
           11.193220038477483
          ],
          [
           "Vince Williams Jr.",
           2.12,
           169.33024514396234
          ],
          [
           "Vlatko Čančar",
           2.09,
           151.28734168823829
          ],
          [
           "Walker Kessler",
           2.97,
           469.0432718707254
          ],
          [
           "Wendell Moore Jr.",
           2.54,
           43.424507201187254
          ],
          [
           "Yves Missi",
           3.19,
           266.57506769353694
          ],
          [
           "Zach Edey",
           5.76,
           61.784506506390045
          ]
         ],
         "hovertemplate": "COLOR=green<br>AGE=%{x}<br>PREDICTED_SALARY=%{y}<br>PPG=%{marker.size}<br>PLAYER_NAME=%{customdata[0]}<br>SALARY_CONDENSED=%{customdata[1]}<br>SALARY_PCT_CHANGE=%{customdata[2]}<extra></extra>",
         "legendgroup": "green",
         "marker": {
          "color": "green",
          "size": [
           7.6,
           12,
           5.8,
           7.3,
           1.6,
           13,
           19.1,
           14.1,
           7.3,
           3.4,
           10,
           20.2,
           3.6,
           5.3,
           16.1,
           3.7,
           1.9,
           11.7,
           21,
           2.3,
           11.1,
           26.1,
           4.1,
           1.4,
           3.2,
           24,
           9.4,
           18.8,
           6.9,
           8.4,
           4.4,
           1.4,
           15.4,
           20.4,
           4,
           9.4,
           3.5,
           3.7,
           12.6,
           6.7,
           8.3,
           4.5,
           3.3,
           4.3,
           4.6,
           7.9,
           3.7,
           3.1,
           10.1,
           2.5,
           6.5,
           11.7,
           3.5,
           4.2,
           14.1,
           1.8,
           6.8,
           18.5,
           24.2,
           1.9,
           7.5,
           11.1,
           7.2,
           14.4,
           10.6,
           11,
           4.1,
           6.5,
           2.6,
           8.7,
           16.8,
           12.2,
           5.2,
           8.7,
           17.6,
           8.6,
           6.9,
           26,
           11.8,
           18.9,
           4.1,
           16.2,
           21.6,
           9.5,
           7.1,
           22.8,
           0.7,
           6,
           6.1,
           15.3,
           5.1,
           6.8,
           6.9,
           8.4,
           10.4,
           5.9,
           3.6,
           11.4,
           1.8,
           0.8,
           2.1,
           15.3,
           6.2,
           10.8,
           2.1,
           1.6,
           10.3,
           2.6,
           9.9,
           4.6,
           9,
           7.7,
           12.4,
           9.3,
           15.1,
           8.3,
           10.6,
           5.3,
           16.8,
           14,
           6.4,
           4.2,
           9.6,
           3.9,
           8.7,
           4.9,
           3.5,
           6,
           0.3,
           16.3,
           17.2,
           6.6,
           15.2,
           3.7,
           4.5,
           1.5,
           9.6,
           4.1,
           8.2,
           9.5,
           4.3,
           12.9,
           5.8,
           9.8,
           6,
           13.2,
           5,
           9.3,
           9.8,
           9.4,
           10.7,
           9.1,
           21.8,
           10.4,
           6.9,
           4.2,
           25.9,
           2.2,
           3.8,
           4.1,
           4.6,
           8.1,
           6.6,
           14.6,
           3,
           7.3,
           13.3,
           13.3,
           6.9,
           6.2,
           8.5,
           7.2,
           6.3,
           12.5,
           19.3,
           9.9,
           18.5,
           32.7,
           1.5,
           11,
           8.8,
           2.9,
           6.5,
           12,
           8.2,
           4.3,
           6.5,
           4.2,
           11.3,
           6.6,
           7.2,
           14.1,
           10.2,
           21.2,
           1.7,
           12.5,
           2.9,
           10.2,
           6.6,
           24.3,
           6.6,
           1.8,
           11.1,
           4.2,
           9.1,
           9.2
          ],
          "sizemode": "area",
          "sizeref": 0.08175,
          "symbol": "circle"
         },
         "mode": "markers",
         "name": "green",
         "orientation": "v",
         "showlegend": true,
         "type": "scatter",
         "x": [
          20,
          26,
          22,
          33,
          32,
          20,
          22,
          22,
          31,
          23,
          25,
          27,
          24,
          23,
          23,
          22,
          22,
          22,
          22,
          20,
          32,
          23,
          22,
          19,
          25,
          23,
          20,
          29,
          30,
          21,
          24,
          21,
          24,
          25,
          23,
          25,
          33,
          25,
          29,
          27,
          25,
          22,
          32,
          33,
          24,
          23,
          36,
          33,
          28,
          23,
          21,
          28,
          33,
          29,
          22,
          24,
          36,
          24,
          23,
          39,
          28,
          26,
          25,
          21,
          29,
          29,
          23,
          28,
          25,
          20,
          28,
          22,
          22,
          22,
          23,
          24,
          23,
          28,
          21,
          23,
          25,
          24,
          24,
          24,
          22,
          35,
          38,
          24,
          21,
          21,
          31,
          25,
          27,
          25,
          21,
          23,
          22,
          22,
          26,
          37,
          20,
          22,
          23,
          23,
          29,
          21,
          27,
          22,
          24,
          21,
          23,
          24,
          24,
          21,
          29,
          25,
          23,
          36,
          21,
          35,
          31,
          24,
          21,
          39,
          21,
          27,
          26,
          29,
          25,
          28,
          27,
          24,
          23,
          35,
          35,
          28,
          22,
          22,
          37,
          24,
          27,
          28,
          25,
          23,
          22,
          27,
          25,
          27,
          21,
          26,
          22,
          20,
          32,
          25,
          24,
          22,
          22,
          22,
          36,
          26,
          24,
          22,
          25,
          25,
          21,
          23,
          36,
          36,
          22,
          22,
          27,
          29,
          26,
          24,
          23,
          24,
          22,
          26,
          21,
          32,
          28,
          40,
          24,
          24,
          31,
          24,
          27,
          34,
          25,
          25,
          25,
          24,
          24,
          25,
          34,
          27,
          20,
          29,
          31,
          21,
          24,
          28,
          23,
          23,
          21,
          23
         ],
         "xaxis": "x",
         "y": [
          3.0078435,
          11.593538,
          2.3336086,
          3.3080888,
          3.87088,
          11.905705,
          6.2821074,
          11.344052,
          5.284225,
          4.932069,
          4.2315106,
          34.622948,
          2.8633518,
          3.1541328,
          10.5139065,
          4.6507306,
          2.246109,
          15.567315,
          25.034117,
          1.4822568,
          9.67451,
          14.672644,
          2.657656,
          2.0590596,
          3.0592203,
          6.4822297,
          4.13366,
          23.873373,
          11.224848,
          6.198895,
          3.54563,
          2.1747086,
          6.2543707,
          13.129159,
          2.5699148,
          14.901718,
          3.8772645,
          5.437045,
          28.382599,
          3.4997966,
          11.3555,
          3.7448819,
          2.3327456,
          3.395511,
          3.5214686,
          5.236081,
          3.6424277,
          3.6962802,
          11.788609,
          3.0791316,
          12.367591,
          13.966067,
          2.7310247,
          3.547965,
          6.717995,
          3.7074203,
          3.504528,
          30.16291,
          9.4522505,
          2.3297174,
          3.946334,
          3.0418518,
          9.993054,
          6.2313485,
          20.969576,
          10.878019,
          3.5981808,
          5.539113,
          2.0066338,
          2.7692266,
          23.655857,
          11.742196,
          2.228971,
          3.3241587,
          8.582445,
          4.359297,
          9.22896,
          28.197691,
          5.4931836,
          7.8171268,
          4.5648937,
          33.585392,
          24.691597,
          3.3558495,
          2.2493317,
          40.1415,
          2.2109246,
          2.818092,
          7.857879,
          7.782139,
          3.4080865,
          3.2290988,
          4.4345875,
          2.5636451,
          13.433045,
          3.9361918,
          3.496899,
          7.2742724,
          3.2157927,
          2.2558477,
          2.811254,
          10.47928,
          3.4136264,
          5.4700522,
          2.4864476,
          2.6192632,
          4.635582,
          2.8070877,
          12.021813,
          2.1270285,
          4.3879147,
          2.2070665,
          9.854904,
          14.485699,
          9.812095,
          4.013392,
          2.4841259,
          6.0658436,
          5.4083786,
          18.856894,
          5.7756104,
          4.414269,
          8.480574,
          3.9183779,
          3.705864,
          5.23732,
          2.3933663,
          2.828597,
          2.0590596,
          6.833123,
          18.417797,
          5.3603034,
          5.807343,
          2.7521431,
          3.166977,
          1.5242835,
          13.38121,
          2.5008745,
          11.30878,
          6.25127,
          3.9984026,
          12.496462,
          1.6559976,
          7.309701,
          4.05546,
          9.057568,
          2.7803211,
          12.300542,
          2.917409,
          5.608352,
          7.2239547,
          4.7389145,
          20.734396,
          5.528515,
          2.3026562,
          3.4699118,
          13.827287,
          2.9299793,
          2.7087746,
          6.216598,
          2.5516357,
          5.832577,
          6.7267804,
          6.4229326,
          2.311108,
          2.6148295,
          6.5372295,
          6.5372295,
          4.2170053,
          6.6240873,
          2.898893,
          4.0915346,
          3.852,
          6.925436,
          19.128057,
          3.0065017,
          9.941017,
          44.85392,
          2.3793225,
          15.901481,
          5.896418,
          3.5930827,
          2.4721744,
          4.876525,
          9.77258,
          3.1507773,
          4.87319,
          3.6138809,
          3.4919317,
          3.3380508,
          9.913892,
          5.321215,
          3.7189646,
          8.567828,
          2.3925712,
          4.2034063,
          2.5278823,
          3.5321274,
          8.385698,
          14.199374,
          5.709801,
          5.2519054,
          16.900585,
          3.6429825,
          11.693745,
          9.318788
         ],
         "yaxis": "y"
        },
        {
         "customdata": [
          [
           "Aaron Gordon",
           22.84,
           -3.626525464700942
          ],
          [
           "Al Horford",
           9.5,
           4.682852092542147
          ],
          [
           "Alex Caruso",
           9.89,
           -0.8844836536866525
          ],
          [
           "Amir Coffey",
           3.94,
           1.393273639194858
          ],
          [
           "Anfernee Simons",
           25.89,
           -2.132320882915854
          ],
          [
           "Anthony Black",
           7.61,
           -0.7080418991509979
          ],
          [
           "Anthony Davis",
           43.22,
           -2.2242604775982593
          ],
          [
           "Anthony Edwards",
           42.18,
           -0.562065706935862
          ],
          [
           "Antonio Reeves",
           1.16,
           1.2961617831526202
          ],
          [
           "Ayo Dosunmu",
           7,
           -3.252969469342913
          ],
          [
           "Bam Adebayo",
           34.85,
           -3.0270350714838186
          ],
          [
           "Bilal Coulibaly",
           6.95,
           -3.6680399942741144
          ],
          [
           "Bobby Portis",
           12.58,
           -0.15289173217191282
          ],
          [
           "Brice Sensabaugh",
           2.57,
           -3.109992060679864
          ],
          [
           "Brook Lopez",
           23,
           -3.7157058715820312
          ],
          [
           "Caleb Martin",
           8.15,
           -4.78197928586621
          ],
          [
           "Caris LeVert",
           16.62,
           0.7402101004883926
          ],
          [
           "Chet Holmgren",
           10.88,
           -3.3047434161691176
          ],
          [
           "Chris Paul",
           10.46,
           -4.49193330841357
          ],
          [
           "Collin Sexton",
           18.35,
           -2.1404796465216354
          ],
          [
           "Corey Kispert",
           5.71,
           2.317863504439854
          ],
          [
           "Dalton Knecht",
           3.82,
           -0.2776470483909685
          ],
          [
           "Daniel Gafford",
           13.39,
           0.34885221314661286
          ],
          [
           "Darius Garland",
           36.73,
           -1.1281359075623554
          ],
          [
           "De'Aaron Fox",
           34.85,
           -1.6907745317543978
          ],
          [
           "DeMar DeRozan",
           23.4,
           -0.9128472743890164
          ],
          [
           "Dejounte Murray",
           29.52,
           2.176459501106243
          ],
          [
           "Deni Avdija",
           15.62,
           3.931597955095636
          ],
          [
           "Dereck Lively II",
           5.01,
           2.2414628141178623
          ],
          [
           "Derrick White",
           20.07,
           0.8409900218619583
          ],
          [
           "Desmond Bane",
           34.01,
           -4.733134591905408
          ],
          [
           "Devin Booker",
           49.21,
           -4.582816831127123
          ],
          [
           "Devin Vassell",
           29.35,
           -3.641383936295522
          ],
          [
           "Dillon Brooks",
           22.26,
           -4.861227414250274
          ],
          [
           "Domantas Sabonis",
           40.5,
           -0.21425412024980708
          ],
          [
           "Donovan Mitchell",
           35.41,
           -1.086634345325287
          ],
          [
           "Dwight Powell",
           4,
           -1.0380268096923828
          ],
          [
           "Fred VanVleet",
           42.85,
           -4.008222154864356
          ],
          [
           "Georges Niang",
           8.5,
           -1.6900904038373161
          ],
          [
           "Giannis Antetokounmpo",
           48.79,
           -0.5315381499875085
          ],
          [
           "Harrison Barnes",
           18,
           -3.7215762668185763
          ],
          [
           "Isaiah Hartenstein",
           30,
           -3.6045074462890625
          ],
          [
           "Isaiah Jackson",
           4.44,
           -1.424474544353322
          ],
          [
           "Ja'Kobe Walter",
           3.46,
           3.1569249368127386
          ],
          [
           "Jakob Poeltl",
           19.5,
           1.6204344920622997
          ],
          [
           "Jalen Green",
           12.48,
           4.000041118034947
          ],
          [
           "Jamal Murray",
           36.02,
           0.45345461017749683
          ],
          [
           "Jaren Jackson Jr.",
           25.26,
           0.35697562488787854
          ],
          [
           "Jarrett Allen",
           20,
           1.8493938446044922
          ],
          [
           "Jayson Tatum",
           34.85,
           2.1229923199033762
          ],
          [
           "Jerami Grant",
           29.79,
           -1.065051695691452
          ],
          [
           "Jeremiah Robinson-Earl",
           2.2,
           2.5664264505559666
          ],
          [
           "Joel Embiid",
           51.42,
           -2.6399565688926705
          ],
          [
           "John Collins",
           26.58,
           -4.512580486954912
          ],
          [
           "Jonas Valančiūnas",
           9.9,
           1.4334938742897692
          ],
          [
           "Jordan Clarkson",
           14.09,
           -3.8666981682868773
          ],
          [
           "Jordan Poole",
           29.65,
           -2.805083919737427
          ],
          [
           "Josh Giddey",
           8.35,
           4.410182930038365
          ],
          [
           "Josh Hart",
           18.14,
           -3.9329162900476793
          ],
          [
           "Josh Okogie",
           8.25,
           -1.0161313143643464
          ],
          [
           "Josh Richardson",
           3.05,
           -0.9381669466612711
          ],
          [
           "Julius Randle",
           33.07,
           -1.6798288756567519
          ],
          [
           "Jusuf Nurkić",
           18.12,
           -4.315792698470704
          ],
          [
           "Karl-Anthony Towns",
           49.21,
           -1.7453285718056242
          ],
          [
           "Kelly Olynyk",
           12.8,
           4.2468920350074715
          ],
          [
           "Kevin Durant",
           51.18,
           -3.031677508456672
          ],
          [
           "Kevon Looney",
           8,
           0.4359126091003418
          ],
          [
           "Kristaps Porziņģis",
           29.27,
           -0.6662932442527264
          ],
          [
           "Kyrie Irving",
           41,
           -2.7458377000762195
          ],
          [
           "LaMelo Ball",
           35.15,
           -2.6743317735652963
          ],
          [
           "LeBron James",
           48.73,
           -0.4842240341189591
          ],
          [
           "Leonard Miller",
           1.89,
           3.9271190683677766
          ],
          [
           "MarJon Beauchamp",
           2.73,
           -2.3312352079174885
          ],
          [
           "Michael Porter Jr.",
           35.86,
           -1.488102552814982
          ],
          [
           "Miles Bridges",
           27.17,
           -1.1930929723802164
          ],
          [
           "Myles Turner",
           19.93,
           0.15587201384043514
          ],
          [
           "Naz Reid",
           13.99,
           -0.8858007904118191
          ],
          [
           "Nic Claxton",
           27.56,
           -3.663661552617438
          ],
          [
           "Nikola Jokić",
           51.42,
           -1.8875665119398188
          ],
          [
           "Nikola Vučević",
           20,
           -0.8017826080322265
          ],
          [
           "Onyeka Okongwu",
           14,
           -0.1266411372593471
          ],
          [
           "Ousmane Dieng",
           5.03,
           -3.912354653208682
          ],
          [
           "P.J. Washington",
           15.5,
           -0.7580234158423639
          ],
          [
           "PJ Dozier",
           2.09,
           0.20306235865543446
          ],
          [
           "Pascal Siakam",
           42.18,
           -0.010236918276211393
          ],
          [
           "Paul George",
           49.21,
           -4.6537774870294415
          ],
          [
           "Reggie Jackson",
           4.03,
           2.60590252746127
          ],
          [
           "Reggie Jackson",
           4.03,
           2.60590252746127
          ],
          [
           "Royce O'Neale",
           9.38,
           -0.597224611717509
          ],
          [
           "Scoot Henderson",
           10.26,
           0.6671745642351613
          ],
          [
           "Stephen Curry",
           55.76,
           -4.483921045552364
          ],
          [
           "Stephon Castle",
           9.11,
           0.5836323508839508
          ],
          [
           "Terry Rozier",
           24.92,
           -3.3661715291667775
          ],
          [
           "Tim Hardaway Jr.",
           16.19,
           -0.3172126944378843
          ],
          [
           "Trae Young",
           43.03,
           -0.012529370066126568
          ],
          [
           "Tyler Herro",
           29,
           2.306793475973195
          ],
          [
           "Tyler Kolek",
           2.09,
           0.3413565421218575
          ],
          [
           "Tyrese Maxey",
           35.15,
           2.5026736523993196
          ],
          [
           "Wendell Carter Jr.",
           11.95,
           -4.246645492489861
          ],
          [
           "Ziaire Williams",
           6.13,
           1.1132027157757078
          ],
          [
           "Zion Williamson",
           36.73,
           -2.7013635882038187
          ]
         ],
         "hovertemplate": "COLOR=yellow<br>AGE=%{x}<br>PREDICTED_SALARY=%{y}<br>PPG=%{marker.size}<br>PLAYER_NAME=%{customdata[0]}<br>SALARY_CONDENSED=%{customdata[1]}<br>SALARY_PCT_CHANGE=%{customdata[2]}<extra></extra>",
         "legendgroup": "yellow",
         "marker": {
          "color": "yellow",
          "size": [
           14.7,
           9,
           7.1,
           9.7,
           19.3,
           9.4,
           24.7,
           27.6,
           6.9,
           12.3,
           18.1,
           12.3,
           13.9,
           10.9,
           13,
           7.9,
           12.1,
           15,
           8.8,
           18.4,
           11.6,
           9.1,
           12.3,
           20.6,
           23.5,
           22.2,
           17.5,
           16.9,
           8.7,
           16.4,
           19.2,
           25.6,
           16.3,
           14,
           19.1,
           24,
           2.1,
           14.1,
           9.9,
           30.4,
           12.3,
           11.2,
           7,
           8.6,
           14.5,
           21,
           21.4,
           22.2,
           13.5,
           26.8,
           14.4,
           6.3,
           23.8,
           19,
           10.4,
           16.2,
           20.5,
           14.6,
           13.6,
           7.1,
           4,
           18.7,
           8.9,
           24.4,
           8.7,
           26.6,
           4.5,
           19.5,
           24.7,
           25.2,
           24.4,
           1.5,
           2.3,
           18.2,
           20.3,
           15.6,
           14.2,
           10.3,
           29.6,
           18.5,
           13.4,
           3.8,
           14.7,
           0.8,
           20.2,
           16.2,
           4.4,
           4.4,
           9.1,
           12.7,
           24.5,
           14.7,
           10.6,
           11,
           24.2,
           23.9,
           2,
           26.3,
           9.1,
           10,
           24.6
          ],
          "sizemode": "area",
          "sizeref": 0.08175,
          "symbol": "circle"
         },
         "mode": "markers",
         "name": "yellow",
         "orientation": "v",
         "showlegend": true,
         "type": "scatter",
         "x": [
          29,
          39,
          31,
          28,
          26,
          21,
          32,
          23,
          22,
          25,
          27,
          20,
          30,
          21,
          37,
          29,
          30,
          23,
          40,
          26,
          26,
          24,
          26,
          25,
          27,
          35,
          28,
          24,
          21,
          30,
          27,
          28,
          24,
          29,
          29,
          28,
          33,
          31,
          32,
          30,
          33,
          27,
          23,
          20,
          29,
          23,
          28,
          25,
          27,
          27,
          31,
          24,
          31,
          27,
          33,
          33,
          26,
          22,
          30,
          26,
          31,
          30,
          30,
          29,
          34,
          36,
          29,
          29,
          33,
          23,
          40,
          21,
          24,
          27,
          27,
          29,
          25,
          26,
          30,
          34,
          24,
          22,
          26,
          28,
          31,
          35,
          35,
          35,
          32,
          21,
          37,
          20,
          31,
          33,
          26,
          25,
          24,
          24,
          26,
          23,
          24
         ],
         "xaxis": "x",
         "y": [
          22.011702,
          9.944871,
          9.802525,
          3.994895,
          25.337942,
          7.556118,
          42.258675,
          41.94292,
          1.1750355,
          6.772292,
          33.79508,
          6.695071,
          12.560766,
          2.4900732,
          22.145388,
          7.7602687,
          16.743023,
          10.520444,
          9.990144,
          17.957222,
          5.84235,
          3.809394,
          13.436711,
          36.315636,
          34.260765,
          23.186394,
          30.16249,
          16.234116,
          5.1222973,
          20.238787,
          32.40026,
          46.954796,
          28.281254,
          21.17789,
          40.413227,
          35.025223,
          3.958479,
          41.132477,
          8.356342,
          48.530663,
          17.330116,
          28.918648,
          4.3767533,
          3.5692296,
          19.815985,
          12.979205,
          36.183334,
          25.350172,
          20.369879,
          35.589863,
          29.472721,
          2.2564614,
          50.062534,
          25.380556,
          10.041916,
          13.545182,
          28.818293,
          8.71825,
          17.426569,
          8.166169,
          3.021386,
          32.51448,
          17.337978,
          48.351124,
          13.343602,
          49.628387,
          8.034873,
          29.074976,
          39.874207,
          34.209972,
          48.494038,
          1.9642226,
          2.6663573,
          35.326366,
          26.845837,
          19.961065,
          13.866076,
          26.550295,
          50.449413,
          19.839643,
          13.98227,
          4.8332086,
          15.382506,
          2.094244,
          42.175682,
          46.919876,
          4.135018,
          4.135018,
          9.32398,
          10.328452,
          53.259766,
          9.163169,
          24.08115,
          16.138643,
          43.02461,
          29.66897,
          2.0971344,
          36.02969,
          11.442526,
          6.1982393,
          35.73779
         ],
         "yaxis": "y"
        },
        {
         "customdata": [
          [
           "Aaron Holiday",
           4.67,
           -12.273439656488389
          ],
          [
           "Aaron Nesmith",
           11,
           -9.644915840842506
          ],
          [
           "Andrew Wiggins",
           26.28,
           -7.841929199125854
          ],
          [
           "Anthony Gill",
           2.24,
           -84.76089510534491
          ],
          [
           "Ausar Thompson",
           8.38,
           -5.114777048334026
          ],
          [
           "Ben Simmons",
           40.34,
           -68.28017757266362
          ],
          [
           "Bogdan Bogdanović",
           17.26,
           -9.892165094510437
          ],
          [
           "Bones Hyland",
           4.16,
           -6.3621461391449
          ],
          [
           "Bradley Beal",
           50.2,
           -9.703182509220934
          ],
          [
           "Brandon Clarke",
           12.5,
           -11.223106384277344
          ],
          [
           "Brandon Ingram",
           36.02,
           -12.628796549388802
          ],
          [
           "Bruce Brown",
           23,
           -70.51124158112898
          ],
          [
           "CJ McCollum",
           33.33,
           -5.375873509592165
          ],
          [
           "Chris Boucher",
           10.81,
           -30.318493626935965
          ],
          [
           "Chris Duarte",
           5.89,
           -16.840336318736565
          ],
          [
           "Clint Capela",
           22.27,
           -15.404985665097382
          ],
          [
           "Cody Martin",
           8.12,
           -12.562511237384054
          ],
          [
           "Cody Williams",
           5.47,
           -49.376674631178055
          ],
          [
           "Damian Lillard",
           48.79,
           -28.29935989020227
          ],
          [
           "Dario Šarić",
           5.17,
           -16.467002558754306
          ],
          [
           "Dariq Whitehead",
           3.11,
           -10.23417071130881
          ],
          [
           "Davion Mitchell",
           6.45,
           -8.034206360809565
          ],
          [
           "De'Andre Hunter",
           21.7,
           -22.89638958768361
          ],
          [
           "De'Anthony Melton",
           12.82,
           -70.62260386724368
          ],
          [
           "Dean Wade",
           6.17,
           -7.950651703622777
          ],
          [
           "Deandre Ayton",
           34.01,
           -6.674373573991904
          ],
          [
           "Dennis Schröder",
           13.03,
           -12.453063707212618
          ],
          [
           "Devin Carter",
           4.69,
           -7.128612624048432
          ],
          [
           "Dorian Finney-Smith",
           14.92,
           -62.88819223562451
          ],
          [
           "Draymond Green",
           24.11,
           -5.5114122704814825
          ],
          [
           "Drew Eubanks",
           5,
           -26.609678268432617
          ],
          [
           "Duncan Robinson",
           19.41,
           -12.33949499115509
          ],
          [
           "Gabe Vincent",
           11,
           -31.841148029674184
          ],
          [
           "Gary Harris",
           7.5,
           -20.97710927327474
          ],
          [
           "Gary Payton II",
           9.13,
           -9.921418406224337
          ],
          [
           "Grant Williams",
           13.03,
           -8.113391785464279
          ],
          [
           "Herbert Jones",
           12.98,
           -28.308194517538254
          ],
          [
           "Immanuel Quickley",
           32.5,
           -7.598648071289063
          ],
          [
           "Isaac Okoro",
           10.19,
           -53.68556021708151
          ],
          [
           "Isaiah Joe",
           12.99,
           -11.030797980398836
          ],
          [
           "Isaiah Stewart",
           15,
           -34.533634185791016
          ],
          [
           "Ja Morant",
           36.73,
           -5.752425553394271
          ],
          [
           "Jaden McDaniels",
           23.02,
           -6.425078364686277
          ],
          [
           "Jaden Springer",
           4.02,
           -14.526974976952387
          ],
          [
           "Jae'Sean Tate",
           7.57,
           -21.232447756486337
          ],
          [
           "Jalen Hood-Schifino",
           3.88,
           -13.574094624863456
          ],
          [
           "Jalen McDaniels",
           4.74,
           -9.049549183262053
          ],
          [
           "Jalen Smith",
           8.57,
           -16.375264821002478
          ],
          [
           "Jarred Vanderbilt",
           10.71,
           -23.30969659999417
          ],
          [
           "Jaylen Brown",
           49.7,
           -7.971280441437694
          ],
          [
           "Jeff Green",
           8,
           -30.017709732055664
          ],
          [
           "Jett Howard",
           5.28,
           -25.696217652523163
          ],
          [
           "Jevon Carter",
           6.5,
           -17.20912639911358
          ],
          [
           "Jock Landale",
           8,
           -14.918303489685059
          ],
          [
           "John Konchar",
           6.17,
           -13.44780357768895
          ],
          [
           "Johnny Davis",
           5.29,
           -54.822067953012386
          ],
          [
           "Johnny Juzang",
           3.09,
           -17.248421888135393
          ],
          [
           "Jonathan Isaac",
           25,
           -19.520774841308594
          ],
          [
           "Josh Green",
           12.65,
           -19.854831318610273
          ],
          [
           "Jrue Holiday",
           30,
           -7.1276601155598955
          ],
          [
           "KJ Martin",
           7.97,
           -28.577768907343575
          ],
          [
           "Kawhi Leonard",
           49.21,
           -31.578059623794232
          ],
          [
           "Keldon Johnson",
           19,
           -16.079967900326377
          ],
          [
           "Kenrich Williams",
           6.67,
           -9.517718576777284
          ],
          [
           "Kentavious Caldwell-Pope",
           22.76,
           -6.046294160383663
          ],
          [
           "Kevin Huerter",
           16.83,
           -15.023742512585637
          ],
          [
           "Kevin Porter Jr.",
           3.24,
           -13.744220027217164
          ],
          [
           "Kevin Porter Jr.",
           3.24,
           -13.744220027217164
          ],
          [
           "Khris Middleton",
           31.67,
           -6.130135153459386
          ],
          [
           "Kobe Brown",
           2.53,
           -20.393808085927844
          ],
          [
           "Kobe Bufkin",
           4.3,
           -27.77765628903411
          ],
          [
           "Kyle Anderson",
           8.78,
           -14.36274013649629
          ],
          [
           "Kyle Kuzma",
           23.52,
           -10.31505623642279
          ],
          [
           "Larry Nance Jr.",
           11.21,
           -21.74084754419795
          ],
          [
           "Lauri Markkanen",
           42.18,
           -7.940321479605633
          ],
          [
           "Lonzo Ball",
           21.4,
           -20.48574608063029
          ],
          [
           "Luguentz Dort",
           16.5,
           -45.39794921875
          ],
          [
           "Luka Dončić",
           43.03,
           -14.3731136973614
          ],
          [
           "Luke Kennard",
           9.25,
           -11.089716730891046
          ],
          [
           "Malaki Branham",
           3.22,
           -9.919663245633528
          ],
          [
           "Malcolm Brogdon",
           22.5,
           -59.23818800184462
          ],
          [
           "Marcus Smart",
           20.21,
           -16.121488983592208
          ],
          [
           "Marvin Bagley III",
           12.5,
           -18.06456756591797
          ],
          [
           "Matas Buzelis",
           5.2,
           -7.510353968693663
          ],
          [
           "Matisse Thybulle",
           11.03,
           -9.144373017879145
          ],
          [
           "Max Strus",
           15.21,
           -5.558855105669076
          ],
          [
           "Maxi Kleber",
           11,
           -26.934458992697973
          ],
          [
           "Mikal Bridges",
           23.3,
           -35.555564487440904
          ],
          [
           "Mitchell Robinson",
           14.32,
           -9.745128461102535
          ],
          [
           "Nicolas Batum",
           4.67,
           -12.072085721589767
          ],
          [
           "OG Anunoby",
           36.64,
           -5.799143179014782
          ],
          [
           "Obi Toppin",
           12.97,
           -6.664232887850423
          ],
          [
           "Olivier-Maxence Prosper",
           2.87,
           -7.2986280461221655
          ],
          [
           "P.J. Tucker",
           11.54,
           -26.733598758690892
          ],
          [
           "Pat Connaughton",
           9.42,
           -40.38176384701091
          ],
          [
           "Patrick Williams",
           18,
           -23.254421022203235
          ],
          [
           "Payton Pritchard",
           6.7,
           -5.649925345805156
          ],
          [
           "RJ Barrett",
           25.79,
           -20.343929318875105
          ],
          [
           "Reed Sheppard",
           10.1,
           -27.982811880583807
          ],
          [
           "Richaun Holmes",
           12.65,
           -18.167717372004695
          ],
          [
           "Rob Dillingham",
           6.26,
           -22.25482440985049
          ],
          [
           "Rudy Gobert",
           43.83,
           -7.1794249221067155
          ],
          [
           "Rui Hachimura",
           17,
           -38.7941697064568
          ],
          [
           "Seth Curry",
           2.09,
           -14.806818848021287
          ],
          [
           "Shake Milton",
           2.88,
           -39.454959498511414
          ],
          [
           "Simone Fontecchio",
           7.69,
           -30.791172776637683
          ],
          [
           "Steven Adams",
           12.6,
           -5.719499739389568
          ],
          [
           "T.J. McConnell",
           9.3,
           -16.558070849346866
          ],
          [
           "Taylor Hendricks",
           5.85,
           -15.770188356057185
          ],
          [
           "Terance Mann",
           11.42,
           -19.82807419972328
          ],
          [
           "Tidjane Salaün",
           7.49,
           -22.492348145101673
          ],
          [
           "Tobias Harris",
           25.37,
           -10.243150517843729
          ],
          [
           "Trey Lyles",
           8,
           -12.089920043945312
          ],
          [
           "Tyrese Haliburton",
           42.18,
           -9.013727368083028
          ],
          [
           "Zaccharie Risacher",
           12.57,
           -10.94098360460717
          ],
          [
           "Zach Collins",
           16.74,
           -18.948194032074294
          ],
          [
           "Zach LaVine",
           43.03,
           -37.378242629199924
          ],
          [
           "Zeke Nnaji",
           8.89,
           -30.85336631543189
          ]
         ],
         "hovertemplate": "COLOR=red<br>AGE=%{x}<br>PREDICTED_SALARY=%{y}<br>PPG=%{marker.size}<br>PLAYER_NAME=%{customdata[0]}<br>SALARY_CONDENSED=%{customdata[1]}<br>SALARY_PCT_CHANGE=%{customdata[2]}<extra></extra>",
         "legendgroup": "red",
         "marker": {
          "color": "red",
          "size": [
           5.5,
           12,
           18,
           2.5,
           10.1,
           5,
           10.8,
           6.2,
           17,
           8.3,
           22.2,
           8.3,
           21.1,
           10,
           2.1,
           8.9,
           6.8,
           4.6,
           24.9,
           3.5,
           5.7,
           7.9,
           17,
           10.3,
           5.4,
           14.4,
           13.1,
           3.8,
           8.7,
           9,
           4.6,
           11,
           6.4,
           3,
           6.5,
           10.4,
           10.2,
           17.1,
           6.1,
           10.2,
           6,
           23.2,
           12.2,
           2.5,
           3.6,
           7.1,
           0,
           8.2,
           4.1,
           22.2,
           5.4,
           4.4,
           4.2,
           4.8,
           2.4,
           2.4,
           8.9,
           5.4,
           7.4,
           11.1,
           6.4,
           21.5,
           12.7,
           6.3,
           8.7,
           9.9,
           10.3,
           10.3,
           11.9,
           1.9,
           5.3,
           5.9,
           14.8,
           8.5,
           19,
           7.6,
           10.1,
           28.2,
           8.9,
           5,
           12.7,
           9,
           4.4,
           8.6,
           7.5,
           9.4,
           3,
           17.6,
           5.1,
           4,
           18,
           10.5,
           3.9,
           3,
           5.3,
           9,
           14.3,
           21.1,
           4.4,
           7.4,
           4.5,
           12,
           13.1,
           6.5,
           5.5,
           5.9,
           3.9,
           9.1,
           4.7,
           7.7,
           5.9,
           13.7,
           6.5,
           18.6,
           12.6,
           6.4,
           23.3,
           3.2
          ],
          "sizemode": "area",
          "sizeref": 0.08175,
          "symbol": "circle"
         },
         "mode": "markers",
         "name": "red",
         "orientation": "v",
         "showlegend": true,
         "type": "scatter",
         "x": [
          28,
          25,
          30,
          32,
          22,
          28,
          32,
          24,
          32,
          28,
          27,
          28,
          33,
          32,
          28,
          31,
          29,
          20,
          34,
          31,
          20,
          26,
          27,
          27,
          28,
          26,
          31,
          23,
          32,
          35,
          28,
          31,
          29,
          30,
          32,
          26,
          26,
          26,
          24,
          25,
          24,
          25,
          24,
          22,
          29,
          22,
          27,
          25,
          26,
          28,
          38,
          21,
          29,
          29,
          29,
          23,
          24,
          27,
          24,
          35,
          24,
          34,
          25,
          30,
          32,
          26,
          25,
          25,
          33,
          25,
          21,
          31,
          29,
          32,
          28,
          27,
          26,
          26,
          29,
          22,
          32,
          31,
          26,
          20,
          28,
          29,
          33,
          28,
          27,
          36,
          27,
          27,
          22,
          40,
          32,
          23,
          27,
          25,
          21,
          31,
          20,
          33,
          27,
          34,
          28,
          29,
          31,
          33,
          21,
          28,
          19,
          32,
          29,
          25,
          20,
          27,
          30,
          24
         ],
         "xaxis": "x",
         "y": [
          4.0968304,
          9.939059,
          24.219141,
          0.34135595,
          7.9513817,
          12.795776,
          15.552612,
          3.8953347,
          45.329002,
          11.097112,
          31.471107,
          6.7824144,
          31.538221,
          7.532571,
          4.898104,
          18.83931,
          7.099924,
          2.769096,
          34.982742,
          4.318656,
          2.7917173,
          5.9317937,
          16.731483,
          3.7661822,
          5.679445,
          31.740046,
          11.407366,
          4.355668,
          5.5370817,
          22.781199,
          3.669516,
          17.014904,
          7.4974737,
          5.926717,
          8.2241745,
          11.972825,
          9.305596,
          30.03044,
          4.7194414,
          11.557099,
          9.819955,
          34.617134,
          21.540947,
          3.4360156,
          5.9627037,
          3.3533251,
          4.3110514,
          7.16664,
          8.2135315,
          45.738274,
          5.598583,
          3.9232397,
          5.381407,
          6.8065357,
          5.3402705,
          2.3899126,
          2.5570238,
          20.119806,
          10.138364,
          27.861702,
          5.692352,
          33.670437,
          15.944806,
          6.035168,
          21.383863,
          14.301504,
          2.7946873,
          2.7946873,
          29.728586,
          2.0140367,
          3.1055608,
          7.5189514,
          21.093899,
          8.772851,
          38.830772,
          17.01605,
          9.009338,
          36.84525,
          8.224201,
          2.9005868,
          9.171408,
          16.951847,
          10.241929,
          4.8094616,
          10.021376,
          14.364498,
          8.0372095,
          15.015553,
          12.924498,
          4.1062336,
          34.515194,
          12.105649,
          2.6605294,
          8.454943,
          5.616038,
          13.814204,
          6.321455,
          20.5433,
          7.273736,
          10.351784,
          4.866848,
          40.683258,
          10.404991,
          1.7805375,
          1.7436972,
          5.322159,
          11.879343,
          7.7600994,
          4.927444,
          9.155634,
          5.805323,
          22.771313,
          7.0328064,
          38.37801,
          11.194718,
          13.568072,
          26.946142,
          6.1471357
         ],
         "yaxis": "y"
        }
       ],
       "layout": {
        "legend": {
         "itemsizing": "constant",
         "title": {
          "text": "Salary Change Category"
         },
         "tracegroupgap": 0
        },
        "margin": {
         "t": 60
        },
        "template": {
         "data": {
          "bar": [
           {
            "error_x": {
             "color": "#2a3f5f"
            },
            "error_y": {
             "color": "#2a3f5f"
            },
            "marker": {
             "line": {
              "color": "#E5ECF6",
              "width": 0.5
             },
             "pattern": {
              "fillmode": "overlay",
              "size": 10,
              "solidity": 0.2
             }
            },
            "type": "bar"
           }
          ],
          "barpolar": [
           {
            "marker": {
             "line": {
              "color": "#E5ECF6",
              "width": 0.5
             },
             "pattern": {
              "fillmode": "overlay",
              "size": 10,
              "solidity": 0.2
             }
            },
            "type": "barpolar"
           }
          ],
          "carpet": [
           {
            "aaxis": {
             "endlinecolor": "#2a3f5f",
             "gridcolor": "white",
             "linecolor": "white",
             "minorgridcolor": "white",
             "startlinecolor": "#2a3f5f"
            },
            "baxis": {
             "endlinecolor": "#2a3f5f",
             "gridcolor": "white",
             "linecolor": "white",
             "minorgridcolor": "white",
             "startlinecolor": "#2a3f5f"
            },
            "type": "carpet"
           }
          ],
          "choropleth": [
           {
            "colorbar": {
             "outlinewidth": 0,
             "ticks": ""
            },
            "type": "choropleth"
           }
          ],
          "contour": [
           {
            "colorbar": {
             "outlinewidth": 0,
             "ticks": ""
            },
            "colorscale": [
             [
              0,
              "#0d0887"
             ],
             [
              0.1111111111111111,
              "#46039f"
             ],
             [
              0.2222222222222222,
              "#7201a8"
             ],
             [
              0.3333333333333333,
              "#9c179e"
             ],
             [
              0.4444444444444444,
              "#bd3786"
             ],
             [
              0.5555555555555556,
              "#d8576b"
             ],
             [
              0.6666666666666666,
              "#ed7953"
             ],
             [
              0.7777777777777778,
              "#fb9f3a"
             ],
             [
              0.8888888888888888,
              "#fdca26"
             ],
             [
              1,
              "#f0f921"
             ]
            ],
            "type": "contour"
           }
          ],
          "contourcarpet": [
           {
            "colorbar": {
             "outlinewidth": 0,
             "ticks": ""
            },
            "type": "contourcarpet"
           }
          ],
          "heatmap": [
           {
            "colorbar": {
             "outlinewidth": 0,
             "ticks": ""
            },
            "colorscale": [
             [
              0,
              "#0d0887"
             ],
             [
              0.1111111111111111,
              "#46039f"
             ],
             [
              0.2222222222222222,
              "#7201a8"
             ],
             [
              0.3333333333333333,
              "#9c179e"
             ],
             [
              0.4444444444444444,
              "#bd3786"
             ],
             [
              0.5555555555555556,
              "#d8576b"
             ],
             [
              0.6666666666666666,
              "#ed7953"
             ],
             [
              0.7777777777777778,
              "#fb9f3a"
             ],
             [
              0.8888888888888888,
              "#fdca26"
             ],
             [
              1,
              "#f0f921"
             ]
            ],
            "type": "heatmap"
           }
          ],
          "heatmapgl": [
           {
            "colorbar": {
             "outlinewidth": 0,
             "ticks": ""
            },
            "colorscale": [
             [
              0,
              "#0d0887"
             ],
             [
              0.1111111111111111,
              "#46039f"
             ],
             [
              0.2222222222222222,
              "#7201a8"
             ],
             [
              0.3333333333333333,
              "#9c179e"
             ],
             [
              0.4444444444444444,
              "#bd3786"
             ],
             [
              0.5555555555555556,
              "#d8576b"
             ],
             [
              0.6666666666666666,
              "#ed7953"
             ],
             [
              0.7777777777777778,
              "#fb9f3a"
             ],
             [
              0.8888888888888888,
              "#fdca26"
             ],
             [
              1,
              "#f0f921"
             ]
            ],
            "type": "heatmapgl"
           }
          ],
          "histogram": [
           {
            "marker": {
             "pattern": {
              "fillmode": "overlay",
              "size": 10,
              "solidity": 0.2
             }
            },
            "type": "histogram"
           }
          ],
          "histogram2d": [
           {
            "colorbar": {
             "outlinewidth": 0,
             "ticks": ""
            },
            "colorscale": [
             [
              0,
              "#0d0887"
             ],
             [
              0.1111111111111111,
              "#46039f"
             ],
             [
              0.2222222222222222,
              "#7201a8"
             ],
             [
              0.3333333333333333,
              "#9c179e"
             ],
             [
              0.4444444444444444,
              "#bd3786"
             ],
             [
              0.5555555555555556,
              "#d8576b"
             ],
             [
              0.6666666666666666,
              "#ed7953"
             ],
             [
              0.7777777777777778,
              "#fb9f3a"
             ],
             [
              0.8888888888888888,
              "#fdca26"
             ],
             [
              1,
              "#f0f921"
             ]
            ],
            "type": "histogram2d"
           }
          ],
          "histogram2dcontour": [
           {
            "colorbar": {
             "outlinewidth": 0,
             "ticks": ""
            },
            "colorscale": [
             [
              0,
              "#0d0887"
             ],
             [
              0.1111111111111111,
              "#46039f"
             ],
             [
              0.2222222222222222,
              "#7201a8"
             ],
             [
              0.3333333333333333,
              "#9c179e"
             ],
             [
              0.4444444444444444,
              "#bd3786"
             ],
             [
              0.5555555555555556,
              "#d8576b"
             ],
             [
              0.6666666666666666,
              "#ed7953"
             ],
             [
              0.7777777777777778,
              "#fb9f3a"
             ],
             [
              0.8888888888888888,
              "#fdca26"
             ],
             [
              1,
              "#f0f921"
             ]
            ],
            "type": "histogram2dcontour"
           }
          ],
          "mesh3d": [
           {
            "colorbar": {
             "outlinewidth": 0,
             "ticks": ""
            },
            "type": "mesh3d"
           }
          ],
          "parcoords": [
           {
            "line": {
             "colorbar": {
              "outlinewidth": 0,
              "ticks": ""
             }
            },
            "type": "parcoords"
           }
          ],
          "pie": [
           {
            "automargin": true,
            "type": "pie"
           }
          ],
          "scatter": [
           {
            "fillpattern": {
             "fillmode": "overlay",
             "size": 10,
             "solidity": 0.2
            },
            "type": "scatter"
           }
          ],
          "scatter3d": [
           {
            "line": {
             "colorbar": {
              "outlinewidth": 0,
              "ticks": ""
             }
            },
            "marker": {
             "colorbar": {
              "outlinewidth": 0,
              "ticks": ""
             }
            },
            "type": "scatter3d"
           }
          ],
          "scattercarpet": [
           {
            "marker": {
             "colorbar": {
              "outlinewidth": 0,
              "ticks": ""
             }
            },
            "type": "scattercarpet"
           }
          ],
          "scattergeo": [
           {
            "marker": {
             "colorbar": {
              "outlinewidth": 0,
              "ticks": ""
             }
            },
            "type": "scattergeo"
           }
          ],
          "scattergl": [
           {
            "marker": {
             "colorbar": {
              "outlinewidth": 0,
              "ticks": ""
             }
            },
            "type": "scattergl"
           }
          ],
          "scattermapbox": [
           {
            "marker": {
             "colorbar": {
              "outlinewidth": 0,
              "ticks": ""
             }
            },
            "type": "scattermapbox"
           }
          ],
          "scatterpolar": [
           {
            "marker": {
             "colorbar": {
              "outlinewidth": 0,
              "ticks": ""
             }
            },
            "type": "scatterpolar"
           }
          ],
          "scatterpolargl": [
           {
            "marker": {
             "colorbar": {
              "outlinewidth": 0,
              "ticks": ""
             }
            },
            "type": "scatterpolargl"
           }
          ],
          "scatterternary": [
           {
            "marker": {
             "colorbar": {
              "outlinewidth": 0,
              "ticks": ""
             }
            },
            "type": "scatterternary"
           }
          ],
          "surface": [
           {
            "colorbar": {
             "outlinewidth": 0,
             "ticks": ""
            },
            "colorscale": [
             [
              0,
              "#0d0887"
             ],
             [
              0.1111111111111111,
              "#46039f"
             ],
             [
              0.2222222222222222,
              "#7201a8"
             ],
             [
              0.3333333333333333,
              "#9c179e"
             ],
             [
              0.4444444444444444,
              "#bd3786"
             ],
             [
              0.5555555555555556,
              "#d8576b"
             ],
             [
              0.6666666666666666,
              "#ed7953"
             ],
             [
              0.7777777777777778,
              "#fb9f3a"
             ],
             [
              0.8888888888888888,
              "#fdca26"
             ],
             [
              1,
              "#f0f921"
             ]
            ],
            "type": "surface"
           }
          ],
          "table": [
           {
            "cells": {
             "fill": {
              "color": "#EBF0F8"
             },
             "line": {
              "color": "white"
             }
            },
            "header": {
             "fill": {
              "color": "#C8D4E3"
             },
             "line": {
              "color": "white"
             }
            },
            "type": "table"
           }
          ]
         },
         "layout": {
          "annotationdefaults": {
           "arrowcolor": "#2a3f5f",
           "arrowhead": 0,
           "arrowwidth": 1
          },
          "autotypenumbers": "strict",
          "coloraxis": {
           "colorbar": {
            "outlinewidth": 0,
            "ticks": ""
           }
          },
          "colorscale": {
           "diverging": [
            [
             0,
             "#8e0152"
            ],
            [
             0.1,
             "#c51b7d"
            ],
            [
             0.2,
             "#de77ae"
            ],
            [
             0.3,
             "#f1b6da"
            ],
            [
             0.4,
             "#fde0ef"
            ],
            [
             0.5,
             "#f7f7f7"
            ],
            [
             0.6,
             "#e6f5d0"
            ],
            [
             0.7,
             "#b8e186"
            ],
            [
             0.8,
             "#7fbc41"
            ],
            [
             0.9,
             "#4d9221"
            ],
            [
             1,
             "#276419"
            ]
           ],
           "sequential": [
            [
             0,
             "#0d0887"
            ],
            [
             0.1111111111111111,
             "#46039f"
            ],
            [
             0.2222222222222222,
             "#7201a8"
            ],
            [
             0.3333333333333333,
             "#9c179e"
            ],
            [
             0.4444444444444444,
             "#bd3786"
            ],
            [
             0.5555555555555556,
             "#d8576b"
            ],
            [
             0.6666666666666666,
             "#ed7953"
            ],
            [
             0.7777777777777778,
             "#fb9f3a"
            ],
            [
             0.8888888888888888,
             "#fdca26"
            ],
            [
             1,
             "#f0f921"
            ]
           ],
           "sequentialminus": [
            [
             0,
             "#0d0887"
            ],
            [
             0.1111111111111111,
             "#46039f"
            ],
            [
             0.2222222222222222,
             "#7201a8"
            ],
            [
             0.3333333333333333,
             "#9c179e"
            ],
            [
             0.4444444444444444,
             "#bd3786"
            ],
            [
             0.5555555555555556,
             "#d8576b"
            ],
            [
             0.6666666666666666,
             "#ed7953"
            ],
            [
             0.7777777777777778,
             "#fb9f3a"
            ],
            [
             0.8888888888888888,
             "#fdca26"
            ],
            [
             1,
             "#f0f921"
            ]
           ]
          },
          "colorway": [
           "#636efa",
           "#EF553B",
           "#00cc96",
           "#ab63fa",
           "#FFA15A",
           "#19d3f3",
           "#FF6692",
           "#B6E880",
           "#FF97FF",
           "#FECB52"
          ],
          "font": {
           "color": "#2a3f5f"
          },
          "geo": {
           "bgcolor": "white",
           "lakecolor": "white",
           "landcolor": "#E5ECF6",
           "showlakes": true,
           "showland": true,
           "subunitcolor": "white"
          },
          "hoverlabel": {
           "align": "left"
          },
          "hovermode": "closest",
          "mapbox": {
           "style": "light"
          },
          "paper_bgcolor": "white",
          "plot_bgcolor": "#E5ECF6",
          "polar": {
           "angularaxis": {
            "gridcolor": "white",
            "linecolor": "white",
            "ticks": ""
           },
           "bgcolor": "#E5ECF6",
           "radialaxis": {
            "gridcolor": "white",
            "linecolor": "white",
            "ticks": ""
           }
          },
          "scene": {
           "xaxis": {
            "backgroundcolor": "#E5ECF6",
            "gridcolor": "white",
            "gridwidth": 2,
            "linecolor": "white",
            "showbackground": true,
            "ticks": "",
            "zerolinecolor": "white"
           },
           "yaxis": {
            "backgroundcolor": "#E5ECF6",
            "gridcolor": "white",
            "gridwidth": 2,
            "linecolor": "white",
            "showbackground": true,
            "ticks": "",
            "zerolinecolor": "white"
           },
           "zaxis": {
            "backgroundcolor": "#E5ECF6",
            "gridcolor": "white",
            "gridwidth": 2,
            "linecolor": "white",
            "showbackground": true,
            "ticks": "",
            "zerolinecolor": "white"
           }
          },
          "shapedefaults": {
           "line": {
            "color": "#2a3f5f"
           }
          },
          "ternary": {
           "aaxis": {
            "gridcolor": "white",
            "linecolor": "white",
            "ticks": ""
           },
           "baxis": {
            "gridcolor": "white",
            "linecolor": "white",
            "ticks": ""
           },
           "bgcolor": "#E5ECF6",
           "caxis": {
            "gridcolor": "white",
            "linecolor": "white",
            "ticks": ""
           }
          },
          "title": {
           "x": 0.05
          },
          "xaxis": {
           "automargin": true,
           "gridcolor": "white",
           "linecolor": "white",
           "ticks": "",
           "title": {
            "standoff": 15
           },
           "zerolinecolor": "white",
           "zerolinewidth": 2
          },
          "yaxis": {
           "automargin": true,
           "gridcolor": "white",
           "linecolor": "white",
           "ticks": "",
           "title": {
            "standoff": 15
           },
           "zerolinecolor": "white",
           "zerolinewidth": 2
          }
         }
        },
        "title": {
         "text": "Age vs Predicted Salary (Bubble Plot)"
        },
        "xaxis": {
         "anchor": "y",
         "domain": [
          0,
          1
         ],
         "title": {
          "text": "Age"
         }
        },
        "yaxis": {
         "anchor": "x",
         "domain": [
          0,
          1
         ],
         "title": {
          "text": "Predicted Salary (Millions)"
         }
        }
       }
      }
     },
     "metadata": {},
     "output_type": "display_data"
    }
   ],
   "source": [
    "import plotly.express as px\n",
    "\n",
    "# Map percent change to colors based on your rules\n",
    "def map_color(change):\n",
    "    if change > 5:\n",
    "        return \"green\"\n",
    "    elif change < -5:\n",
    "        return \"red\"\n",
    "    else:\n",
    "        return \"yellow\"\n",
    "\n",
    "df[\"COLOR\"] = df[\"SALARY_PCT_CHANGE\"].apply(map_color)\n",
    "\n",
    "# Bubble plot\n",
    "fig = px.scatter(\n",
    "    df,\n",
    "    x=\"AGE\",\n",
    "    y=\"PREDICTED_SALARY\",\n",
    "    size=\"PPG\",   # bubble size ~ salary magnitude\n",
    "    color=\"COLOR\",\n",
    "    color_discrete_map={\"green\": \"green\", \"yellow\": \"yellow\", \"red\": \"red\"},\n",
    "    hover_data=[\"PLAYER_NAME\", \"SALARY_CONDENSED\", \"PREDICTED_SALARY\", \"SALARY_PCT_CHANGE\"]\n",
    ")\n",
    "\n",
    "fig.update_layout(\n",
    "    title=\"Age vs Predicted Salary (Bubble Plot)\",\n",
    "    xaxis_title=\"Age\",\n",
    "    yaxis_title=\"Predicted Salary (Millions)\",\n",
    "    legend_title=\"Salary Change Category\"\n",
    ")\n",
    "\n",
    "fig.show()\n"
   ]
  },
  {
   "cell_type": "code",
   "execution_count": 9,
   "id": "b6da00eb",
   "metadata": {},
   "outputs": [
    {
     "data": {
      "application/vnd.plotly.v1+json": {
       "config": {
        "plotlyServerURL": "https://plot.ly"
       },
       "data": [
        {
         "customdata": [
          [
           "AJ Johnson",
           2.8,
           7.422981943402979
          ],
          [
           "Aaron Gordon",
           22.84,
           -3.626525464700942
          ],
          [
           "Aaron Nesmith",
           11,
           -9.644915840842506
          ],
          [
           "Al Horford",
           9.5,
           4.682852092542147
          ],
          [
           "Alex Caruso",
           9.89,
           -0.8844836536866525
          ],
          [
           "Alex Sarr",
           11.25,
           5.828492906358507
          ],
          [
           "Amir Coffey",
           3.94,
           1.393273639194858
          ],
          [
           "Andre Drummond",
           5,
           5.684499740600586
          ],
          [
           "Andrew Wiggins",
           26.28,
           -7.841929199125854
          ],
          [
           "Anfernee Simons",
           25.89,
           -2.132320882915854
          ],
          [
           "Anthony Black",
           7.61,
           -0.7080418991509979
          ],
          [
           "Anthony Davis",
           43.22,
           -2.2242604775982593
          ],
          [
           "Anthony Edwards",
           42.18,
           -0.562065706935862
          ],
          [
           "Antonio Reeves",
           1.16,
           1.2961617831526202
          ],
          [
           "Ausar Thompson",
           8.38,
           -5.114777048334026
          ],
          [
           "Ayo Dosunmu",
           7,
           -3.252969469342913
          ],
          [
           "Bam Adebayo",
           34.85,
           -3.0270350714838186
          ],
          [
           "Bilal Coulibaly",
           6.95,
           -3.6680399942741144
          ],
          [
           "Bobby Portis",
           12.58,
           -0.15289173217191282
          ],
          [
           "Bogdan Bogdanović",
           17.26,
           -9.892165094510437
          ],
          [
           "Bones Hyland",
           4.16,
           -6.3621461391449
          ],
          [
           "Bradley Beal",
           50.2,
           -9.703182509220934
          ],
          [
           "Brice Sensabaugh",
           2.57,
           -3.109992060679864
          ],
          [
           "Brook Lopez",
           23,
           -3.7157058715820312
          ],
          [
           "CJ McCollum",
           33.33,
           -5.375873509592165
          ],
          [
           "Cade Cunningham",
           13.94,
           5.255693411040344
          ],
          [
           "Caleb Martin",
           8.15,
           -4.78197928586621
          ],
          [
           "Cameron Johnson",
           22.5,
           6.103880140516493
          ],
          [
           "Caris LeVert",
           16.62,
           0.7402101004883926
          ],
          [
           "Chet Holmgren",
           10.88,
           -3.3047434161691176
          ],
          [
           "Chris Paul",
           10.46,
           -4.49193330841357
          ],
          [
           "Coby White",
           12,
           9.409658114115398
          ],
          [
           "Collin Sexton",
           18.35,
           -2.1404796465216354
          ],
          [
           "Corey Kispert",
           5.71,
           2.317863504439854
          ],
          [
           "Dalen Terry",
           3.51,
           6.691791121436666
          ],
          [
           "Dalton Knecht",
           3.82,
           -0.2776470483909685
          ],
          [
           "Daniel Gafford",
           13.39,
           0.34885221314661286
          ],
          [
           "Darius Garland",
           36.73,
           -1.1281359075623554
          ],
          [
           "Davion Mitchell",
           6.45,
           -8.034206360809565
          ],
          [
           "De'Aaron Fox",
           34.85,
           -1.6907745317543978
          ],
          [
           "DeMar DeRozan",
           23.4,
           -0.9128472743890164
          ],
          [
           "Dean Wade",
           6.17,
           -7.950651703622777
          ],
          [
           "Deandre Ayton",
           34.01,
           -6.674373573991904
          ],
          [
           "Dejounte Murray",
           29.52,
           2.176459501106243
          ],
          [
           "Deni Avdija",
           15.62,
           3.931597955095636
          ],
          [
           "Dereck Lively II",
           5.01,
           2.2414628141178623
          ],
          [
           "Derrick White",
           20.07,
           0.8409900218619583
          ],
          [
           "Desmond Bane",
           34.01,
           -4.733134591905408
          ],
          [
           "Devin Booker",
           49.21,
           -4.582816831127123
          ],
          [
           "Devin Carter",
           4.69,
           -7.128612624048432
          ],
          [
           "Devin Vassell",
           29.35,
           -3.641383936295522
          ],
          [
           "Dillon Brooks",
           22.26,
           -4.861227414250274
          ],
          [
           "Domantas Sabonis",
           40.5,
           -0.21425412024980708
          ],
          [
           "Donovan Mitchell",
           35.41,
           -1.086634345325287
          ],
          [
           "Draymond Green",
           24.11,
           -5.5114122704814825
          ],
          [
           "Dwight Powell",
           4,
           -1.0380268096923828
          ],
          [
           "Eric Gordon",
           3.3,
           6.197819565281729
          ],
          [
           "Fred VanVleet",
           42.85,
           -4.008222154864356
          ],
          [
           "Gary Payton II",
           9.13,
           -9.921418406224337
          ],
          [
           "Georges Niang",
           8.5,
           -1.6900904038373161
          ],
          [
           "Giannis Antetokounmpo",
           48.79,
           -0.5315381499875085
          ],
          [
           "Grant Williams",
           13.03,
           -8.113391785464279
          ],
          [
           "Harrison Barnes",
           18,
           -3.7215762668185763
          ],
          [
           "Haywood Highsmith",
           5.2,
           6.5214047065147955
          ],
          [
           "Hunter Tyson",
           1.89,
           6.171098335710157
          ],
          [
           "Immanuel Quickley",
           32.5,
           -7.598648071289063
          ],
          [
           "Isaiah Hartenstein",
           30,
           -3.6045074462890625
          ],
          [
           "Isaiah Jackson",
           4.44,
           -1.424474544353322
          ],
          [
           "Ja Morant",
           36.73,
           -5.752425553394271
          ],
          [
           "Ja'Kobe Walter",
           3.46,
           3.1569249368127386
          ],
          [
           "Jaden Ivey",
           7.98,
           7.549437902923807
          ],
          [
           "Jaden McDaniels",
           23.02,
           -6.425078364686277
          ],
          [
           "Jakob Poeltl",
           19.5,
           1.6204344920622997
          ],
          [
           "Jalen Green",
           12.48,
           4.000041118034947
          ],
          [
           "Jalen McDaniels",
           4.74,
           -9.049549183262053
          ],
          [
           "Jamal Murray",
           36.02,
           0.45345461017749683
          ],
          [
           "James Johnson",
           2.09,
           5.785867243862616
          ],
          [
           "Jaren Jackson Jr.",
           25.26,
           0.35697562488787854
          ],
          [
           "Jarrett Allen",
           20,
           1.8493938446044922
          ],
          [
           "Jaylen Brown",
           49.7,
           -7.971280441437694
          ],
          [
           "Jaylon Tyson",
           3.33,
           5.011978664913691
          ],
          [
           "Jayson Tatum",
           34.85,
           2.1229923199033762
          ],
          [
           "Jerami Grant",
           29.79,
           -1.065051695691452
          ],
          [
           "Jeremiah Robinson-Earl",
           2.2,
           2.5664264505559666
          ],
          [
           "Joe Ingles",
           2.09,
           7.935296291369578
          ],
          [
           "Joel Embiid",
           51.42,
           -2.6399565688926705
          ],
          [
           "John Collins",
           26.58,
           -4.512580486954912
          ],
          [
           "Jonas Valančiūnas",
           9.9,
           1.4334938742897692
          ],
          [
           "Jordan Clarkson",
           14.09,
           -3.8666981682868773
          ],
          [
           "Jordan Poole",
           29.65,
           -2.805083919737427
          ],
          [
           "Josh Giddey",
           8.35,
           4.410182930038365
          ],
          [
           "Josh Hart",
           18.14,
           -3.9329162900476793
          ],
          [
           "Josh Okogie",
           8.25,
           -1.0161313143643464
          ],
          [
           "Josh Richardson",
           3.05,
           -0.9381669466612711
          ],
          [
           "Jrue Holiday",
           30,
           -7.1276601155598955
          ],
          [
           "Julius Randle",
           33.07,
           -1.6798288756567519
          ],
          [
           "Jusuf Nurkić",
           18.12,
           -4.315792698470704
          ],
          [
           "Karl-Anthony Towns",
           49.21,
           -1.7453285718056242
          ],
          [
           "Kelly Olynyk",
           12.8,
           4.2468920350074715
          ],
          [
           "Kenrich Williams",
           6.67,
           -9.517718576777284
          ],
          [
           "Kentavious Caldwell-Pope",
           22.76,
           -6.046294160383663
          ],
          [
           "Kevin Durant",
           51.18,
           -3.031677508456672
          ],
          [
           "Kevon Looney",
           8,
           0.4359126091003418
          ],
          [
           "Khris Middleton",
           31.67,
           -6.130135153459386
          ],
          [
           "Kristaps Porziņģis",
           29.27,
           -0.6662932442527264
          ],
          [
           "Kyrie Irving",
           41,
           -2.7458377000762195
          ],
          [
           "LaMelo Ball",
           35.15,
           -2.6743317735652963
          ],
          [
           "Lauri Markkanen",
           42.18,
           -7.940321479605633
          ],
          [
           "LeBron James",
           48.73,
           -0.4842240341189591
          ],
          [
           "Leonard Miller",
           1.89,
           3.9271190683677766
          ],
          [
           "Malaki Branham",
           3.22,
           -9.919663245633528
          ],
          [
           "Malik Monk",
           17.41,
           5.78861050329148
          ],
          [
           "MarJon Beauchamp",
           2.73,
           -2.3312352079174885
          ],
          [
           "Matas Buzelis",
           5.2,
           -7.510353968693663
          ],
          [
           "Matisse Thybulle",
           11.03,
           -9.144373017879145
          ],
          [
           "Max Strus",
           15.21,
           -5.558855105669076
          ],
          [
           "Michael Porter Jr.",
           35.86,
           -1.488102552814982
          ],
          [
           "Miles Bridges",
           27.17,
           -1.1930929723802164
          ],
          [
           "Mitchell Robinson",
           14.32,
           -9.745128461102535
          ],
          [
           "Myles Turner",
           19.93,
           0.15587201384043514
          ],
          [
           "Naji Marshall",
           8.57,
           5.6892368312199135
          ],
          [
           "Naz Reid",
           13.99,
           -0.8858007904118191
          ],
          [
           "Nic Claxton",
           27.56,
           -3.663661552617438
          ],
          [
           "Nikola Jokić",
           51.42,
           -1.8875665119398188
          ],
          [
           "Nikola Vučević",
           20,
           -0.8017826080322265
          ],
          [
           "Norman Powell",
           19.24,
           7.7671308775205965
          ],
          [
           "OG Anunoby",
           36.64,
           -5.799143179014782
          ],
          [
           "Obi Toppin",
           12.97,
           -6.664232887850423
          ],
          [
           "Olivier-Maxence Prosper",
           2.87,
           -7.2986280461221655
          ],
          [
           "Onyeka Okongwu",
           14,
           -0.1266411372593471
          ],
          [
           "Ousmane Dieng",
           5.03,
           -3.912354653208682
          ],
          [
           "P.J. Washington",
           15.5,
           -0.7580234158423639
          ],
          [
           "PJ Dozier",
           2.09,
           0.20306235865543446
          ],
          [
           "Pascal Siakam",
           42.18,
           -0.010236918276211393
          ],
          [
           "Paul George",
           49.21,
           -4.6537774870294415
          ],
          [
           "Payton Pritchard",
           6.7,
           -5.649925345805156
          ],
          [
           "Reggie Jackson",
           4.03,
           2.60590252746127
          ],
          [
           "Reggie Jackson",
           4.03,
           2.60590252746127
          ],
          [
           "Royce O'Neale",
           9.38,
           -0.597224611717509
          ],
          [
           "Rudy Gobert",
           43.83,
           -7.1794249221067155
          ],
          [
           "Scoot Henderson",
           10.26,
           0.6671745642351613
          ],
          [
           "Stephen Curry",
           55.76,
           -4.483921045552364
          ],
          [
           "Stephon Castle",
           9.11,
           0.5836323508839508
          ],
          [
           "Steven Adams",
           12.6,
           -5.719499739389568
          ],
          [
           "Terry Rozier",
           24.92,
           -3.3661715291667775
          ],
          [
           "Tim Hardaway Jr.",
           16.19,
           -0.3172126944378843
          ],
          [
           "Trae Young",
           43.03,
           -0.012529370066126568
          ],
          [
           "Tre Jones",
           9.1,
           8.943865849421579
          ],
          [
           "Tre Mann",
           4.91,
           8.375054027300985
          ],
          [
           "Tyler Herro",
           29,
           2.306793475973195
          ],
          [
           "Tyler Kolek",
           2.09,
           0.3413565421218575
          ],
          [
           "Tyrese Haliburton",
           42.18,
           -9.013727368083028
          ],
          [
           "Tyrese Maxey",
           35.15,
           2.5026736523993196
          ],
          [
           "Vasilije Micić",
           7.72,
           8.623035213490228
          ],
          [
           "Wendell Carter Jr.",
           11.95,
           -4.246645492489861
          ],
          [
           "Ziaire Williams",
           6.13,
           1.1132027157757078
          ],
          [
           "Zion Williamson",
           36.73,
           -2.7013635882038187
          ]
         ],
         "hovertemplate": "PERFORMANCE=On Target<br>TEAM_ABBREVIATION=%{x}<br>PREDICTED_SALARY=%{y}<br>PLAYER_NAME=%{customdata[0]}<br>SALARY_CONDENSED=%{customdata[1]}<br>SALARY_PCT_CHANGE=%{customdata[2]}<extra></extra>",
         "legendgroup": "On Target",
         "marker": {
          "color": "yellow",
          "symbol": "circle"
         },
         "mode": "markers",
         "name": "On Target",
         "orientation": "v",
         "showlegend": true,
         "type": "scatter",
         "x": [
          "WAS",
          "DEN",
          "IND",
          "BOS",
          "OKC",
          "WAS",
          "LAC",
          "PHI",
          "MIA",
          "POR",
          "ORL",
          "DAL",
          "MIN",
          "NOP",
          "DET",
          "CHI",
          "MIA",
          "WAS",
          "MIL",
          "LAC",
          "MIN",
          "PHX",
          "UTA",
          "MIL",
          "NOP",
          "DET",
          "DAL",
          "BKN",
          "ATL",
          "OKC",
          "SAS",
          "CHI",
          "UTA",
          "WAS",
          "CHI",
          "LAL",
          "DAL",
          "CLE",
          "MIA",
          "SAS",
          "SAC",
          "CLE",
          "POR",
          "NOP",
          "POR",
          "DAL",
          "BOS",
          "ORL",
          "PHX",
          "SAC",
          "SAS",
          "HOU",
          "SAC",
          "CLE",
          "GSW",
          "DAL",
          "PHI",
          "HOU",
          "GSW",
          "ATL",
          "MIL",
          "CHA",
          "SAS",
          "MIA",
          "DEN",
          "TOR",
          "OKC",
          "IND",
          "MEM",
          "TOR",
          "DET",
          "MIN",
          "TOR",
          "HOU",
          "WAS",
          "DEN",
          "IND",
          "MEM",
          "CLE",
          "BOS",
          "CLE",
          "BOS",
          "POR",
          "NOP",
          "MIN",
          "PHI",
          "UTA",
          "SAC",
          "UTA",
          "WAS",
          "CHI",
          "NYK",
          "CHA",
          "MIA",
          "BOS",
          "MIN",
          "CHA",
          "NYK",
          "NOP",
          "OKC",
          "MEM",
          "PHX",
          "GSW",
          "WAS",
          "BOS",
          "DAL",
          "CHA",
          "UTA",
          "LAL",
          "MIN",
          "SAS",
          "SAC",
          "NYK",
          "CHI",
          "POR",
          "CLE",
          "DEN",
          "CHA",
          "NYK",
          "IND",
          "DAL",
          "MIN",
          "BKN",
          "DEN",
          "CHI",
          "LAC",
          "NYK",
          "IND",
          "DAL",
          "ATL",
          "OKC",
          "DAL",
          "MIN",
          "IND",
          "PHI",
          "BOS",
          "PHI",
          "PHI",
          "PHX",
          "MIN",
          "POR",
          "GSW",
          "SAS",
          "HOU",
          "MIA",
          "DET",
          "ATL",
          "CHI",
          "CHA",
          "MIA",
          "NYK",
          "IND",
          "PHI",
          "PHX",
          "ORL",
          "BKN",
          "NOP"
         ],
         "xaxis": "x",
         "y": [
          3.0078435,
          22.011702,
          9.939059,
          9.944871,
          9.802525,
          11.905705,
          3.994895,
          5.284225,
          24.219141,
          25.337942,
          7.556118,
          42.258675,
          41.94292,
          1.1750355,
          7.9513817,
          6.772292,
          33.79508,
          6.695071,
          12.560766,
          15.552612,
          3.8953347,
          45.329002,
          2.4900732,
          22.145388,
          31.538221,
          14.672644,
          7.7602687,
          23.873373,
          16.743023,
          10.520444,
          9.990144,
          13.129159,
          17.957222,
          5.84235,
          3.7448819,
          3.809394,
          13.436711,
          36.315636,
          5.9317937,
          34.260765,
          23.186394,
          5.679445,
          31.740046,
          30.16249,
          16.234116,
          5.1222973,
          20.238787,
          32.40026,
          46.954796,
          4.355668,
          28.281254,
          21.17789,
          40.413227,
          35.025223,
          22.781199,
          3.958479,
          3.504528,
          41.132477,
          8.2241745,
          8.356342,
          48.530663,
          11.972825,
          17.330116,
          5.539113,
          2.0066338,
          30.03044,
          28.918648,
          4.3767533,
          34.617134,
          3.5692296,
          8.582445,
          21.540947,
          19.815985,
          12.979205,
          4.3110514,
          36.183334,
          2.2109246,
          25.350172,
          20.369879,
          45.738274,
          3.496899,
          35.589863,
          29.472721,
          2.2564614,
          2.2558477,
          50.062534,
          25.380556,
          10.041916,
          13.545182,
          28.818293,
          8.71825,
          17.426569,
          8.166169,
          3.021386,
          27.861702,
          32.51448,
          17.337978,
          48.351124,
          13.343602,
          6.035168,
          21.383863,
          49.628387,
          8.034873,
          29.728586,
          29.074976,
          39.874207,
          34.209972,
          38.830772,
          48.494038,
          1.9642226,
          2.9005868,
          18.417797,
          2.6663573,
          4.8094616,
          10.021376,
          14.364498,
          35.326366,
          26.845837,
          12.924498,
          19.961065,
          9.057568,
          13.866076,
          26.550295,
          50.449413,
          19.839643,
          20.734396,
          34.515194,
          12.105649,
          2.6605294,
          13.98227,
          4.8332086,
          15.382506,
          2.094244,
          42.175682,
          46.919876,
          6.321455,
          4.135018,
          4.135018,
          9.32398,
          40.683258,
          10.328452,
          53.259766,
          9.163169,
          11.879343,
          24.08115,
          16.138643,
          43.02461,
          9.913892,
          5.321215,
          29.66897,
          2.0971344,
          38.37801,
          36.02969,
          8.385698,
          11.442526,
          6.1982393,
          35.73779
         ],
         "yaxis": "y"
        },
        {
         "customdata": [
          [
           "Aaron Holiday",
           4.67,
           -12.273439656488389
          ],
          [
           "Anthony Gill",
           2.24,
           -84.76089510534491
          ],
          [
           "Ben Simmons",
           40.34,
           -68.28017757266362
          ],
          [
           "Brandon Clarke",
           12.5,
           -11.223106384277344
          ],
          [
           "Brandon Ingram",
           36.02,
           -12.628796549388802
          ],
          [
           "Bruce Brown",
           23,
           -70.51124158112898
          ],
          [
           "Chris Boucher",
           10.81,
           -30.318493626935965
          ],
          [
           "Chris Duarte",
           5.89,
           -16.840336318736565
          ],
          [
           "Clint Capela",
           22.27,
           -15.404985665097382
          ],
          [
           "Cody Martin",
           8.12,
           -12.562511237384054
          ],
          [
           "Cody Williams",
           5.47,
           -49.376674631178055
          ],
          [
           "Damian Lillard",
           48.79,
           -28.29935989020227
          ],
          [
           "Dario Šarić",
           5.17,
           -16.467002558754306
          ],
          [
           "Dariq Whitehead",
           3.11,
           -10.23417071130881
          ],
          [
           "De'Andre Hunter",
           21.7,
           -22.89638958768361
          ],
          [
           "De'Anthony Melton",
           12.82,
           -70.62260386724368
          ],
          [
           "Dennis Schröder",
           13.03,
           -12.453063707212618
          ],
          [
           "Dorian Finney-Smith",
           14.92,
           -62.88819223562451
          ],
          [
           "Drew Eubanks",
           5,
           -26.609678268432617
          ],
          [
           "Duncan Robinson",
           19.41,
           -12.33949499115509
          ],
          [
           "Gabe Vincent",
           11,
           -31.841148029674184
          ],
          [
           "Gary Harris",
           7.5,
           -20.97710927327474
          ],
          [
           "Herbert Jones",
           12.98,
           -28.308194517538254
          ],
          [
           "Isaac Okoro",
           10.19,
           -53.68556021708151
          ],
          [
           "Isaiah Joe",
           12.99,
           -11.030797980398836
          ],
          [
           "Isaiah Stewart",
           15,
           -34.533634185791016
          ],
          [
           "Jaden Springer",
           4.02,
           -14.526974976952387
          ],
          [
           "Jae'Sean Tate",
           7.57,
           -21.232447756486337
          ],
          [
           "Jalen Hood-Schifino",
           3.88,
           -13.574094624863456
          ],
          [
           "Jalen Smith",
           8.57,
           -16.375264821002478
          ],
          [
           "Jarred Vanderbilt",
           10.71,
           -23.30969659999417
          ],
          [
           "Jeff Green",
           8,
           -30.017709732055664
          ],
          [
           "Jett Howard",
           5.28,
           -25.696217652523163
          ],
          [
           "Jevon Carter",
           6.5,
           -17.20912639911358
          ],
          [
           "Jock Landale",
           8,
           -14.918303489685059
          ],
          [
           "John Konchar",
           6.17,
           -13.44780357768895
          ],
          [
           "Johnny Davis",
           5.29,
           -54.822067953012386
          ],
          [
           "Johnny Juzang",
           3.09,
           -17.248421888135393
          ],
          [
           "Jonathan Isaac",
           25,
           -19.520774841308594
          ],
          [
           "Josh Green",
           12.65,
           -19.854831318610273
          ],
          [
           "KJ Martin",
           7.97,
           -28.577768907343575
          ],
          [
           "Kawhi Leonard",
           49.21,
           -31.578059623794232
          ],
          [
           "Keldon Johnson",
           19,
           -16.079967900326377
          ],
          [
           "Kevin Huerter",
           16.83,
           -15.023742512585637
          ],
          [
           "Kevin Porter Jr.",
           3.24,
           -13.744220027217164
          ],
          [
           "Kevin Porter Jr.",
           3.24,
           -13.744220027217164
          ],
          [
           "Kobe Brown",
           2.53,
           -20.393808085927844
          ],
          [
           "Kobe Bufkin",
           4.3,
           -27.77765628903411
          ],
          [
           "Kyle Anderson",
           8.78,
           -14.36274013649629
          ],
          [
           "Kyle Kuzma",
           23.52,
           -10.31505623642279
          ],
          [
           "Larry Nance Jr.",
           11.21,
           -21.74084754419795
          ],
          [
           "Lonzo Ball",
           21.4,
           -20.48574608063029
          ],
          [
           "Luguentz Dort",
           16.5,
           -45.39794921875
          ],
          [
           "Luka Dončić",
           43.03,
           -14.3731136973614
          ],
          [
           "Luke Kennard",
           9.25,
           -11.089716730891046
          ],
          [
           "Malcolm Brogdon",
           22.5,
           -59.23818800184462
          ],
          [
           "Marcus Smart",
           20.21,
           -16.121488983592208
          ],
          [
           "Marvin Bagley III",
           12.5,
           -18.06456756591797
          ],
          [
           "Maxi Kleber",
           11,
           -26.934458992697973
          ],
          [
           "Mikal Bridges",
           23.3,
           -35.555564487440904
          ],
          [
           "Nicolas Batum",
           4.67,
           -12.072085721589767
          ],
          [
           "P.J. Tucker",
           11.54,
           -26.733598758690892
          ],
          [
           "Pat Connaughton",
           9.42,
           -40.38176384701091
          ],
          [
           "Patrick Williams",
           18,
           -23.254421022203235
          ],
          [
           "RJ Barrett",
           25.79,
           -20.343929318875105
          ],
          [
           "Reed Sheppard",
           10.1,
           -27.982811880583807
          ],
          [
           "Richaun Holmes",
           12.65,
           -18.167717372004695
          ],
          [
           "Rob Dillingham",
           6.26,
           -22.25482440985049
          ],
          [
           "Rui Hachimura",
           17,
           -38.7941697064568
          ],
          [
           "Seth Curry",
           2.09,
           -14.806818848021287
          ],
          [
           "Shake Milton",
           2.88,
           -39.454959498511414
          ],
          [
           "Simone Fontecchio",
           7.69,
           -30.791172776637683
          ],
          [
           "T.J. McConnell",
           9.3,
           -16.558070849346866
          ],
          [
           "Taylor Hendricks",
           5.85,
           -15.770188356057185
          ],
          [
           "Terance Mann",
           11.42,
           -19.82807419972328
          ],
          [
           "Tidjane Salaün",
           7.49,
           -22.492348145101673
          ],
          [
           "Tobias Harris",
           25.37,
           -10.243150517843729
          ],
          [
           "Trey Lyles",
           8,
           -12.089920043945312
          ],
          [
           "Zaccharie Risacher",
           12.57,
           -10.94098360460717
          ],
          [
           "Zach Collins",
           16.74,
           -18.948194032074294
          ],
          [
           "Zach LaVine",
           43.03,
           -37.378242629199924
          ],
          [
           "Zeke Nnaji",
           8.89,
           -30.85336631543189
          ]
         ],
         "hovertemplate": "PERFORMANCE=Below Target<br>TEAM_ABBREVIATION=%{x}<br>PREDICTED_SALARY=%{y}<br>PLAYER_NAME=%{customdata[0]}<br>SALARY_CONDENSED=%{customdata[1]}<br>SALARY_PCT_CHANGE=%{customdata[2]}<extra></extra>",
         "legendgroup": "Below Target",
         "marker": {
          "color": "red",
          "symbol": "circle"
         },
         "mode": "markers",
         "name": "Below Target",
         "orientation": "v",
         "showlegend": true,
         "type": "scatter",
         "x": [
          "HOU",
          "WAS",
          "LAC",
          "MEM",
          "TOR",
          "NOP",
          "TOR",
          "CHI",
          "ATL",
          "PHX",
          "UTA",
          "MIL",
          "DEN",
          "BKN",
          "CLE",
          "BKN",
          "DET",
          "LAL",
          "LAC",
          "MIA",
          "LAL",
          "ORL",
          "NOP",
          "CLE",
          "OKC",
          "DET",
          "UTA",
          "HOU",
          "PHI",
          "CHI",
          "LAL",
          "HOU",
          "ORL",
          "CHI",
          "HOU",
          "MEM",
          "WAS",
          "UTA",
          "ORL",
          "CHA",
          "UTA",
          "LAC",
          "SAS",
          "CHI",
          "MIL",
          "MIL",
          "LAC",
          "ATL",
          "MIA",
          "MIL",
          "ATL",
          "CHI",
          "OKC",
          "LAL",
          "MEM",
          "WAS",
          "WAS",
          "MEM",
          "LAL",
          "NYK",
          "LAC",
          "NYK",
          "MIL",
          "CHI",
          "TOR",
          "HOU",
          "WAS",
          "MIN",
          "LAL",
          "CHA",
          "LAL",
          "DET",
          "IND",
          "UTA",
          "ATL",
          "CHA",
          "DET",
          "SAC",
          "ATL",
          "CHI",
          "SAC",
          "DEN"
         ],
         "xaxis": "x",
         "y": [
          4.0968304,
          0.34135595,
          12.795776,
          11.097112,
          31.471107,
          6.7824144,
          7.532571,
          4.898104,
          18.83931,
          7.099924,
          2.769096,
          34.982742,
          4.318656,
          2.7917173,
          16.731483,
          3.7661822,
          11.407366,
          5.5370817,
          3.669516,
          17.014904,
          7.4974737,
          5.926717,
          9.305596,
          4.7194414,
          11.557099,
          9.819955,
          3.4360156,
          5.9627037,
          3.3533251,
          7.16664,
          8.2135315,
          5.598583,
          3.9232397,
          5.381407,
          6.8065357,
          5.3402705,
          2.3899126,
          2.5570238,
          20.119806,
          10.138364,
          5.692352,
          33.670437,
          15.944806,
          14.301504,
          2.7946873,
          2.7946873,
          2.0140367,
          3.1055608,
          7.5189514,
          21.093899,
          8.772851,
          17.01605,
          9.009338,
          36.84525,
          8.224201,
          9.171408,
          16.951847,
          10.241929,
          8.0372095,
          15.015553,
          4.1062336,
          8.454943,
          5.616038,
          13.814204,
          20.5433,
          7.273736,
          10.351784,
          4.866848,
          10.404991,
          1.7805375,
          1.7436972,
          5.322159,
          7.7600994,
          4.927444,
          9.155634,
          5.805323,
          22.771313,
          7.0328064,
          11.194718,
          13.568072,
          26.946142,
          6.1471357
         ],
         "yaxis": "y"
        },
        {
         "customdata": [
          [
           "Aaron Wiggins",
           10.51,
           10.309593570901598
          ],
          [
           "Adem Bona",
           1.16,
           101.17315752752899
          ],
          [
           "Alec Burks",
           2.09,
           58.28175978227096
          ],
          [
           "Alex Len",
           2.09,
           85.20956404471512
          ],
          [
           "Alperen Sengun",
           5.42,
           15.90603972713006
          ],
          [
           "Amen Thompson",
           9.25,
           22.63840340279244
          ],
          [
           "Andre Jackson Jr.",
           1.89,
           160.95602247450088
          ],
          [
           "Andrew Nembhard",
           2.02,
           109.4807247124096
          ],
          [
           "Austin Reaves",
           12.98,
           166.74073723321334
          ],
          [
           "Baylor Scheierman",
           2.49,
           14.994049072265614
          ],
          [
           "Ben Sheppard",
           2.66,
           18.576422669833757
          ],
          [
           "Bennedict Mathurin",
           7.25,
           45.01939970871498
          ],
          [
           "Blake Wesley",
           2.62,
           77.50880190434346
          ],
          [
           "Bobi Klintman",
           1.26,
           78.26261974516369
          ],
          [
           "Brandin Podziemski",
           3.52,
           342.25326993248683
          ],
          [
           "Brandon Miller",
           11.42,
           119.21293121712011
          ],
          [
           "Bronny James",
           1.16,
           27.78075604603209
          ],
          [
           "Buddy Hield",
           8.78,
           10.188041026608555
          ],
          [
           "Caleb Houstan",
           2.02,
           31.567126453512966
          ],
          [
           "Cam Christie",
           1.16,
           77.505139646859
          ],
          [
           "Cam Reddish",
           2.46,
           24.358549350645486
          ],
          [
           "Cam Thomas",
           4.04,
           60.451230436268425
          ],
          [
           "Cam Whitmore",
           3.38,
           22.297628391423878
          ],
          [
           "Cameron Payne",
           2.09,
           437.07405710904794
          ],
          [
           "Cason Wallace",
           5.56,
           11.490916862762239
          ],
          [
           "Charles Bassey",
           2.09,
           69.64736737703024
          ],
          [
           "Chris Livingston",
           1.89,
           15.063947344583184
          ],
          [
           "Christian Braun",
           3.09,
           102.4068184269285
          ],
          [
           "Colby Jones",
           2.12,
           21.22239706651219
          ],
          [
           "Cole Anthony",
           12.9,
           15.517194880995635
          ],
          [
           "Cory Joseph",
           3.3,
           17.492863626191117
          ],
          [
           "Craig Porter Jr.",
           1.89,
           187.67434377518916
          ],
          [
           "D'Angelo Russell",
           18.69,
           51.85981207572564
          ],
          [
           "DaQuan Jeffries",
           3.08,
           13.629760680260594
          ],
          [
           "Dalano Banton",
           2.2,
           416.15910096602005
          ],
          [
           "Damion Lee",
           2.09,
           11.614619715932461
          ],
          [
           "Daniel Theis",
           2.09,
           62.46463693500136
          ],
          [
           "David Roddy",
           2.85,
           23.560303135922076
          ],
          [
           "Day'Ron Sharpe",
           3.99,
           31.230103342156657
          ],
          [
           "DeAndre Jordan",
           2.09,
           74.27883650127211
          ],
          [
           "Delon Wright",
           2.09,
           76.85551392404658
          ],
          [
           "Derrick Jones Jr.",
           9.52,
           23.829921754468394
          ],
          [
           "Dillon Jones",
           2.62,
           17.524106993930026
          ],
          [
           "Donovan Clingan",
           6.84,
           80.81273251806785
          ],
          [
           "Donte DiVincenzo",
           11.45,
           21.9743870231262
          ],
          [
           "Doug McDermott",
           2.09,
           30.671040293132297
          ],
          [
           "Duop Reath",
           2.05,
           73.0714658411538
          ],
          [
           "Dyson Daniels",
           6.06,
           10.858006052451566
          ],
          [
           "E.J. Liddell",
           0.71,
           422.1718801579006
          ],
          [
           "Evan Mobley",
           11.23,
           168.592257002901
          ],
          [
           "Franz Wagner",
           7.01,
           34.83952183526185
          ],
          [
           "Garrett Temple",
           2.09,
           11.469731946881316
          ],
          [
           "Garrison Mathews",
           2.23,
           76.9656450759135
          ],
          [
           "Gary Trent Jr.",
           2.09,
           45.54314636157461
          ],
          [
           "Goga Bitadze",
           9.06,
           10.29861357564694
          ],
          [
           "Gradey Dick",
           4.76,
           30.910683078926155
          ],
          [
           "Grayson Allen",
           15.62,
           34.2482450829578
          ],
          [
           "Guerschon Yabusele",
           2.09,
           420.47939391797814
          ],
          [
           "Gui Santos",
           1.89,
           90.37993496687956
          ],
          [
           "Isaiah Collier",
           2.51,
           10.327751038084001
          ],
          [
           "Ivica Zubac",
           11.74,
           101.4979308874075
          ],
          [
           "Jabari Smith Jr.",
           9.77,
           20.18624445311001
          ],
          [
           "Jabari Walker",
           2.02,
           10.345099231984355
          ],
          [
           "Jaden Hardy",
           2.02,
           64.56231032267655
          ],
          [
           "Jaime Jaquez Jr.",
           3.69,
           18.138124626180346
          ],
          [
           "Jake LaRavia",
           3.35,
           175.4913443949685
          ],
          [
           "Jalen Brunson",
           24.96,
           12.971518284235243
          ],
          [
           "Jalen Duren",
           4.54,
           20.995233762631855
          ],
          [
           "Jalen Johnson",
           4.51,
           73.32875279259524
          ],
          [
           "Jalen Pickett",
           1.89,
           141.52876838805187
          ],
          [
           "Jalen Suggs",
           9.19,
           265.45584328934734
          ],
          [
           "Jalen Williams",
           4.78,
           416.56060637789284
          ],
          [
           "Jalen Wilson",
           1.89,
           77.5581748397262
          ],
          [
           "Jamal Shead",
           1.86,
           20.931812511977324
          ],
          [
           "James Harden",
           33.65,
           19.29122902131896
          ],
          [
           "James Wiseman",
           2.24,
           25.807683382715485
          ],
          [
           "Jarace Walker",
           6.36,
           23.551559148344598
          ],
          [
           "Jared McCain",
           4.02,
           93.58554289708685
          ],
          [
           "Javonte Green",
           2.09,
           63.06634154616362
          ],
          [
           "Jaxson Hayes",
           2.46,
           31.264178733515546
          ],
          [
           "Jay Huff",
           2.09,
           112.18121907357394
          ],
          [
           "Jaylen Nowell",
           0.28,
           815.5875444412229
          ],
          [
           "Jaylen Wells",
           1.16,
           1058.0211540748332
          ],
          [
           "Jaylin Williams",
           2.02,
           94.86098006220148
          ],
          [
           "Jeremy Sochan",
           5.57,
           30.59735084136469
          ],
          [
           "Jericho Sims",
           2.09,
           53.86567731793418
          ],
          [
           "Johnny Furphy",
           1.85,
           51.959677000303515
          ],
          [
           "Jonathan Kuminga",
           7.64,
           37.163356960756
          ],
          [
           "Jonathan Mogbo",
           1.86,
           83.52830281821629
          ],
          [
           "Jordan Hawkins",
           4.53,
           20.7517051275729
          ],
          [
           "Jordan McLaughlin",
           2.09,
           18.968783383164116
          ],
          [
           "Jordan Walsh",
           1.89,
           38.58535302379145
          ],
          [
           "Jose Alvarado",
           1.99,
           132.94381759873585
          ],
          [
           "Josh Minott",
           2.02,
           38.964735635436405
          ],
          [
           "Julian Champagnie",
           3,
           300.72711308797204
          ],
          [
           "Julian Phillips",
           1.89,
           12.541188638677047
          ],
          [
           "Julian Strawther",
           2.55,
           72.07508461148132
          ],
          [
           "Karlo Matković",
           1.41,
           56.52954155671682
          ],
          [
           "Keegan Murray",
           8.81,
           11.86043331219849
          ],
          [
           "Kel'el Ware",
           4.23,
           242.4515059090111
          ],
          [
           "Kelly Oubre Jr.",
           7.98,
           22.958580055332416
          ],
          [
           "Keon Ellis",
           2.12,
           89.31094205604408
          ],
          [
           "Keon Johnson",
           2.16,
           15.005826508557346
          ],
          [
           "Kevin Love",
           3.85,
           57.554378757229095
          ],
          [
           "Keyonte George",
           4.08,
           32.558299045936735
          ],
          [
           "Klay Thompson",
           15.87,
           18.821005289405875
          ],
          [
           "Kris Dunn",
           5.17,
           11.713935143712412
          ],
          [
           "Kris Murray",
           2.99,
           47.63441372874587
          ],
          [
           "Kyle Filipowski",
           3,
           182.68578847249347
          ],
          [
           "Kyle Lowry",
           2.09,
           87.48219503740376
          ],
          [
           "Kyshawn George",
           2.83,
           30.949256276915854
          ],
          [
           "Lindy Waters III",
           2.2,
           138.05999755859372
          ],
          [
           "Luka Garza",
           2.16,
           10.803997075116186
          ],
          [
           "Luke Kornet",
           2.09,
           35.33957266921633
          ],
          [
           "Malevy Leons",
           1.1,
           87.1872381730513
          ],
          [
           "Malik Beasley",
           6,
           13.88538678487142
          ],
          [
           "Marcus Sasser",
           2.76,
           94.2138913748921
          ],
          [
           "Mark Williams",
           4.09,
           41.98882655584434
          ],
          [
           "Markieff Morris",
           2.09,
           31.681490172609767
          ],
          [
           "Mason Plumlee",
           2.09,
           51.52999658904008
          ],
          [
           "Matt Ryan",
           0.62,
           145.85218198837774
          ],
          [
           "Max Christie",
           7.14,
           87.41190934381567
          ],
          [
           "Maxwell Lewis",
           1.89,
           32.321403140113475
          ],
          [
           "Mike Conley",
           9.98,
           13.31442601695089
          ],
          [
           "Miles McBride",
           4.71,
           32.72335068688525
          ],
          [
           "Mo Bamba",
           2.09,
           91.31112897224976
          ],
          [
           "Moritz Wagner",
           11,
           13.604198802601209
          ],
          [
           "Moses Brown",
           0.31,
           434.1927851400068
          ],
          [
           "Moses Moody",
           5.8,
           26.02932699795427
          ],
          [
           "Mouhamed Gueye",
           1.89,
           114.57460191514758
          ],
          [
           "Neemias Queta",
           2.16,
           28.718570426658342
          ],
          [
           "Nick Richards",
           5,
           146.01083755493164
          ],
          [
           "Nick Smith Jr.",
           2.59,
           12.64127193730771
          ],
          [
           "Nickeil Alexander-Walker",
           4.31,
           30.124180610108
          ],
          [
           "Nikola Jović",
           2.46,
           193.65669421064175
          ],
          [
           "Noah Clowney",
           3.24,
           46.26279289339795
          ],
          [
           "Ochai Agbaji",
           4.31,
           28.271806544328243
          ],
          [
           "Orlando Robinson",
           2.09,
           10.174936540959562
          ],
          [
           "Oso Ighodaro",
           1.16,
           199.13032877034155
          ],
          [
           "Paolo Banchero",
           12.16,
           13.711239475952949
          ],
          [
           "Patrick Baldwin Jr.",
           2.45,
           19.590992830237557
          ],
          [
           "Patty Mills",
           2.09,
           29.606438595712483
          ],
          [
           "Paul Reed",
           2.49,
           149.66257164277224
          ],
          [
           "Pelle Larsson",
           1.16,
           119.96859846443968
          ],
          [
           "Peyton Watson",
           2.41,
           142.01565263676937
          ],
          [
           "Precious Achiuwa",
           6,
           12.113006909688313
          ],
          [
           "Quentin Grimes",
           4.3,
           49.370526158532435
          ],
          [
           "Rayan Rupert",
           1.89,
           22.28085250450821
          ],
          [
           "Ricky Council IV",
           1.89,
           38.35076932553893
          ],
          [
           "Russell Westbrook",
           5.63,
           16.114201384793382
          ],
          [
           "Russell Westbrook",
           5.63,
           16.114201384793382
          ],
          [
           "Ryan Dunn",
           2.53,
           66.68004951929389
          ],
          [
           "Ryan Rollins",
           0.6,
           1004.0145556132
          ],
          [
           "Sam Hauser",
           2.09,
           38.70301999543844
          ],
          [
           "Sam Merrill",
           2.16,
           89.42289882236055
          ],
          [
           "Sandro Mamukelashvili",
           2.09,
           84.3062200044331
          ],
          [
           "Santi Aldama",
           3.96,
           74.8847479772086
          ],
          [
           "Scottie Barnes",
           10.13,
           88.8258388929753
          ],
          [
           "Scotty Pippen Jr.",
           2.09,
           43.85175476804306
          ],
          [
           "Shaedon Sharpe",
           6.61,
           50.39360288772928
          ],
          [
           "Shai Gilgeous-Alexander",
           35.86,
           25.08064691274444
          ],
          [
           "Sidy Cissoko",
           1.89,
           25.890080890958277
          ],
          [
           "Spencer Dinwiddie",
           2.09,
           660.836395920749
          ],
          [
           "Svi Mykhailiuk",
           3.5,
           68.46908841814313
          ],
          [
           "Taj Gibson",
           2.09,
           71.91783092809067
          ],
          [
           "Talen Horton-Tucker",
           2.09,
           18.2858567488821
          ],
          [
           "Tari Eason",
           3.7,
           31.797970952214417
          ],
          [
           "Taurean Prince",
           2.09,
           367.587566832036
          ],
          [
           "Terrence Shannon Jr.",
           2.55,
           23.55989568373737
          ],
          [
           "Thomas Bryant",
           2.09,
           133.16698211231872
          ],
          [
           "Torrey Craig",
           2.85,
           26.802837639524224
          ],
          [
           "Toumani Camara",
           1.89,
           84.75828978119705
          ],
          [
           "Trayce Jackson-Davis",
           1.89,
           76.61644668175431
          ],
          [
           "Trendon Watford",
           2.73,
           36.225808671105916
          ],
          [
           "Trey Murphy III",
           5.16,
           66.04318175204963
          ],
          [
           "Tristan Thompson",
           2.09,
           14.477091428765847
          ],
          [
           "Ty Jerome",
           2.56,
           64.19555991888046
          ],
          [
           "Tyler Smith",
           1.16,
           117.92089116984401
          ],
          [
           "Tyus Jones",
           2.09,
           69.00131006560258
          ],
          [
           "Victor Wembanyama",
           12.77,
           11.193220038477483
          ],
          [
           "Vince Williams Jr.",
           2.12,
           169.33024514396234
          ],
          [
           "Vlatko Čančar",
           2.09,
           151.28734168823829
          ],
          [
           "Walker Kessler",
           2.97,
           469.0432718707254
          ],
          [
           "Wendell Moore Jr.",
           2.54,
           43.424507201187254
          ],
          [
           "Yves Missi",
           3.19,
           266.57506769353694
          ],
          [
           "Zach Edey",
           5.76,
           61.784506506390045
          ]
         ],
         "hovertemplate": "PERFORMANCE=Above Target<br>TEAM_ABBREVIATION=%{x}<br>PREDICTED_SALARY=%{y}<br>PLAYER_NAME=%{customdata[0]}<br>SALARY_CONDENSED=%{customdata[1]}<br>SALARY_PCT_CHANGE=%{customdata[2]}<extra></extra>",
         "legendgroup": "Above Target",
         "marker": {
          "color": "green",
          "symbol": "circle"
         },
         "mode": "markers",
         "name": "Above Target",
         "orientation": "v",
         "showlegend": true,
         "type": "scatter",
         "x": [
          "OKC",
          "PHI",
          "MIA",
          "LAL",
          "HOU",
          "HOU",
          "MIL",
          "IND",
          "LAL",
          "BOS",
          "IND",
          "IND",
          "SAS",
          "DET",
          "GSW",
          "CHA",
          "LAL",
          "GSW",
          "ORL",
          "LAC",
          "LAL",
          "BKN",
          "HOU",
          "NYK",
          "OKC",
          "SAS",
          "MIL",
          "DEN",
          "WAS",
          "MEM",
          "ORL",
          "CLE",
          "BKN",
          "CHA",
          "POR",
          "PHX",
          "NOP",
          "HOU",
          "BKN",
          "DEN",
          "NYK",
          "LAC",
          "OKC",
          "POR",
          "MIN",
          "SAC",
          "POR",
          "ATL",
          "CHI",
          "CLE",
          "ORL",
          "TOR",
          "ATL",
          "MIL",
          "ORL",
          "TOR",
          "PHX",
          "PHI",
          "GSW",
          "UTA",
          "LAC",
          "HOU",
          "POR",
          "DAL",
          "MIA",
          "SAC",
          "NYK",
          "DET",
          "ATL",
          "DEN",
          "ORL",
          "OKC",
          "BKN",
          "TOR",
          "LAC",
          "IND",
          "IND",
          "PHI",
          "CLE",
          "LAL",
          "MEM",
          "NOP",
          "MEM",
          "OKC",
          "SAS",
          "MIL",
          "IND",
          "GSW",
          "TOR",
          "NOP",
          "SAS",
          "BOS",
          "NOP",
          "MIN",
          "SAS",
          "CHI",
          "DEN",
          "NOP",
          "SAC",
          "MIA",
          "PHI",
          "SAC",
          "BKN",
          "MIA",
          "UTA",
          "DAL",
          "LAC",
          "POR",
          "UTA",
          "PHI",
          "WAS",
          "DET",
          "MIN",
          "BOS",
          "OKC",
          "DET",
          "DET",
          "CHA",
          "LAL",
          "PHX",
          "NYK",
          "DAL",
          "BKN",
          "MIN",
          "NYK",
          "NOP",
          "ORL",
          "DAL",
          "GSW",
          "ATL",
          "BOS",
          "PHX",
          "CHA",
          "MIN",
          "MIA",
          "BKN",
          "TOR",
          "TOR",
          "PHX",
          "ORL",
          "LAC",
          "LAC",
          "DET",
          "MIA",
          "DEN",
          "NYK",
          "PHI",
          "POR",
          "PHI",
          "DEN",
          "DEN",
          "PHX",
          "MIL",
          "BOS",
          "CLE",
          "SAS",
          "MEM",
          "TOR",
          "MEM",
          "POR",
          "OKC",
          "POR",
          "DAL",
          "UTA",
          "CHA",
          "CHI",
          "HOU",
          "MIL",
          "MIN",
          "IND",
          "BOS",
          "POR",
          "GSW",
          "BKN",
          "NOP",
          "CLE",
          "CLE",
          "MIL",
          "PHX",
          "SAS",
          "MEM",
          "DEN",
          "UTA",
          "CHA",
          "NOP",
          "MEM"
         ],
         "xaxis": "x",
         "y": [
          11.593538,
          2.3336086,
          3.3080888,
          3.87088,
          6.2821074,
          11.344052,
          4.932069,
          4.2315106,
          34.622948,
          2.8633518,
          3.1541328,
          10.5139065,
          4.6507306,
          2.246109,
          15.567315,
          25.034117,
          1.4822568,
          9.67451,
          2.657656,
          2.0590596,
          3.0592203,
          6.4822297,
          4.13366,
          11.224848,
          6.198895,
          3.54563,
          2.1747086,
          6.2543707,
          2.5699148,
          14.901718,
          3.8772645,
          5.437045,
          28.382599,
          3.4997966,
          11.3555,
          2.3327456,
          3.395511,
          3.5214686,
          5.236081,
          3.6424277,
          3.6962802,
          11.788609,
          3.0791316,
          12.367591,
          13.966067,
          2.7310247,
          3.547965,
          6.717995,
          3.7074203,
          30.16291,
          9.4522505,
          2.3297174,
          3.946334,
          3.0418518,
          9.993054,
          6.2313485,
          20.969576,
          10.878019,
          3.5981808,
          2.7692266,
          23.655857,
          11.742196,
          2.228971,
          3.3241587,
          4.359297,
          9.22896,
          28.197691,
          5.4931836,
          7.8171268,
          4.5648937,
          33.585392,
          24.691597,
          3.3558495,
          2.2493317,
          40.1415,
          2.818092,
          7.857879,
          7.782139,
          3.4080865,
          3.2290988,
          4.4345875,
          2.5636451,
          13.433045,
          3.9361918,
          7.2742724,
          3.2157927,
          2.811254,
          10.47928,
          3.4136264,
          5.4700522,
          2.4864476,
          2.6192632,
          4.635582,
          2.8070877,
          12.021813,
          2.1270285,
          4.3879147,
          2.2070665,
          9.854904,
          14.485699,
          9.812095,
          4.013392,
          2.4841259,
          6.0658436,
          5.4083786,
          18.856894,
          5.7756104,
          4.414269,
          8.480574,
          3.9183779,
          3.705864,
          5.23732,
          2.3933663,
          2.828597,
          2.0590596,
          6.833123,
          5.3603034,
          5.807343,
          2.7521431,
          3.166977,
          1.5242835,
          13.38121,
          2.5008745,
          11.30878,
          6.25127,
          3.9984026,
          12.496462,
          1.6559976,
          7.309701,
          4.05546,
          2.7803211,
          12.300542,
          2.917409,
          5.608352,
          7.2239547,
          4.7389145,
          5.528515,
          2.3026562,
          3.4699118,
          13.827287,
          2.9299793,
          2.7087746,
          6.216598,
          2.5516357,
          5.832577,
          6.7267804,
          6.4229326,
          2.311108,
          2.6148295,
          6.5372295,
          6.5372295,
          4.2170053,
          6.6240873,
          2.898893,
          4.0915346,
          3.852,
          6.925436,
          19.128057,
          3.0065017,
          9.941017,
          44.85392,
          2.3793225,
          15.901481,
          5.896418,
          3.5930827,
          2.4721744,
          4.876525,
          9.77258,
          3.1507773,
          4.87319,
          3.6138809,
          3.4919317,
          3.3380508,
          3.7189646,
          8.567828,
          2.3925712,
          4.2034063,
          2.5278823,
          3.5321274,
          14.199374,
          5.709801,
          5.2519054,
          16.900585,
          3.6429825,
          11.693745,
          9.318788
         ],
         "yaxis": "y"
        }
       ],
       "layout": {
        "legend": {
         "title": {
          "text": "Performance"
         },
         "tracegroupgap": 0
        },
        "margin": {
         "t": 60
        },
        "paper_bgcolor": "black",
        "plot_bgcolor": "black",
        "template": {
         "data": {
          "bar": [
           {
            "error_x": {
             "color": "#f2f5fa"
            },
            "error_y": {
             "color": "#f2f5fa"
            },
            "marker": {
             "line": {
              "color": "rgb(17,17,17)",
              "width": 0.5
             },
             "pattern": {
              "fillmode": "overlay",
              "size": 10,
              "solidity": 0.2
             }
            },
            "type": "bar"
           }
          ],
          "barpolar": [
           {
            "marker": {
             "line": {
              "color": "rgb(17,17,17)",
              "width": 0.5
             },
             "pattern": {
              "fillmode": "overlay",
              "size": 10,
              "solidity": 0.2
             }
            },
            "type": "barpolar"
           }
          ],
          "carpet": [
           {
            "aaxis": {
             "endlinecolor": "#A2B1C6",
             "gridcolor": "#506784",
             "linecolor": "#506784",
             "minorgridcolor": "#506784",
             "startlinecolor": "#A2B1C6"
            },
            "baxis": {
             "endlinecolor": "#A2B1C6",
             "gridcolor": "#506784",
             "linecolor": "#506784",
             "minorgridcolor": "#506784",
             "startlinecolor": "#A2B1C6"
            },
            "type": "carpet"
           }
          ],
          "choropleth": [
           {
            "colorbar": {
             "outlinewidth": 0,
             "ticks": ""
            },
            "type": "choropleth"
           }
          ],
          "contour": [
           {
            "colorbar": {
             "outlinewidth": 0,
             "ticks": ""
            },
            "colorscale": [
             [
              0,
              "#0d0887"
             ],
             [
              0.1111111111111111,
              "#46039f"
             ],
             [
              0.2222222222222222,
              "#7201a8"
             ],
             [
              0.3333333333333333,
              "#9c179e"
             ],
             [
              0.4444444444444444,
              "#bd3786"
             ],
             [
              0.5555555555555556,
              "#d8576b"
             ],
             [
              0.6666666666666666,
              "#ed7953"
             ],
             [
              0.7777777777777778,
              "#fb9f3a"
             ],
             [
              0.8888888888888888,
              "#fdca26"
             ],
             [
              1,
              "#f0f921"
             ]
            ],
            "type": "contour"
           }
          ],
          "contourcarpet": [
           {
            "colorbar": {
             "outlinewidth": 0,
             "ticks": ""
            },
            "type": "contourcarpet"
           }
          ],
          "heatmap": [
           {
            "colorbar": {
             "outlinewidth": 0,
             "ticks": ""
            },
            "colorscale": [
             [
              0,
              "#0d0887"
             ],
             [
              0.1111111111111111,
              "#46039f"
             ],
             [
              0.2222222222222222,
              "#7201a8"
             ],
             [
              0.3333333333333333,
              "#9c179e"
             ],
             [
              0.4444444444444444,
              "#bd3786"
             ],
             [
              0.5555555555555556,
              "#d8576b"
             ],
             [
              0.6666666666666666,
              "#ed7953"
             ],
             [
              0.7777777777777778,
              "#fb9f3a"
             ],
             [
              0.8888888888888888,
              "#fdca26"
             ],
             [
              1,
              "#f0f921"
             ]
            ],
            "type": "heatmap"
           }
          ],
          "heatmapgl": [
           {
            "colorbar": {
             "outlinewidth": 0,
             "ticks": ""
            },
            "colorscale": [
             [
              0,
              "#0d0887"
             ],
             [
              0.1111111111111111,
              "#46039f"
             ],
             [
              0.2222222222222222,
              "#7201a8"
             ],
             [
              0.3333333333333333,
              "#9c179e"
             ],
             [
              0.4444444444444444,
              "#bd3786"
             ],
             [
              0.5555555555555556,
              "#d8576b"
             ],
             [
              0.6666666666666666,
              "#ed7953"
             ],
             [
              0.7777777777777778,
              "#fb9f3a"
             ],
             [
              0.8888888888888888,
              "#fdca26"
             ],
             [
              1,
              "#f0f921"
             ]
            ],
            "type": "heatmapgl"
           }
          ],
          "histogram": [
           {
            "marker": {
             "pattern": {
              "fillmode": "overlay",
              "size": 10,
              "solidity": 0.2
             }
            },
            "type": "histogram"
           }
          ],
          "histogram2d": [
           {
            "colorbar": {
             "outlinewidth": 0,
             "ticks": ""
            },
            "colorscale": [
             [
              0,
              "#0d0887"
             ],
             [
              0.1111111111111111,
              "#46039f"
             ],
             [
              0.2222222222222222,
              "#7201a8"
             ],
             [
              0.3333333333333333,
              "#9c179e"
             ],
             [
              0.4444444444444444,
              "#bd3786"
             ],
             [
              0.5555555555555556,
              "#d8576b"
             ],
             [
              0.6666666666666666,
              "#ed7953"
             ],
             [
              0.7777777777777778,
              "#fb9f3a"
             ],
             [
              0.8888888888888888,
              "#fdca26"
             ],
             [
              1,
              "#f0f921"
             ]
            ],
            "type": "histogram2d"
           }
          ],
          "histogram2dcontour": [
           {
            "colorbar": {
             "outlinewidth": 0,
             "ticks": ""
            },
            "colorscale": [
             [
              0,
              "#0d0887"
             ],
             [
              0.1111111111111111,
              "#46039f"
             ],
             [
              0.2222222222222222,
              "#7201a8"
             ],
             [
              0.3333333333333333,
              "#9c179e"
             ],
             [
              0.4444444444444444,
              "#bd3786"
             ],
             [
              0.5555555555555556,
              "#d8576b"
             ],
             [
              0.6666666666666666,
              "#ed7953"
             ],
             [
              0.7777777777777778,
              "#fb9f3a"
             ],
             [
              0.8888888888888888,
              "#fdca26"
             ],
             [
              1,
              "#f0f921"
             ]
            ],
            "type": "histogram2dcontour"
           }
          ],
          "mesh3d": [
           {
            "colorbar": {
             "outlinewidth": 0,
             "ticks": ""
            },
            "type": "mesh3d"
           }
          ],
          "parcoords": [
           {
            "line": {
             "colorbar": {
              "outlinewidth": 0,
              "ticks": ""
             }
            },
            "type": "parcoords"
           }
          ],
          "pie": [
           {
            "automargin": true,
            "type": "pie"
           }
          ],
          "scatter": [
           {
            "marker": {
             "line": {
              "color": "#283442"
             }
            },
            "type": "scatter"
           }
          ],
          "scatter3d": [
           {
            "line": {
             "colorbar": {
              "outlinewidth": 0,
              "ticks": ""
             }
            },
            "marker": {
             "colorbar": {
              "outlinewidth": 0,
              "ticks": ""
             }
            },
            "type": "scatter3d"
           }
          ],
          "scattercarpet": [
           {
            "marker": {
             "colorbar": {
              "outlinewidth": 0,
              "ticks": ""
             }
            },
            "type": "scattercarpet"
           }
          ],
          "scattergeo": [
           {
            "marker": {
             "colorbar": {
              "outlinewidth": 0,
              "ticks": ""
             }
            },
            "type": "scattergeo"
           }
          ],
          "scattergl": [
           {
            "marker": {
             "line": {
              "color": "#283442"
             }
            },
            "type": "scattergl"
           }
          ],
          "scattermapbox": [
           {
            "marker": {
             "colorbar": {
              "outlinewidth": 0,
              "ticks": ""
             }
            },
            "type": "scattermapbox"
           }
          ],
          "scatterpolar": [
           {
            "marker": {
             "colorbar": {
              "outlinewidth": 0,
              "ticks": ""
             }
            },
            "type": "scatterpolar"
           }
          ],
          "scatterpolargl": [
           {
            "marker": {
             "colorbar": {
              "outlinewidth": 0,
              "ticks": ""
             }
            },
            "type": "scatterpolargl"
           }
          ],
          "scatterternary": [
           {
            "marker": {
             "colorbar": {
              "outlinewidth": 0,
              "ticks": ""
             }
            },
            "type": "scatterternary"
           }
          ],
          "surface": [
           {
            "colorbar": {
             "outlinewidth": 0,
             "ticks": ""
            },
            "colorscale": [
             [
              0,
              "#0d0887"
             ],
             [
              0.1111111111111111,
              "#46039f"
             ],
             [
              0.2222222222222222,
              "#7201a8"
             ],
             [
              0.3333333333333333,
              "#9c179e"
             ],
             [
              0.4444444444444444,
              "#bd3786"
             ],
             [
              0.5555555555555556,
              "#d8576b"
             ],
             [
              0.6666666666666666,
              "#ed7953"
             ],
             [
              0.7777777777777778,
              "#fb9f3a"
             ],
             [
              0.8888888888888888,
              "#fdca26"
             ],
             [
              1,
              "#f0f921"
             ]
            ],
            "type": "surface"
           }
          ],
          "table": [
           {
            "cells": {
             "fill": {
              "color": "#506784"
             },
             "line": {
              "color": "rgb(17,17,17)"
             }
            },
            "header": {
             "fill": {
              "color": "#2a3f5f"
             },
             "line": {
              "color": "rgb(17,17,17)"
             }
            },
            "type": "table"
           }
          ]
         },
         "layout": {
          "annotationdefaults": {
           "arrowcolor": "#f2f5fa",
           "arrowhead": 0,
           "arrowwidth": 1
          },
          "autotypenumbers": "strict",
          "coloraxis": {
           "colorbar": {
            "outlinewidth": 0,
            "ticks": ""
           }
          },
          "colorscale": {
           "diverging": [
            [
             0,
             "#8e0152"
            ],
            [
             0.1,
             "#c51b7d"
            ],
            [
             0.2,
             "#de77ae"
            ],
            [
             0.3,
             "#f1b6da"
            ],
            [
             0.4,
             "#fde0ef"
            ],
            [
             0.5,
             "#f7f7f7"
            ],
            [
             0.6,
             "#e6f5d0"
            ],
            [
             0.7,
             "#b8e186"
            ],
            [
             0.8,
             "#7fbc41"
            ],
            [
             0.9,
             "#4d9221"
            ],
            [
             1,
             "#276419"
            ]
           ],
           "sequential": [
            [
             0,
             "#0d0887"
            ],
            [
             0.1111111111111111,
             "#46039f"
            ],
            [
             0.2222222222222222,
             "#7201a8"
            ],
            [
             0.3333333333333333,
             "#9c179e"
            ],
            [
             0.4444444444444444,
             "#bd3786"
            ],
            [
             0.5555555555555556,
             "#d8576b"
            ],
            [
             0.6666666666666666,
             "#ed7953"
            ],
            [
             0.7777777777777778,
             "#fb9f3a"
            ],
            [
             0.8888888888888888,
             "#fdca26"
            ],
            [
             1,
             "#f0f921"
            ]
           ],
           "sequentialminus": [
            [
             0,
             "#0d0887"
            ],
            [
             0.1111111111111111,
             "#46039f"
            ],
            [
             0.2222222222222222,
             "#7201a8"
            ],
            [
             0.3333333333333333,
             "#9c179e"
            ],
            [
             0.4444444444444444,
             "#bd3786"
            ],
            [
             0.5555555555555556,
             "#d8576b"
            ],
            [
             0.6666666666666666,
             "#ed7953"
            ],
            [
             0.7777777777777778,
             "#fb9f3a"
            ],
            [
             0.8888888888888888,
             "#fdca26"
            ],
            [
             1,
             "#f0f921"
            ]
           ]
          },
          "colorway": [
           "#636efa",
           "#EF553B",
           "#00cc96",
           "#ab63fa",
           "#FFA15A",
           "#19d3f3",
           "#FF6692",
           "#B6E880",
           "#FF97FF",
           "#FECB52"
          ],
          "font": {
           "color": "#f2f5fa"
          },
          "geo": {
           "bgcolor": "rgb(17,17,17)",
           "lakecolor": "rgb(17,17,17)",
           "landcolor": "rgb(17,17,17)",
           "showlakes": true,
           "showland": true,
           "subunitcolor": "#506784"
          },
          "hoverlabel": {
           "align": "left"
          },
          "hovermode": "closest",
          "mapbox": {
           "style": "dark"
          },
          "paper_bgcolor": "rgb(17,17,17)",
          "plot_bgcolor": "rgb(17,17,17)",
          "polar": {
           "angularaxis": {
            "gridcolor": "#506784",
            "linecolor": "#506784",
            "ticks": ""
           },
           "bgcolor": "rgb(17,17,17)",
           "radialaxis": {
            "gridcolor": "#506784",
            "linecolor": "#506784",
            "ticks": ""
           }
          },
          "scene": {
           "xaxis": {
            "backgroundcolor": "rgb(17,17,17)",
            "gridcolor": "#506784",
            "gridwidth": 2,
            "linecolor": "#506784",
            "showbackground": true,
            "ticks": "",
            "zerolinecolor": "#C8D4E3"
           },
           "yaxis": {
            "backgroundcolor": "rgb(17,17,17)",
            "gridcolor": "#506784",
            "gridwidth": 2,
            "linecolor": "#506784",
            "showbackground": true,
            "ticks": "",
            "zerolinecolor": "#C8D4E3"
           },
           "zaxis": {
            "backgroundcolor": "rgb(17,17,17)",
            "gridcolor": "#506784",
            "gridwidth": 2,
            "linecolor": "#506784",
            "showbackground": true,
            "ticks": "",
            "zerolinecolor": "#C8D4E3"
           }
          },
          "shapedefaults": {
           "line": {
            "color": "#f2f5fa"
           }
          },
          "sliderdefaults": {
           "bgcolor": "#C8D4E3",
           "bordercolor": "rgb(17,17,17)",
           "borderwidth": 1,
           "tickwidth": 0
          },
          "ternary": {
           "aaxis": {
            "gridcolor": "#506784",
            "linecolor": "#506784",
            "ticks": ""
           },
           "baxis": {
            "gridcolor": "#506784",
            "linecolor": "#506784",
            "ticks": ""
           },
           "bgcolor": "rgb(17,17,17)",
           "caxis": {
            "gridcolor": "#506784",
            "linecolor": "#506784",
            "ticks": ""
           }
          },
          "title": {
           "x": 0.05
          },
          "updatemenudefaults": {
           "bgcolor": "#506784",
           "borderwidth": 0
          },
          "xaxis": {
           "automargin": true,
           "gridcolor": "#283442",
           "linecolor": "#506784",
           "ticks": "",
           "title": {
            "standoff": 15
           },
           "zerolinecolor": "#283442",
           "zerolinewidth": 2
          },
          "yaxis": {
           "automargin": true,
           "gridcolor": "#283442",
           "linecolor": "#506784",
           "ticks": "",
           "title": {
            "standoff": 15
           },
           "zerolinecolor": "#283442",
           "zerolinewidth": 2
          }
         }
        },
        "title": {
         "text": "Active Players By Team"
        },
        "xaxis": {
         "anchor": "y",
         "categoryarray": [
          "ATL",
          "BKN",
          "BOS",
          "CHA",
          "CHI",
          "CLE",
          "DAL",
          "DEN",
          "DET",
          "GSW",
          "HOU",
          "IND",
          "LAC",
          "LAL",
          "MEM",
          "MIA",
          "MIL",
          "MIN",
          "NOP",
          "NYK",
          "OKC",
          "ORL",
          "PHI",
          "PHX",
          "POR",
          "SAC",
          "SAS",
          "TOR",
          "UTA",
          "WAS"
         ],
         "categoryorder": "array",
         "domain": [
          0,
          1
         ],
         "title": {
          "text": "Team"
         }
        },
        "yaxis": {
         "anchor": "x",
         "domain": [
          0,
          1
         ],
         "title": {
          "text": "Predicted Salary (Millions)"
         }
        }
       }
      }
     },
     "metadata": {},
     "output_type": "display_data"
    }
   ],
   "source": [
    "import plotly.express as px\n",
    "target = 10\n",
    "# Map percent change to performance category\n",
    "def map_category(change):\n",
    "    if change > target:\n",
    "        return \"Above Target\"\n",
    "    elif change < -target:\n",
    "        return \"Below Target\"\n",
    "    else:\n",
    "        return \"On Target\"\n",
    "\n",
    "df[\"PERFORMANCE\"] = df[\"SALARY_PCT_CHANGE\"].apply(map_category)\n",
    "\n",
    "# Ensure teams are ordered ascending\n",
    "teams_sorted = sorted(df[\"TEAM_ABBREVIATION\"].unique())\n",
    "\n",
    "# Bubble plot\n",
    "fig = px.scatter(\n",
    "    df,\n",
    "    x=\"TEAM_ABBREVIATION\",\n",
    "    y=\"PREDICTED_SALARY\",\n",
    "    # size=\"PPG\",   # bubble size ~ points per game\n",
    "    color=\"PERFORMANCE\",\n",
    "    color_discrete_map={\n",
    "        \"Above Target\": \"green\",\n",
    "        \"On Target\": \"yellow\",\n",
    "        \"Below Target\": \"red\"\n",
    "    },\n",
    "    category_orders={\"TEAM_ABBREVIATION\": teams_sorted},  # enforce order\n",
    "    hover_data=[\"PLAYER_NAME\", \"TEAM_ABBREVIATION\", \"SALARY_CONDENSED\", \"PREDICTED_SALARY\", \"SALARY_PCT_CHANGE\"],\n",
    "    template=\"plotly_dark\"  # <-- dark theme\n",
    ")\n",
    "\n",
    "fig.update_layout(\n",
    "    title=\"Active Players By Team\",\n",
    "    xaxis_title=\"Team\",\n",
    "    yaxis_title=\"Predicted Salary (Millions)\",\n",
    "    legend_title=\"Performance\",\n",
    "    plot_bgcolor=\"black\",  # plot area\n",
    "    paper_bgcolor=\"black\"  # outer background\n",
    ")\n",
    "\n",
    "fig.show()\n",
    "fig.write_html('PerformanceByTeam.html')\n"
   ]
  },
  {
   "cell_type": "code",
   "execution_count": 16,
   "id": "2a4393e1",
   "metadata": {},
   "outputs": [
    {
     "data": {
      "application/vnd.plotly.v1+json": {
       "config": {
        "plotlyServerURL": "https://plot.ly"
       },
       "data": [
        {
         "customdata": [
          [
           "AJ Johnson",
           "WAS",
           2.8,
           7.422981943402979
          ],
          [
           "Aaron Gordon",
           "DEN",
           22.84,
           -3.626525464700942
          ],
          [
           "Aaron Nesmith",
           "IND",
           11,
           -9.644915840842506
          ],
          [
           "Al Horford",
           "BOS",
           9.5,
           4.682852092542147
          ],
          [
           "Alex Caruso",
           "OKC",
           9.89,
           -0.8844836536866525
          ],
          [
           "Alex Sarr",
           "WAS",
           11.25,
           5.828492906358507
          ],
          [
           "Amir Coffey",
           "LAC",
           3.94,
           1.393273639194858
          ],
          [
           "Andre Drummond",
           "PHI",
           5,
           5.684499740600586
          ],
          [
           "Andrew Wiggins",
           "MIA",
           26.28,
           -7.841929199125854
          ],
          [
           "Anfernee Simons",
           "POR",
           25.89,
           -2.132320882915854
          ],
          [
           "Anthony Black",
           "ORL",
           7.61,
           -0.7080418991509979
          ],
          [
           "Anthony Davis",
           "DAL",
           43.22,
           -2.2242604775982593
          ],
          [
           "Anthony Edwards",
           "MIN",
           42.18,
           -0.562065706935862
          ],
          [
           "Antonio Reeves",
           "NOP",
           1.16,
           1.2961617831526202
          ],
          [
           "Ausar Thompson",
           "DET",
           8.38,
           -5.114777048334026
          ],
          [
           "Ayo Dosunmu",
           "CHI",
           7,
           -3.252969469342913
          ],
          [
           "Bam Adebayo",
           "MIA",
           34.85,
           -3.0270350714838186
          ],
          [
           "Bilal Coulibaly",
           "WAS",
           6.95,
           -3.6680399942741144
          ],
          [
           "Bobby Portis",
           "MIL",
           12.58,
           -0.15289173217191282
          ],
          [
           "Bogdan Bogdanović",
           "LAC",
           17.26,
           -9.892165094510437
          ],
          [
           "Bones Hyland",
           "MIN",
           4.16,
           -6.3621461391449
          ],
          [
           "Bradley Beal",
           "PHX",
           50.2,
           -9.703182509220934
          ],
          [
           "Brice Sensabaugh",
           "UTA",
           2.57,
           -3.109992060679864
          ],
          [
           "Brook Lopez",
           "MIL",
           23,
           -3.7157058715820312
          ],
          [
           "CJ McCollum",
           "NOP",
           33.33,
           -5.375873509592165
          ],
          [
           "Cade Cunningham",
           "DET",
           13.94,
           5.255693411040344
          ],
          [
           "Caleb Martin",
           "DAL",
           8.15,
           -4.78197928586621
          ],
          [
           "Cameron Johnson",
           "BKN",
           22.5,
           6.103880140516493
          ],
          [
           "Caris LeVert",
           "ATL",
           16.62,
           0.7402101004883926
          ],
          [
           "Chet Holmgren",
           "OKC",
           10.88,
           -3.3047434161691176
          ],
          [
           "Chris Paul",
           "SAS",
           10.46,
           -4.49193330841357
          ],
          [
           "Coby White",
           "CHI",
           12,
           9.409658114115398
          ],
          [
           "Collin Sexton",
           "UTA",
           18.35,
           -2.1404796465216354
          ],
          [
           "Corey Kispert",
           "WAS",
           5.71,
           2.317863504439854
          ],
          [
           "Dalen Terry",
           "CHI",
           3.51,
           6.691791121436666
          ],
          [
           "Dalton Knecht",
           "LAL",
           3.82,
           -0.2776470483909685
          ],
          [
           "Daniel Gafford",
           "DAL",
           13.39,
           0.34885221314661286
          ],
          [
           "Darius Garland",
           "CLE",
           36.73,
           -1.1281359075623554
          ],
          [
           "Davion Mitchell",
           "MIA",
           6.45,
           -8.034206360809565
          ],
          [
           "De'Aaron Fox",
           "SAS",
           34.85,
           -1.6907745317543978
          ],
          [
           "DeMar DeRozan",
           "SAC",
           23.4,
           -0.9128472743890164
          ],
          [
           "Dean Wade",
           "CLE",
           6.17,
           -7.950651703622777
          ],
          [
           "Deandre Ayton",
           "POR",
           34.01,
           -6.674373573991904
          ],
          [
           "Dejounte Murray",
           "NOP",
           29.52,
           2.176459501106243
          ],
          [
           "Deni Avdija",
           "POR",
           15.62,
           3.931597955095636
          ],
          [
           "Dereck Lively II",
           "DAL",
           5.01,
           2.2414628141178623
          ],
          [
           "Derrick White",
           "BOS",
           20.07,
           0.8409900218619583
          ],
          [
           "Desmond Bane",
           "ORL",
           34.01,
           -4.733134591905408
          ],
          [
           "Devin Booker",
           "PHX",
           49.21,
           -4.582816831127123
          ],
          [
           "Devin Carter",
           "SAC",
           4.69,
           -7.128612624048432
          ],
          [
           "Devin Vassell",
           "SAS",
           29.35,
           -3.641383936295522
          ],
          [
           "Dillon Brooks",
           "HOU",
           22.26,
           -4.861227414250274
          ],
          [
           "Domantas Sabonis",
           "SAC",
           40.5,
           -0.21425412024980708
          ],
          [
           "Donovan Mitchell",
           "CLE",
           35.41,
           -1.086634345325287
          ],
          [
           "Draymond Green",
           "GSW",
           24.11,
           -5.5114122704814825
          ],
          [
           "Dwight Powell",
           "DAL",
           4,
           -1.0380268096923828
          ],
          [
           "Eric Gordon",
           "PHI",
           3.3,
           6.197819565281729
          ],
          [
           "Fred VanVleet",
           "HOU",
           42.85,
           -4.008222154864356
          ],
          [
           "Gary Payton II",
           "GSW",
           9.13,
           -9.921418406224337
          ],
          [
           "Georges Niang",
           "ATL",
           8.5,
           -1.6900904038373161
          ],
          [
           "Giannis Antetokounmpo",
           "MIL",
           48.79,
           -0.5315381499875085
          ],
          [
           "Grant Williams",
           "CHA",
           13.03,
           -8.113391785464279
          ],
          [
           "Harrison Barnes",
           "SAS",
           18,
           -3.7215762668185763
          ],
          [
           "Haywood Highsmith",
           "MIA",
           5.2,
           6.5214047065147955
          ],
          [
           "Hunter Tyson",
           "DEN",
           1.89,
           6.171098335710157
          ],
          [
           "Immanuel Quickley",
           "TOR",
           32.5,
           -7.598648071289063
          ],
          [
           "Isaiah Hartenstein",
           "OKC",
           30,
           -3.6045074462890625
          ],
          [
           "Isaiah Jackson",
           "IND",
           4.44,
           -1.424474544353322
          ],
          [
           "Ja Morant",
           "MEM",
           36.73,
           -5.752425553394271
          ],
          [
           "Ja'Kobe Walter",
           "TOR",
           3.46,
           3.1569249368127386
          ],
          [
           "Jaden Ivey",
           "DET",
           7.98,
           7.549437902923807
          ],
          [
           "Jaden McDaniels",
           "MIN",
           23.02,
           -6.425078364686277
          ],
          [
           "Jakob Poeltl",
           "TOR",
           19.5,
           1.6204344920622997
          ],
          [
           "Jalen Green",
           "HOU",
           12.48,
           4.000041118034947
          ],
          [
           "Jalen McDaniels",
           "WAS",
           4.74,
           -9.049549183262053
          ],
          [
           "Jamal Murray",
           "DEN",
           36.02,
           0.45345461017749683
          ],
          [
           "James Johnson",
           "IND",
           2.09,
           5.785867243862616
          ],
          [
           "Jaren Jackson Jr.",
           "MEM",
           25.26,
           0.35697562488787854
          ],
          [
           "Jarrett Allen",
           "CLE",
           20,
           1.8493938446044922
          ],
          [
           "Jaylen Brown",
           "BOS",
           49.7,
           -7.971280441437694
          ],
          [
           "Jaylon Tyson",
           "CLE",
           3.33,
           5.011978664913691
          ],
          [
           "Jayson Tatum",
           "BOS",
           34.85,
           2.1229923199033762
          ],
          [
           "Jerami Grant",
           "POR",
           29.79,
           -1.065051695691452
          ],
          [
           "Jeremiah Robinson-Earl",
           "NOP",
           2.2,
           2.5664264505559666
          ],
          [
           "Joe Ingles",
           "MIN",
           2.09,
           7.935296291369578
          ],
          [
           "Joel Embiid",
           "PHI",
           51.42,
           -2.6399565688926705
          ],
          [
           "John Collins",
           "UTA",
           26.58,
           -4.512580486954912
          ],
          [
           "Jonas Valančiūnas",
           "SAC",
           9.9,
           1.4334938742897692
          ],
          [
           "Jordan Clarkson",
           "UTA",
           14.09,
           -3.8666981682868773
          ],
          [
           "Jordan Poole",
           "WAS",
           29.65,
           -2.805083919737427
          ],
          [
           "Josh Giddey",
           "CHI",
           8.35,
           4.410182930038365
          ],
          [
           "Josh Hart",
           "NYK",
           18.14,
           -3.9329162900476793
          ],
          [
           "Josh Okogie",
           "CHA",
           8.25,
           -1.0161313143643464
          ],
          [
           "Josh Richardson",
           "MIA",
           3.05,
           -0.9381669466612711
          ],
          [
           "Jrue Holiday",
           "BOS",
           30,
           -7.1276601155598955
          ],
          [
           "Julius Randle",
           "MIN",
           33.07,
           -1.6798288756567519
          ],
          [
           "Jusuf Nurkić",
           "CHA",
           18.12,
           -4.315792698470704
          ],
          [
           "Karl-Anthony Towns",
           "NYK",
           49.21,
           -1.7453285718056242
          ],
          [
           "Kelly Olynyk",
           "NOP",
           12.8,
           4.2468920350074715
          ],
          [
           "Kenrich Williams",
           "OKC",
           6.67,
           -9.517718576777284
          ],
          [
           "Kentavious Caldwell-Pope",
           "MEM",
           22.76,
           -6.046294160383663
          ],
          [
           "Kevin Durant",
           "PHX",
           51.18,
           -3.031677508456672
          ],
          [
           "Kevon Looney",
           "GSW",
           8,
           0.4359126091003418
          ],
          [
           "Khris Middleton",
           "WAS",
           31.67,
           -6.130135153459386
          ],
          [
           "Kristaps Porziņģis",
           "BOS",
           29.27,
           -0.6662932442527264
          ],
          [
           "Kyrie Irving",
           "DAL",
           41,
           -2.7458377000762195
          ],
          [
           "LaMelo Ball",
           "CHA",
           35.15,
           -2.6743317735652963
          ],
          [
           "Lauri Markkanen",
           "UTA",
           42.18,
           -7.940321479605633
          ],
          [
           "LeBron James",
           "LAL",
           48.73,
           -0.4842240341189591
          ],
          [
           "Leonard Miller",
           "MIN",
           1.89,
           3.9271190683677766
          ],
          [
           "Malaki Branham",
           "SAS",
           3.22,
           -9.919663245633528
          ],
          [
           "Malik Monk",
           "SAC",
           17.41,
           5.78861050329148
          ],
          [
           "MarJon Beauchamp",
           "NYK",
           2.73,
           -2.3312352079174885
          ],
          [
           "Matas Buzelis",
           "CHI",
           5.2,
           -7.510353968693663
          ],
          [
           "Matisse Thybulle",
           "POR",
           11.03,
           -9.144373017879145
          ],
          [
           "Max Strus",
           "CLE",
           15.21,
           -5.558855105669076
          ],
          [
           "Michael Porter Jr.",
           "DEN",
           35.86,
           -1.488102552814982
          ],
          [
           "Miles Bridges",
           "CHA",
           27.17,
           -1.1930929723802164
          ],
          [
           "Mitchell Robinson",
           "NYK",
           14.32,
           -9.745128461102535
          ],
          [
           "Myles Turner",
           "IND",
           19.93,
           0.15587201384043514
          ],
          [
           "Naji Marshall",
           "DAL",
           8.57,
           5.6892368312199135
          ],
          [
           "Naz Reid",
           "MIN",
           13.99,
           -0.8858007904118191
          ],
          [
           "Nic Claxton",
           "BKN",
           27.56,
           -3.663661552617438
          ],
          [
           "Nikola Jokić",
           "DEN",
           51.42,
           -1.8875665119398188
          ],
          [
           "Nikola Vučević",
           "CHI",
           20,
           -0.8017826080322265
          ],
          [
           "Norman Powell",
           "LAC",
           19.24,
           7.7671308775205965
          ],
          [
           "OG Anunoby",
           "NYK",
           36.64,
           -5.799143179014782
          ],
          [
           "Obi Toppin",
           "IND",
           12.97,
           -6.664232887850423
          ],
          [
           "Olivier-Maxence Prosper",
           "DAL",
           2.87,
           -7.2986280461221655
          ],
          [
           "Onyeka Okongwu",
           "ATL",
           14,
           -0.1266411372593471
          ],
          [
           "Ousmane Dieng",
           "OKC",
           5.03,
           -3.912354653208682
          ],
          [
           "P.J. Washington",
           "DAL",
           15.5,
           -0.7580234158423639
          ],
          [
           "PJ Dozier",
           "MIN",
           2.09,
           0.20306235865543446
          ],
          [
           "Pascal Siakam",
           "IND",
           42.18,
           -0.010236918276211393
          ],
          [
           "Paul George",
           "PHI",
           49.21,
           -4.6537774870294415
          ],
          [
           "Payton Pritchard",
           "BOS",
           6.7,
           -5.649925345805156
          ],
          [
           "Reggie Jackson",
           "PHI",
           4.03,
           2.60590252746127
          ],
          [
           "Reggie Jackson",
           "PHI",
           4.03,
           2.60590252746127
          ],
          [
           "Royce O'Neale",
           "PHX",
           9.38,
           -0.597224611717509
          ],
          [
           "Rudy Gobert",
           "MIN",
           43.83,
           -7.1794249221067155
          ],
          [
           "Scoot Henderson",
           "POR",
           10.26,
           0.6671745642351613
          ],
          [
           "Stephen Curry",
           "GSW",
           55.76,
           -4.483921045552364
          ],
          [
           "Stephon Castle",
           "SAS",
           9.11,
           0.5836323508839508
          ],
          [
           "Steven Adams",
           "HOU",
           12.6,
           -5.719499739389568
          ],
          [
           "Terry Rozier",
           "MIA",
           24.92,
           -3.3661715291667775
          ],
          [
           "Tim Hardaway Jr.",
           "DET",
           16.19,
           -0.3172126944378843
          ],
          [
           "Trae Young",
           "ATL",
           43.03,
           -0.012529370066126568
          ],
          [
           "Tre Jones",
           "CHI",
           9.1,
           8.943865849421579
          ],
          [
           "Tre Mann",
           "CHA",
           4.91,
           8.375054027300985
          ],
          [
           "Tyler Herro",
           "MIA",
           29,
           2.306793475973195
          ],
          [
           "Tyler Kolek",
           "NYK",
           2.09,
           0.3413565421218575
          ],
          [
           "Tyrese Haliburton",
           "IND",
           42.18,
           -9.013727368083028
          ],
          [
           "Tyrese Maxey",
           "PHI",
           35.15,
           2.5026736523993196
          ],
          [
           "Vasilije Micić",
           "PHX",
           7.72,
           8.623035213490228
          ],
          [
           "Wendell Carter Jr.",
           "ORL",
           11.95,
           -4.246645492489861
          ],
          [
           "Ziaire Williams",
           "BKN",
           6.13,
           1.1132027157757078
          ],
          [
           "Zion Williamson",
           "NOP",
           36.73,
           -2.7013635882038187
          ]
         ],
         "hovertemplate": "PERFORMANCE=On Target<br>FGA=%{x}<br>PREDICTED_SALARY=%{y}<br>PLAYER_NAME=%{customdata[0]}<br>TEAM_ABBREVIATION=%{customdata[1]}<br>SALARY_CONDENSED=%{customdata[2]}<br>SALARY_PCT_CHANGE=%{customdata[3]}<extra></extra>",
         "legendgroup": "On Target",
         "marker": {
          "color": "yellow",
          "symbol": "circle"
         },
         "mode": "markers",
         "name": "On Target",
         "orientation": "v",
         "showlegend": true,
         "type": "scatter",
         "x": [
          213,
          497,
          379,
          461,
          314,
          828,
          510,
          234,
          839,
          1125,
          620,
          910,
          1612,
          248,
          460,
          449,
          1113,
          624,
          595,
          492,
          118,
          694,
          599,
          774,
          1000,
          1457,
          304,
          747,
          599,
          341,
          583,
          1121,
          867,
          565,
          268,
          557,
          403,
          1174,
          476,
          1163,
          1308,
          271,
          468,
          494,
          844,
          191,
          959,
          1018,
          1420,
          127,
          889,
          895,
          893,
          1320,
          509,
          61,
          204,
          759,
          298,
          620,
          1319,
          123,
          683,
          391,
          120,
          438,
          480,
          23,
          889,
          393,
          413,
          834,
          579,
          1437,
          0,
          1121,
          11,
          1213,
          640,
          1118,
          149,
          1465,
          574,
          347,
          23,
          315,
          531,
          627,
          493,
          1057,
          798,
          770,
          212,
          38,
          573,
          939,
          352,
          1215,
          268,
          354,
          544,
          1124,
          278,
          337,
          574,
          945,
          1003,
          700,
          1270,
          15,
          190,
          939,
          65,
          555,
          88,
          373,
          1048,
          1089,
          56,
          811,
          712,
          923,
          568,
          1364,
          1038,
          945,
          1027,
          599,
          174,
          684,
          125,
          665,
          3,
          1182,
          570,
          866,
          133,
          133,
          570,
          510,
          685,
          1258,
          988,
          167,
          635,
          680,
          1376,
          238,
          161,
          1378,
          82,
          1006,
          1091,
          273,
          491,
          520,
          508
         ],
         "xaxis": "x",
         "y": [
          3.0078435,
          22.011702,
          9.939059,
          9.944871,
          9.802525,
          11.905705,
          3.994895,
          5.284225,
          24.219141,
          25.337942,
          7.556118,
          42.258675,
          41.94292,
          1.1750355,
          7.9513817,
          6.772292,
          33.79508,
          6.695071,
          12.560766,
          15.552612,
          3.8953347,
          45.329002,
          2.4900732,
          22.145388,
          31.538221,
          14.672644,
          7.7602687,
          23.873373,
          16.743023,
          10.520444,
          9.990144,
          13.129159,
          17.957222,
          5.84235,
          3.7448819,
          3.809394,
          13.436711,
          36.315636,
          5.9317937,
          34.260765,
          23.186394,
          5.679445,
          31.740046,
          30.16249,
          16.234116,
          5.1222973,
          20.238787,
          32.40026,
          46.954796,
          4.355668,
          28.281254,
          21.17789,
          40.413227,
          35.025223,
          22.781199,
          3.958479,
          3.504528,
          41.132477,
          8.2241745,
          8.356342,
          48.530663,
          11.972825,
          17.330116,
          5.539113,
          2.0066338,
          30.03044,
          28.918648,
          4.3767533,
          34.617134,
          3.5692296,
          8.582445,
          21.540947,
          19.815985,
          12.979205,
          4.3110514,
          36.183334,
          2.2109246,
          25.350172,
          20.369879,
          45.738274,
          3.496899,
          35.589863,
          29.472721,
          2.2564614,
          2.2558477,
          50.062534,
          25.380556,
          10.041916,
          13.545182,
          28.818293,
          8.71825,
          17.426569,
          8.166169,
          3.021386,
          27.861702,
          32.51448,
          17.337978,
          48.351124,
          13.343602,
          6.035168,
          21.383863,
          49.628387,
          8.034873,
          29.728586,
          29.074976,
          39.874207,
          34.209972,
          38.830772,
          48.494038,
          1.9642226,
          2.9005868,
          18.417797,
          2.6663573,
          4.8094616,
          10.021376,
          14.364498,
          35.326366,
          26.845837,
          12.924498,
          19.961065,
          9.057568,
          13.866076,
          26.550295,
          50.449413,
          19.839643,
          20.734396,
          34.515194,
          12.105649,
          2.6605294,
          13.98227,
          4.8332086,
          15.382506,
          2.094244,
          42.175682,
          46.919876,
          6.321455,
          4.135018,
          4.135018,
          9.32398,
          40.683258,
          10.328452,
          53.259766,
          9.163169,
          11.879343,
          24.08115,
          16.138643,
          43.02461,
          9.913892,
          5.321215,
          29.66897,
          2.0971344,
          38.37801,
          36.02969,
          8.385698,
          11.442526,
          6.1982393,
          35.73779
         ],
         "yaxis": "y"
        },
        {
         "customdata": [
          [
           "Aaron Holiday",
           "HOU",
           4.67,
           -12.273439656488389
          ],
          [
           "Anthony Gill",
           "WAS",
           2.24,
           -84.76089510534491
          ],
          [
           "Ben Simmons",
           "LAC",
           40.34,
           -68.28017757266362
          ],
          [
           "Brandon Clarke",
           "MEM",
           12.5,
           -11.223106384277344
          ],
          [
           "Brandon Ingram",
           "TOR",
           36.02,
           -12.628796549388802
          ],
          [
           "Bruce Brown",
           "NOP",
           23,
           -70.51124158112898
          ],
          [
           "Chris Boucher",
           "TOR",
           10.81,
           -30.318493626935965
          ],
          [
           "Chris Duarte",
           "CHI",
           5.89,
           -16.840336318736565
          ],
          [
           "Clint Capela",
           "ATL",
           22.27,
           -15.404985665097382
          ],
          [
           "Cody Martin",
           "PHX",
           8.12,
           -12.562511237384054
          ],
          [
           "Cody Williams",
           "UTA",
           5.47,
           -49.376674631178055
          ],
          [
           "Damian Lillard",
           "MIL",
           48.79,
           -28.29935989020227
          ],
          [
           "Dario Šarić",
           "DEN",
           5.17,
           -16.467002558754306
          ],
          [
           "Dariq Whitehead",
           "BKN",
           3.11,
           -10.23417071130881
          ],
          [
           "De'Andre Hunter",
           "CLE",
           21.7,
           -22.89638958768361
          ],
          [
           "De'Anthony Melton",
           "BKN",
           12.82,
           -70.62260386724368
          ],
          [
           "Dennis Schröder",
           "DET",
           13.03,
           -12.453063707212618
          ],
          [
           "Dorian Finney-Smith",
           "LAL",
           14.92,
           -62.88819223562451
          ],
          [
           "Drew Eubanks",
           "LAC",
           5,
           -26.609678268432617
          ],
          [
           "Duncan Robinson",
           "MIA",
           19.41,
           -12.33949499115509
          ],
          [
           "Gabe Vincent",
           "LAL",
           11,
           -31.841148029674184
          ],
          [
           "Gary Harris",
           "ORL",
           7.5,
           -20.97710927327474
          ],
          [
           "Herbert Jones",
           "NOP",
           12.98,
           -28.308194517538254
          ],
          [
           "Isaac Okoro",
           "CLE",
           10.19,
           -53.68556021708151
          ],
          [
           "Isaiah Joe",
           "OKC",
           12.99,
           -11.030797980398836
          ],
          [
           "Isaiah Stewart",
           "DET",
           15,
           -34.533634185791016
          ],
          [
           "Jaden Springer",
           "UTA",
           4.02,
           -14.526974976952387
          ],
          [
           "Jae'Sean Tate",
           "HOU",
           7.57,
           -21.232447756486337
          ],
          [
           "Jalen Hood-Schifino",
           "PHI",
           3.88,
           -13.574094624863456
          ],
          [
           "Jalen Smith",
           "CHI",
           8.57,
           -16.375264821002478
          ],
          [
           "Jarred Vanderbilt",
           "LAL",
           10.71,
           -23.30969659999417
          ],
          [
           "Jeff Green",
           "HOU",
           8,
           -30.017709732055664
          ],
          [
           "Jett Howard",
           "ORL",
           5.28,
           -25.696217652523163
          ],
          [
           "Jevon Carter",
           "CHI",
           6.5,
           -17.20912639911358
          ],
          [
           "Jock Landale",
           "HOU",
           8,
           -14.918303489685059
          ],
          [
           "John Konchar",
           "MEM",
           6.17,
           -13.44780357768895
          ],
          [
           "Johnny Davis",
           "WAS",
           5.29,
           -54.822067953012386
          ],
          [
           "Johnny Juzang",
           "UTA",
           3.09,
           -17.248421888135393
          ],
          [
           "Jonathan Isaac",
           "ORL",
           25,
           -19.520774841308594
          ],
          [
           "Josh Green",
           "CHA",
           12.65,
           -19.854831318610273
          ],
          [
           "KJ Martin",
           "UTA",
           7.97,
           -28.577768907343575
          ],
          [
           "Kawhi Leonard",
           "LAC",
           49.21,
           -31.578059623794232
          ],
          [
           "Keldon Johnson",
           "SAS",
           19,
           -16.079967900326377
          ],
          [
           "Kevin Huerter",
           "CHI",
           16.83,
           -15.023742512585637
          ],
          [
           "Kevin Porter Jr.",
           "MIL",
           3.24,
           -13.744220027217164
          ],
          [
           "Kevin Porter Jr.",
           "MIL",
           3.24,
           -13.744220027217164
          ],
          [
           "Kobe Brown",
           "LAC",
           2.53,
           -20.393808085927844
          ],
          [
           "Kobe Bufkin",
           "ATL",
           4.3,
           -27.77765628903411
          ],
          [
           "Kyle Anderson",
           "MIA",
           8.78,
           -14.36274013649629
          ],
          [
           "Kyle Kuzma",
           "MIL",
           23.52,
           -10.31505623642279
          ],
          [
           "Larry Nance Jr.",
           "ATL",
           11.21,
           -21.74084754419795
          ],
          [
           "Lonzo Ball",
           "CHI",
           21.4,
           -20.48574608063029
          ],
          [
           "Luguentz Dort",
           "OKC",
           16.5,
           -45.39794921875
          ],
          [
           "Luka Dončić",
           "LAL",
           43.03,
           -14.3731136973614
          ],
          [
           "Luke Kennard",
           "MEM",
           9.25,
           -11.089716730891046
          ],
          [
           "Malcolm Brogdon",
           "WAS",
           22.5,
           -59.23818800184462
          ],
          [
           "Marcus Smart",
           "WAS",
           20.21,
           -16.121488983592208
          ],
          [
           "Marvin Bagley III",
           "MEM",
           12.5,
           -18.06456756591797
          ],
          [
           "Maxi Kleber",
           "LAL",
           11,
           -26.934458992697973
          ],
          [
           "Mikal Bridges",
           "NYK",
           23.3,
           -35.555564487440904
          ],
          [
           "Nicolas Batum",
           "LAC",
           4.67,
           -12.072085721589767
          ],
          [
           "P.J. Tucker",
           "NYK",
           11.54,
           -26.733598758690892
          ],
          [
           "Pat Connaughton",
           "MIL",
           9.42,
           -40.38176384701091
          ],
          [
           "Patrick Williams",
           "CHI",
           18,
           -23.254421022203235
          ],
          [
           "RJ Barrett",
           "TOR",
           25.79,
           -20.343929318875105
          ],
          [
           "Reed Sheppard",
           "HOU",
           10.1,
           -27.982811880583807
          ],
          [
           "Richaun Holmes",
           "WAS",
           12.65,
           -18.167717372004695
          ],
          [
           "Rob Dillingham",
           "MIN",
           6.26,
           -22.25482440985049
          ],
          [
           "Rui Hachimura",
           "LAL",
           17,
           -38.7941697064568
          ],
          [
           "Seth Curry",
           "CHA",
           2.09,
           -14.806818848021287
          ],
          [
           "Shake Milton",
           "LAL",
           2.88,
           -39.454959498511414
          ],
          [
           "Simone Fontecchio",
           "DET",
           7.69,
           -30.791172776637683
          ],
          [
           "T.J. McConnell",
           "IND",
           9.3,
           -16.558070849346866
          ],
          [
           "Taylor Hendricks",
           "UTA",
           5.85,
           -15.770188356057185
          ],
          [
           "Terance Mann",
           "ATL",
           11.42,
           -19.82807419972328
          ],
          [
           "Tidjane Salaün",
           "CHA",
           7.49,
           -22.492348145101673
          ],
          [
           "Tobias Harris",
           "DET",
           25.37,
           -10.243150517843729
          ],
          [
           "Trey Lyles",
           "SAC",
           8,
           -12.089920043945312
          ],
          [
           "Zaccharie Risacher",
           "ATL",
           12.57,
           -10.94098360460717
          ],
          [
           "Zach Collins",
           "CHI",
           16.74,
           -18.948194032074294
          ],
          [
           "Zach LaVine",
           "SAC",
           43.03,
           -37.378242629199924
          ],
          [
           "Zeke Nnaji",
           "DEN",
           8.89,
           -30.85336631543189
          ]
         ],
         "hovertemplate": "PERFORMANCE=Below Target<br>FGA=%{x}<br>PREDICTED_SALARY=%{y}<br>PLAYER_NAME=%{customdata[0]}<br>TEAM_ABBREVIATION=%{customdata[1]}<br>SALARY_CONDENSED=%{customdata[2]}<br>SALARY_PCT_CHANGE=%{customdata[3]}<extra></extra>",
         "legendgroup": "Below Target",
         "marker": {
          "color": "red",
          "symbol": "circle"
         },
         "mode": "markers",
         "name": "Below Target",
         "orientation": "v",
         "showlegend": true,
         "type": "scatter",
         "x": [
          268,
          88,
          223,
          380,
          333,
          309,
          370,
          26,
          390,
          325,
          257,
          992,
          58,
          96,
          762,
          54,
          827,
          435,
          194,
          663,
          420,
          133,
          172,
          267,
          588,
          315,
          90,
          148,
          98,
          408,
          121,
          121,
          262,
          146,
          152,
          91,
          78,
          475,
          324,
          421,
          201,
          623,
          770,
          604,
          652,
          652,
          72,
          47,
          303,
          848,
          155,
          243,
          593,
          1025,
          431,
          240,
          257,
          106,
          96,
          1183,
          238,
          7,
          177,
          516,
          982,
          239,
          139,
          211,
          576,
          343,
          254,
          373,
          624,
          18,
          413,
          345,
          805,
          374,
          779,
          302,
          1223,
          141
         ],
         "xaxis": "x",
         "y": [
          4.0968304,
          0.34135595,
          12.795776,
          11.097112,
          31.471107,
          6.7824144,
          7.532571,
          4.898104,
          18.83931,
          7.099924,
          2.769096,
          34.982742,
          4.318656,
          2.7917173,
          16.731483,
          3.7661822,
          11.407366,
          5.5370817,
          3.669516,
          17.014904,
          7.4974737,
          5.926717,
          9.305596,
          4.7194414,
          11.557099,
          9.819955,
          3.4360156,
          5.9627037,
          3.3533251,
          7.16664,
          8.2135315,
          5.598583,
          3.9232397,
          5.381407,
          6.8065357,
          5.3402705,
          2.3899126,
          2.5570238,
          20.119806,
          10.138364,
          5.692352,
          33.670437,
          15.944806,
          14.301504,
          2.7946873,
          2.7946873,
          2.0140367,
          3.1055608,
          7.5189514,
          21.093899,
          8.772851,
          17.01605,
          9.009338,
          36.84525,
          8.224201,
          9.171408,
          16.951847,
          10.241929,
          8.0372095,
          15.015553,
          4.1062336,
          8.454943,
          5.616038,
          13.814204,
          20.5433,
          7.273736,
          10.351784,
          4.866848,
          10.404991,
          1.7805375,
          1.7436972,
          5.322159,
          7.7600994,
          4.927444,
          9.155634,
          5.805323,
          22.771313,
          7.0328064,
          11.194718,
          13.568072,
          26.946142,
          6.1471357
         ],
         "yaxis": "y"
        },
        {
         "customdata": [
          [
           "Aaron Wiggins",
           "OKC",
           10.51,
           10.309593570901598
          ],
          [
           "Adem Bona",
           "PHI",
           1.16,
           101.17315752752899
          ],
          [
           "Alec Burks",
           "MIA",
           2.09,
           58.28175978227096
          ],
          [
           "Alex Len",
           "LAL",
           2.09,
           85.20956404471512
          ],
          [
           "Alperen Sengun",
           "HOU",
           5.42,
           15.90603972713006
          ],
          [
           "Amen Thompson",
           "HOU",
           9.25,
           22.63840340279244
          ],
          [
           "Andre Jackson Jr.",
           "MIL",
           1.89,
           160.95602247450088
          ],
          [
           "Andrew Nembhard",
           "IND",
           2.02,
           109.4807247124096
          ],
          [
           "Austin Reaves",
           "LAL",
           12.98,
           166.74073723321334
          ],
          [
           "Baylor Scheierman",
           "BOS",
           2.49,
           14.994049072265614
          ],
          [
           "Ben Sheppard",
           "IND",
           2.66,
           18.576422669833757
          ],
          [
           "Bennedict Mathurin",
           "IND",
           7.25,
           45.01939970871498
          ],
          [
           "Blake Wesley",
           "SAS",
           2.62,
           77.50880190434346
          ],
          [
           "Bobi Klintman",
           "DET",
           1.26,
           78.26261974516369
          ],
          [
           "Brandin Podziemski",
           "GSW",
           3.52,
           342.25326993248683
          ],
          [
           "Brandon Miller",
           "CHA",
           11.42,
           119.21293121712011
          ],
          [
           "Bronny James",
           "LAL",
           1.16,
           27.78075604603209
          ],
          [
           "Buddy Hield",
           "GSW",
           8.78,
           10.188041026608555
          ],
          [
           "Caleb Houstan",
           "ORL",
           2.02,
           31.567126453512966
          ],
          [
           "Cam Christie",
           "LAC",
           1.16,
           77.505139646859
          ],
          [
           "Cam Reddish",
           "LAL",
           2.46,
           24.358549350645486
          ],
          [
           "Cam Thomas",
           "BKN",
           4.04,
           60.451230436268425
          ],
          [
           "Cam Whitmore",
           "HOU",
           3.38,
           22.297628391423878
          ],
          [
           "Cameron Payne",
           "NYK",
           2.09,
           437.07405710904794
          ],
          [
           "Cason Wallace",
           "OKC",
           5.56,
           11.490916862762239
          ],
          [
           "Charles Bassey",
           "SAS",
           2.09,
           69.64736737703024
          ],
          [
           "Chris Livingston",
           "MIL",
           1.89,
           15.063947344583184
          ],
          [
           "Christian Braun",
           "DEN",
           3.09,
           102.4068184269285
          ],
          [
           "Colby Jones",
           "WAS",
           2.12,
           21.22239706651219
          ],
          [
           "Cole Anthony",
           "MEM",
           12.9,
           15.517194880995635
          ],
          [
           "Cory Joseph",
           "ORL",
           3.3,
           17.492863626191117
          ],
          [
           "Craig Porter Jr.",
           "CLE",
           1.89,
           187.67434377518916
          ],
          [
           "D'Angelo Russell",
           "BKN",
           18.69,
           51.85981207572564
          ],
          [
           "DaQuan Jeffries",
           "CHA",
           3.08,
           13.629760680260594
          ],
          [
           "Dalano Banton",
           "POR",
           2.2,
           416.15910096602005
          ],
          [
           "Damion Lee",
           "PHX",
           2.09,
           11.614619715932461
          ],
          [
           "Daniel Theis",
           "NOP",
           2.09,
           62.46463693500136
          ],
          [
           "David Roddy",
           "HOU",
           2.85,
           23.560303135922076
          ],
          [
           "Day'Ron Sharpe",
           "BKN",
           3.99,
           31.230103342156657
          ],
          [
           "DeAndre Jordan",
           "DEN",
           2.09,
           74.27883650127211
          ],
          [
           "Delon Wright",
           "NYK",
           2.09,
           76.85551392404658
          ],
          [
           "Derrick Jones Jr.",
           "LAC",
           9.52,
           23.829921754468394
          ],
          [
           "Dillon Jones",
           "OKC",
           2.62,
           17.524106993930026
          ],
          [
           "Donovan Clingan",
           "POR",
           6.84,
           80.81273251806785
          ],
          [
           "Donte DiVincenzo",
           "MIN",
           11.45,
           21.9743870231262
          ],
          [
           "Doug McDermott",
           "SAC",
           2.09,
           30.671040293132297
          ],
          [
           "Duop Reath",
           "POR",
           2.05,
           73.0714658411538
          ],
          [
           "Dyson Daniels",
           "ATL",
           6.06,
           10.858006052451566
          ],
          [
           "E.J. Liddell",
           "CHI",
           0.71,
           422.1718801579006
          ],
          [
           "Evan Mobley",
           "CLE",
           11.23,
           168.592257002901
          ],
          [
           "Franz Wagner",
           "ORL",
           7.01,
           34.83952183526185
          ],
          [
           "Garrett Temple",
           "TOR",
           2.09,
           11.469731946881316
          ],
          [
           "Garrison Mathews",
           "ATL",
           2.23,
           76.9656450759135
          ],
          [
           "Gary Trent Jr.",
           "MIL",
           2.09,
           45.54314636157461
          ],
          [
           "Goga Bitadze",
           "ORL",
           9.06,
           10.29861357564694
          ],
          [
           "Gradey Dick",
           "TOR",
           4.76,
           30.910683078926155
          ],
          [
           "Grayson Allen",
           "PHX",
           15.62,
           34.2482450829578
          ],
          [
           "Guerschon Yabusele",
           "PHI",
           2.09,
           420.47939391797814
          ],
          [
           "Gui Santos",
           "GSW",
           1.89,
           90.37993496687956
          ],
          [
           "Isaiah Collier",
           "UTA",
           2.51,
           10.327751038084001
          ],
          [
           "Ivica Zubac",
           "LAC",
           11.74,
           101.4979308874075
          ],
          [
           "Jabari Smith Jr.",
           "HOU",
           9.77,
           20.18624445311001
          ],
          [
           "Jabari Walker",
           "POR",
           2.02,
           10.345099231984355
          ],
          [
           "Jaden Hardy",
           "DAL",
           2.02,
           64.56231032267655
          ],
          [
           "Jaime Jaquez Jr.",
           "MIA",
           3.69,
           18.138124626180346
          ],
          [
           "Jake LaRavia",
           "SAC",
           3.35,
           175.4913443949685
          ],
          [
           "Jalen Brunson",
           "NYK",
           24.96,
           12.971518284235243
          ],
          [
           "Jalen Duren",
           "DET",
           4.54,
           20.995233762631855
          ],
          [
           "Jalen Johnson",
           "ATL",
           4.51,
           73.32875279259524
          ],
          [
           "Jalen Pickett",
           "DEN",
           1.89,
           141.52876838805187
          ],
          [
           "Jalen Suggs",
           "ORL",
           9.19,
           265.45584328934734
          ],
          [
           "Jalen Williams",
           "OKC",
           4.78,
           416.56060637789284
          ],
          [
           "Jalen Wilson",
           "BKN",
           1.89,
           77.5581748397262
          ],
          [
           "Jamal Shead",
           "TOR",
           1.86,
           20.931812511977324
          ],
          [
           "James Harden",
           "LAC",
           33.65,
           19.29122902131896
          ],
          [
           "James Wiseman",
           "IND",
           2.24,
           25.807683382715485
          ],
          [
           "Jarace Walker",
           "IND",
           6.36,
           23.551559148344598
          ],
          [
           "Jared McCain",
           "PHI",
           4.02,
           93.58554289708685
          ],
          [
           "Javonte Green",
           "CLE",
           2.09,
           63.06634154616362
          ],
          [
           "Jaxson Hayes",
           "LAL",
           2.46,
           31.264178733515546
          ],
          [
           "Jay Huff",
           "MEM",
           2.09,
           112.18121907357394
          ],
          [
           "Jaylen Nowell",
           "NOP",
           0.28,
           815.5875444412229
          ],
          [
           "Jaylen Wells",
           "MEM",
           1.16,
           1058.0211540748332
          ],
          [
           "Jaylin Williams",
           "OKC",
           2.02,
           94.86098006220148
          ],
          [
           "Jeremy Sochan",
           "SAS",
           5.57,
           30.59735084136469
          ],
          [
           "Jericho Sims",
           "MIL",
           2.09,
           53.86567731793418
          ],
          [
           "Johnny Furphy",
           "IND",
           1.85,
           51.959677000303515
          ],
          [
           "Jonathan Kuminga",
           "GSW",
           7.64,
           37.163356960756
          ],
          [
           "Jonathan Mogbo",
           "TOR",
           1.86,
           83.52830281821629
          ],
          [
           "Jordan Hawkins",
           "NOP",
           4.53,
           20.7517051275729
          ],
          [
           "Jordan McLaughlin",
           "SAS",
           2.09,
           18.968783383164116
          ],
          [
           "Jordan Walsh",
           "BOS",
           1.89,
           38.58535302379145
          ],
          [
           "Jose Alvarado",
           "NOP",
           1.99,
           132.94381759873585
          ],
          [
           "Josh Minott",
           "MIN",
           2.02,
           38.964735635436405
          ],
          [
           "Julian Champagnie",
           "SAS",
           3,
           300.72711308797204
          ],
          [
           "Julian Phillips",
           "CHI",
           1.89,
           12.541188638677047
          ],
          [
           "Julian Strawther",
           "DEN",
           2.55,
           72.07508461148132
          ],
          [
           "Karlo Matković",
           "NOP",
           1.41,
           56.52954155671682
          ],
          [
           "Keegan Murray",
           "SAC",
           8.81,
           11.86043331219849
          ],
          [
           "Kel'el Ware",
           "MIA",
           4.23,
           242.4515059090111
          ],
          [
           "Kelly Oubre Jr.",
           "PHI",
           7.98,
           22.958580055332416
          ],
          [
           "Keon Ellis",
           "SAC",
           2.12,
           89.31094205604408
          ],
          [
           "Keon Johnson",
           "BKN",
           2.16,
           15.005826508557346
          ],
          [
           "Kevin Love",
           "MIA",
           3.85,
           57.554378757229095
          ],
          [
           "Keyonte George",
           "UTA",
           4.08,
           32.558299045936735
          ],
          [
           "Klay Thompson",
           "DAL",
           15.87,
           18.821005289405875
          ],
          [
           "Kris Dunn",
           "LAC",
           5.17,
           11.713935143712412
          ],
          [
           "Kris Murray",
           "POR",
           2.99,
           47.63441372874587
          ],
          [
           "Kyle Filipowski",
           "UTA",
           3,
           182.68578847249347
          ],
          [
           "Kyle Lowry",
           "PHI",
           2.09,
           87.48219503740376
          ],
          [
           "Kyshawn George",
           "WAS",
           2.83,
           30.949256276915854
          ],
          [
           "Lindy Waters III",
           "DET",
           2.2,
           138.05999755859372
          ],
          [
           "Luka Garza",
           "MIN",
           2.16,
           10.803997075116186
          ],
          [
           "Luke Kornet",
           "BOS",
           2.09,
           35.33957266921633
          ],
          [
           "Malevy Leons",
           "OKC",
           1.1,
           87.1872381730513
          ],
          [
           "Malik Beasley",
           "DET",
           6,
           13.88538678487142
          ],
          [
           "Marcus Sasser",
           "DET",
           2.76,
           94.2138913748921
          ],
          [
           "Mark Williams",
           "CHA",
           4.09,
           41.98882655584434
          ],
          [
           "Markieff Morris",
           "LAL",
           2.09,
           31.681490172609767
          ],
          [
           "Mason Plumlee",
           "PHX",
           2.09,
           51.52999658904008
          ],
          [
           "Matt Ryan",
           "NYK",
           0.62,
           145.85218198837774
          ],
          [
           "Max Christie",
           "DAL",
           7.14,
           87.41190934381567
          ],
          [
           "Maxwell Lewis",
           "BKN",
           1.89,
           32.321403140113475
          ],
          [
           "Mike Conley",
           "MIN",
           9.98,
           13.31442601695089
          ],
          [
           "Miles McBride",
           "NYK",
           4.71,
           32.72335068688525
          ],
          [
           "Mo Bamba",
           "NOP",
           2.09,
           91.31112897224976
          ],
          [
           "Moritz Wagner",
           "ORL",
           11,
           13.604198802601209
          ],
          [
           "Moses Brown",
           "DAL",
           0.31,
           434.1927851400068
          ],
          [
           "Moses Moody",
           "GSW",
           5.8,
           26.02932699795427
          ],
          [
           "Mouhamed Gueye",
           "ATL",
           1.89,
           114.57460191514758
          ],
          [
           "Neemias Queta",
           "BOS",
           2.16,
           28.718570426658342
          ],
          [
           "Nick Richards",
           "PHX",
           5,
           146.01083755493164
          ],
          [
           "Nick Smith Jr.",
           "CHA",
           2.59,
           12.64127193730771
          ],
          [
           "Nickeil Alexander-Walker",
           "MIN",
           4.31,
           30.124180610108
          ],
          [
           "Nikola Jović",
           "MIA",
           2.46,
           193.65669421064175
          ],
          [
           "Noah Clowney",
           "BKN",
           3.24,
           46.26279289339795
          ],
          [
           "Ochai Agbaji",
           "TOR",
           4.31,
           28.271806544328243
          ],
          [
           "Orlando Robinson",
           "TOR",
           2.09,
           10.174936540959562
          ],
          [
           "Oso Ighodaro",
           "PHX",
           1.16,
           199.13032877034155
          ],
          [
           "Paolo Banchero",
           "ORL",
           12.16,
           13.711239475952949
          ],
          [
           "Patrick Baldwin Jr.",
           "LAC",
           2.45,
           19.590992830237557
          ],
          [
           "Patty Mills",
           "LAC",
           2.09,
           29.606438595712483
          ],
          [
           "Paul Reed",
           "DET",
           2.49,
           149.66257164277224
          ],
          [
           "Pelle Larsson",
           "MIA",
           1.16,
           119.96859846443968
          ],
          [
           "Peyton Watson",
           "DEN",
           2.41,
           142.01565263676937
          ],
          [
           "Precious Achiuwa",
           "NYK",
           6,
           12.113006909688313
          ],
          [
           "Quentin Grimes",
           "PHI",
           4.3,
           49.370526158532435
          ],
          [
           "Rayan Rupert",
           "POR",
           1.89,
           22.28085250450821
          ],
          [
           "Ricky Council IV",
           "PHI",
           1.89,
           38.35076932553893
          ],
          [
           "Russell Westbrook",
           "DEN",
           5.63,
           16.114201384793382
          ],
          [
           "Russell Westbrook",
           "DEN",
           5.63,
           16.114201384793382
          ],
          [
           "Ryan Dunn",
           "PHX",
           2.53,
           66.68004951929389
          ],
          [
           "Ryan Rollins",
           "MIL",
           0.6,
           1004.0145556132
          ],
          [
           "Sam Hauser",
           "BOS",
           2.09,
           38.70301999543844
          ],
          [
           "Sam Merrill",
           "CLE",
           2.16,
           89.42289882236055
          ],
          [
           "Sandro Mamukelashvili",
           "SAS",
           2.09,
           84.3062200044331
          ],
          [
           "Santi Aldama",
           "MEM",
           3.96,
           74.8847479772086
          ],
          [
           "Scottie Barnes",
           "TOR",
           10.13,
           88.8258388929753
          ],
          [
           "Scotty Pippen Jr.",
           "MEM",
           2.09,
           43.85175476804306
          ],
          [
           "Shaedon Sharpe",
           "POR",
           6.61,
           50.39360288772928
          ],
          [
           "Shai Gilgeous-Alexander",
           "OKC",
           35.86,
           25.08064691274444
          ],
          [
           "Sidy Cissoko",
           "POR",
           1.89,
           25.890080890958277
          ],
          [
           "Spencer Dinwiddie",
           "DAL",
           2.09,
           660.836395920749
          ],
          [
           "Svi Mykhailiuk",
           "UTA",
           3.5,
           68.46908841814313
          ],
          [
           "Taj Gibson",
           "CHA",
           2.09,
           71.91783092809067
          ],
          [
           "Talen Horton-Tucker",
           "CHI",
           2.09,
           18.2858567488821
          ],
          [
           "Tari Eason",
           "HOU",
           3.7,
           31.797970952214417
          ],
          [
           "Taurean Prince",
           "MIL",
           2.09,
           367.587566832036
          ],
          [
           "Terrence Shannon Jr.",
           "MIN",
           2.55,
           23.55989568373737
          ],
          [
           "Thomas Bryant",
           "IND",
           2.09,
           133.16698211231872
          ],
          [
           "Torrey Craig",
           "BOS",
           2.85,
           26.802837639524224
          ],
          [
           "Toumani Camara",
           "POR",
           1.89,
           84.75828978119705
          ],
          [
           "Trayce Jackson-Davis",
           "GSW",
           1.89,
           76.61644668175431
          ],
          [
           "Trendon Watford",
           "BKN",
           2.73,
           36.225808671105916
          ],
          [
           "Trey Murphy III",
           "NOP",
           5.16,
           66.04318175204963
          ],
          [
           "Tristan Thompson",
           "CLE",
           2.09,
           14.477091428765847
          ],
          [
           "Ty Jerome",
           "CLE",
           2.56,
           64.19555991888046
          ],
          [
           "Tyler Smith",
           "MIL",
           1.16,
           117.92089116984401
          ],
          [
           "Tyus Jones",
           "PHX",
           2.09,
           69.00131006560258
          ],
          [
           "Victor Wembanyama",
           "SAS",
           12.77,
           11.193220038477483
          ],
          [
           "Vince Williams Jr.",
           "MEM",
           2.12,
           169.33024514396234
          ],
          [
           "Vlatko Čančar",
           "DEN",
           2.09,
           151.28734168823829
          ],
          [
           "Walker Kessler",
           "UTA",
           2.97,
           469.0432718707254
          ],
          [
           "Wendell Moore Jr.",
           "CHA",
           2.54,
           43.424507201187254
          ],
          [
           "Yves Missi",
           "NOP",
           3.19,
           266.57506769353694
          ],
          [
           "Zach Edey",
           "MEM",
           5.76,
           61.784506506390045
          ]
         ],
         "hovertemplate": "PERFORMANCE=Above Target<br>FGA=%{x}<br>PREDICTED_SALARY=%{y}<br>PLAYER_NAME=%{customdata[0]}<br>TEAM_ABBREVIATION=%{customdata[1]}<br>SALARY_CONDENSED=%{customdata[2]}<br>SALARY_PCT_CHANGE=%{customdata[3]}<extra></extra>",
         "legendgroup": "Above Target",
         "marker": {
          "color": "green",
          "symbol": "circle"
         },
         "mode": "markers",
         "name": "Above Target",
         "orientation": "v",
         "showlegend": true,
         "type": "scatter",
         "x": [
          728,
          192,
          271,
          63,
          1143,
          697,
          197,
          539,
          1037,
          110,
          287,
          853,
          186,
          10,
          629,
          491,
          67,
          786,
          190,
          24,
          94,
          454,
          403,
          446,
          489,
          117,
          27,
          821,
          129,
          543,
          154,
          140,
          638,
          291,
          507,
          74,
          129,
          125,
          317,
          140,
          131,
          589,
          133,
          334,
          593,
          117,
          166,
          923,
          15,
          906,
          1161,
          60,
          257,
          657,
          339,
          647,
          489,
          563,
          179,
          555,
          942,
          566,
          229,
          414,
          462,
          337,
          1200,
          546,
          542,
          180,
          481,
          1168,
          620,
          504,
          1295,
          4,
          360,
          274,
          287,
          223,
          305,
          73,
          676,
          221,
          469,
          71,
          92,
          568,
          356,
          556,
          72,
          83,
          521,
          90,
          665,
          287,
          486,
          235,
          820,
          464,
          741,
          464,
          779,
          115,
          919,
          877,
          437,
          279,
          518,
          117,
          546,
          249,
          105,
          280,
          2,
          1071,
          296,
          447,
          70,
          202,
          31,
          590,
          108,
          468,
          547,
          112,
          249,
          49,
          568,
          171,
          203,
          347,
          568,
          616,
          377,
          372,
          534,
          261,
          187,
          911,
          35,
          96,
          142,
          203,
          428,
          327,
          823,
          142,
          463,
          831,
          831,
          477,
          271,
          474,
          424,
          281,
          648,
          1063,
          594,
          1104,
          1656,
          30,
          682,
          302,
          95,
          291,
          559,
          514,
          114,
          321,
          90,
          716,
          302,
          350,
          839,
          71,
          618,
          50,
          683,
          857,
          167,
          26,
          419,
          126,
          492,
          433
         ],
         "xaxis": "x",
         "y": [
          11.593538,
          2.3336086,
          3.3080888,
          3.87088,
          6.2821074,
          11.344052,
          4.932069,
          4.2315106,
          34.622948,
          2.8633518,
          3.1541328,
          10.5139065,
          4.6507306,
          2.246109,
          15.567315,
          25.034117,
          1.4822568,
          9.67451,
          2.657656,
          2.0590596,
          3.0592203,
          6.4822297,
          4.13366,
          11.224848,
          6.198895,
          3.54563,
          2.1747086,
          6.2543707,
          2.5699148,
          14.901718,
          3.8772645,
          5.437045,
          28.382599,
          3.4997966,
          11.3555,
          2.3327456,
          3.395511,
          3.5214686,
          5.236081,
          3.6424277,
          3.6962802,
          11.788609,
          3.0791316,
          12.367591,
          13.966067,
          2.7310247,
          3.547965,
          6.717995,
          3.7074203,
          30.16291,
          9.4522505,
          2.3297174,
          3.946334,
          3.0418518,
          9.993054,
          6.2313485,
          20.969576,
          10.878019,
          3.5981808,
          2.7692266,
          23.655857,
          11.742196,
          2.228971,
          3.3241587,
          4.359297,
          9.22896,
          28.197691,
          5.4931836,
          7.8171268,
          4.5648937,
          33.585392,
          24.691597,
          3.3558495,
          2.2493317,
          40.1415,
          2.818092,
          7.857879,
          7.782139,
          3.4080865,
          3.2290988,
          4.4345875,
          2.5636451,
          13.433045,
          3.9361918,
          7.2742724,
          3.2157927,
          2.811254,
          10.47928,
          3.4136264,
          5.4700522,
          2.4864476,
          2.6192632,
          4.635582,
          2.8070877,
          12.021813,
          2.1270285,
          4.3879147,
          2.2070665,
          9.854904,
          14.485699,
          9.812095,
          4.013392,
          2.4841259,
          6.0658436,
          5.4083786,
          18.856894,
          5.7756104,
          4.414269,
          8.480574,
          3.9183779,
          3.705864,
          5.23732,
          2.3933663,
          2.828597,
          2.0590596,
          6.833123,
          5.3603034,
          5.807343,
          2.7521431,
          3.166977,
          1.5242835,
          13.38121,
          2.5008745,
          11.30878,
          6.25127,
          3.9984026,
          12.496462,
          1.6559976,
          7.309701,
          4.05546,
          2.7803211,
          12.300542,
          2.917409,
          5.608352,
          7.2239547,
          4.7389145,
          5.528515,
          2.3026562,
          3.4699118,
          13.827287,
          2.9299793,
          2.7087746,
          6.216598,
          2.5516357,
          5.832577,
          6.7267804,
          6.4229326,
          2.311108,
          2.6148295,
          6.5372295,
          6.5372295,
          4.2170053,
          6.6240873,
          2.898893,
          4.0915346,
          3.852,
          6.925436,
          19.128057,
          3.0065017,
          9.941017,
          44.85392,
          2.3793225,
          15.901481,
          5.896418,
          3.5930827,
          2.4721744,
          4.876525,
          9.77258,
          3.1507773,
          4.87319,
          3.6138809,
          3.4919317,
          3.3380508,
          3.7189646,
          8.567828,
          2.3925712,
          4.2034063,
          2.5278823,
          3.5321274,
          14.199374,
          5.709801,
          5.2519054,
          16.900585,
          3.6429825,
          11.693745,
          9.318788
         ],
         "yaxis": "y"
        }
       ],
       "layout": {
        "legend": {
         "title": {
          "text": "Performance"
         },
         "tracegroupgap": 0
        },
        "margin": {
         "t": 60
        },
        "paper_bgcolor": "black",
        "plot_bgcolor": "black",
        "template": {
         "data": {
          "bar": [
           {
            "error_x": {
             "color": "#f2f5fa"
            },
            "error_y": {
             "color": "#f2f5fa"
            },
            "marker": {
             "line": {
              "color": "rgb(17,17,17)",
              "width": 0.5
             },
             "pattern": {
              "fillmode": "overlay",
              "size": 10,
              "solidity": 0.2
             }
            },
            "type": "bar"
           }
          ],
          "barpolar": [
           {
            "marker": {
             "line": {
              "color": "rgb(17,17,17)",
              "width": 0.5
             },
             "pattern": {
              "fillmode": "overlay",
              "size": 10,
              "solidity": 0.2
             }
            },
            "type": "barpolar"
           }
          ],
          "carpet": [
           {
            "aaxis": {
             "endlinecolor": "#A2B1C6",
             "gridcolor": "#506784",
             "linecolor": "#506784",
             "minorgridcolor": "#506784",
             "startlinecolor": "#A2B1C6"
            },
            "baxis": {
             "endlinecolor": "#A2B1C6",
             "gridcolor": "#506784",
             "linecolor": "#506784",
             "minorgridcolor": "#506784",
             "startlinecolor": "#A2B1C6"
            },
            "type": "carpet"
           }
          ],
          "choropleth": [
           {
            "colorbar": {
             "outlinewidth": 0,
             "ticks": ""
            },
            "type": "choropleth"
           }
          ],
          "contour": [
           {
            "colorbar": {
             "outlinewidth": 0,
             "ticks": ""
            },
            "colorscale": [
             [
              0,
              "#0d0887"
             ],
             [
              0.1111111111111111,
              "#46039f"
             ],
             [
              0.2222222222222222,
              "#7201a8"
             ],
             [
              0.3333333333333333,
              "#9c179e"
             ],
             [
              0.4444444444444444,
              "#bd3786"
             ],
             [
              0.5555555555555556,
              "#d8576b"
             ],
             [
              0.6666666666666666,
              "#ed7953"
             ],
             [
              0.7777777777777778,
              "#fb9f3a"
             ],
             [
              0.8888888888888888,
              "#fdca26"
             ],
             [
              1,
              "#f0f921"
             ]
            ],
            "type": "contour"
           }
          ],
          "contourcarpet": [
           {
            "colorbar": {
             "outlinewidth": 0,
             "ticks": ""
            },
            "type": "contourcarpet"
           }
          ],
          "heatmap": [
           {
            "colorbar": {
             "outlinewidth": 0,
             "ticks": ""
            },
            "colorscale": [
             [
              0,
              "#0d0887"
             ],
             [
              0.1111111111111111,
              "#46039f"
             ],
             [
              0.2222222222222222,
              "#7201a8"
             ],
             [
              0.3333333333333333,
              "#9c179e"
             ],
             [
              0.4444444444444444,
              "#bd3786"
             ],
             [
              0.5555555555555556,
              "#d8576b"
             ],
             [
              0.6666666666666666,
              "#ed7953"
             ],
             [
              0.7777777777777778,
              "#fb9f3a"
             ],
             [
              0.8888888888888888,
              "#fdca26"
             ],
             [
              1,
              "#f0f921"
             ]
            ],
            "type": "heatmap"
           }
          ],
          "heatmapgl": [
           {
            "colorbar": {
             "outlinewidth": 0,
             "ticks": ""
            },
            "colorscale": [
             [
              0,
              "#0d0887"
             ],
             [
              0.1111111111111111,
              "#46039f"
             ],
             [
              0.2222222222222222,
              "#7201a8"
             ],
             [
              0.3333333333333333,
              "#9c179e"
             ],
             [
              0.4444444444444444,
              "#bd3786"
             ],
             [
              0.5555555555555556,
              "#d8576b"
             ],
             [
              0.6666666666666666,
              "#ed7953"
             ],
             [
              0.7777777777777778,
              "#fb9f3a"
             ],
             [
              0.8888888888888888,
              "#fdca26"
             ],
             [
              1,
              "#f0f921"
             ]
            ],
            "type": "heatmapgl"
           }
          ],
          "histogram": [
           {
            "marker": {
             "pattern": {
              "fillmode": "overlay",
              "size": 10,
              "solidity": 0.2
             }
            },
            "type": "histogram"
           }
          ],
          "histogram2d": [
           {
            "colorbar": {
             "outlinewidth": 0,
             "ticks": ""
            },
            "colorscale": [
             [
              0,
              "#0d0887"
             ],
             [
              0.1111111111111111,
              "#46039f"
             ],
             [
              0.2222222222222222,
              "#7201a8"
             ],
             [
              0.3333333333333333,
              "#9c179e"
             ],
             [
              0.4444444444444444,
              "#bd3786"
             ],
             [
              0.5555555555555556,
              "#d8576b"
             ],
             [
              0.6666666666666666,
              "#ed7953"
             ],
             [
              0.7777777777777778,
              "#fb9f3a"
             ],
             [
              0.8888888888888888,
              "#fdca26"
             ],
             [
              1,
              "#f0f921"
             ]
            ],
            "type": "histogram2d"
           }
          ],
          "histogram2dcontour": [
           {
            "colorbar": {
             "outlinewidth": 0,
             "ticks": ""
            },
            "colorscale": [
             [
              0,
              "#0d0887"
             ],
             [
              0.1111111111111111,
              "#46039f"
             ],
             [
              0.2222222222222222,
              "#7201a8"
             ],
             [
              0.3333333333333333,
              "#9c179e"
             ],
             [
              0.4444444444444444,
              "#bd3786"
             ],
             [
              0.5555555555555556,
              "#d8576b"
             ],
             [
              0.6666666666666666,
              "#ed7953"
             ],
             [
              0.7777777777777778,
              "#fb9f3a"
             ],
             [
              0.8888888888888888,
              "#fdca26"
             ],
             [
              1,
              "#f0f921"
             ]
            ],
            "type": "histogram2dcontour"
           }
          ],
          "mesh3d": [
           {
            "colorbar": {
             "outlinewidth": 0,
             "ticks": ""
            },
            "type": "mesh3d"
           }
          ],
          "parcoords": [
           {
            "line": {
             "colorbar": {
              "outlinewidth": 0,
              "ticks": ""
             }
            },
            "type": "parcoords"
           }
          ],
          "pie": [
           {
            "automargin": true,
            "type": "pie"
           }
          ],
          "scatter": [
           {
            "marker": {
             "line": {
              "color": "#283442"
             }
            },
            "type": "scatter"
           }
          ],
          "scatter3d": [
           {
            "line": {
             "colorbar": {
              "outlinewidth": 0,
              "ticks": ""
             }
            },
            "marker": {
             "colorbar": {
              "outlinewidth": 0,
              "ticks": ""
             }
            },
            "type": "scatter3d"
           }
          ],
          "scattercarpet": [
           {
            "marker": {
             "colorbar": {
              "outlinewidth": 0,
              "ticks": ""
             }
            },
            "type": "scattercarpet"
           }
          ],
          "scattergeo": [
           {
            "marker": {
             "colorbar": {
              "outlinewidth": 0,
              "ticks": ""
             }
            },
            "type": "scattergeo"
           }
          ],
          "scattergl": [
           {
            "marker": {
             "line": {
              "color": "#283442"
             }
            },
            "type": "scattergl"
           }
          ],
          "scattermapbox": [
           {
            "marker": {
             "colorbar": {
              "outlinewidth": 0,
              "ticks": ""
             }
            },
            "type": "scattermapbox"
           }
          ],
          "scatterpolar": [
           {
            "marker": {
             "colorbar": {
              "outlinewidth": 0,
              "ticks": ""
             }
            },
            "type": "scatterpolar"
           }
          ],
          "scatterpolargl": [
           {
            "marker": {
             "colorbar": {
              "outlinewidth": 0,
              "ticks": ""
             }
            },
            "type": "scatterpolargl"
           }
          ],
          "scatterternary": [
           {
            "marker": {
             "colorbar": {
              "outlinewidth": 0,
              "ticks": ""
             }
            },
            "type": "scatterternary"
           }
          ],
          "surface": [
           {
            "colorbar": {
             "outlinewidth": 0,
             "ticks": ""
            },
            "colorscale": [
             [
              0,
              "#0d0887"
             ],
             [
              0.1111111111111111,
              "#46039f"
             ],
             [
              0.2222222222222222,
              "#7201a8"
             ],
             [
              0.3333333333333333,
              "#9c179e"
             ],
             [
              0.4444444444444444,
              "#bd3786"
             ],
             [
              0.5555555555555556,
              "#d8576b"
             ],
             [
              0.6666666666666666,
              "#ed7953"
             ],
             [
              0.7777777777777778,
              "#fb9f3a"
             ],
             [
              0.8888888888888888,
              "#fdca26"
             ],
             [
              1,
              "#f0f921"
             ]
            ],
            "type": "surface"
           }
          ],
          "table": [
           {
            "cells": {
             "fill": {
              "color": "#506784"
             },
             "line": {
              "color": "rgb(17,17,17)"
             }
            },
            "header": {
             "fill": {
              "color": "#2a3f5f"
             },
             "line": {
              "color": "rgb(17,17,17)"
             }
            },
            "type": "table"
           }
          ]
         },
         "layout": {
          "annotationdefaults": {
           "arrowcolor": "#f2f5fa",
           "arrowhead": 0,
           "arrowwidth": 1
          },
          "autotypenumbers": "strict",
          "coloraxis": {
           "colorbar": {
            "outlinewidth": 0,
            "ticks": ""
           }
          },
          "colorscale": {
           "diverging": [
            [
             0,
             "#8e0152"
            ],
            [
             0.1,
             "#c51b7d"
            ],
            [
             0.2,
             "#de77ae"
            ],
            [
             0.3,
             "#f1b6da"
            ],
            [
             0.4,
             "#fde0ef"
            ],
            [
             0.5,
             "#f7f7f7"
            ],
            [
             0.6,
             "#e6f5d0"
            ],
            [
             0.7,
             "#b8e186"
            ],
            [
             0.8,
             "#7fbc41"
            ],
            [
             0.9,
             "#4d9221"
            ],
            [
             1,
             "#276419"
            ]
           ],
           "sequential": [
            [
             0,
             "#0d0887"
            ],
            [
             0.1111111111111111,
             "#46039f"
            ],
            [
             0.2222222222222222,
             "#7201a8"
            ],
            [
             0.3333333333333333,
             "#9c179e"
            ],
            [
             0.4444444444444444,
             "#bd3786"
            ],
            [
             0.5555555555555556,
             "#d8576b"
            ],
            [
             0.6666666666666666,
             "#ed7953"
            ],
            [
             0.7777777777777778,
             "#fb9f3a"
            ],
            [
             0.8888888888888888,
             "#fdca26"
            ],
            [
             1,
             "#f0f921"
            ]
           ],
           "sequentialminus": [
            [
             0,
             "#0d0887"
            ],
            [
             0.1111111111111111,
             "#46039f"
            ],
            [
             0.2222222222222222,
             "#7201a8"
            ],
            [
             0.3333333333333333,
             "#9c179e"
            ],
            [
             0.4444444444444444,
             "#bd3786"
            ],
            [
             0.5555555555555556,
             "#d8576b"
            ],
            [
             0.6666666666666666,
             "#ed7953"
            ],
            [
             0.7777777777777778,
             "#fb9f3a"
            ],
            [
             0.8888888888888888,
             "#fdca26"
            ],
            [
             1,
             "#f0f921"
            ]
           ]
          },
          "colorway": [
           "#636efa",
           "#EF553B",
           "#00cc96",
           "#ab63fa",
           "#FFA15A",
           "#19d3f3",
           "#FF6692",
           "#B6E880",
           "#FF97FF",
           "#FECB52"
          ],
          "font": {
           "color": "#f2f5fa"
          },
          "geo": {
           "bgcolor": "rgb(17,17,17)",
           "lakecolor": "rgb(17,17,17)",
           "landcolor": "rgb(17,17,17)",
           "showlakes": true,
           "showland": true,
           "subunitcolor": "#506784"
          },
          "hoverlabel": {
           "align": "left"
          },
          "hovermode": "closest",
          "mapbox": {
           "style": "dark"
          },
          "paper_bgcolor": "rgb(17,17,17)",
          "plot_bgcolor": "rgb(17,17,17)",
          "polar": {
           "angularaxis": {
            "gridcolor": "#506784",
            "linecolor": "#506784",
            "ticks": ""
           },
           "bgcolor": "rgb(17,17,17)",
           "radialaxis": {
            "gridcolor": "#506784",
            "linecolor": "#506784",
            "ticks": ""
           }
          },
          "scene": {
           "xaxis": {
            "backgroundcolor": "rgb(17,17,17)",
            "gridcolor": "#506784",
            "gridwidth": 2,
            "linecolor": "#506784",
            "showbackground": true,
            "ticks": "",
            "zerolinecolor": "#C8D4E3"
           },
           "yaxis": {
            "backgroundcolor": "rgb(17,17,17)",
            "gridcolor": "#506784",
            "gridwidth": 2,
            "linecolor": "#506784",
            "showbackground": true,
            "ticks": "",
            "zerolinecolor": "#C8D4E3"
           },
           "zaxis": {
            "backgroundcolor": "rgb(17,17,17)",
            "gridcolor": "#506784",
            "gridwidth": 2,
            "linecolor": "#506784",
            "showbackground": true,
            "ticks": "",
            "zerolinecolor": "#C8D4E3"
           }
          },
          "shapedefaults": {
           "line": {
            "color": "#f2f5fa"
           }
          },
          "sliderdefaults": {
           "bgcolor": "#C8D4E3",
           "bordercolor": "rgb(17,17,17)",
           "borderwidth": 1,
           "tickwidth": 0
          },
          "ternary": {
           "aaxis": {
            "gridcolor": "#506784",
            "linecolor": "#506784",
            "ticks": ""
           },
           "baxis": {
            "gridcolor": "#506784",
            "linecolor": "#506784",
            "ticks": ""
           },
           "bgcolor": "rgb(17,17,17)",
           "caxis": {
            "gridcolor": "#506784",
            "linecolor": "#506784",
            "ticks": ""
           }
          },
          "title": {
           "x": 0.05
          },
          "updatemenudefaults": {
           "bgcolor": "#506784",
           "borderwidth": 0
          },
          "xaxis": {
           "automargin": true,
           "gridcolor": "#283442",
           "linecolor": "#506784",
           "ticks": "",
           "title": {
            "standoff": 15
           },
           "zerolinecolor": "#283442",
           "zerolinewidth": 2
          },
          "yaxis": {
           "automargin": true,
           "gridcolor": "#283442",
           "linecolor": "#506784",
           "ticks": "",
           "title": {
            "standoff": 15
           },
           "zerolinecolor": "#283442",
           "zerolinewidth": 2
          }
         }
        },
        "title": {
         "text": "Active Players by FGA"
        },
        "xaxis": {
         "anchor": "y",
         "domain": [
          0,
          1
         ],
         "title": {
          "text": "Field Goals Attempted"
         }
        },
        "yaxis": {
         "anchor": "x",
         "domain": [
          0,
          1
         ],
         "title": {
          "text": "Predicted Salary (Millions)"
         }
        }
       }
      }
     },
     "metadata": {},
     "output_type": "display_data"
    }
   ],
   "source": [
    "import plotly.express as px\n",
    "target = 10\n",
    "# Map percent change to performance category\n",
    "def map_category(change):\n",
    "    if change > target:\n",
    "        return \"Above Target\"\n",
    "    elif change < -target:\n",
    "        return \"Below Target\"\n",
    "    else:\n",
    "        return \"On Target\"\n",
    "\n",
    "df[\"PERFORMANCE\"] = df[\"SALARY_PCT_CHANGE\"].apply(map_category)\n",
    "\n",
    "# Ensure teams are ordered ascending\n",
    "teams_sorted = sorted(df[\"TEAM_ABBREVIATION\"].unique())\n",
    "\n",
    "# Bubble plot\n",
    "fig = px.scatter(\n",
    "    df,\n",
    "    x=\"FGA\",\n",
    "    y=\"PREDICTED_SALARY\",\n",
    "    # size=\"PPG\",   # bubble size ~ points per game\n",
    "    color=\"PERFORMANCE\",\n",
    "    color_discrete_map={\n",
    "        \"Above Target\": \"green\",\n",
    "        \"On Target\": \"yellow\",\n",
    "        \"Below Target\": \"red\"\n",
    "    },\n",
    "    category_orders={\"TEAM_ABBREVIATION\": teams_sorted},  # enforce order\n",
    "    hover_data=[\"PLAYER_NAME\", \"TEAM_ABBREVIATION\", \"SALARY_CONDENSED\", \"PREDICTED_SALARY\", \"SALARY_PCT_CHANGE\"],\n",
    "    template=\"plotly_dark\"  # <-- dark theme\n",
    ")\n",
    "\n",
    "fig.update_layout(\n",
    "    title=\"Active Players by FGA\",\n",
    "    xaxis_title=\"Field Goals Attempted\",\n",
    "    yaxis_title=\"Predicted Salary (Millions)\",\n",
    "    legend_title=\"Performance\",\n",
    "    plot_bgcolor=\"black\",  # plot area\n",
    "    paper_bgcolor=\"black\"  # outer background\n",
    ")\n",
    "\n",
    "fig.show()\n",
    "fig.write_html('PerformanceByFGA.html')\n"
   ]
  },
  {
   "cell_type": "code",
   "execution_count": 15,
   "id": "3b1274f5",
   "metadata": {},
   "outputs": [
    {
     "data": {
      "application/vnd.plotly.v1+json": {
       "config": {
        "plotlyServerURL": "https://plot.ly"
       },
       "data": [
        {
         "customdata": [
          [
           "AJ Johnson",
           "WAS",
           2.8,
           7.422981943402979
          ],
          [
           "Aaron Gordon",
           "DEN",
           22.84,
           -3.626525464700942
          ],
          [
           "Aaron Nesmith",
           "IND",
           11,
           -9.644915840842506
          ],
          [
           "Al Horford",
           "BOS",
           9.5,
           4.682852092542147
          ],
          [
           "Alex Caruso",
           "OKC",
           9.89,
           -0.8844836536866525
          ],
          [
           "Alex Sarr",
           "WAS",
           11.25,
           5.828492906358507
          ],
          [
           "Amir Coffey",
           "LAC",
           3.94,
           1.393273639194858
          ],
          [
           "Andre Drummond",
           "PHI",
           5,
           5.684499740600586
          ],
          [
           "Andrew Wiggins",
           "MIA",
           26.28,
           -7.841929199125854
          ],
          [
           "Anfernee Simons",
           "POR",
           25.89,
           -2.132320882915854
          ],
          [
           "Anthony Black",
           "ORL",
           7.61,
           -0.7080418991509979
          ],
          [
           "Anthony Davis",
           "DAL",
           43.22,
           -2.2242604775982593
          ],
          [
           "Anthony Edwards",
           "MIN",
           42.18,
           -0.562065706935862
          ],
          [
           "Antonio Reeves",
           "NOP",
           1.16,
           1.2961617831526202
          ],
          [
           "Ausar Thompson",
           "DET",
           8.38,
           -5.114777048334026
          ],
          [
           "Ayo Dosunmu",
           "CHI",
           7,
           -3.252969469342913
          ],
          [
           "Bam Adebayo",
           "MIA",
           34.85,
           -3.0270350714838186
          ],
          [
           "Bilal Coulibaly",
           "WAS",
           6.95,
           -3.6680399942741144
          ],
          [
           "Bobby Portis",
           "MIL",
           12.58,
           -0.15289173217191282
          ],
          [
           "Bogdan Bogdanović",
           "LAC",
           17.26,
           -9.892165094510437
          ],
          [
           "Bones Hyland",
           "MIN",
           4.16,
           -6.3621461391449
          ],
          [
           "Bradley Beal",
           "PHX",
           50.2,
           -9.703182509220934
          ],
          [
           "Brice Sensabaugh",
           "UTA",
           2.57,
           -3.109992060679864
          ],
          [
           "Brook Lopez",
           "MIL",
           23,
           -3.7157058715820312
          ],
          [
           "CJ McCollum",
           "NOP",
           33.33,
           -5.375873509592165
          ],
          [
           "Cade Cunningham",
           "DET",
           13.94,
           5.255693411040344
          ],
          [
           "Caleb Martin",
           "DAL",
           8.15,
           -4.78197928586621
          ],
          [
           "Cameron Johnson",
           "BKN",
           22.5,
           6.103880140516493
          ],
          [
           "Caris LeVert",
           "ATL",
           16.62,
           0.7402101004883926
          ],
          [
           "Chet Holmgren",
           "OKC",
           10.88,
           -3.3047434161691176
          ],
          [
           "Chris Paul",
           "SAS",
           10.46,
           -4.49193330841357
          ],
          [
           "Coby White",
           "CHI",
           12,
           9.409658114115398
          ],
          [
           "Collin Sexton",
           "UTA",
           18.35,
           -2.1404796465216354
          ],
          [
           "Corey Kispert",
           "WAS",
           5.71,
           2.317863504439854
          ],
          [
           "Dalen Terry",
           "CHI",
           3.51,
           6.691791121436666
          ],
          [
           "Dalton Knecht",
           "LAL",
           3.82,
           -0.2776470483909685
          ],
          [
           "Daniel Gafford",
           "DAL",
           13.39,
           0.34885221314661286
          ],
          [
           "Darius Garland",
           "CLE",
           36.73,
           -1.1281359075623554
          ],
          [
           "Davion Mitchell",
           "MIA",
           6.45,
           -8.034206360809565
          ],
          [
           "De'Aaron Fox",
           "SAS",
           34.85,
           -1.6907745317543978
          ],
          [
           "DeMar DeRozan",
           "SAC",
           23.4,
           -0.9128472743890164
          ],
          [
           "Dean Wade",
           "CLE",
           6.17,
           -7.950651703622777
          ],
          [
           "Deandre Ayton",
           "POR",
           34.01,
           -6.674373573991904
          ],
          [
           "Dejounte Murray",
           "NOP",
           29.52,
           2.176459501106243
          ],
          [
           "Deni Avdija",
           "POR",
           15.62,
           3.931597955095636
          ],
          [
           "Dereck Lively II",
           "DAL",
           5.01,
           2.2414628141178623
          ],
          [
           "Derrick White",
           "BOS",
           20.07,
           0.8409900218619583
          ],
          [
           "Desmond Bane",
           "ORL",
           34.01,
           -4.733134591905408
          ],
          [
           "Devin Booker",
           "PHX",
           49.21,
           -4.582816831127123
          ],
          [
           "Devin Carter",
           "SAC",
           4.69,
           -7.128612624048432
          ],
          [
           "Devin Vassell",
           "SAS",
           29.35,
           -3.641383936295522
          ],
          [
           "Dillon Brooks",
           "HOU",
           22.26,
           -4.861227414250274
          ],
          [
           "Domantas Sabonis",
           "SAC",
           40.5,
           -0.21425412024980708
          ],
          [
           "Donovan Mitchell",
           "CLE",
           35.41,
           -1.086634345325287
          ],
          [
           "Draymond Green",
           "GSW",
           24.11,
           -5.5114122704814825
          ],
          [
           "Dwight Powell",
           "DAL",
           4,
           -1.0380268096923828
          ],
          [
           "Eric Gordon",
           "PHI",
           3.3,
           6.197819565281729
          ],
          [
           "Fred VanVleet",
           "HOU",
           42.85,
           -4.008222154864356
          ],
          [
           "Gary Payton II",
           "GSW",
           9.13,
           -9.921418406224337
          ],
          [
           "Georges Niang",
           "ATL",
           8.5,
           -1.6900904038373161
          ],
          [
           "Giannis Antetokounmpo",
           "MIL",
           48.79,
           -0.5315381499875085
          ],
          [
           "Grant Williams",
           "CHA",
           13.03,
           -8.113391785464279
          ],
          [
           "Harrison Barnes",
           "SAS",
           18,
           -3.7215762668185763
          ],
          [
           "Haywood Highsmith",
           "MIA",
           5.2,
           6.5214047065147955
          ],
          [
           "Hunter Tyson",
           "DEN",
           1.89,
           6.171098335710157
          ],
          [
           "Immanuel Quickley",
           "TOR",
           32.5,
           -7.598648071289063
          ],
          [
           "Isaiah Hartenstein",
           "OKC",
           30,
           -3.6045074462890625
          ],
          [
           "Isaiah Jackson",
           "IND",
           4.44,
           -1.424474544353322
          ],
          [
           "Ja Morant",
           "MEM",
           36.73,
           -5.752425553394271
          ],
          [
           "Ja'Kobe Walter",
           "TOR",
           3.46,
           3.1569249368127386
          ],
          [
           "Jaden Ivey",
           "DET",
           7.98,
           7.549437902923807
          ],
          [
           "Jaden McDaniels",
           "MIN",
           23.02,
           -6.425078364686277
          ],
          [
           "Jakob Poeltl",
           "TOR",
           19.5,
           1.6204344920622997
          ],
          [
           "Jalen Green",
           "HOU",
           12.48,
           4.000041118034947
          ],
          [
           "Jalen McDaniels",
           "WAS",
           4.74,
           -9.049549183262053
          ],
          [
           "Jamal Murray",
           "DEN",
           36.02,
           0.45345461017749683
          ],
          [
           "James Johnson",
           "IND",
           2.09,
           5.785867243862616
          ],
          [
           "Jaren Jackson Jr.",
           "MEM",
           25.26,
           0.35697562488787854
          ],
          [
           "Jarrett Allen",
           "CLE",
           20,
           1.8493938446044922
          ],
          [
           "Jaylen Brown",
           "BOS",
           49.7,
           -7.971280441437694
          ],
          [
           "Jaylon Tyson",
           "CLE",
           3.33,
           5.011978664913691
          ],
          [
           "Jayson Tatum",
           "BOS",
           34.85,
           2.1229923199033762
          ],
          [
           "Jerami Grant",
           "POR",
           29.79,
           -1.065051695691452
          ],
          [
           "Jeremiah Robinson-Earl",
           "NOP",
           2.2,
           2.5664264505559666
          ],
          [
           "Joe Ingles",
           "MIN",
           2.09,
           7.935296291369578
          ],
          [
           "Joel Embiid",
           "PHI",
           51.42,
           -2.6399565688926705
          ],
          [
           "John Collins",
           "UTA",
           26.58,
           -4.512580486954912
          ],
          [
           "Jonas Valančiūnas",
           "SAC",
           9.9,
           1.4334938742897692
          ],
          [
           "Jordan Clarkson",
           "UTA",
           14.09,
           -3.8666981682868773
          ],
          [
           "Jordan Poole",
           "WAS",
           29.65,
           -2.805083919737427
          ],
          [
           "Josh Giddey",
           "CHI",
           8.35,
           4.410182930038365
          ],
          [
           "Josh Hart",
           "NYK",
           18.14,
           -3.9329162900476793
          ],
          [
           "Josh Okogie",
           "CHA",
           8.25,
           -1.0161313143643464
          ],
          [
           "Josh Richardson",
           "MIA",
           3.05,
           -0.9381669466612711
          ],
          [
           "Jrue Holiday",
           "BOS",
           30,
           -7.1276601155598955
          ],
          [
           "Julius Randle",
           "MIN",
           33.07,
           -1.6798288756567519
          ],
          [
           "Jusuf Nurkić",
           "CHA",
           18.12,
           -4.315792698470704
          ],
          [
           "Karl-Anthony Towns",
           "NYK",
           49.21,
           -1.7453285718056242
          ],
          [
           "Kelly Olynyk",
           "NOP",
           12.8,
           4.2468920350074715
          ],
          [
           "Kenrich Williams",
           "OKC",
           6.67,
           -9.517718576777284
          ],
          [
           "Kentavious Caldwell-Pope",
           "MEM",
           22.76,
           -6.046294160383663
          ],
          [
           "Kevin Durant",
           "PHX",
           51.18,
           -3.031677508456672
          ],
          [
           "Kevon Looney",
           "GSW",
           8,
           0.4359126091003418
          ],
          [
           "Khris Middleton",
           "WAS",
           31.67,
           -6.130135153459386
          ],
          [
           "Kristaps Porziņģis",
           "BOS",
           29.27,
           -0.6662932442527264
          ],
          [
           "Kyrie Irving",
           "DAL",
           41,
           -2.7458377000762195
          ],
          [
           "LaMelo Ball",
           "CHA",
           35.15,
           -2.6743317735652963
          ],
          [
           "Lauri Markkanen",
           "UTA",
           42.18,
           -7.940321479605633
          ],
          [
           "LeBron James",
           "LAL",
           48.73,
           -0.4842240341189591
          ],
          [
           "Leonard Miller",
           "MIN",
           1.89,
           3.9271190683677766
          ],
          [
           "Malaki Branham",
           "SAS",
           3.22,
           -9.919663245633528
          ],
          [
           "Malik Monk",
           "SAC",
           17.41,
           5.78861050329148
          ],
          [
           "MarJon Beauchamp",
           "NYK",
           2.73,
           -2.3312352079174885
          ],
          [
           "Matas Buzelis",
           "CHI",
           5.2,
           -7.510353968693663
          ],
          [
           "Matisse Thybulle",
           "POR",
           11.03,
           -9.144373017879145
          ],
          [
           "Max Strus",
           "CLE",
           15.21,
           -5.558855105669076
          ],
          [
           "Michael Porter Jr.",
           "DEN",
           35.86,
           -1.488102552814982
          ],
          [
           "Miles Bridges",
           "CHA",
           27.17,
           -1.1930929723802164
          ],
          [
           "Mitchell Robinson",
           "NYK",
           14.32,
           -9.745128461102535
          ],
          [
           "Myles Turner",
           "IND",
           19.93,
           0.15587201384043514
          ],
          [
           "Naji Marshall",
           "DAL",
           8.57,
           5.6892368312199135
          ],
          [
           "Naz Reid",
           "MIN",
           13.99,
           -0.8858007904118191
          ],
          [
           "Nic Claxton",
           "BKN",
           27.56,
           -3.663661552617438
          ],
          [
           "Nikola Jokić",
           "DEN",
           51.42,
           -1.8875665119398188
          ],
          [
           "Nikola Vučević",
           "CHI",
           20,
           -0.8017826080322265
          ],
          [
           "Norman Powell",
           "LAC",
           19.24,
           7.7671308775205965
          ],
          [
           "OG Anunoby",
           "NYK",
           36.64,
           -5.799143179014782
          ],
          [
           "Obi Toppin",
           "IND",
           12.97,
           -6.664232887850423
          ],
          [
           "Olivier-Maxence Prosper",
           "DAL",
           2.87,
           -7.2986280461221655
          ],
          [
           "Onyeka Okongwu",
           "ATL",
           14,
           -0.1266411372593471
          ],
          [
           "Ousmane Dieng",
           "OKC",
           5.03,
           -3.912354653208682
          ],
          [
           "P.J. Washington",
           "DAL",
           15.5,
           -0.7580234158423639
          ],
          [
           "PJ Dozier",
           "MIN",
           2.09,
           0.20306235865543446
          ],
          [
           "Pascal Siakam",
           "IND",
           42.18,
           -0.010236918276211393
          ],
          [
           "Paul George",
           "PHI",
           49.21,
           -4.6537774870294415
          ],
          [
           "Payton Pritchard",
           "BOS",
           6.7,
           -5.649925345805156
          ],
          [
           "Reggie Jackson",
           "PHI",
           4.03,
           2.60590252746127
          ],
          [
           "Reggie Jackson",
           "PHI",
           4.03,
           2.60590252746127
          ],
          [
           "Royce O'Neale",
           "PHX",
           9.38,
           -0.597224611717509
          ],
          [
           "Rudy Gobert",
           "MIN",
           43.83,
           -7.1794249221067155
          ],
          [
           "Scoot Henderson",
           "POR",
           10.26,
           0.6671745642351613
          ],
          [
           "Stephen Curry",
           "GSW",
           55.76,
           -4.483921045552364
          ],
          [
           "Stephon Castle",
           "SAS",
           9.11,
           0.5836323508839508
          ],
          [
           "Steven Adams",
           "HOU",
           12.6,
           -5.719499739389568
          ],
          [
           "Terry Rozier",
           "MIA",
           24.92,
           -3.3661715291667775
          ],
          [
           "Tim Hardaway Jr.",
           "DET",
           16.19,
           -0.3172126944378843
          ],
          [
           "Trae Young",
           "ATL",
           43.03,
           -0.012529370066126568
          ],
          [
           "Tre Jones",
           "CHI",
           9.1,
           8.943865849421579
          ],
          [
           "Tre Mann",
           "CHA",
           4.91,
           8.375054027300985
          ],
          [
           "Tyler Herro",
           "MIA",
           29,
           2.306793475973195
          ],
          [
           "Tyler Kolek",
           "NYK",
           2.09,
           0.3413565421218575
          ],
          [
           "Tyrese Haliburton",
           "IND",
           42.18,
           -9.013727368083028
          ],
          [
           "Tyrese Maxey",
           "PHI",
           35.15,
           2.5026736523993196
          ],
          [
           "Vasilije Micić",
           "PHX",
           7.72,
           8.623035213490228
          ],
          [
           "Wendell Carter Jr.",
           "ORL",
           11.95,
           -4.246645492489861
          ],
          [
           "Ziaire Williams",
           "BKN",
           6.13,
           1.1132027157757078
          ],
          [
           "Zion Williamson",
           "NOP",
           36.73,
           -2.7013635882038187
          ]
         ],
         "hovertemplate": "PERFORMANCE=On Target<br>FTM=%{x}<br>PREDICTED_SALARY=%{y}<br>PLAYER_NAME=%{customdata[0]}<br>TEAM_ABBREVIATION=%{customdata[1]}<br>SALARY_CONDENSED=%{customdata[2]}<br>SALARY_PCT_CHANGE=%{customdata[3]}<extra></extra>",
         "legendgroup": "On Target",
         "marker": {
          "color": "yellow",
          "symbol": "circle"
         },
         "mode": "markers",
         "name": "On Target",
         "orientation": "v",
         "showlegend": true,
         "type": "scatter",
         "x": [
          32,
          145,
          73,
          34,
          42,
          112,
          115,
          56,
          196,
          175,
          150,
          286,
          415,
          28,
          91,
          62,
          251,
          138,
          61,
          58,
          23,
          110,
          65,
          114,
          124,
          313,
          61,
          201,
          110,
          101,
          85,
          277,
          217,
          75,
          49,
          64,
          135,
          224,
          58,
          263,
          378,
          16,
          40,
          102,
          290,
          46,
          135,
          177,
          432,
          26,
          95,
          99,
          218,
          298,
          101,
          28,
          36,
          111,
          27,
          46,
          436,
          31,
          161,
          31,
          21,
          111,
          79,
          7,
          263,
          66,
          85,
          104,
          97,
          273,
          0,
          218,
          0,
          311,
          199,
          246,
          19,
          358,
          141,
          46,
          0,
          149,
          139,
          145,
          114,
          242,
          175,
          159,
          63,
          4,
          70,
          270,
          85,
          339,
          83,
          28,
          82,
          303,
          56,
          72,
          161,
          196,
          193,
          162,
          259,
          8,
          27,
          154,
          15,
          88,
          7,
          28,
          149,
          221,
          13,
          184,
          130,
          111,
          79,
          361,
          120,
          213,
          183,
          89,
          49,
          164,
          11,
          143,
          1,
          226,
          79,
          71,
          7,
          7,
          19,
          184,
          158,
          279,
          249,
          43,
          92,
          124,
          491,
          55,
          19,
          287,
          13,
          189,
          254,
          34,
          129,
          101,
          158
         ],
         "xaxis": "x",
         "y": [
          3.0078435,
          22.011702,
          9.939059,
          9.944871,
          9.802525,
          11.905705,
          3.994895,
          5.284225,
          24.219141,
          25.337942,
          7.556118,
          42.258675,
          41.94292,
          1.1750355,
          7.9513817,
          6.772292,
          33.79508,
          6.695071,
          12.560766,
          15.552612,
          3.8953347,
          45.329002,
          2.4900732,
          22.145388,
          31.538221,
          14.672644,
          7.7602687,
          23.873373,
          16.743023,
          10.520444,
          9.990144,
          13.129159,
          17.957222,
          5.84235,
          3.7448819,
          3.809394,
          13.436711,
          36.315636,
          5.9317937,
          34.260765,
          23.186394,
          5.679445,
          31.740046,
          30.16249,
          16.234116,
          5.1222973,
          20.238787,
          32.40026,
          46.954796,
          4.355668,
          28.281254,
          21.17789,
          40.413227,
          35.025223,
          22.781199,
          3.958479,
          3.504528,
          41.132477,
          8.2241745,
          8.356342,
          48.530663,
          11.972825,
          17.330116,
          5.539113,
          2.0066338,
          30.03044,
          28.918648,
          4.3767533,
          34.617134,
          3.5692296,
          8.582445,
          21.540947,
          19.815985,
          12.979205,
          4.3110514,
          36.183334,
          2.2109246,
          25.350172,
          20.369879,
          45.738274,
          3.496899,
          35.589863,
          29.472721,
          2.2564614,
          2.2558477,
          50.062534,
          25.380556,
          10.041916,
          13.545182,
          28.818293,
          8.71825,
          17.426569,
          8.166169,
          3.021386,
          27.861702,
          32.51448,
          17.337978,
          48.351124,
          13.343602,
          6.035168,
          21.383863,
          49.628387,
          8.034873,
          29.728586,
          29.074976,
          39.874207,
          34.209972,
          38.830772,
          48.494038,
          1.9642226,
          2.9005868,
          18.417797,
          2.6663573,
          4.8094616,
          10.021376,
          14.364498,
          35.326366,
          26.845837,
          12.924498,
          19.961065,
          9.057568,
          13.866076,
          26.550295,
          50.449413,
          19.839643,
          20.734396,
          34.515194,
          12.105649,
          2.6605294,
          13.98227,
          4.8332086,
          15.382506,
          2.094244,
          42.175682,
          46.919876,
          6.321455,
          4.135018,
          4.135018,
          9.32398,
          40.683258,
          10.328452,
          53.259766,
          9.163169,
          11.879343,
          24.08115,
          16.138643,
          43.02461,
          9.913892,
          5.321215,
          29.66897,
          2.0971344,
          38.37801,
          36.02969,
          8.385698,
          11.442526,
          6.1982393,
          35.73779
         ],
         "yaxis": "y"
        },
        {
         "customdata": [
          [
           "Aaron Holiday",
           "HOU",
           4.67,
           -12.273439656488389
          ],
          [
           "Anthony Gill",
           "WAS",
           2.24,
           -84.76089510534491
          ],
          [
           "Ben Simmons",
           "LAC",
           40.34,
           -68.28017757266362
          ],
          [
           "Brandon Clarke",
           "MEM",
           12.5,
           -11.223106384277344
          ],
          [
           "Brandon Ingram",
           "TOR",
           36.02,
           -12.628796549388802
          ],
          [
           "Bruce Brown",
           "NOP",
           23,
           -70.51124158112898
          ],
          [
           "Chris Boucher",
           "TOR",
           10.81,
           -30.318493626935965
          ],
          [
           "Chris Duarte",
           "CHI",
           5.89,
           -16.840336318736565
          ],
          [
           "Clint Capela",
           "ATL",
           22.27,
           -15.404985665097382
          ],
          [
           "Cody Martin",
           "PHX",
           8.12,
           -12.562511237384054
          ],
          [
           "Cody Williams",
           "UTA",
           5.47,
           -49.376674631178055
          ],
          [
           "Damian Lillard",
           "MIL",
           48.79,
           -28.29935989020227
          ],
          [
           "Dario Šarić",
           "DEN",
           5.17,
           -16.467002558754306
          ],
          [
           "Dariq Whitehead",
           "BKN",
           3.11,
           -10.23417071130881
          ],
          [
           "De'Andre Hunter",
           "CLE",
           21.7,
           -22.89638958768361
          ],
          [
           "De'Anthony Melton",
           "BKN",
           12.82,
           -70.62260386724368
          ],
          [
           "Dennis Schröder",
           "DET",
           13.03,
           -12.453063707212618
          ],
          [
           "Dorian Finney-Smith",
           "LAL",
           14.92,
           -62.88819223562451
          ],
          [
           "Drew Eubanks",
           "LAC",
           5,
           -26.609678268432617
          ],
          [
           "Duncan Robinson",
           "MIA",
           19.41,
           -12.33949499115509
          ],
          [
           "Gabe Vincent",
           "LAL",
           11,
           -31.841148029674184
          ],
          [
           "Gary Harris",
           "ORL",
           7.5,
           -20.97710927327474
          ],
          [
           "Herbert Jones",
           "NOP",
           12.98,
           -28.308194517538254
          ],
          [
           "Isaac Okoro",
           "CLE",
           10.19,
           -53.68556021708151
          ],
          [
           "Isaiah Joe",
           "OKC",
           12.99,
           -11.030797980398836
          ],
          [
           "Isaiah Stewart",
           "DET",
           15,
           -34.533634185791016
          ],
          [
           "Jaden Springer",
           "UTA",
           4.02,
           -14.526974976952387
          ],
          [
           "Jae'Sean Tate",
           "HOU",
           7.57,
           -21.232447756486337
          ],
          [
           "Jalen Hood-Schifino",
           "PHI",
           3.88,
           -13.574094624863456
          ],
          [
           "Jalen Smith",
           "CHI",
           8.57,
           -16.375264821002478
          ],
          [
           "Jarred Vanderbilt",
           "LAL",
           10.71,
           -23.30969659999417
          ],
          [
           "Jeff Green",
           "HOU",
           8,
           -30.017709732055664
          ],
          [
           "Jett Howard",
           "ORL",
           5.28,
           -25.696217652523163
          ],
          [
           "Jevon Carter",
           "CHI",
           6.5,
           -17.20912639911358
          ],
          [
           "Jock Landale",
           "HOU",
           8,
           -14.918303489685059
          ],
          [
           "John Konchar",
           "MEM",
           6.17,
           -13.44780357768895
          ],
          [
           "Johnny Davis",
           "WAS",
           5.29,
           -54.822067953012386
          ],
          [
           "Johnny Juzang",
           "UTA",
           3.09,
           -17.248421888135393
          ],
          [
           "Jonathan Isaac",
           "ORL",
           25,
           -19.520774841308594
          ],
          [
           "Josh Green",
           "CHA",
           12.65,
           -19.854831318610273
          ],
          [
           "KJ Martin",
           "UTA",
           7.97,
           -28.577768907343575
          ],
          [
           "Kawhi Leonard",
           "LAC",
           49.21,
           -31.578059623794232
          ],
          [
           "Keldon Johnson",
           "SAS",
           19,
           -16.079967900326377
          ],
          [
           "Kevin Huerter",
           "CHI",
           16.83,
           -15.023742512585637
          ],
          [
           "Kevin Porter Jr.",
           "MIL",
           3.24,
           -13.744220027217164
          ],
          [
           "Kevin Porter Jr.",
           "MIL",
           3.24,
           -13.744220027217164
          ],
          [
           "Kobe Brown",
           "LAC",
           2.53,
           -20.393808085927844
          ],
          [
           "Kobe Bufkin",
           "ATL",
           4.3,
           -27.77765628903411
          ],
          [
           "Kyle Anderson",
           "MIA",
           8.78,
           -14.36274013649629
          ],
          [
           "Kyle Kuzma",
           "MIL",
           23.52,
           -10.31505623642279
          ],
          [
           "Larry Nance Jr.",
           "ATL",
           11.21,
           -21.74084754419795
          ],
          [
           "Lonzo Ball",
           "CHI",
           21.4,
           -20.48574608063029
          ],
          [
           "Luguentz Dort",
           "OKC",
           16.5,
           -45.39794921875
          ],
          [
           "Luka Dončić",
           "LAL",
           43.03,
           -14.3731136973614
          ],
          [
           "Luke Kennard",
           "MEM",
           9.25,
           -11.089716730891046
          ],
          [
           "Malcolm Brogdon",
           "WAS",
           22.5,
           -59.23818800184462
          ],
          [
           "Marcus Smart",
           "WAS",
           20.21,
           -16.121488983592208
          ],
          [
           "Marvin Bagley III",
           "MEM",
           12.5,
           -18.06456756591797
          ],
          [
           "Maxi Kleber",
           "LAL",
           11,
           -26.934458992697973
          ],
          [
           "Mikal Bridges",
           "NYK",
           23.3,
           -35.555564487440904
          ],
          [
           "Nicolas Batum",
           "LAC",
           4.67,
           -12.072085721589767
          ],
          [
           "P.J. Tucker",
           "NYK",
           11.54,
           -26.733598758690892
          ],
          [
           "Pat Connaughton",
           "MIL",
           9.42,
           -40.38176384701091
          ],
          [
           "Patrick Williams",
           "CHI",
           18,
           -23.254421022203235
          ],
          [
           "RJ Barrett",
           "TOR",
           25.79,
           -20.343929318875105
          ],
          [
           "Reed Sheppard",
           "HOU",
           10.1,
           -27.982811880583807
          ],
          [
           "Richaun Holmes",
           "WAS",
           12.65,
           -18.167717372004695
          ],
          [
           "Rob Dillingham",
           "MIN",
           6.26,
           -22.25482440985049
          ],
          [
           "Rui Hachimura",
           "LAL",
           17,
           -38.7941697064568
          ],
          [
           "Seth Curry",
           "CHA",
           2.09,
           -14.806818848021287
          ],
          [
           "Shake Milton",
           "LAL",
           2.88,
           -39.454959498511414
          ],
          [
           "Simone Fontecchio",
           "DET",
           7.69,
           -30.791172776637683
          ],
          [
           "T.J. McConnell",
           "IND",
           9.3,
           -16.558070849346866
          ],
          [
           "Taylor Hendricks",
           "UTA",
           5.85,
           -15.770188356057185
          ],
          [
           "Terance Mann",
           "ATL",
           11.42,
           -19.82807419972328
          ],
          [
           "Tidjane Salaün",
           "CHA",
           7.49,
           -22.492348145101673
          ],
          [
           "Tobias Harris",
           "DET",
           25.37,
           -10.243150517843729
          ],
          [
           "Trey Lyles",
           "SAC",
           8,
           -12.089920043945312
          ],
          [
           "Zaccharie Risacher",
           "ATL",
           12.57,
           -10.94098360460717
          ],
          [
           "Zach Collins",
           "CHI",
           16.74,
           -18.948194032074294
          ],
          [
           "Zach LaVine",
           "SAC",
           43.03,
           -37.378242629199924
          ],
          [
           "Zeke Nnaji",
           "DEN",
           8.89,
           -30.85336631543189
          ]
         ],
         "hovertemplate": "PERFORMANCE=Below Target<br>FTM=%{x}<br>PREDICTED_SALARY=%{y}<br>PLAYER_NAME=%{customdata[0]}<br>TEAM_ABBREVIATION=%{customdata[1]}<br>SALARY_CONDENSED=%{customdata[2]}<br>SALARY_PCT_CHANGE=%{customdata[3]}<extra></extra>",
         "legendgroup": "Below Target",
         "marker": {
          "color": "red",
          "symbol": "circle"
         },
         "mode": "markers",
         "name": "Below Target",
         "orientation": "v",
         "showlegend": true,
         "type": "scatter",
         "x": [
          34,
          33,
          24,
          61,
          47,
          53,
          68,
          6,
          52,
          43,
          29,
          362,
          7,
          3,
          215,
          5,
          181,
          30,
          47,
          47,
          15,
          7,
          33,
          33,
          46,
          66,
          27,
          32,
          18,
          72,
          20,
          21,
          16,
          8,
          27,
          7,
          9,
          45,
          73,
          49,
          37,
          98,
          150,
          35,
          130,
          130,
          5,
          13,
          48,
          128,
          9,
          22,
          33,
          309,
          51,
          81,
          54,
          23,
          16,
          96,
          17,
          0,
          24,
          60,
          196,
          13,
          50,
          8,
          87,
          33,
          47,
          70,
          57,
          3,
          47,
          67,
          143,
          56,
          106,
          69,
          235,
          27
         ],
         "xaxis": "x",
         "y": [
          4.0968304,
          0.34135595,
          12.795776,
          11.097112,
          31.471107,
          6.7824144,
          7.532571,
          4.898104,
          18.83931,
          7.099924,
          2.769096,
          34.982742,
          4.318656,
          2.7917173,
          16.731483,
          3.7661822,
          11.407366,
          5.5370817,
          3.669516,
          17.014904,
          7.4974737,
          5.926717,
          9.305596,
          4.7194414,
          11.557099,
          9.819955,
          3.4360156,
          5.9627037,
          3.3533251,
          7.16664,
          8.2135315,
          5.598583,
          3.9232397,
          5.381407,
          6.8065357,
          5.3402705,
          2.3899126,
          2.5570238,
          20.119806,
          10.138364,
          5.692352,
          33.670437,
          15.944806,
          14.301504,
          2.7946873,
          2.7946873,
          2.0140367,
          3.1055608,
          7.5189514,
          21.093899,
          8.772851,
          17.01605,
          9.009338,
          36.84525,
          8.224201,
          9.171408,
          16.951847,
          10.241929,
          8.0372095,
          15.015553,
          4.1062336,
          8.454943,
          5.616038,
          13.814204,
          20.5433,
          7.273736,
          10.351784,
          4.866848,
          10.404991,
          1.7805375,
          1.7436972,
          5.322159,
          7.7600994,
          4.927444,
          9.155634,
          5.805323,
          22.771313,
          7.0328064,
          11.194718,
          13.568072,
          26.946142,
          6.1471357
         ],
         "yaxis": "y"
        },
        {
         "customdata": [
          [
           "Aaron Wiggins",
           "OKC",
           10.51,
           10.309593570901598
          ],
          [
           "Adem Bona",
           "PHI",
           1.16,
           101.17315752752899
          ],
          [
           "Alec Burks",
           "MIA",
           2.09,
           58.28175978227096
          ],
          [
           "Alex Len",
           "LAL",
           2.09,
           85.20956404471512
          ],
          [
           "Alperen Sengun",
           "HOU",
           5.42,
           15.90603972713006
          ],
          [
           "Amen Thompson",
           "HOU",
           9.25,
           22.63840340279244
          ],
          [
           "Andre Jackson Jr.",
           "MIL",
           1.89,
           160.95602247450088
          ],
          [
           "Andrew Nembhard",
           "IND",
           2.02,
           109.4807247124096
          ],
          [
           "Austin Reaves",
           "LAL",
           12.98,
           166.74073723321334
          ],
          [
           "Baylor Scheierman",
           "BOS",
           2.49,
           14.994049072265614
          ],
          [
           "Ben Sheppard",
           "IND",
           2.66,
           18.576422669833757
          ],
          [
           "Bennedict Mathurin",
           "IND",
           7.25,
           45.01939970871498
          ],
          [
           "Blake Wesley",
           "SAS",
           2.62,
           77.50880190434346
          ],
          [
           "Bobi Klintman",
           "DET",
           1.26,
           78.26261974516369
          ],
          [
           "Brandin Podziemski",
           "GSW",
           3.52,
           342.25326993248683
          ],
          [
           "Brandon Miller",
           "CHA",
           11.42,
           119.21293121712011
          ],
          [
           "Bronny James",
           "LAL",
           1.16,
           27.78075604603209
          ],
          [
           "Buddy Hield",
           "GSW",
           8.78,
           10.188041026608555
          ],
          [
           "Caleb Houstan",
           "ORL",
           2.02,
           31.567126453512966
          ],
          [
           "Cam Christie",
           "LAC",
           1.16,
           77.505139646859
          ],
          [
           "Cam Reddish",
           "LAL",
           2.46,
           24.358549350645486
          ],
          [
           "Cam Thomas",
           "BKN",
           4.04,
           60.451230436268425
          ],
          [
           "Cam Whitmore",
           "HOU",
           3.38,
           22.297628391423878
          ],
          [
           "Cameron Payne",
           "NYK",
           2.09,
           437.07405710904794
          ],
          [
           "Cason Wallace",
           "OKC",
           5.56,
           11.490916862762239
          ],
          [
           "Charles Bassey",
           "SAS",
           2.09,
           69.64736737703024
          ],
          [
           "Chris Livingston",
           "MIL",
           1.89,
           15.063947344583184
          ],
          [
           "Christian Braun",
           "DEN",
           3.09,
           102.4068184269285
          ],
          [
           "Colby Jones",
           "WAS",
           2.12,
           21.22239706651219
          ],
          [
           "Cole Anthony",
           "MEM",
           12.9,
           15.517194880995635
          ],
          [
           "Cory Joseph",
           "ORL",
           3.3,
           17.492863626191117
          ],
          [
           "Craig Porter Jr.",
           "CLE",
           1.89,
           187.67434377518916
          ],
          [
           "D'Angelo Russell",
           "BKN",
           18.69,
           51.85981207572564
          ],
          [
           "DaQuan Jeffries",
           "CHA",
           3.08,
           13.629760680260594
          ],
          [
           "Dalano Banton",
           "POR",
           2.2,
           416.15910096602005
          ],
          [
           "Damion Lee",
           "PHX",
           2.09,
           11.614619715932461
          ],
          [
           "Daniel Theis",
           "NOP",
           2.09,
           62.46463693500136
          ],
          [
           "David Roddy",
           "HOU",
           2.85,
           23.560303135922076
          ],
          [
           "Day'Ron Sharpe",
           "BKN",
           3.99,
           31.230103342156657
          ],
          [
           "DeAndre Jordan",
           "DEN",
           2.09,
           74.27883650127211
          ],
          [
           "Delon Wright",
           "NYK",
           2.09,
           76.85551392404658
          ],
          [
           "Derrick Jones Jr.",
           "LAC",
           9.52,
           23.829921754468394
          ],
          [
           "Dillon Jones",
           "OKC",
           2.62,
           17.524106993930026
          ],
          [
           "Donovan Clingan",
           "POR",
           6.84,
           80.81273251806785
          ],
          [
           "Donte DiVincenzo",
           "MIN",
           11.45,
           21.9743870231262
          ],
          [
           "Doug McDermott",
           "SAC",
           2.09,
           30.671040293132297
          ],
          [
           "Duop Reath",
           "POR",
           2.05,
           73.0714658411538
          ],
          [
           "Dyson Daniels",
           "ATL",
           6.06,
           10.858006052451566
          ],
          [
           "E.J. Liddell",
           "CHI",
           0.71,
           422.1718801579006
          ],
          [
           "Evan Mobley",
           "CLE",
           11.23,
           168.592257002901
          ],
          [
           "Franz Wagner",
           "ORL",
           7.01,
           34.83952183526185
          ],
          [
           "Garrett Temple",
           "TOR",
           2.09,
           11.469731946881316
          ],
          [
           "Garrison Mathews",
           "ATL",
           2.23,
           76.9656450759135
          ],
          [
           "Gary Trent Jr.",
           "MIL",
           2.09,
           45.54314636157461
          ],
          [
           "Goga Bitadze",
           "ORL",
           9.06,
           10.29861357564694
          ],
          [
           "Gradey Dick",
           "TOR",
           4.76,
           30.910683078926155
          ],
          [
           "Grayson Allen",
           "PHX",
           15.62,
           34.2482450829578
          ],
          [
           "Guerschon Yabusele",
           "PHI",
           2.09,
           420.47939391797814
          ],
          [
           "Gui Santos",
           "GSW",
           1.89,
           90.37993496687956
          ],
          [
           "Isaiah Collier",
           "UTA",
           2.51,
           10.327751038084001
          ],
          [
           "Ivica Zubac",
           "LAC",
           11.74,
           101.4979308874075
          ],
          [
           "Jabari Smith Jr.",
           "HOU",
           9.77,
           20.18624445311001
          ],
          [
           "Jabari Walker",
           "POR",
           2.02,
           10.345099231984355
          ],
          [
           "Jaden Hardy",
           "DAL",
           2.02,
           64.56231032267655
          ],
          [
           "Jaime Jaquez Jr.",
           "MIA",
           3.69,
           18.138124626180346
          ],
          [
           "Jake LaRavia",
           "SAC",
           3.35,
           175.4913443949685
          ],
          [
           "Jalen Brunson",
           "NYK",
           24.96,
           12.971518284235243
          ],
          [
           "Jalen Duren",
           "DET",
           4.54,
           20.995233762631855
          ],
          [
           "Jalen Johnson",
           "ATL",
           4.51,
           73.32875279259524
          ],
          [
           "Jalen Pickett",
           "DEN",
           1.89,
           141.52876838805187
          ],
          [
           "Jalen Suggs",
           "ORL",
           9.19,
           265.45584328934734
          ],
          [
           "Jalen Williams",
           "OKC",
           4.78,
           416.56060637789284
          ],
          [
           "Jalen Wilson",
           "BKN",
           1.89,
           77.5581748397262
          ],
          [
           "Jamal Shead",
           "TOR",
           1.86,
           20.931812511977324
          ],
          [
           "James Harden",
           "LAC",
           33.65,
           19.29122902131896
          ],
          [
           "James Wiseman",
           "IND",
           2.24,
           25.807683382715485
          ],
          [
           "Jarace Walker",
           "IND",
           6.36,
           23.551559148344598
          ],
          [
           "Jared McCain",
           "PHI",
           4.02,
           93.58554289708685
          ],
          [
           "Javonte Green",
           "CLE",
           2.09,
           63.06634154616362
          ],
          [
           "Jaxson Hayes",
           "LAL",
           2.46,
           31.264178733515546
          ],
          [
           "Jay Huff",
           "MEM",
           2.09,
           112.18121907357394
          ],
          [
           "Jaylen Nowell",
           "NOP",
           0.28,
           815.5875444412229
          ],
          [
           "Jaylen Wells",
           "MEM",
           1.16,
           1058.0211540748332
          ],
          [
           "Jaylin Williams",
           "OKC",
           2.02,
           94.86098006220148
          ],
          [
           "Jeremy Sochan",
           "SAS",
           5.57,
           30.59735084136469
          ],
          [
           "Jericho Sims",
           "MIL",
           2.09,
           53.86567731793418
          ],
          [
           "Johnny Furphy",
           "IND",
           1.85,
           51.959677000303515
          ],
          [
           "Jonathan Kuminga",
           "GSW",
           7.64,
           37.163356960756
          ],
          [
           "Jonathan Mogbo",
           "TOR",
           1.86,
           83.52830281821629
          ],
          [
           "Jordan Hawkins",
           "NOP",
           4.53,
           20.7517051275729
          ],
          [
           "Jordan McLaughlin",
           "SAS",
           2.09,
           18.968783383164116
          ],
          [
           "Jordan Walsh",
           "BOS",
           1.89,
           38.58535302379145
          ],
          [
           "Jose Alvarado",
           "NOP",
           1.99,
           132.94381759873585
          ],
          [
           "Josh Minott",
           "MIN",
           2.02,
           38.964735635436405
          ],
          [
           "Julian Champagnie",
           "SAS",
           3,
           300.72711308797204
          ],
          [
           "Julian Phillips",
           "CHI",
           1.89,
           12.541188638677047
          ],
          [
           "Julian Strawther",
           "DEN",
           2.55,
           72.07508461148132
          ],
          [
           "Karlo Matković",
           "NOP",
           1.41,
           56.52954155671682
          ],
          [
           "Keegan Murray",
           "SAC",
           8.81,
           11.86043331219849
          ],
          [
           "Kel'el Ware",
           "MIA",
           4.23,
           242.4515059090111
          ],
          [
           "Kelly Oubre Jr.",
           "PHI",
           7.98,
           22.958580055332416
          ],
          [
           "Keon Ellis",
           "SAC",
           2.12,
           89.31094205604408
          ],
          [
           "Keon Johnson",
           "BKN",
           2.16,
           15.005826508557346
          ],
          [
           "Kevin Love",
           "MIA",
           3.85,
           57.554378757229095
          ],
          [
           "Keyonte George",
           "UTA",
           4.08,
           32.558299045936735
          ],
          [
           "Klay Thompson",
           "DAL",
           15.87,
           18.821005289405875
          ],
          [
           "Kris Dunn",
           "LAC",
           5.17,
           11.713935143712412
          ],
          [
           "Kris Murray",
           "POR",
           2.99,
           47.63441372874587
          ],
          [
           "Kyle Filipowski",
           "UTA",
           3,
           182.68578847249347
          ],
          [
           "Kyle Lowry",
           "PHI",
           2.09,
           87.48219503740376
          ],
          [
           "Kyshawn George",
           "WAS",
           2.83,
           30.949256276915854
          ],
          [
           "Lindy Waters III",
           "DET",
           2.2,
           138.05999755859372
          ],
          [
           "Luka Garza",
           "MIN",
           2.16,
           10.803997075116186
          ],
          [
           "Luke Kornet",
           "BOS",
           2.09,
           35.33957266921633
          ],
          [
           "Malevy Leons",
           "OKC",
           1.1,
           87.1872381730513
          ],
          [
           "Malik Beasley",
           "DET",
           6,
           13.88538678487142
          ],
          [
           "Marcus Sasser",
           "DET",
           2.76,
           94.2138913748921
          ],
          [
           "Mark Williams",
           "CHA",
           4.09,
           41.98882655584434
          ],
          [
           "Markieff Morris",
           "LAL",
           2.09,
           31.681490172609767
          ],
          [
           "Mason Plumlee",
           "PHX",
           2.09,
           51.52999658904008
          ],
          [
           "Matt Ryan",
           "NYK",
           0.62,
           145.85218198837774
          ],
          [
           "Max Christie",
           "DAL",
           7.14,
           87.41190934381567
          ],
          [
           "Maxwell Lewis",
           "BKN",
           1.89,
           32.321403140113475
          ],
          [
           "Mike Conley",
           "MIN",
           9.98,
           13.31442601695089
          ],
          [
           "Miles McBride",
           "NYK",
           4.71,
           32.72335068688525
          ],
          [
           "Mo Bamba",
           "NOP",
           2.09,
           91.31112897224976
          ],
          [
           "Moritz Wagner",
           "ORL",
           11,
           13.604198802601209
          ],
          [
           "Moses Brown",
           "DAL",
           0.31,
           434.1927851400068
          ],
          [
           "Moses Moody",
           "GSW",
           5.8,
           26.02932699795427
          ],
          [
           "Mouhamed Gueye",
           "ATL",
           1.89,
           114.57460191514758
          ],
          [
           "Neemias Queta",
           "BOS",
           2.16,
           28.718570426658342
          ],
          [
           "Nick Richards",
           "PHX",
           5,
           146.01083755493164
          ],
          [
           "Nick Smith Jr.",
           "CHA",
           2.59,
           12.64127193730771
          ],
          [
           "Nickeil Alexander-Walker",
           "MIN",
           4.31,
           30.124180610108
          ],
          [
           "Nikola Jović",
           "MIA",
           2.46,
           193.65669421064175
          ],
          [
           "Noah Clowney",
           "BKN",
           3.24,
           46.26279289339795
          ],
          [
           "Ochai Agbaji",
           "TOR",
           4.31,
           28.271806544328243
          ],
          [
           "Orlando Robinson",
           "TOR",
           2.09,
           10.174936540959562
          ],
          [
           "Oso Ighodaro",
           "PHX",
           1.16,
           199.13032877034155
          ],
          [
           "Paolo Banchero",
           "ORL",
           12.16,
           13.711239475952949
          ],
          [
           "Patrick Baldwin Jr.",
           "LAC",
           2.45,
           19.590992830237557
          ],
          [
           "Patty Mills",
           "LAC",
           2.09,
           29.606438595712483
          ],
          [
           "Paul Reed",
           "DET",
           2.49,
           149.66257164277224
          ],
          [
           "Pelle Larsson",
           "MIA",
           1.16,
           119.96859846443968
          ],
          [
           "Peyton Watson",
           "DEN",
           2.41,
           142.01565263676937
          ],
          [
           "Precious Achiuwa",
           "NYK",
           6,
           12.113006909688313
          ],
          [
           "Quentin Grimes",
           "PHI",
           4.3,
           49.370526158532435
          ],
          [
           "Rayan Rupert",
           "POR",
           1.89,
           22.28085250450821
          ],
          [
           "Ricky Council IV",
           "PHI",
           1.89,
           38.35076932553893
          ],
          [
           "Russell Westbrook",
           "DEN",
           5.63,
           16.114201384793382
          ],
          [
           "Russell Westbrook",
           "DEN",
           5.63,
           16.114201384793382
          ],
          [
           "Ryan Dunn",
           "PHX",
           2.53,
           66.68004951929389
          ],
          [
           "Ryan Rollins",
           "MIL",
           0.6,
           1004.0145556132
          ],
          [
           "Sam Hauser",
           "BOS",
           2.09,
           38.70301999543844
          ],
          [
           "Sam Merrill",
           "CLE",
           2.16,
           89.42289882236055
          ],
          [
           "Sandro Mamukelashvili",
           "SAS",
           2.09,
           84.3062200044331
          ],
          [
           "Santi Aldama",
           "MEM",
           3.96,
           74.8847479772086
          ],
          [
           "Scottie Barnes",
           "TOR",
           10.13,
           88.8258388929753
          ],
          [
           "Scotty Pippen Jr.",
           "MEM",
           2.09,
           43.85175476804306
          ],
          [
           "Shaedon Sharpe",
           "POR",
           6.61,
           50.39360288772928
          ],
          [
           "Shai Gilgeous-Alexander",
           "OKC",
           35.86,
           25.08064691274444
          ],
          [
           "Sidy Cissoko",
           "POR",
           1.89,
           25.890080890958277
          ],
          [
           "Spencer Dinwiddie",
           "DAL",
           2.09,
           660.836395920749
          ],
          [
           "Svi Mykhailiuk",
           "UTA",
           3.5,
           68.46908841814313
          ],
          [
           "Taj Gibson",
           "CHA",
           2.09,
           71.91783092809067
          ],
          [
           "Talen Horton-Tucker",
           "CHI",
           2.09,
           18.2858567488821
          ],
          [
           "Tari Eason",
           "HOU",
           3.7,
           31.797970952214417
          ],
          [
           "Taurean Prince",
           "MIL",
           2.09,
           367.587566832036
          ],
          [
           "Terrence Shannon Jr.",
           "MIN",
           2.55,
           23.55989568373737
          ],
          [
           "Thomas Bryant",
           "IND",
           2.09,
           133.16698211231872
          ],
          [
           "Torrey Craig",
           "BOS",
           2.85,
           26.802837639524224
          ],
          [
           "Toumani Camara",
           "POR",
           1.89,
           84.75828978119705
          ],
          [
           "Trayce Jackson-Davis",
           "GSW",
           1.89,
           76.61644668175431
          ],
          [
           "Trendon Watford",
           "BKN",
           2.73,
           36.225808671105916
          ],
          [
           "Trey Murphy III",
           "NOP",
           5.16,
           66.04318175204963
          ],
          [
           "Tristan Thompson",
           "CLE",
           2.09,
           14.477091428765847
          ],
          [
           "Ty Jerome",
           "CLE",
           2.56,
           64.19555991888046
          ],
          [
           "Tyler Smith",
           "MIL",
           1.16,
           117.92089116984401
          ],
          [
           "Tyus Jones",
           "PHX",
           2.09,
           69.00131006560258
          ],
          [
           "Victor Wembanyama",
           "SAS",
           12.77,
           11.193220038477483
          ],
          [
           "Vince Williams Jr.",
           "MEM",
           2.12,
           169.33024514396234
          ],
          [
           "Vlatko Čančar",
           "DEN",
           2.09,
           151.28734168823829
          ],
          [
           "Walker Kessler",
           "UTA",
           2.97,
           469.0432718707254
          ],
          [
           "Wendell Moore Jr.",
           "CHA",
           2.54,
           43.424507201187254
          ],
          [
           "Yves Missi",
           "NOP",
           3.19,
           266.57506769353694
          ],
          [
           "Zach Edey",
           "MEM",
           5.76,
           61.784506506390045
          ]
         ],
         "hovertemplate": "PERFORMANCE=Above Target<br>FTM=%{x}<br>PREDICTED_SALARY=%{y}<br>PLAYER_NAME=%{customdata[0]}<br>TEAM_ABBREVIATION=%{customdata[1]}<br>SALARY_CONDENSED=%{customdata[2]}<br>SALARY_PCT_CHANGE=%{customdata[3]}<extra></extra>",
         "legendgroup": "Above Target",
         "marker": {
          "color": "green",
          "symbol": "circle"
         },
         "mode": "markers",
         "name": "Above Target",
         "orientation": "v",
         "showlegend": true,
         "type": "scatter",
         "x": [
          74,
          67,
          38,
          8,
          296,
          169,
          12,
          108,
          321,
          9,
          24,
          276,
          38,
          1,
          72,
          68,
          11,
          53,
          15,
          2,
          16,
          133,
          54,
          49,
          30,
          21,
          12,
          177,
          23,
          93,
          14,
          23,
          121,
          24,
          91,
          20,
          31,
          20,
          56,
          27,
          15,
          83,
          17,
          62,
          49,
          3,
          20,
          83,
          2,
          221,
          271,
          11,
          64,
          78,
          85,
          133,
          93,
          100,
          29,
          105,
          156,
          104,
          49,
          60,
          107,
          78,
          368,
          162,
          94,
          6,
          97,
          236,
          135,
          53,
          505,
          2,
          46,
          49,
          55,
          61,
          44,
          7,
          111,
          23,
          87,
          8,
          18,
          157,
          60,
          80,
          17,
          7,
          60,
          17,
          85,
          60,
          74,
          34,
          60,
          46,
          139,
          73,
          107,
          16,
          233,
          67,
          15,
          26,
          93,
          27,
          70,
          8,
          24,
          67,
          2,
          95,
          43,
          131,
          5,
          83,
          2,
          130,
          7,
          81,
          52,
          19,
          79,
          8,
          106,
          32,
          46,
          119,
          43,
          92,
          72,
          67,
          34,
          54,
          29,
          280,
          2,
          13,
          32,
          41,
          95,
          41,
          162,
          23,
          123,
          154,
          154,
          19,
          36,
          11,
          28,
          43,
          65,
          228,
          122,
          190,
          601,
          3,
          195,
          28,
          12,
          72,
          79,
          39,
          17,
          55,
          8,
          91,
          59,
          93,
          204,
          7,
          129,
          6,
          51,
          158,
          19,
          0,
          79,
          18,
          127,
          90
         ],
         "xaxis": "x",
         "y": [
          11.593538,
          2.3336086,
          3.3080888,
          3.87088,
          6.2821074,
          11.344052,
          4.932069,
          4.2315106,
          34.622948,
          2.8633518,
          3.1541328,
          10.5139065,
          4.6507306,
          2.246109,
          15.567315,
          25.034117,
          1.4822568,
          9.67451,
          2.657656,
          2.0590596,
          3.0592203,
          6.4822297,
          4.13366,
          11.224848,
          6.198895,
          3.54563,
          2.1747086,
          6.2543707,
          2.5699148,
          14.901718,
          3.8772645,
          5.437045,
          28.382599,
          3.4997966,
          11.3555,
          2.3327456,
          3.395511,
          3.5214686,
          5.236081,
          3.6424277,
          3.6962802,
          11.788609,
          3.0791316,
          12.367591,
          13.966067,
          2.7310247,
          3.547965,
          6.717995,
          3.7074203,
          30.16291,
          9.4522505,
          2.3297174,
          3.946334,
          3.0418518,
          9.993054,
          6.2313485,
          20.969576,
          10.878019,
          3.5981808,
          2.7692266,
          23.655857,
          11.742196,
          2.228971,
          3.3241587,
          4.359297,
          9.22896,
          28.197691,
          5.4931836,
          7.8171268,
          4.5648937,
          33.585392,
          24.691597,
          3.3558495,
          2.2493317,
          40.1415,
          2.818092,
          7.857879,
          7.782139,
          3.4080865,
          3.2290988,
          4.4345875,
          2.5636451,
          13.433045,
          3.9361918,
          7.2742724,
          3.2157927,
          2.811254,
          10.47928,
          3.4136264,
          5.4700522,
          2.4864476,
          2.6192632,
          4.635582,
          2.8070877,
          12.021813,
          2.1270285,
          4.3879147,
          2.2070665,
          9.854904,
          14.485699,
          9.812095,
          4.013392,
          2.4841259,
          6.0658436,
          5.4083786,
          18.856894,
          5.7756104,
          4.414269,
          8.480574,
          3.9183779,
          3.705864,
          5.23732,
          2.3933663,
          2.828597,
          2.0590596,
          6.833123,
          5.3603034,
          5.807343,
          2.7521431,
          3.166977,
          1.5242835,
          13.38121,
          2.5008745,
          11.30878,
          6.25127,
          3.9984026,
          12.496462,
          1.6559976,
          7.309701,
          4.05546,
          2.7803211,
          12.300542,
          2.917409,
          5.608352,
          7.2239547,
          4.7389145,
          5.528515,
          2.3026562,
          3.4699118,
          13.827287,
          2.9299793,
          2.7087746,
          6.216598,
          2.5516357,
          5.832577,
          6.7267804,
          6.4229326,
          2.311108,
          2.6148295,
          6.5372295,
          6.5372295,
          4.2170053,
          6.6240873,
          2.898893,
          4.0915346,
          3.852,
          6.925436,
          19.128057,
          3.0065017,
          9.941017,
          44.85392,
          2.3793225,
          15.901481,
          5.896418,
          3.5930827,
          2.4721744,
          4.876525,
          9.77258,
          3.1507773,
          4.87319,
          3.6138809,
          3.4919317,
          3.3380508,
          3.7189646,
          8.567828,
          2.3925712,
          4.2034063,
          2.5278823,
          3.5321274,
          14.199374,
          5.709801,
          5.2519054,
          16.900585,
          3.6429825,
          11.693745,
          9.318788
         ],
         "yaxis": "y"
        }
       ],
       "layout": {
        "legend": {
         "title": {
          "text": "Performance"
         },
         "tracegroupgap": 0
        },
        "margin": {
         "t": 60
        },
        "paper_bgcolor": "black",
        "plot_bgcolor": "black",
        "template": {
         "data": {
          "bar": [
           {
            "error_x": {
             "color": "#f2f5fa"
            },
            "error_y": {
             "color": "#f2f5fa"
            },
            "marker": {
             "line": {
              "color": "rgb(17,17,17)",
              "width": 0.5
             },
             "pattern": {
              "fillmode": "overlay",
              "size": 10,
              "solidity": 0.2
             }
            },
            "type": "bar"
           }
          ],
          "barpolar": [
           {
            "marker": {
             "line": {
              "color": "rgb(17,17,17)",
              "width": 0.5
             },
             "pattern": {
              "fillmode": "overlay",
              "size": 10,
              "solidity": 0.2
             }
            },
            "type": "barpolar"
           }
          ],
          "carpet": [
           {
            "aaxis": {
             "endlinecolor": "#A2B1C6",
             "gridcolor": "#506784",
             "linecolor": "#506784",
             "minorgridcolor": "#506784",
             "startlinecolor": "#A2B1C6"
            },
            "baxis": {
             "endlinecolor": "#A2B1C6",
             "gridcolor": "#506784",
             "linecolor": "#506784",
             "minorgridcolor": "#506784",
             "startlinecolor": "#A2B1C6"
            },
            "type": "carpet"
           }
          ],
          "choropleth": [
           {
            "colorbar": {
             "outlinewidth": 0,
             "ticks": ""
            },
            "type": "choropleth"
           }
          ],
          "contour": [
           {
            "colorbar": {
             "outlinewidth": 0,
             "ticks": ""
            },
            "colorscale": [
             [
              0,
              "#0d0887"
             ],
             [
              0.1111111111111111,
              "#46039f"
             ],
             [
              0.2222222222222222,
              "#7201a8"
             ],
             [
              0.3333333333333333,
              "#9c179e"
             ],
             [
              0.4444444444444444,
              "#bd3786"
             ],
             [
              0.5555555555555556,
              "#d8576b"
             ],
             [
              0.6666666666666666,
              "#ed7953"
             ],
             [
              0.7777777777777778,
              "#fb9f3a"
             ],
             [
              0.8888888888888888,
              "#fdca26"
             ],
             [
              1,
              "#f0f921"
             ]
            ],
            "type": "contour"
           }
          ],
          "contourcarpet": [
           {
            "colorbar": {
             "outlinewidth": 0,
             "ticks": ""
            },
            "type": "contourcarpet"
           }
          ],
          "heatmap": [
           {
            "colorbar": {
             "outlinewidth": 0,
             "ticks": ""
            },
            "colorscale": [
             [
              0,
              "#0d0887"
             ],
             [
              0.1111111111111111,
              "#46039f"
             ],
             [
              0.2222222222222222,
              "#7201a8"
             ],
             [
              0.3333333333333333,
              "#9c179e"
             ],
             [
              0.4444444444444444,
              "#bd3786"
             ],
             [
              0.5555555555555556,
              "#d8576b"
             ],
             [
              0.6666666666666666,
              "#ed7953"
             ],
             [
              0.7777777777777778,
              "#fb9f3a"
             ],
             [
              0.8888888888888888,
              "#fdca26"
             ],
             [
              1,
              "#f0f921"
             ]
            ],
            "type": "heatmap"
           }
          ],
          "heatmapgl": [
           {
            "colorbar": {
             "outlinewidth": 0,
             "ticks": ""
            },
            "colorscale": [
             [
              0,
              "#0d0887"
             ],
             [
              0.1111111111111111,
              "#46039f"
             ],
             [
              0.2222222222222222,
              "#7201a8"
             ],
             [
              0.3333333333333333,
              "#9c179e"
             ],
             [
              0.4444444444444444,
              "#bd3786"
             ],
             [
              0.5555555555555556,
              "#d8576b"
             ],
             [
              0.6666666666666666,
              "#ed7953"
             ],
             [
              0.7777777777777778,
              "#fb9f3a"
             ],
             [
              0.8888888888888888,
              "#fdca26"
             ],
             [
              1,
              "#f0f921"
             ]
            ],
            "type": "heatmapgl"
           }
          ],
          "histogram": [
           {
            "marker": {
             "pattern": {
              "fillmode": "overlay",
              "size": 10,
              "solidity": 0.2
             }
            },
            "type": "histogram"
           }
          ],
          "histogram2d": [
           {
            "colorbar": {
             "outlinewidth": 0,
             "ticks": ""
            },
            "colorscale": [
             [
              0,
              "#0d0887"
             ],
             [
              0.1111111111111111,
              "#46039f"
             ],
             [
              0.2222222222222222,
              "#7201a8"
             ],
             [
              0.3333333333333333,
              "#9c179e"
             ],
             [
              0.4444444444444444,
              "#bd3786"
             ],
             [
              0.5555555555555556,
              "#d8576b"
             ],
             [
              0.6666666666666666,
              "#ed7953"
             ],
             [
              0.7777777777777778,
              "#fb9f3a"
             ],
             [
              0.8888888888888888,
              "#fdca26"
             ],
             [
              1,
              "#f0f921"
             ]
            ],
            "type": "histogram2d"
           }
          ],
          "histogram2dcontour": [
           {
            "colorbar": {
             "outlinewidth": 0,
             "ticks": ""
            },
            "colorscale": [
             [
              0,
              "#0d0887"
             ],
             [
              0.1111111111111111,
              "#46039f"
             ],
             [
              0.2222222222222222,
              "#7201a8"
             ],
             [
              0.3333333333333333,
              "#9c179e"
             ],
             [
              0.4444444444444444,
              "#bd3786"
             ],
             [
              0.5555555555555556,
              "#d8576b"
             ],
             [
              0.6666666666666666,
              "#ed7953"
             ],
             [
              0.7777777777777778,
              "#fb9f3a"
             ],
             [
              0.8888888888888888,
              "#fdca26"
             ],
             [
              1,
              "#f0f921"
             ]
            ],
            "type": "histogram2dcontour"
           }
          ],
          "mesh3d": [
           {
            "colorbar": {
             "outlinewidth": 0,
             "ticks": ""
            },
            "type": "mesh3d"
           }
          ],
          "parcoords": [
           {
            "line": {
             "colorbar": {
              "outlinewidth": 0,
              "ticks": ""
             }
            },
            "type": "parcoords"
           }
          ],
          "pie": [
           {
            "automargin": true,
            "type": "pie"
           }
          ],
          "scatter": [
           {
            "marker": {
             "line": {
              "color": "#283442"
             }
            },
            "type": "scatter"
           }
          ],
          "scatter3d": [
           {
            "line": {
             "colorbar": {
              "outlinewidth": 0,
              "ticks": ""
             }
            },
            "marker": {
             "colorbar": {
              "outlinewidth": 0,
              "ticks": ""
             }
            },
            "type": "scatter3d"
           }
          ],
          "scattercarpet": [
           {
            "marker": {
             "colorbar": {
              "outlinewidth": 0,
              "ticks": ""
             }
            },
            "type": "scattercarpet"
           }
          ],
          "scattergeo": [
           {
            "marker": {
             "colorbar": {
              "outlinewidth": 0,
              "ticks": ""
             }
            },
            "type": "scattergeo"
           }
          ],
          "scattergl": [
           {
            "marker": {
             "line": {
              "color": "#283442"
             }
            },
            "type": "scattergl"
           }
          ],
          "scattermapbox": [
           {
            "marker": {
             "colorbar": {
              "outlinewidth": 0,
              "ticks": ""
             }
            },
            "type": "scattermapbox"
           }
          ],
          "scatterpolar": [
           {
            "marker": {
             "colorbar": {
              "outlinewidth": 0,
              "ticks": ""
             }
            },
            "type": "scatterpolar"
           }
          ],
          "scatterpolargl": [
           {
            "marker": {
             "colorbar": {
              "outlinewidth": 0,
              "ticks": ""
             }
            },
            "type": "scatterpolargl"
           }
          ],
          "scatterternary": [
           {
            "marker": {
             "colorbar": {
              "outlinewidth": 0,
              "ticks": ""
             }
            },
            "type": "scatterternary"
           }
          ],
          "surface": [
           {
            "colorbar": {
             "outlinewidth": 0,
             "ticks": ""
            },
            "colorscale": [
             [
              0,
              "#0d0887"
             ],
             [
              0.1111111111111111,
              "#46039f"
             ],
             [
              0.2222222222222222,
              "#7201a8"
             ],
             [
              0.3333333333333333,
              "#9c179e"
             ],
             [
              0.4444444444444444,
              "#bd3786"
             ],
             [
              0.5555555555555556,
              "#d8576b"
             ],
             [
              0.6666666666666666,
              "#ed7953"
             ],
             [
              0.7777777777777778,
              "#fb9f3a"
             ],
             [
              0.8888888888888888,
              "#fdca26"
             ],
             [
              1,
              "#f0f921"
             ]
            ],
            "type": "surface"
           }
          ],
          "table": [
           {
            "cells": {
             "fill": {
              "color": "#506784"
             },
             "line": {
              "color": "rgb(17,17,17)"
             }
            },
            "header": {
             "fill": {
              "color": "#2a3f5f"
             },
             "line": {
              "color": "rgb(17,17,17)"
             }
            },
            "type": "table"
           }
          ]
         },
         "layout": {
          "annotationdefaults": {
           "arrowcolor": "#f2f5fa",
           "arrowhead": 0,
           "arrowwidth": 1
          },
          "autotypenumbers": "strict",
          "coloraxis": {
           "colorbar": {
            "outlinewidth": 0,
            "ticks": ""
           }
          },
          "colorscale": {
           "diverging": [
            [
             0,
             "#8e0152"
            ],
            [
             0.1,
             "#c51b7d"
            ],
            [
             0.2,
             "#de77ae"
            ],
            [
             0.3,
             "#f1b6da"
            ],
            [
             0.4,
             "#fde0ef"
            ],
            [
             0.5,
             "#f7f7f7"
            ],
            [
             0.6,
             "#e6f5d0"
            ],
            [
             0.7,
             "#b8e186"
            ],
            [
             0.8,
             "#7fbc41"
            ],
            [
             0.9,
             "#4d9221"
            ],
            [
             1,
             "#276419"
            ]
           ],
           "sequential": [
            [
             0,
             "#0d0887"
            ],
            [
             0.1111111111111111,
             "#46039f"
            ],
            [
             0.2222222222222222,
             "#7201a8"
            ],
            [
             0.3333333333333333,
             "#9c179e"
            ],
            [
             0.4444444444444444,
             "#bd3786"
            ],
            [
             0.5555555555555556,
             "#d8576b"
            ],
            [
             0.6666666666666666,
             "#ed7953"
            ],
            [
             0.7777777777777778,
             "#fb9f3a"
            ],
            [
             0.8888888888888888,
             "#fdca26"
            ],
            [
             1,
             "#f0f921"
            ]
           ],
           "sequentialminus": [
            [
             0,
             "#0d0887"
            ],
            [
             0.1111111111111111,
             "#46039f"
            ],
            [
             0.2222222222222222,
             "#7201a8"
            ],
            [
             0.3333333333333333,
             "#9c179e"
            ],
            [
             0.4444444444444444,
             "#bd3786"
            ],
            [
             0.5555555555555556,
             "#d8576b"
            ],
            [
             0.6666666666666666,
             "#ed7953"
            ],
            [
             0.7777777777777778,
             "#fb9f3a"
            ],
            [
             0.8888888888888888,
             "#fdca26"
            ],
            [
             1,
             "#f0f921"
            ]
           ]
          },
          "colorway": [
           "#636efa",
           "#EF553B",
           "#00cc96",
           "#ab63fa",
           "#FFA15A",
           "#19d3f3",
           "#FF6692",
           "#B6E880",
           "#FF97FF",
           "#FECB52"
          ],
          "font": {
           "color": "#f2f5fa"
          },
          "geo": {
           "bgcolor": "rgb(17,17,17)",
           "lakecolor": "rgb(17,17,17)",
           "landcolor": "rgb(17,17,17)",
           "showlakes": true,
           "showland": true,
           "subunitcolor": "#506784"
          },
          "hoverlabel": {
           "align": "left"
          },
          "hovermode": "closest",
          "mapbox": {
           "style": "dark"
          },
          "paper_bgcolor": "rgb(17,17,17)",
          "plot_bgcolor": "rgb(17,17,17)",
          "polar": {
           "angularaxis": {
            "gridcolor": "#506784",
            "linecolor": "#506784",
            "ticks": ""
           },
           "bgcolor": "rgb(17,17,17)",
           "radialaxis": {
            "gridcolor": "#506784",
            "linecolor": "#506784",
            "ticks": ""
           }
          },
          "scene": {
           "xaxis": {
            "backgroundcolor": "rgb(17,17,17)",
            "gridcolor": "#506784",
            "gridwidth": 2,
            "linecolor": "#506784",
            "showbackground": true,
            "ticks": "",
            "zerolinecolor": "#C8D4E3"
           },
           "yaxis": {
            "backgroundcolor": "rgb(17,17,17)",
            "gridcolor": "#506784",
            "gridwidth": 2,
            "linecolor": "#506784",
            "showbackground": true,
            "ticks": "",
            "zerolinecolor": "#C8D4E3"
           },
           "zaxis": {
            "backgroundcolor": "rgb(17,17,17)",
            "gridcolor": "#506784",
            "gridwidth": 2,
            "linecolor": "#506784",
            "showbackground": true,
            "ticks": "",
            "zerolinecolor": "#C8D4E3"
           }
          },
          "shapedefaults": {
           "line": {
            "color": "#f2f5fa"
           }
          },
          "sliderdefaults": {
           "bgcolor": "#C8D4E3",
           "bordercolor": "rgb(17,17,17)",
           "borderwidth": 1,
           "tickwidth": 0
          },
          "ternary": {
           "aaxis": {
            "gridcolor": "#506784",
            "linecolor": "#506784",
            "ticks": ""
           },
           "baxis": {
            "gridcolor": "#506784",
            "linecolor": "#506784",
            "ticks": ""
           },
           "bgcolor": "rgb(17,17,17)",
           "caxis": {
            "gridcolor": "#506784",
            "linecolor": "#506784",
            "ticks": ""
           }
          },
          "title": {
           "x": 0.05
          },
          "updatemenudefaults": {
           "bgcolor": "#506784",
           "borderwidth": 0
          },
          "xaxis": {
           "automargin": true,
           "gridcolor": "#283442",
           "linecolor": "#506784",
           "ticks": "",
           "title": {
            "standoff": 15
           },
           "zerolinecolor": "#283442",
           "zerolinewidth": 2
          },
          "yaxis": {
           "automargin": true,
           "gridcolor": "#283442",
           "linecolor": "#506784",
           "ticks": "",
           "title": {
            "standoff": 15
           },
           "zerolinecolor": "#283442",
           "zerolinewidth": 2
          }
         }
        },
        "title": {
         "text": "Active Players by FTM"
        },
        "xaxis": {
         "anchor": "y",
         "domain": [
          0,
          1
         ],
         "title": {
          "text": "Free Throws Made"
         }
        },
        "yaxis": {
         "anchor": "x",
         "domain": [
          0,
          1
         ],
         "title": {
          "text": "Predicted Salary (Millions)"
         }
        }
       }
      }
     },
     "metadata": {},
     "output_type": "display_data"
    }
   ],
   "source": [
    "import plotly.express as px\n",
    "target = 10\n",
    "# Map percent change to performance category\n",
    "def map_category(change):\n",
    "    if change > target:\n",
    "        return \"Above Target\"\n",
    "    elif change < -target:\n",
    "        return \"Below Target\"\n",
    "    else:\n",
    "        return \"On Target\"\n",
    "\n",
    "df[\"PERFORMANCE\"] = df[\"SALARY_PCT_CHANGE\"].apply(map_category)\n",
    "\n",
    "# Ensure teams are ordered ascending\n",
    "teams_sorted = sorted(df[\"TEAM_ABBREVIATION\"].unique())\n",
    "\n",
    "# Bubble plot\n",
    "fig = px.scatter(\n",
    "    df,\n",
    "    x=\"FTM\",\n",
    "    y=\"PREDICTED_SALARY\",\n",
    "    # size=\"PPG\",   # bubble size ~ points per game\n",
    "    color=\"PERFORMANCE\",\n",
    "    color_discrete_map={\n",
    "        \"Above Target\": \"green\",\n",
    "        \"On Target\": \"yellow\",\n",
    "        \"Below Target\": \"red\"\n",
    "    },\n",
    "    category_orders={\"TEAM_ABBREVIATION\": teams_sorted},  # enforce order\n",
    "    hover_data=[\"PLAYER_NAME\", \"TEAM_ABBREVIATION\", \"SALARY_CONDENSED\", \"PREDICTED_SALARY\", \"SALARY_PCT_CHANGE\"],\n",
    "    template=\"plotly_dark\"  # <-- dark theme\n",
    ")\n",
    "\n",
    "fig.update_layout(\n",
    "    title=\"Active Players by FTM\",\n",
    "    xaxis_title=\"Free Throws Made\",\n",
    "    yaxis_title=\"Predicted Salary (Millions)\",\n",
    "    legend_title=\"Performance\",\n",
    "    plot_bgcolor=\"black\",  # plot area\n",
    "    paper_bgcolor=\"black\"  # outer background\n",
    ")\n",
    "\n",
    "fig.show()\n",
    "fig.write_html('PerformanceByFTM.html')\n"
   ]
  },
  {
   "cell_type": "code",
   "execution_count": 13,
   "id": "0320b010",
   "metadata": {},
   "outputs": [
    {
     "data": {
      "application/vnd.plotly.v1+json": {
       "config": {
        "plotlyServerURL": "https://plot.ly"
       },
       "data": [
        {
         "customdata": [
          [
           "AJ Johnson",
           "WAS",
           2.8,
           7.422981943402979
          ],
          [
           "Aaron Gordon",
           "DEN",
           22.84,
           -3.626525464700942
          ],
          [
           "Aaron Nesmith",
           "IND",
           11,
           -9.644915840842506
          ],
          [
           "Al Horford",
           "BOS",
           9.5,
           4.682852092542147
          ],
          [
           "Alex Caruso",
           "OKC",
           9.89,
           -0.8844836536866525
          ],
          [
           "Alex Sarr",
           "WAS",
           11.25,
           5.828492906358507
          ],
          [
           "Amir Coffey",
           "LAC",
           3.94,
           1.393273639194858
          ],
          [
           "Andre Drummond",
           "PHI",
           5,
           5.684499740600586
          ],
          [
           "Andrew Wiggins",
           "MIA",
           26.28,
           -7.841929199125854
          ],
          [
           "Anfernee Simons",
           "POR",
           25.89,
           -2.132320882915854
          ],
          [
           "Anthony Black",
           "ORL",
           7.61,
           -0.7080418991509979
          ],
          [
           "Anthony Davis",
           "DAL",
           43.22,
           -2.2242604775982593
          ],
          [
           "Anthony Edwards",
           "MIN",
           42.18,
           -0.562065706935862
          ],
          [
           "Antonio Reeves",
           "NOP",
           1.16,
           1.2961617831526202
          ],
          [
           "Ausar Thompson",
           "DET",
           8.38,
           -5.114777048334026
          ],
          [
           "Ayo Dosunmu",
           "CHI",
           7,
           -3.252969469342913
          ],
          [
           "Bam Adebayo",
           "MIA",
           34.85,
           -3.0270350714838186
          ],
          [
           "Bilal Coulibaly",
           "WAS",
           6.95,
           -3.6680399942741144
          ],
          [
           "Bobby Portis",
           "MIL",
           12.58,
           -0.15289173217191282
          ],
          [
           "Bogdan Bogdanović",
           "LAC",
           17.26,
           -9.892165094510437
          ],
          [
           "Bones Hyland",
           "MIN",
           4.16,
           -6.3621461391449
          ],
          [
           "Bradley Beal",
           "PHX",
           50.2,
           -9.703182509220934
          ],
          [
           "Brice Sensabaugh",
           "UTA",
           2.57,
           -3.109992060679864
          ],
          [
           "Brook Lopez",
           "MIL",
           23,
           -3.7157058715820312
          ],
          [
           "CJ McCollum",
           "NOP",
           33.33,
           -5.375873509592165
          ],
          [
           "Cade Cunningham",
           "DET",
           13.94,
           5.255693411040344
          ],
          [
           "Caleb Martin",
           "DAL",
           8.15,
           -4.78197928586621
          ],
          [
           "Cameron Johnson",
           "BKN",
           22.5,
           6.103880140516493
          ],
          [
           "Caris LeVert",
           "ATL",
           16.62,
           0.7402101004883926
          ],
          [
           "Chet Holmgren",
           "OKC",
           10.88,
           -3.3047434161691176
          ],
          [
           "Chris Paul",
           "SAS",
           10.46,
           -4.49193330841357
          ],
          [
           "Coby White",
           "CHI",
           12,
           9.409658114115398
          ],
          [
           "Collin Sexton",
           "UTA",
           18.35,
           -2.1404796465216354
          ],
          [
           "Corey Kispert",
           "WAS",
           5.71,
           2.317863504439854
          ],
          [
           "Dalen Terry",
           "CHI",
           3.51,
           6.691791121436666
          ],
          [
           "Dalton Knecht",
           "LAL",
           3.82,
           -0.2776470483909685
          ],
          [
           "Daniel Gafford",
           "DAL",
           13.39,
           0.34885221314661286
          ],
          [
           "Darius Garland",
           "CLE",
           36.73,
           -1.1281359075623554
          ],
          [
           "Davion Mitchell",
           "MIA",
           6.45,
           -8.034206360809565
          ],
          [
           "De'Aaron Fox",
           "SAS",
           34.85,
           -1.6907745317543978
          ],
          [
           "DeMar DeRozan",
           "SAC",
           23.4,
           -0.9128472743890164
          ],
          [
           "Dean Wade",
           "CLE",
           6.17,
           -7.950651703622777
          ],
          [
           "Deandre Ayton",
           "POR",
           34.01,
           -6.674373573991904
          ],
          [
           "Dejounte Murray",
           "NOP",
           29.52,
           2.176459501106243
          ],
          [
           "Deni Avdija",
           "POR",
           15.62,
           3.931597955095636
          ],
          [
           "Dereck Lively II",
           "DAL",
           5.01,
           2.2414628141178623
          ],
          [
           "Derrick White",
           "BOS",
           20.07,
           0.8409900218619583
          ],
          [
           "Desmond Bane",
           "ORL",
           34.01,
           -4.733134591905408
          ],
          [
           "Devin Booker",
           "PHX",
           49.21,
           -4.582816831127123
          ],
          [
           "Devin Carter",
           "SAC",
           4.69,
           -7.128612624048432
          ],
          [
           "Devin Vassell",
           "SAS",
           29.35,
           -3.641383936295522
          ],
          [
           "Dillon Brooks",
           "HOU",
           22.26,
           -4.861227414250274
          ],
          [
           "Domantas Sabonis",
           "SAC",
           40.5,
           -0.21425412024980708
          ],
          [
           "Donovan Mitchell",
           "CLE",
           35.41,
           -1.086634345325287
          ],
          [
           "Draymond Green",
           "GSW",
           24.11,
           -5.5114122704814825
          ],
          [
           "Dwight Powell",
           "DAL",
           4,
           -1.0380268096923828
          ],
          [
           "Eric Gordon",
           "PHI",
           3.3,
           6.197819565281729
          ],
          [
           "Fred VanVleet",
           "HOU",
           42.85,
           -4.008222154864356
          ],
          [
           "Gary Payton II",
           "GSW",
           9.13,
           -9.921418406224337
          ],
          [
           "Georges Niang",
           "ATL",
           8.5,
           -1.6900904038373161
          ],
          [
           "Giannis Antetokounmpo",
           "MIL",
           48.79,
           -0.5315381499875085
          ],
          [
           "Grant Williams",
           "CHA",
           13.03,
           -8.113391785464279
          ],
          [
           "Harrison Barnes",
           "SAS",
           18,
           -3.7215762668185763
          ],
          [
           "Haywood Highsmith",
           "MIA",
           5.2,
           6.5214047065147955
          ],
          [
           "Hunter Tyson",
           "DEN",
           1.89,
           6.171098335710157
          ],
          [
           "Immanuel Quickley",
           "TOR",
           32.5,
           -7.598648071289063
          ],
          [
           "Isaiah Hartenstein",
           "OKC",
           30,
           -3.6045074462890625
          ],
          [
           "Isaiah Jackson",
           "IND",
           4.44,
           -1.424474544353322
          ],
          [
           "Ja Morant",
           "MEM",
           36.73,
           -5.752425553394271
          ],
          [
           "Ja'Kobe Walter",
           "TOR",
           3.46,
           3.1569249368127386
          ],
          [
           "Jaden Ivey",
           "DET",
           7.98,
           7.549437902923807
          ],
          [
           "Jaden McDaniels",
           "MIN",
           23.02,
           -6.425078364686277
          ],
          [
           "Jakob Poeltl",
           "TOR",
           19.5,
           1.6204344920622997
          ],
          [
           "Jalen Green",
           "HOU",
           12.48,
           4.000041118034947
          ],
          [
           "Jalen McDaniels",
           "WAS",
           4.74,
           -9.049549183262053
          ],
          [
           "Jamal Murray",
           "DEN",
           36.02,
           0.45345461017749683
          ],
          [
           "James Johnson",
           "IND",
           2.09,
           5.785867243862616
          ],
          [
           "Jaren Jackson Jr.",
           "MEM",
           25.26,
           0.35697562488787854
          ],
          [
           "Jarrett Allen",
           "CLE",
           20,
           1.8493938446044922
          ],
          [
           "Jaylen Brown",
           "BOS",
           49.7,
           -7.971280441437694
          ],
          [
           "Jaylon Tyson",
           "CLE",
           3.33,
           5.011978664913691
          ],
          [
           "Jayson Tatum",
           "BOS",
           34.85,
           2.1229923199033762
          ],
          [
           "Jerami Grant",
           "POR",
           29.79,
           -1.065051695691452
          ],
          [
           "Jeremiah Robinson-Earl",
           "NOP",
           2.2,
           2.5664264505559666
          ],
          [
           "Joe Ingles",
           "MIN",
           2.09,
           7.935296291369578
          ],
          [
           "Joel Embiid",
           "PHI",
           51.42,
           -2.6399565688926705
          ],
          [
           "John Collins",
           "UTA",
           26.58,
           -4.512580486954912
          ],
          [
           "Jonas Valančiūnas",
           "SAC",
           9.9,
           1.4334938742897692
          ],
          [
           "Jordan Clarkson",
           "UTA",
           14.09,
           -3.8666981682868773
          ],
          [
           "Jordan Poole",
           "WAS",
           29.65,
           -2.805083919737427
          ],
          [
           "Josh Giddey",
           "CHI",
           8.35,
           4.410182930038365
          ],
          [
           "Josh Hart",
           "NYK",
           18.14,
           -3.9329162900476793
          ],
          [
           "Josh Okogie",
           "CHA",
           8.25,
           -1.0161313143643464
          ],
          [
           "Josh Richardson",
           "MIA",
           3.05,
           -0.9381669466612711
          ],
          [
           "Jrue Holiday",
           "BOS",
           30,
           -7.1276601155598955
          ],
          [
           "Julius Randle",
           "MIN",
           33.07,
           -1.6798288756567519
          ],
          [
           "Jusuf Nurkić",
           "CHA",
           18.12,
           -4.315792698470704
          ],
          [
           "Karl-Anthony Towns",
           "NYK",
           49.21,
           -1.7453285718056242
          ],
          [
           "Kelly Olynyk",
           "NOP",
           12.8,
           4.2468920350074715
          ],
          [
           "Kenrich Williams",
           "OKC",
           6.67,
           -9.517718576777284
          ],
          [
           "Kentavious Caldwell-Pope",
           "MEM",
           22.76,
           -6.046294160383663
          ],
          [
           "Kevin Durant",
           "PHX",
           51.18,
           -3.031677508456672
          ],
          [
           "Kevon Looney",
           "GSW",
           8,
           0.4359126091003418
          ],
          [
           "Khris Middleton",
           "WAS",
           31.67,
           -6.130135153459386
          ],
          [
           "Kristaps Porziņģis",
           "BOS",
           29.27,
           -0.6662932442527264
          ],
          [
           "Kyrie Irving",
           "DAL",
           41,
           -2.7458377000762195
          ],
          [
           "LaMelo Ball",
           "CHA",
           35.15,
           -2.6743317735652963
          ],
          [
           "Lauri Markkanen",
           "UTA",
           42.18,
           -7.940321479605633
          ],
          [
           "LeBron James",
           "LAL",
           48.73,
           -0.4842240341189591
          ],
          [
           "Leonard Miller",
           "MIN",
           1.89,
           3.9271190683677766
          ],
          [
           "Malaki Branham",
           "SAS",
           3.22,
           -9.919663245633528
          ],
          [
           "Malik Monk",
           "SAC",
           17.41,
           5.78861050329148
          ],
          [
           "MarJon Beauchamp",
           "NYK",
           2.73,
           -2.3312352079174885
          ],
          [
           "Matas Buzelis",
           "CHI",
           5.2,
           -7.510353968693663
          ],
          [
           "Matisse Thybulle",
           "POR",
           11.03,
           -9.144373017879145
          ],
          [
           "Max Strus",
           "CLE",
           15.21,
           -5.558855105669076
          ],
          [
           "Michael Porter Jr.",
           "DEN",
           35.86,
           -1.488102552814982
          ],
          [
           "Miles Bridges",
           "CHA",
           27.17,
           -1.1930929723802164
          ],
          [
           "Mitchell Robinson",
           "NYK",
           14.32,
           -9.745128461102535
          ],
          [
           "Myles Turner",
           "IND",
           19.93,
           0.15587201384043514
          ],
          [
           "Naji Marshall",
           "DAL",
           8.57,
           5.6892368312199135
          ],
          [
           "Naz Reid",
           "MIN",
           13.99,
           -0.8858007904118191
          ],
          [
           "Nic Claxton",
           "BKN",
           27.56,
           -3.663661552617438
          ],
          [
           "Nikola Jokić",
           "DEN",
           51.42,
           -1.8875665119398188
          ],
          [
           "Nikola Vučević",
           "CHI",
           20,
           -0.8017826080322265
          ],
          [
           "Norman Powell",
           "LAC",
           19.24,
           7.7671308775205965
          ],
          [
           "OG Anunoby",
           "NYK",
           36.64,
           -5.799143179014782
          ],
          [
           "Obi Toppin",
           "IND",
           12.97,
           -6.664232887850423
          ],
          [
           "Olivier-Maxence Prosper",
           "DAL",
           2.87,
           -7.2986280461221655
          ],
          [
           "Onyeka Okongwu",
           "ATL",
           14,
           -0.1266411372593471
          ],
          [
           "Ousmane Dieng",
           "OKC",
           5.03,
           -3.912354653208682
          ],
          [
           "P.J. Washington",
           "DAL",
           15.5,
           -0.7580234158423639
          ],
          [
           "PJ Dozier",
           "MIN",
           2.09,
           0.20306235865543446
          ],
          [
           "Pascal Siakam",
           "IND",
           42.18,
           -0.010236918276211393
          ],
          [
           "Paul George",
           "PHI",
           49.21,
           -4.6537774870294415
          ],
          [
           "Payton Pritchard",
           "BOS",
           6.7,
           -5.649925345805156
          ],
          [
           "Reggie Jackson",
           "PHI",
           4.03,
           2.60590252746127
          ],
          [
           "Reggie Jackson",
           "PHI",
           4.03,
           2.60590252746127
          ],
          [
           "Royce O'Neale",
           "PHX",
           9.38,
           -0.597224611717509
          ],
          [
           "Rudy Gobert",
           "MIN",
           43.83,
           -7.1794249221067155
          ],
          [
           "Scoot Henderson",
           "POR",
           10.26,
           0.6671745642351613
          ],
          [
           "Stephen Curry",
           "GSW",
           55.76,
           -4.483921045552364
          ],
          [
           "Stephon Castle",
           "SAS",
           9.11,
           0.5836323508839508
          ],
          [
           "Steven Adams",
           "HOU",
           12.6,
           -5.719499739389568
          ],
          [
           "Terry Rozier",
           "MIA",
           24.92,
           -3.3661715291667775
          ],
          [
           "Tim Hardaway Jr.",
           "DET",
           16.19,
           -0.3172126944378843
          ],
          [
           "Trae Young",
           "ATL",
           43.03,
           -0.012529370066126568
          ],
          [
           "Tre Jones",
           "CHI",
           9.1,
           8.943865849421579
          ],
          [
           "Tre Mann",
           "CHA",
           4.91,
           8.375054027300985
          ],
          [
           "Tyler Herro",
           "MIA",
           29,
           2.306793475973195
          ],
          [
           "Tyler Kolek",
           "NYK",
           2.09,
           0.3413565421218575
          ],
          [
           "Tyrese Haliburton",
           "IND",
           42.18,
           -9.013727368083028
          ],
          [
           "Tyrese Maxey",
           "PHI",
           35.15,
           2.5026736523993196
          ],
          [
           "Vasilije Micić",
           "PHX",
           7.72,
           8.623035213490228
          ],
          [
           "Wendell Carter Jr.",
           "ORL",
           11.95,
           -4.246645492489861
          ],
          [
           "Ziaire Williams",
           "BKN",
           6.13,
           1.1132027157757078
          ],
          [
           "Zion Williamson",
           "NOP",
           36.73,
           -2.7013635882038187
          ]
         ],
         "hovertemplate": "PERFORMANCE=On Target<br>PTS=%{x}<br>PREDICTED_SALARY=%{y}<br>PLAYER_NAME=%{customdata[0]}<br>TEAM_ABBREVIATION=%{customdata[1]}<br>SALARY_CONDENSED=%{customdata[2]}<br>SALARY_PCT_CHANGE=%{customdata[3]}<extra></extra>",
         "legendgroup": "On Target",
         "marker": {
          "color": "yellow",
          "symbol": "circle"
         },
         "mode": "markers",
         "name": "On Target",
         "orientation": "v",
         "showlegend": true,
         "type": "scatter",
         "x": [
          220,
          748,
          541,
          538,
          382,
          869,
          696,
          293,
          1078,
          1348,
          736,
          1261,
          2177,
          305,
          594,
          566,
          1410,
          727,
          680,
          583,
          149,
          902,
          772,
          1041,
          1183,
          1830,
          356,
          1070,
          776,
          479,
          723,
          1509,
          1159,
          705,
          326,
          706,
          701,
          1544,
          588,
          1459,
          1710,
          320,
          576,
          542,
          1219,
          314,
          1248,
          1327,
          1923,
          138,
          1041,
          1053,
          1337,
          1701,
          613,
          114,
          266,
          844,
          400,
          784,
          2036,
          166,
          1011,
          478,
          134,
          564,
          637,
          35,
          1159,
          449,
          528,
          1000,
          824,
          1723,
          0,
          1436,
          8,
          1641,
          1103,
          1398,
          167,
          1932,
          677,
          418,
          15,
          452,
          758,
          843,
          600,
          1391,
          1022,
          1051,
          283,
          32,
          686,
          1288,
          453,
          1759,
          384,
          436,
          673,
          1647,
          344,
          440,
          818,
          1234,
          1184,
          892,
          1710,
          20,
          235,
          1117,
          79,
          688,
          112,
          471,
          1398,
          1300,
          87,
          1120,
          914,
          1138,
          724,
          2071,
          1349,
          1306,
          1332,
          833,
          201,
          988,
          142,
          836,
          7,
          1578,
          665,
          1144,
          136,
          136,
          680,
          866,
          837,
          1718,
          1190,
          225,
          679,
          844,
          1841,
          330,
          183,
          1840,
          81,
          1359,
          1369,
          269,
          618,
          632,
          737
         ],
         "xaxis": "x",
         "y": [
          3.0078435,
          22.011702,
          9.939059,
          9.944871,
          9.802525,
          11.905705,
          3.994895,
          5.284225,
          24.219141,
          25.337942,
          7.556118,
          42.258675,
          41.94292,
          1.1750355,
          7.9513817,
          6.772292,
          33.79508,
          6.695071,
          12.560766,
          15.552612,
          3.8953347,
          45.329002,
          2.4900732,
          22.145388,
          31.538221,
          14.672644,
          7.7602687,
          23.873373,
          16.743023,
          10.520444,
          9.990144,
          13.129159,
          17.957222,
          5.84235,
          3.7448819,
          3.809394,
          13.436711,
          36.315636,
          5.9317937,
          34.260765,
          23.186394,
          5.679445,
          31.740046,
          30.16249,
          16.234116,
          5.1222973,
          20.238787,
          32.40026,
          46.954796,
          4.355668,
          28.281254,
          21.17789,
          40.413227,
          35.025223,
          22.781199,
          3.958479,
          3.504528,
          41.132477,
          8.2241745,
          8.356342,
          48.530663,
          11.972825,
          17.330116,
          5.539113,
          2.0066338,
          30.03044,
          28.918648,
          4.3767533,
          34.617134,
          3.5692296,
          8.582445,
          21.540947,
          19.815985,
          12.979205,
          4.3110514,
          36.183334,
          2.2109246,
          25.350172,
          20.369879,
          45.738274,
          3.496899,
          35.589863,
          29.472721,
          2.2564614,
          2.2558477,
          50.062534,
          25.380556,
          10.041916,
          13.545182,
          28.818293,
          8.71825,
          17.426569,
          8.166169,
          3.021386,
          27.861702,
          32.51448,
          17.337978,
          48.351124,
          13.343602,
          6.035168,
          21.383863,
          49.628387,
          8.034873,
          29.728586,
          29.074976,
          39.874207,
          34.209972,
          38.830772,
          48.494038,
          1.9642226,
          2.9005868,
          18.417797,
          2.6663573,
          4.8094616,
          10.021376,
          14.364498,
          35.326366,
          26.845837,
          12.924498,
          19.961065,
          9.057568,
          13.866076,
          26.550295,
          50.449413,
          19.839643,
          20.734396,
          34.515194,
          12.105649,
          2.6605294,
          13.98227,
          4.8332086,
          15.382506,
          2.094244,
          42.175682,
          46.919876,
          6.321455,
          4.135018,
          4.135018,
          9.32398,
          40.683258,
          10.328452,
          53.259766,
          9.163169,
          11.879343,
          24.08115,
          16.138643,
          43.02461,
          9.913892,
          5.321215,
          29.66897,
          2.0971344,
          38.37801,
          36.02969,
          8.385698,
          11.442526,
          6.1982393,
          35.73779
         ],
         "yaxis": "y"
        },
        {
         "customdata": [
          [
           "Aaron Holiday",
           "HOU",
           4.67,
           -12.273439656488389
          ],
          [
           "Anthony Gill",
           "WAS",
           2.24,
           -84.76089510534491
          ],
          [
           "Ben Simmons",
           "LAC",
           40.34,
           -68.28017757266362
          ],
          [
           "Brandon Clarke",
           "MEM",
           12.5,
           -11.223106384277344
          ],
          [
           "Brandon Ingram",
           "TOR",
           36.02,
           -12.628796549388802
          ],
          [
           "Bruce Brown",
           "NOP",
           23,
           -70.51124158112898
          ],
          [
           "Chris Boucher",
           "TOR",
           10.81,
           -30.318493626935965
          ],
          [
           "Chris Duarte",
           "CHI",
           5.89,
           -16.840336318736565
          ],
          [
           "Clint Capela",
           "ATL",
           22.27,
           -15.404985665097382
          ],
          [
           "Cody Martin",
           "PHX",
           8.12,
           -12.562511237384054
          ],
          [
           "Cody Williams",
           "UTA",
           5.47,
           -49.376674631178055
          ],
          [
           "Damian Lillard",
           "MIL",
           48.79,
           -28.29935989020227
          ],
          [
           "Dario Šarić",
           "DEN",
           5.17,
           -16.467002558754306
          ],
          [
           "Dariq Whitehead",
           "BKN",
           3.11,
           -10.23417071130881
          ],
          [
           "De'Andre Hunter",
           "CLE",
           21.7,
           -22.89638958768361
          ],
          [
           "De'Anthony Melton",
           "BKN",
           12.82,
           -70.62260386724368
          ],
          [
           "Dennis Schröder",
           "DET",
           13.03,
           -12.453063707212618
          ],
          [
           "Dorian Finney-Smith",
           "LAL",
           14.92,
           -62.88819223562451
          ],
          [
           "Drew Eubanks",
           "LAC",
           5,
           -26.609678268432617
          ],
          [
           "Duncan Robinson",
           "MIA",
           19.41,
           -12.33949499115509
          ],
          [
           "Gabe Vincent",
           "LAL",
           11,
           -31.841148029674184
          ],
          [
           "Gary Harris",
           "ORL",
           7.5,
           -20.97710927327474
          ],
          [
           "Herbert Jones",
           "NOP",
           12.98,
           -28.308194517538254
          ],
          [
           "Isaac Okoro",
           "CLE",
           10.19,
           -53.68556021708151
          ],
          [
           "Isaiah Joe",
           "OKC",
           12.99,
           -11.030797980398836
          ],
          [
           "Isaiah Stewart",
           "DET",
           15,
           -34.533634185791016
          ],
          [
           "Jaden Springer",
           "UTA",
           4.02,
           -14.526974976952387
          ],
          [
           "Jae'Sean Tate",
           "HOU",
           7.57,
           -21.232447756486337
          ],
          [
           "Jalen Hood-Schifino",
           "PHI",
           3.88,
           -13.574094624863456
          ],
          [
           "Jalen Smith",
           "CHI",
           8.57,
           -16.375264821002478
          ],
          [
           "Jarred Vanderbilt",
           "LAL",
           10.71,
           -23.30969659999417
          ],
          [
           "Jeff Green",
           "HOU",
           8,
           -30.017709732055664
          ],
          [
           "Jett Howard",
           "ORL",
           5.28,
           -25.696217652523163
          ],
          [
           "Jevon Carter",
           "CHI",
           6.5,
           -17.20912639911358
          ],
          [
           "Jock Landale",
           "HOU",
           8,
           -14.918303489685059
          ],
          [
           "John Konchar",
           "MEM",
           6.17,
           -13.44780357768895
          ],
          [
           "Johnny Davis",
           "WAS",
           5.29,
           -54.822067953012386
          ],
          [
           "Johnny Juzang",
           "UTA",
           3.09,
           -17.248421888135393
          ],
          [
           "Jonathan Isaac",
           "ORL",
           25,
           -19.520774841308594
          ],
          [
           "Josh Green",
           "CHA",
           12.65,
           -19.854831318610273
          ],
          [
           "KJ Martin",
           "UTA",
           7.97,
           -28.577768907343575
          ],
          [
           "Kawhi Leonard",
           "LAC",
           49.21,
           -31.578059623794232
          ],
          [
           "Keldon Johnson",
           "SAS",
           19,
           -16.079967900326377
          ],
          [
           "Kevin Huerter",
           "CHI",
           16.83,
           -15.023742512585637
          ],
          [
           "Kevin Porter Jr.",
           "MIL",
           3.24,
           -13.744220027217164
          ],
          [
           "Kevin Porter Jr.",
           "MIL",
           3.24,
           -13.744220027217164
          ],
          [
           "Kobe Brown",
           "LAC",
           2.53,
           -20.393808085927844
          ],
          [
           "Kobe Bufkin",
           "ATL",
           4.3,
           -27.77765628903411
          ],
          [
           "Kyle Anderson",
           "MIA",
           8.78,
           -14.36274013649629
          ],
          [
           "Kyle Kuzma",
           "MIL",
           23.52,
           -10.31505623642279
          ],
          [
           "Larry Nance Jr.",
           "ATL",
           11.21,
           -21.74084754419795
          ],
          [
           "Lonzo Ball",
           "CHI",
           21.4,
           -20.48574608063029
          ],
          [
           "Luguentz Dort",
           "OKC",
           16.5,
           -45.39794921875
          ],
          [
           "Luka Dončić",
           "LAL",
           43.03,
           -14.3731136973614
          ],
          [
           "Luke Kennard",
           "MEM",
           9.25,
           -11.089716730891046
          ],
          [
           "Malcolm Brogdon",
           "WAS",
           22.5,
           -59.23818800184462
          ],
          [
           "Marcus Smart",
           "WAS",
           20.21,
           -16.121488983592208
          ],
          [
           "Marvin Bagley III",
           "MEM",
           12.5,
           -18.06456756591797
          ],
          [
           "Maxi Kleber",
           "LAL",
           11,
           -26.934458992697973
          ],
          [
           "Mikal Bridges",
           "NYK",
           23.3,
           -35.555564487440904
          ],
          [
           "Nicolas Batum",
           "LAC",
           4.67,
           -12.072085721589767
          ],
          [
           "P.J. Tucker",
           "NYK",
           11.54,
           -26.733598758690892
          ],
          [
           "Pat Connaughton",
           "MIL",
           9.42,
           -40.38176384701091
          ],
          [
           "Patrick Williams",
           "CHI",
           18,
           -23.254421022203235
          ],
          [
           "RJ Barrett",
           "TOR",
           25.79,
           -20.343929318875105
          ],
          [
           "Reed Sheppard",
           "HOU",
           10.1,
           -27.982811880583807
          ],
          [
           "Richaun Holmes",
           "WAS",
           12.65,
           -18.167717372004695
          ],
          [
           "Rob Dillingham",
           "MIN",
           6.26,
           -22.25482440985049
          ],
          [
           "Rui Hachimura",
           "LAL",
           17,
           -38.7941697064568
          ],
          [
           "Seth Curry",
           "CHA",
           2.09,
           -14.806818848021287
          ],
          [
           "Shake Milton",
           "LAL",
           2.88,
           -39.454959498511414
          ],
          [
           "Simone Fontecchio",
           "DET",
           7.69,
           -30.791172776637683
          ],
          [
           "T.J. McConnell",
           "IND",
           9.3,
           -16.558070849346866
          ],
          [
           "Taylor Hendricks",
           "UTA",
           5.85,
           -15.770188356057185
          ],
          [
           "Terance Mann",
           "ATL",
           11.42,
           -19.82807419972328
          ],
          [
           "Tidjane Salaün",
           "CHA",
           7.49,
           -22.492348145101673
          ],
          [
           "Tobias Harris",
           "DET",
           25.37,
           -10.243150517843729
          ],
          [
           "Trey Lyles",
           "SAC",
           8,
           -12.089920043945312
          ],
          [
           "Zaccharie Risacher",
           "ATL",
           12.57,
           -10.94098360460717
          ],
          [
           "Zach Collins",
           "CHI",
           16.74,
           -18.948194032074294
          ],
          [
           "Zach LaVine",
           "SAC",
           43.03,
           -37.378242629199924
          ],
          [
           "Zeke Nnaji",
           "DEN",
           8.89,
           -30.85336631543189
          ]
         ],
         "hovertemplate": "PERFORMANCE=Below Target<br>PTS=%{x}<br>PREDICTED_SALARY=%{y}<br>PLAYER_NAME=%{customdata[0]}<br>TEAM_ABBREVIATION=%{customdata[1]}<br>SALARY_CONDENSED=%{customdata[2]}<br>SALARY_PCT_CHANGE=%{customdata[3]}<extra></extra>",
         "legendgroup": "Below Target",
         "marker": {
          "color": "red",
          "symbol": "circle"
         },
         "mode": "markers",
         "name": "Below Target",
         "orientation": "v",
         "showlegend": true,
         "type": "scatter",
         "x": [
          340,
          129,
          256,
          534,
          400,
          340,
          502,
          36,
          488,
          358,
          230,
          1447,
          56,
          114,
          1088,
          62,
          980,
          549,
          280,
          817,
          460,
          145,
          205,
          337,
          756,
          435,
          109,
          188,
          106,
          524,
          147,
          172,
          267,
          153,
          200,
          112,
          80,
          571,
          380,
          506,
          274,
          796,
          979,
          681,
          771,
          771,
          77,
          53,
          357,
          964,
          203,
          267,
          719,
          1408,
          576,
          305,
          305,
          136,
          103,
          1444,
          313,
          9,
          216,
          566,
          1223,
          229,
          230,
          219,
          775,
          444,
          315,
          446,
          720,
          14,
          517,
          353,
          1002,
          451,
          942,
          407,
          1724,
          184
         ],
         "xaxis": "x",
         "y": [
          4.0968304,
          0.34135595,
          12.795776,
          11.097112,
          31.471107,
          6.7824144,
          7.532571,
          4.898104,
          18.83931,
          7.099924,
          2.769096,
          34.982742,
          4.318656,
          2.7917173,
          16.731483,
          3.7661822,
          11.407366,
          5.5370817,
          3.669516,
          17.014904,
          7.4974737,
          5.926717,
          9.305596,
          4.7194414,
          11.557099,
          9.819955,
          3.4360156,
          5.9627037,
          3.3533251,
          7.16664,
          8.2135315,
          5.598583,
          3.9232397,
          5.381407,
          6.8065357,
          5.3402705,
          2.3899126,
          2.5570238,
          20.119806,
          10.138364,
          5.692352,
          33.670437,
          15.944806,
          14.301504,
          2.7946873,
          2.7946873,
          2.0140367,
          3.1055608,
          7.5189514,
          21.093899,
          8.772851,
          17.01605,
          9.009338,
          36.84525,
          8.224201,
          9.171408,
          16.951847,
          10.241929,
          8.0372095,
          15.015553,
          4.1062336,
          8.454943,
          5.616038,
          13.814204,
          20.5433,
          7.273736,
          10.351784,
          4.866848,
          10.404991,
          1.7805375,
          1.7436972,
          5.322159,
          7.7600994,
          4.927444,
          9.155634,
          5.805323,
          22.771313,
          7.0328064,
          11.194718,
          13.568072,
          26.946142,
          6.1471357
         ],
         "yaxis": "y"
        },
        {
         "customdata": [
          [
           "Aaron Wiggins",
           "OKC",
           10.51,
           10.309593570901598
          ],
          [
           "Adem Bona",
           "PHI",
           1.16,
           101.17315752752899
          ],
          [
           "Alec Burks",
           "MIA",
           2.09,
           58.28175978227096
          ],
          [
           "Alex Len",
           "LAL",
           2.09,
           85.20956404471512
          ],
          [
           "Alperen Sengun",
           "HOU",
           5.42,
           15.90603972713006
          ],
          [
           "Amen Thompson",
           "HOU",
           9.25,
           22.63840340279244
          ],
          [
           "Andre Jackson Jr.",
           "MIL",
           1.89,
           160.95602247450088
          ],
          [
           "Andrew Nembhard",
           "IND",
           2.02,
           109.4807247124096
          ],
          [
           "Austin Reaves",
           "LAL",
           12.98,
           166.74073723321334
          ],
          [
           "Baylor Scheierman",
           "BOS",
           2.49,
           14.994049072265614
          ],
          [
           "Ben Sheppard",
           "IND",
           2.66,
           18.576422669833757
          ],
          [
           "Bennedict Mathurin",
           "IND",
           7.25,
           45.01939970871498
          ],
          [
           "Blake Wesley",
           "SAS",
           2.62,
           77.50880190434346
          ],
          [
           "Bobi Klintman",
           "DET",
           1.26,
           78.26261974516369
          ],
          [
           "Brandin Podziemski",
           "GSW",
           3.52,
           342.25326993248683
          ],
          [
           "Brandon Miller",
           "CHA",
           11.42,
           119.21293121712011
          ],
          [
           "Bronny James",
           "LAL",
           1.16,
           27.78075604603209
          ],
          [
           "Buddy Hield",
           "GSW",
           8.78,
           10.188041026608555
          ],
          [
           "Caleb Houstan",
           "ORL",
           2.02,
           31.567126453512966
          ],
          [
           "Cam Christie",
           "LAC",
           1.16,
           77.505139646859
          ],
          [
           "Cam Reddish",
           "LAL",
           2.46,
           24.358549350645486
          ],
          [
           "Cam Thomas",
           "BKN",
           4.04,
           60.451230436268425
          ],
          [
           "Cam Whitmore",
           "HOU",
           3.38,
           22.297628391423878
          ],
          [
           "Cameron Payne",
           "NYK",
           2.09,
           437.07405710904794
          ],
          [
           "Cason Wallace",
           "OKC",
           5.56,
           11.490916862762239
          ],
          [
           "Charles Bassey",
           "SAS",
           2.09,
           69.64736737703024
          ],
          [
           "Chris Livingston",
           "MIL",
           1.89,
           15.063947344583184
          ],
          [
           "Christian Braun",
           "DEN",
           3.09,
           102.4068184269285
          ],
          [
           "Colby Jones",
           "WAS",
           2.12,
           21.22239706651219
          ],
          [
           "Cole Anthony",
           "MEM",
           12.9,
           15.517194880995635
          ],
          [
           "Cory Joseph",
           "ORL",
           3.3,
           17.492863626191117
          ],
          [
           "Craig Porter Jr.",
           "CLE",
           1.89,
           187.67434377518916
          ],
          [
           "D'Angelo Russell",
           "BKN",
           18.69,
           51.85981207572564
          ],
          [
           "DaQuan Jeffries",
           "CHA",
           3.08,
           13.629760680260594
          ],
          [
           "Dalano Banton",
           "POR",
           2.2,
           416.15910096602005
          ],
          [
           "Damion Lee",
           "PHX",
           2.09,
           11.614619715932461
          ],
          [
           "Daniel Theis",
           "NOP",
           2.09,
           62.46463693500136
          ],
          [
           "David Roddy",
           "HOU",
           2.85,
           23.560303135922076
          ],
          [
           "Day'Ron Sharpe",
           "BKN",
           3.99,
           31.230103342156657
          ],
          [
           "DeAndre Jordan",
           "DEN",
           2.09,
           74.27883650127211
          ],
          [
           "Delon Wright",
           "NYK",
           2.09,
           76.85551392404658
          ],
          [
           "Derrick Jones Jr.",
           "LAC",
           9.52,
           23.829921754468394
          ],
          [
           "Dillon Jones",
           "OKC",
           2.62,
           17.524106993930026
          ],
          [
           "Donovan Clingan",
           "POR",
           6.84,
           80.81273251806785
          ],
          [
           "Donte DiVincenzo",
           "MIN",
           11.45,
           21.9743870231262
          ],
          [
           "Doug McDermott",
           "SAC",
           2.09,
           30.671040293132297
          ],
          [
           "Duop Reath",
           "POR",
           2.05,
           73.0714658411538
          ],
          [
           "Dyson Daniels",
           "ATL",
           6.06,
           10.858006052451566
          ],
          [
           "E.J. Liddell",
           "CHI",
           0.71,
           422.1718801579006
          ],
          [
           "Evan Mobley",
           "CLE",
           11.23,
           168.592257002901
          ],
          [
           "Franz Wagner",
           "ORL",
           7.01,
           34.83952183526185
          ],
          [
           "Garrett Temple",
           "TOR",
           2.09,
           11.469731946881316
          ],
          [
           "Garrison Mathews",
           "ATL",
           2.23,
           76.9656450759135
          ],
          [
           "Gary Trent Jr.",
           "MIL",
           2.09,
           45.54314636157461
          ],
          [
           "Goga Bitadze",
           "ORL",
           9.06,
           10.29861357564694
          ],
          [
           "Gradey Dick",
           "TOR",
           4.76,
           30.910683078926155
          ],
          [
           "Grayson Allen",
           "PHX",
           15.62,
           34.2482450829578
          ],
          [
           "Guerschon Yabusele",
           "PHI",
           2.09,
           420.47939391797814
          ],
          [
           "Gui Santos",
           "GSW",
           1.89,
           90.37993496687956
          ],
          [
           "Isaiah Collier",
           "UTA",
           2.51,
           10.327751038084001
          ],
          [
           "Ivica Zubac",
           "LAC",
           11.74,
           101.4979308874075
          ],
          [
           "Jabari Smith Jr.",
           "HOU",
           9.77,
           20.18624445311001
          ],
          [
           "Jabari Walker",
           "POR",
           2.02,
           10.345099231984355
          ],
          [
           "Jaden Hardy",
           "DAL",
           2.02,
           64.56231032267655
          ],
          [
           "Jaime Jaquez Jr.",
           "MIA",
           3.69,
           18.138124626180346
          ],
          [
           "Jake LaRavia",
           "SAC",
           3.35,
           175.4913443949685
          ],
          [
           "Jalen Brunson",
           "NYK",
           24.96,
           12.971518284235243
          ],
          [
           "Jalen Duren",
           "DET",
           4.54,
           20.995233762631855
          ],
          [
           "Jalen Johnson",
           "ATL",
           4.51,
           73.32875279259524
          ],
          [
           "Jalen Pickett",
           "DEN",
           1.89,
           141.52876838805187
          ],
          [
           "Jalen Suggs",
           "ORL",
           9.19,
           265.45584328934734
          ],
          [
           "Jalen Williams",
           "OKC",
           4.78,
           416.56060637789284
          ],
          [
           "Jalen Wilson",
           "BKN",
           1.89,
           77.5581748397262
          ],
          [
           "Jamal Shead",
           "TOR",
           1.86,
           20.931812511977324
          ],
          [
           "James Harden",
           "LAC",
           33.65,
           19.29122902131896
          ],
          [
           "James Wiseman",
           "IND",
           2.24,
           25.807683382715485
          ],
          [
           "Jarace Walker",
           "IND",
           6.36,
           23.551559148344598
          ],
          [
           "Jared McCain",
           "PHI",
           4.02,
           93.58554289708685
          ],
          [
           "Javonte Green",
           "CLE",
           2.09,
           63.06634154616362
          ],
          [
           "Jaxson Hayes",
           "LAL",
           2.46,
           31.264178733515546
          ],
          [
           "Jay Huff",
           "MEM",
           2.09,
           112.18121907357394
          ],
          [
           "Jaylen Nowell",
           "NOP",
           0.28,
           815.5875444412229
          ],
          [
           "Jaylen Wells",
           "MEM",
           1.16,
           1058.0211540748332
          ],
          [
           "Jaylin Williams",
           "OKC",
           2.02,
           94.86098006220148
          ],
          [
           "Jeremy Sochan",
           "SAS",
           5.57,
           30.59735084136469
          ],
          [
           "Jericho Sims",
           "MIL",
           2.09,
           53.86567731793418
          ],
          [
           "Johnny Furphy",
           "IND",
           1.85,
           51.959677000303515
          ],
          [
           "Jonathan Kuminga",
           "GSW",
           7.64,
           37.163356960756
          ],
          [
           "Jonathan Mogbo",
           "TOR",
           1.86,
           83.52830281821629
          ],
          [
           "Jordan Hawkins",
           "NOP",
           4.53,
           20.7517051275729
          ],
          [
           "Jordan McLaughlin",
           "SAS",
           2.09,
           18.968783383164116
          ],
          [
           "Jordan Walsh",
           "BOS",
           1.89,
           38.58535302379145
          ],
          [
           "Jose Alvarado",
           "NOP",
           1.99,
           132.94381759873585
          ],
          [
           "Josh Minott",
           "MIN",
           2.02,
           38.964735635436405
          ],
          [
           "Julian Champagnie",
           "SAS",
           3,
           300.72711308797204
          ],
          [
           "Julian Phillips",
           "CHI",
           1.89,
           12.541188638677047
          ],
          [
           "Julian Strawther",
           "DEN",
           2.55,
           72.07508461148132
          ],
          [
           "Karlo Matković",
           "NOP",
           1.41,
           56.52954155671682
          ],
          [
           "Keegan Murray",
           "SAC",
           8.81,
           11.86043331219849
          ],
          [
           "Kel'el Ware",
           "MIA",
           4.23,
           242.4515059090111
          ],
          [
           "Kelly Oubre Jr.",
           "PHI",
           7.98,
           22.958580055332416
          ],
          [
           "Keon Ellis",
           "SAC",
           2.12,
           89.31094205604408
          ],
          [
           "Keon Johnson",
           "BKN",
           2.16,
           15.005826508557346
          ],
          [
           "Kevin Love",
           "MIA",
           3.85,
           57.554378757229095
          ],
          [
           "Keyonte George",
           "UTA",
           4.08,
           32.558299045936735
          ],
          [
           "Klay Thompson",
           "DAL",
           15.87,
           18.821005289405875
          ],
          [
           "Kris Dunn",
           "LAC",
           5.17,
           11.713935143712412
          ],
          [
           "Kris Murray",
           "POR",
           2.99,
           47.63441372874587
          ],
          [
           "Kyle Filipowski",
           "UTA",
           3,
           182.68578847249347
          ],
          [
           "Kyle Lowry",
           "PHI",
           2.09,
           87.48219503740376
          ],
          [
           "Kyshawn George",
           "WAS",
           2.83,
           30.949256276915854
          ],
          [
           "Lindy Waters III",
           "DET",
           2.2,
           138.05999755859372
          ],
          [
           "Luka Garza",
           "MIN",
           2.16,
           10.803997075116186
          ],
          [
           "Luke Kornet",
           "BOS",
           2.09,
           35.33957266921633
          ],
          [
           "Malevy Leons",
           "OKC",
           1.1,
           87.1872381730513
          ],
          [
           "Malik Beasley",
           "DET",
           6,
           13.88538678487142
          ],
          [
           "Marcus Sasser",
           "DET",
           2.76,
           94.2138913748921
          ],
          [
           "Mark Williams",
           "CHA",
           4.09,
           41.98882655584434
          ],
          [
           "Markieff Morris",
           "LAL",
           2.09,
           31.681490172609767
          ],
          [
           "Mason Plumlee",
           "PHX",
           2.09,
           51.52999658904008
          ],
          [
           "Matt Ryan",
           "NYK",
           0.62,
           145.85218198837774
          ],
          [
           "Max Christie",
           "DAL",
           7.14,
           87.41190934381567
          ],
          [
           "Maxwell Lewis",
           "BKN",
           1.89,
           32.321403140113475
          ],
          [
           "Mike Conley",
           "MIN",
           9.98,
           13.31442601695089
          ],
          [
           "Miles McBride",
           "NYK",
           4.71,
           32.72335068688525
          ],
          [
           "Mo Bamba",
           "NOP",
           2.09,
           91.31112897224976
          ],
          [
           "Moritz Wagner",
           "ORL",
           11,
           13.604198802601209
          ],
          [
           "Moses Brown",
           "DAL",
           0.31,
           434.1927851400068
          ],
          [
           "Moses Moody",
           "GSW",
           5.8,
           26.02932699795427
          ],
          [
           "Mouhamed Gueye",
           "ATL",
           1.89,
           114.57460191514758
          ],
          [
           "Neemias Queta",
           "BOS",
           2.16,
           28.718570426658342
          ],
          [
           "Nick Richards",
           "PHX",
           5,
           146.01083755493164
          ],
          [
           "Nick Smith Jr.",
           "CHA",
           2.59,
           12.64127193730771
          ],
          [
           "Nickeil Alexander-Walker",
           "MIN",
           4.31,
           30.124180610108
          ],
          [
           "Nikola Jović",
           "MIA",
           2.46,
           193.65669421064175
          ],
          [
           "Noah Clowney",
           "BKN",
           3.24,
           46.26279289339795
          ],
          [
           "Ochai Agbaji",
           "TOR",
           4.31,
           28.271806544328243
          ],
          [
           "Orlando Robinson",
           "TOR",
           2.09,
           10.174936540959562
          ],
          [
           "Oso Ighodaro",
           "PHX",
           1.16,
           199.13032877034155
          ],
          [
           "Paolo Banchero",
           "ORL",
           12.16,
           13.711239475952949
          ],
          [
           "Patrick Baldwin Jr.",
           "LAC",
           2.45,
           19.590992830237557
          ],
          [
           "Patty Mills",
           "LAC",
           2.09,
           29.606438595712483
          ],
          [
           "Paul Reed",
           "DET",
           2.49,
           149.66257164277224
          ],
          [
           "Pelle Larsson",
           "MIA",
           1.16,
           119.96859846443968
          ],
          [
           "Peyton Watson",
           "DEN",
           2.41,
           142.01565263676937
          ],
          [
           "Precious Achiuwa",
           "NYK",
           6,
           12.113006909688313
          ],
          [
           "Quentin Grimes",
           "PHI",
           4.3,
           49.370526158532435
          ],
          [
           "Rayan Rupert",
           "POR",
           1.89,
           22.28085250450821
          ],
          [
           "Ricky Council IV",
           "PHI",
           1.89,
           38.35076932553893
          ],
          [
           "Russell Westbrook",
           "DEN",
           5.63,
           16.114201384793382
          ],
          [
           "Russell Westbrook",
           "DEN",
           5.63,
           16.114201384793382
          ],
          [
           "Ryan Dunn",
           "PHX",
           2.53,
           66.68004951929389
          ],
          [
           "Ryan Rollins",
           "MIL",
           0.6,
           1004.0145556132
          ],
          [
           "Sam Hauser",
           "BOS",
           2.09,
           38.70301999543844
          ],
          [
           "Sam Merrill",
           "CLE",
           2.16,
           89.42289882236055
          ],
          [
           "Sandro Mamukelashvili",
           "SAS",
           2.09,
           84.3062200044331
          ],
          [
           "Santi Aldama",
           "MEM",
           3.96,
           74.8847479772086
          ],
          [
           "Scottie Barnes",
           "TOR",
           10.13,
           88.8258388929753
          ],
          [
           "Scotty Pippen Jr.",
           "MEM",
           2.09,
           43.85175476804306
          ],
          [
           "Shaedon Sharpe",
           "POR",
           6.61,
           50.39360288772928
          ],
          [
           "Shai Gilgeous-Alexander",
           "OKC",
           35.86,
           25.08064691274444
          ],
          [
           "Sidy Cissoko",
           "POR",
           1.89,
           25.890080890958277
          ],
          [
           "Spencer Dinwiddie",
           "DAL",
           2.09,
           660.836395920749
          ],
          [
           "Svi Mykhailiuk",
           "UTA",
           3.5,
           68.46908841814313
          ],
          [
           "Taj Gibson",
           "CHA",
           2.09,
           71.91783092809067
          ],
          [
           "Talen Horton-Tucker",
           "CHI",
           2.09,
           18.2858567488821
          ],
          [
           "Tari Eason",
           "HOU",
           3.7,
           31.797970952214417
          ],
          [
           "Taurean Prince",
           "MIL",
           2.09,
           367.587566832036
          ],
          [
           "Terrence Shannon Jr.",
           "MIN",
           2.55,
           23.55989568373737
          ],
          [
           "Thomas Bryant",
           "IND",
           2.09,
           133.16698211231872
          ],
          [
           "Torrey Craig",
           "BOS",
           2.85,
           26.802837639524224
          ],
          [
           "Toumani Camara",
           "POR",
           1.89,
           84.75828978119705
          ],
          [
           "Trayce Jackson-Davis",
           "GSW",
           1.89,
           76.61644668175431
          ],
          [
           "Trendon Watford",
           "BKN",
           2.73,
           36.225808671105916
          ],
          [
           "Trey Murphy III",
           "NOP",
           5.16,
           66.04318175204963
          ],
          [
           "Tristan Thompson",
           "CLE",
           2.09,
           14.477091428765847
          ],
          [
           "Ty Jerome",
           "CLE",
           2.56,
           64.19555991888046
          ],
          [
           "Tyler Smith",
           "MIL",
           1.16,
           117.92089116984401
          ],
          [
           "Tyus Jones",
           "PHX",
           2.09,
           69.00131006560258
          ],
          [
           "Victor Wembanyama",
           "SAS",
           12.77,
           11.193220038477483
          ],
          [
           "Vince Williams Jr.",
           "MEM",
           2.12,
           169.33024514396234
          ],
          [
           "Vlatko Čančar",
           "DEN",
           2.09,
           151.28734168823829
          ],
          [
           "Walker Kessler",
           "UTA",
           2.97,
           469.0432718707254
          ],
          [
           "Wendell Moore Jr.",
           "CHA",
           2.54,
           43.424507201187254
          ],
          [
           "Yves Missi",
           "NOP",
           3.19,
           266.57506769353694
          ],
          [
           "Zach Edey",
           "MEM",
           5.76,
           61.784506506390045
          ]
         ],
         "hovertemplate": "PERFORMANCE=Above Target<br>PTS=%{x}<br>PREDICTED_SALARY=%{y}<br>PLAYER_NAME=%{customdata[0]}<br>TEAM_ABBREVIATION=%{customdata[1]}<br>SALARY_CONDENSED=%{customdata[2]}<br>SALARY_PCT_CHANGE=%{customdata[3]}<extra></extra>",
         "legendgroup": "Above Target",
         "marker": {
          "color": "green",
          "symbol": "circle"
         },
         "mode": "markers",
         "name": "Above Target",
         "orientation": "v",
         "showlegend": true,
         "type": "scatter",
         "x": [
          914,
          337,
          356,
          74,
          1451,
          970,
          230,
          653,
          1475,
          113,
          332,
          1156,
          217,
          15,
          747,
          568,
          62,
          912,
          239,
          18,
          105,
          599,
          477,
          500,
          568,
          157,
          30,
          1218,
          157,
          630,
          177,
          188,
          732,
          315,
          559,
          83,
          162,
          153,
          397,
          209,
          125,
          781,
          135,
          436,
          723,
          147,
          194,
          1073,
          21,
          1316,
          1449,
          53,
          353,
          824,
          502,
          777,
          680,
          768,
          227,
          615,
          1340,
          698,
          313,
          496,
          570,
          458,
          1690,
          918,
          680,
          200,
          567,
          1490,
          749,
          533,
          1802,
          6,
          461,
          352,
          347,
          383,
          439,
          67,
          823,
          278,
          617,
          98,
          103,
          719,
          389,
          604,
          98,
          82,
          579,
          119,
          815,
          366,
          588,
          325,
          942,
          595,
          906,
          666,
          839,
          122,
          1125,
          1005,
          474,
          287,
          690,
          138,
          590,
          256,
          138,
          441,
          2,
          1336,
          375,
          671,
          56,
          333,
          28,
          749,
          116,
          582,
          611,
          138,
          386,
          76,
          724,
          197,
          310,
          529,
          591,
          773,
          494,
          420,
          667,
          303,
          255,
          1191,
          53,
          111,
          184,
          251,
          551,
          379,
          1092,
          155,
          532,
          994,
          994,
          511,
          349,
          605,
          509,
          385,
          811,
          1252,
          779,
          1335,
          2484,
          32,
          872,
          334,
          107,
          379,
          686,
          656,
          138,
          429,
          108,
          882,
          407,
          450,
          1124,
          69,
          878,
          67,
          829,
          1116,
          179,
          24,
          641,
          150,
          665,
          610
         ],
         "xaxis": "x",
         "y": [
          11.593538,
          2.3336086,
          3.3080888,
          3.87088,
          6.2821074,
          11.344052,
          4.932069,
          4.2315106,
          34.622948,
          2.8633518,
          3.1541328,
          10.5139065,
          4.6507306,
          2.246109,
          15.567315,
          25.034117,
          1.4822568,
          9.67451,
          2.657656,
          2.0590596,
          3.0592203,
          6.4822297,
          4.13366,
          11.224848,
          6.198895,
          3.54563,
          2.1747086,
          6.2543707,
          2.5699148,
          14.901718,
          3.8772645,
          5.437045,
          28.382599,
          3.4997966,
          11.3555,
          2.3327456,
          3.395511,
          3.5214686,
          5.236081,
          3.6424277,
          3.6962802,
          11.788609,
          3.0791316,
          12.367591,
          13.966067,
          2.7310247,
          3.547965,
          6.717995,
          3.7074203,
          30.16291,
          9.4522505,
          2.3297174,
          3.946334,
          3.0418518,
          9.993054,
          6.2313485,
          20.969576,
          10.878019,
          3.5981808,
          2.7692266,
          23.655857,
          11.742196,
          2.228971,
          3.3241587,
          4.359297,
          9.22896,
          28.197691,
          5.4931836,
          7.8171268,
          4.5648937,
          33.585392,
          24.691597,
          3.3558495,
          2.2493317,
          40.1415,
          2.818092,
          7.857879,
          7.782139,
          3.4080865,
          3.2290988,
          4.4345875,
          2.5636451,
          13.433045,
          3.9361918,
          7.2742724,
          3.2157927,
          2.811254,
          10.47928,
          3.4136264,
          5.4700522,
          2.4864476,
          2.6192632,
          4.635582,
          2.8070877,
          12.021813,
          2.1270285,
          4.3879147,
          2.2070665,
          9.854904,
          14.485699,
          9.812095,
          4.013392,
          2.4841259,
          6.0658436,
          5.4083786,
          18.856894,
          5.7756104,
          4.414269,
          8.480574,
          3.9183779,
          3.705864,
          5.23732,
          2.3933663,
          2.828597,
          2.0590596,
          6.833123,
          5.3603034,
          5.807343,
          2.7521431,
          3.166977,
          1.5242835,
          13.38121,
          2.5008745,
          11.30878,
          6.25127,
          3.9984026,
          12.496462,
          1.6559976,
          7.309701,
          4.05546,
          2.7803211,
          12.300542,
          2.917409,
          5.608352,
          7.2239547,
          4.7389145,
          5.528515,
          2.3026562,
          3.4699118,
          13.827287,
          2.9299793,
          2.7087746,
          6.216598,
          2.5516357,
          5.832577,
          6.7267804,
          6.4229326,
          2.311108,
          2.6148295,
          6.5372295,
          6.5372295,
          4.2170053,
          6.6240873,
          2.898893,
          4.0915346,
          3.852,
          6.925436,
          19.128057,
          3.0065017,
          9.941017,
          44.85392,
          2.3793225,
          15.901481,
          5.896418,
          3.5930827,
          2.4721744,
          4.876525,
          9.77258,
          3.1507773,
          4.87319,
          3.6138809,
          3.4919317,
          3.3380508,
          3.7189646,
          8.567828,
          2.3925712,
          4.2034063,
          2.5278823,
          3.5321274,
          14.199374,
          5.709801,
          5.2519054,
          16.900585,
          3.6429825,
          11.693745,
          9.318788
         ],
         "yaxis": "y"
        }
       ],
       "layout": {
        "legend": {
         "title": {
          "text": "Performance"
         },
         "tracegroupgap": 0
        },
        "margin": {
         "t": 60
        },
        "paper_bgcolor": "black",
        "plot_bgcolor": "black",
        "template": {
         "data": {
          "bar": [
           {
            "error_x": {
             "color": "#f2f5fa"
            },
            "error_y": {
             "color": "#f2f5fa"
            },
            "marker": {
             "line": {
              "color": "rgb(17,17,17)",
              "width": 0.5
             },
             "pattern": {
              "fillmode": "overlay",
              "size": 10,
              "solidity": 0.2
             }
            },
            "type": "bar"
           }
          ],
          "barpolar": [
           {
            "marker": {
             "line": {
              "color": "rgb(17,17,17)",
              "width": 0.5
             },
             "pattern": {
              "fillmode": "overlay",
              "size": 10,
              "solidity": 0.2
             }
            },
            "type": "barpolar"
           }
          ],
          "carpet": [
           {
            "aaxis": {
             "endlinecolor": "#A2B1C6",
             "gridcolor": "#506784",
             "linecolor": "#506784",
             "minorgridcolor": "#506784",
             "startlinecolor": "#A2B1C6"
            },
            "baxis": {
             "endlinecolor": "#A2B1C6",
             "gridcolor": "#506784",
             "linecolor": "#506784",
             "minorgridcolor": "#506784",
             "startlinecolor": "#A2B1C6"
            },
            "type": "carpet"
           }
          ],
          "choropleth": [
           {
            "colorbar": {
             "outlinewidth": 0,
             "ticks": ""
            },
            "type": "choropleth"
           }
          ],
          "contour": [
           {
            "colorbar": {
             "outlinewidth": 0,
             "ticks": ""
            },
            "colorscale": [
             [
              0,
              "#0d0887"
             ],
             [
              0.1111111111111111,
              "#46039f"
             ],
             [
              0.2222222222222222,
              "#7201a8"
             ],
             [
              0.3333333333333333,
              "#9c179e"
             ],
             [
              0.4444444444444444,
              "#bd3786"
             ],
             [
              0.5555555555555556,
              "#d8576b"
             ],
             [
              0.6666666666666666,
              "#ed7953"
             ],
             [
              0.7777777777777778,
              "#fb9f3a"
             ],
             [
              0.8888888888888888,
              "#fdca26"
             ],
             [
              1,
              "#f0f921"
             ]
            ],
            "type": "contour"
           }
          ],
          "contourcarpet": [
           {
            "colorbar": {
             "outlinewidth": 0,
             "ticks": ""
            },
            "type": "contourcarpet"
           }
          ],
          "heatmap": [
           {
            "colorbar": {
             "outlinewidth": 0,
             "ticks": ""
            },
            "colorscale": [
             [
              0,
              "#0d0887"
             ],
             [
              0.1111111111111111,
              "#46039f"
             ],
             [
              0.2222222222222222,
              "#7201a8"
             ],
             [
              0.3333333333333333,
              "#9c179e"
             ],
             [
              0.4444444444444444,
              "#bd3786"
             ],
             [
              0.5555555555555556,
              "#d8576b"
             ],
             [
              0.6666666666666666,
              "#ed7953"
             ],
             [
              0.7777777777777778,
              "#fb9f3a"
             ],
             [
              0.8888888888888888,
              "#fdca26"
             ],
             [
              1,
              "#f0f921"
             ]
            ],
            "type": "heatmap"
           }
          ],
          "heatmapgl": [
           {
            "colorbar": {
             "outlinewidth": 0,
             "ticks": ""
            },
            "colorscale": [
             [
              0,
              "#0d0887"
             ],
             [
              0.1111111111111111,
              "#46039f"
             ],
             [
              0.2222222222222222,
              "#7201a8"
             ],
             [
              0.3333333333333333,
              "#9c179e"
             ],
             [
              0.4444444444444444,
              "#bd3786"
             ],
             [
              0.5555555555555556,
              "#d8576b"
             ],
             [
              0.6666666666666666,
              "#ed7953"
             ],
             [
              0.7777777777777778,
              "#fb9f3a"
             ],
             [
              0.8888888888888888,
              "#fdca26"
             ],
             [
              1,
              "#f0f921"
             ]
            ],
            "type": "heatmapgl"
           }
          ],
          "histogram": [
           {
            "marker": {
             "pattern": {
              "fillmode": "overlay",
              "size": 10,
              "solidity": 0.2
             }
            },
            "type": "histogram"
           }
          ],
          "histogram2d": [
           {
            "colorbar": {
             "outlinewidth": 0,
             "ticks": ""
            },
            "colorscale": [
             [
              0,
              "#0d0887"
             ],
             [
              0.1111111111111111,
              "#46039f"
             ],
             [
              0.2222222222222222,
              "#7201a8"
             ],
             [
              0.3333333333333333,
              "#9c179e"
             ],
             [
              0.4444444444444444,
              "#bd3786"
             ],
             [
              0.5555555555555556,
              "#d8576b"
             ],
             [
              0.6666666666666666,
              "#ed7953"
             ],
             [
              0.7777777777777778,
              "#fb9f3a"
             ],
             [
              0.8888888888888888,
              "#fdca26"
             ],
             [
              1,
              "#f0f921"
             ]
            ],
            "type": "histogram2d"
           }
          ],
          "histogram2dcontour": [
           {
            "colorbar": {
             "outlinewidth": 0,
             "ticks": ""
            },
            "colorscale": [
             [
              0,
              "#0d0887"
             ],
             [
              0.1111111111111111,
              "#46039f"
             ],
             [
              0.2222222222222222,
              "#7201a8"
             ],
             [
              0.3333333333333333,
              "#9c179e"
             ],
             [
              0.4444444444444444,
              "#bd3786"
             ],
             [
              0.5555555555555556,
              "#d8576b"
             ],
             [
              0.6666666666666666,
              "#ed7953"
             ],
             [
              0.7777777777777778,
              "#fb9f3a"
             ],
             [
              0.8888888888888888,
              "#fdca26"
             ],
             [
              1,
              "#f0f921"
             ]
            ],
            "type": "histogram2dcontour"
           }
          ],
          "mesh3d": [
           {
            "colorbar": {
             "outlinewidth": 0,
             "ticks": ""
            },
            "type": "mesh3d"
           }
          ],
          "parcoords": [
           {
            "line": {
             "colorbar": {
              "outlinewidth": 0,
              "ticks": ""
             }
            },
            "type": "parcoords"
           }
          ],
          "pie": [
           {
            "automargin": true,
            "type": "pie"
           }
          ],
          "scatter": [
           {
            "marker": {
             "line": {
              "color": "#283442"
             }
            },
            "type": "scatter"
           }
          ],
          "scatter3d": [
           {
            "line": {
             "colorbar": {
              "outlinewidth": 0,
              "ticks": ""
             }
            },
            "marker": {
             "colorbar": {
              "outlinewidth": 0,
              "ticks": ""
             }
            },
            "type": "scatter3d"
           }
          ],
          "scattercarpet": [
           {
            "marker": {
             "colorbar": {
              "outlinewidth": 0,
              "ticks": ""
             }
            },
            "type": "scattercarpet"
           }
          ],
          "scattergeo": [
           {
            "marker": {
             "colorbar": {
              "outlinewidth": 0,
              "ticks": ""
             }
            },
            "type": "scattergeo"
           }
          ],
          "scattergl": [
           {
            "marker": {
             "line": {
              "color": "#283442"
             }
            },
            "type": "scattergl"
           }
          ],
          "scattermapbox": [
           {
            "marker": {
             "colorbar": {
              "outlinewidth": 0,
              "ticks": ""
             }
            },
            "type": "scattermapbox"
           }
          ],
          "scatterpolar": [
           {
            "marker": {
             "colorbar": {
              "outlinewidth": 0,
              "ticks": ""
             }
            },
            "type": "scatterpolar"
           }
          ],
          "scatterpolargl": [
           {
            "marker": {
             "colorbar": {
              "outlinewidth": 0,
              "ticks": ""
             }
            },
            "type": "scatterpolargl"
           }
          ],
          "scatterternary": [
           {
            "marker": {
             "colorbar": {
              "outlinewidth": 0,
              "ticks": ""
             }
            },
            "type": "scatterternary"
           }
          ],
          "surface": [
           {
            "colorbar": {
             "outlinewidth": 0,
             "ticks": ""
            },
            "colorscale": [
             [
              0,
              "#0d0887"
             ],
             [
              0.1111111111111111,
              "#46039f"
             ],
             [
              0.2222222222222222,
              "#7201a8"
             ],
             [
              0.3333333333333333,
              "#9c179e"
             ],
             [
              0.4444444444444444,
              "#bd3786"
             ],
             [
              0.5555555555555556,
              "#d8576b"
             ],
             [
              0.6666666666666666,
              "#ed7953"
             ],
             [
              0.7777777777777778,
              "#fb9f3a"
             ],
             [
              0.8888888888888888,
              "#fdca26"
             ],
             [
              1,
              "#f0f921"
             ]
            ],
            "type": "surface"
           }
          ],
          "table": [
           {
            "cells": {
             "fill": {
              "color": "#506784"
             },
             "line": {
              "color": "rgb(17,17,17)"
             }
            },
            "header": {
             "fill": {
              "color": "#2a3f5f"
             },
             "line": {
              "color": "rgb(17,17,17)"
             }
            },
            "type": "table"
           }
          ]
         },
         "layout": {
          "annotationdefaults": {
           "arrowcolor": "#f2f5fa",
           "arrowhead": 0,
           "arrowwidth": 1
          },
          "autotypenumbers": "strict",
          "coloraxis": {
           "colorbar": {
            "outlinewidth": 0,
            "ticks": ""
           }
          },
          "colorscale": {
           "diverging": [
            [
             0,
             "#8e0152"
            ],
            [
             0.1,
             "#c51b7d"
            ],
            [
             0.2,
             "#de77ae"
            ],
            [
             0.3,
             "#f1b6da"
            ],
            [
             0.4,
             "#fde0ef"
            ],
            [
             0.5,
             "#f7f7f7"
            ],
            [
             0.6,
             "#e6f5d0"
            ],
            [
             0.7,
             "#b8e186"
            ],
            [
             0.8,
             "#7fbc41"
            ],
            [
             0.9,
             "#4d9221"
            ],
            [
             1,
             "#276419"
            ]
           ],
           "sequential": [
            [
             0,
             "#0d0887"
            ],
            [
             0.1111111111111111,
             "#46039f"
            ],
            [
             0.2222222222222222,
             "#7201a8"
            ],
            [
             0.3333333333333333,
             "#9c179e"
            ],
            [
             0.4444444444444444,
             "#bd3786"
            ],
            [
             0.5555555555555556,
             "#d8576b"
            ],
            [
             0.6666666666666666,
             "#ed7953"
            ],
            [
             0.7777777777777778,
             "#fb9f3a"
            ],
            [
             0.8888888888888888,
             "#fdca26"
            ],
            [
             1,
             "#f0f921"
            ]
           ],
           "sequentialminus": [
            [
             0,
             "#0d0887"
            ],
            [
             0.1111111111111111,
             "#46039f"
            ],
            [
             0.2222222222222222,
             "#7201a8"
            ],
            [
             0.3333333333333333,
             "#9c179e"
            ],
            [
             0.4444444444444444,
             "#bd3786"
            ],
            [
             0.5555555555555556,
             "#d8576b"
            ],
            [
             0.6666666666666666,
             "#ed7953"
            ],
            [
             0.7777777777777778,
             "#fb9f3a"
            ],
            [
             0.8888888888888888,
             "#fdca26"
            ],
            [
             1,
             "#f0f921"
            ]
           ]
          },
          "colorway": [
           "#636efa",
           "#EF553B",
           "#00cc96",
           "#ab63fa",
           "#FFA15A",
           "#19d3f3",
           "#FF6692",
           "#B6E880",
           "#FF97FF",
           "#FECB52"
          ],
          "font": {
           "color": "#f2f5fa"
          },
          "geo": {
           "bgcolor": "rgb(17,17,17)",
           "lakecolor": "rgb(17,17,17)",
           "landcolor": "rgb(17,17,17)",
           "showlakes": true,
           "showland": true,
           "subunitcolor": "#506784"
          },
          "hoverlabel": {
           "align": "left"
          },
          "hovermode": "closest",
          "mapbox": {
           "style": "dark"
          },
          "paper_bgcolor": "rgb(17,17,17)",
          "plot_bgcolor": "rgb(17,17,17)",
          "polar": {
           "angularaxis": {
            "gridcolor": "#506784",
            "linecolor": "#506784",
            "ticks": ""
           },
           "bgcolor": "rgb(17,17,17)",
           "radialaxis": {
            "gridcolor": "#506784",
            "linecolor": "#506784",
            "ticks": ""
           }
          },
          "scene": {
           "xaxis": {
            "backgroundcolor": "rgb(17,17,17)",
            "gridcolor": "#506784",
            "gridwidth": 2,
            "linecolor": "#506784",
            "showbackground": true,
            "ticks": "",
            "zerolinecolor": "#C8D4E3"
           },
           "yaxis": {
            "backgroundcolor": "rgb(17,17,17)",
            "gridcolor": "#506784",
            "gridwidth": 2,
            "linecolor": "#506784",
            "showbackground": true,
            "ticks": "",
            "zerolinecolor": "#C8D4E3"
           },
           "zaxis": {
            "backgroundcolor": "rgb(17,17,17)",
            "gridcolor": "#506784",
            "gridwidth": 2,
            "linecolor": "#506784",
            "showbackground": true,
            "ticks": "",
            "zerolinecolor": "#C8D4E3"
           }
          },
          "shapedefaults": {
           "line": {
            "color": "#f2f5fa"
           }
          },
          "sliderdefaults": {
           "bgcolor": "#C8D4E3",
           "bordercolor": "rgb(17,17,17)",
           "borderwidth": 1,
           "tickwidth": 0
          },
          "ternary": {
           "aaxis": {
            "gridcolor": "#506784",
            "linecolor": "#506784",
            "ticks": ""
           },
           "baxis": {
            "gridcolor": "#506784",
            "linecolor": "#506784",
            "ticks": ""
           },
           "bgcolor": "rgb(17,17,17)",
           "caxis": {
            "gridcolor": "#506784",
            "linecolor": "#506784",
            "ticks": ""
           }
          },
          "title": {
           "x": 0.05
          },
          "updatemenudefaults": {
           "bgcolor": "#506784",
           "borderwidth": 0
          },
          "xaxis": {
           "automargin": true,
           "gridcolor": "#283442",
           "linecolor": "#506784",
           "ticks": "",
           "title": {
            "standoff": 15
           },
           "zerolinecolor": "#283442",
           "zerolinewidth": 2
          },
          "yaxis": {
           "automargin": true,
           "gridcolor": "#283442",
           "linecolor": "#506784",
           "ticks": "",
           "title": {
            "standoff": 15
           },
           "zerolinecolor": "#283442",
           "zerolinewidth": 2
          }
         }
        },
        "title": {
         "text": "Active Players by PTS"
        },
        "xaxis": {
         "anchor": "y",
         "domain": [
          0,
          1
         ],
         "title": {
          "text": "PTS"
         }
        },
        "yaxis": {
         "anchor": "x",
         "domain": [
          0,
          1
         ],
         "title": {
          "text": "Predicted Salary (Millions)"
         }
        }
       }
      }
     },
     "metadata": {},
     "output_type": "display_data"
    }
   ],
   "source": [
    "import plotly.express as px\n",
    "target = 10\n",
    "# Map percent change to performance category\n",
    "def map_category(change):\n",
    "    if change > target:\n",
    "        return \"Above Target\"\n",
    "    elif change < -target:\n",
    "        return \"Below Target\"\n",
    "    else:\n",
    "        return \"On Target\"\n",
    "\n",
    "df[\"PERFORMANCE\"] = df[\"SALARY_PCT_CHANGE\"].apply(map_category)\n",
    "\n",
    "# Ensure teams are ordered ascending\n",
    "teams_sorted = sorted(df[\"TEAM_ABBREVIATION\"].unique())\n",
    "\n",
    "# Bubble plot\n",
    "fig = px.scatter(\n",
    "    df,\n",
    "    x=\"PTS\",\n",
    "    y=\"PREDICTED_SALARY\",\n",
    "    # size=\"PPG\",   # bubble size ~ points per game\n",
    "    color=\"PERFORMANCE\",\n",
    "    color_discrete_map={\n",
    "        \"Above Target\": \"green\",\n",
    "        \"On Target\": \"yellow\",\n",
    "        \"Below Target\": \"red\"\n",
    "    },\n",
    "    category_orders={\"TEAM_ABBREVIATION\": teams_sorted},  # enforce order\n",
    "    hover_data=[\"PLAYER_NAME\", \"TEAM_ABBREVIATION\", \"SALARY_CONDENSED\", \"PREDICTED_SALARY\", \"SALARY_PCT_CHANGE\"],\n",
    "    template=\"plotly_dark\"  # <-- dark theme\n",
    ")\n",
    "\n",
    "fig.update_layout(\n",
    "    title=\"Active Players by PTS\",\n",
    "    xaxis_title=\"PTS\",\n",
    "    yaxis_title=\"Predicted Salary (Millions)\",\n",
    "    legend_title=\"Performance\",\n",
    "    plot_bgcolor=\"black\",  # plot area\n",
    "    paper_bgcolor=\"black\"  # outer background\n",
    ")\n",
    "\n",
    "fig.show()\n",
    "fig.write_html('PerformanceByPTS.html')\n"
   ]
  },
  {
   "cell_type": "code",
   "execution_count": 12,
   "id": "bd3e8c87",
   "metadata": {},
   "outputs": [
    {
     "data": {
      "text/html": [
       "<div>\n",
       "<style scoped>\n",
       "    .dataframe tbody tr th:only-of-type {\n",
       "        vertical-align: middle;\n",
       "    }\n",
       "\n",
       "    .dataframe tbody tr th {\n",
       "        vertical-align: top;\n",
       "    }\n",
       "\n",
       "    .dataframe thead th {\n",
       "        text-align: right;\n",
       "    }\n",
       "</style>\n",
       "<table border=\"1\" class=\"dataframe\">\n",
       "  <thead>\n",
       "    <tr style=\"text-align: right;\">\n",
       "      <th></th>\n",
       "      <th>Features</th>\n",
       "      <th>Importances</th>\n",
       "    </tr>\n",
       "  </thead>\n",
       "  <tbody>\n",
       "    <tr>\n",
       "      <th>9</th>\n",
       "      <td>FTM_RANK</td>\n",
       "      <td>0.261408</td>\n",
       "    </tr>\n",
       "    <tr>\n",
       "      <th>2</th>\n",
       "      <td>FGA_RANK</td>\n",
       "      <td>0.120118</td>\n",
       "    </tr>\n",
       "    <tr>\n",
       "      <th>1</th>\n",
       "      <td>PTS_RANK</td>\n",
       "      <td>0.101476</td>\n",
       "    </tr>\n",
       "    <tr>\n",
       "      <th>18</th>\n",
       "      <td>DD2_RANK</td>\n",
       "      <td>0.050709</td>\n",
       "    </tr>\n",
       "    <tr>\n",
       "      <th>15</th>\n",
       "      <td>BLKA_RANK</td>\n",
       "      <td>0.039002</td>\n",
       "    </tr>\n",
       "    <tr>\n",
       "      <th>7</th>\n",
       "      <td>FGM_RANK</td>\n",
       "      <td>0.036369</td>\n",
       "    </tr>\n",
       "    <tr>\n",
       "      <th>25</th>\n",
       "      <td>GP_RANK</td>\n",
       "      <td>0.036343</td>\n",
       "    </tr>\n",
       "    <tr>\n",
       "      <th>13</th>\n",
       "      <td>AST_RANK</td>\n",
       "      <td>0.035357</td>\n",
       "    </tr>\n",
       "    <tr>\n",
       "      <th>12</th>\n",
       "      <td>TOV_RANK</td>\n",
       "      <td>0.031711</td>\n",
       "    </tr>\n",
       "    <tr>\n",
       "      <th>8</th>\n",
       "      <td>WNBA_FANTASY_PTS_RANK</td>\n",
       "      <td>0.031528</td>\n",
       "    </tr>\n",
       "    <tr>\n",
       "      <th>11</th>\n",
       "      <td>FTA_RANK</td>\n",
       "      <td>0.022108</td>\n",
       "    </tr>\n",
       "    <tr>\n",
       "      <th>22</th>\n",
       "      <td>BLK_RANK</td>\n",
       "      <td>0.019919</td>\n",
       "    </tr>\n",
       "    <tr>\n",
       "      <th>26</th>\n",
       "      <td>FT_PCT_RANK</td>\n",
       "      <td>0.019627</td>\n",
       "    </tr>\n",
       "    <tr>\n",
       "      <th>4</th>\n",
       "      <td>MIN_RANK</td>\n",
       "      <td>0.017836</td>\n",
       "    </tr>\n",
       "    <tr>\n",
       "      <th>10</th>\n",
       "      <td>PFD_RANK</td>\n",
       "      <td>0.016283</td>\n",
       "    </tr>\n",
       "    <tr>\n",
       "      <th>14</th>\n",
       "      <td>DREB_RANK</td>\n",
       "      <td>0.015972</td>\n",
       "    </tr>\n",
       "    <tr>\n",
       "      <th>21</th>\n",
       "      <td>PF_RANK</td>\n",
       "      <td>0.014837</td>\n",
       "    </tr>\n",
       "    <tr>\n",
       "      <th>27</th>\n",
       "      <td>TD3_RANK</td>\n",
       "      <td>0.014598</td>\n",
       "    </tr>\n",
       "    <tr>\n",
       "      <th>23</th>\n",
       "      <td>OREB_RANK</td>\n",
       "      <td>0.013773</td>\n",
       "    </tr>\n",
       "    <tr>\n",
       "      <th>29</th>\n",
       "      <td>W_PCT_RANK</td>\n",
       "      <td>0.013134</td>\n",
       "    </tr>\n",
       "    <tr>\n",
       "      <th>3</th>\n",
       "      <td>PLUS_MINUS_RANK</td>\n",
       "      <td>0.011167</td>\n",
       "    </tr>\n",
       "    <tr>\n",
       "      <th>19</th>\n",
       "      <td>FG3A_RANK</td>\n",
       "      <td>0.009925</td>\n",
       "    </tr>\n",
       "    <tr>\n",
       "      <th>20</th>\n",
       "      <td>FG3M_RANK</td>\n",
       "      <td>0.009896</td>\n",
       "    </tr>\n",
       "    <tr>\n",
       "      <th>6</th>\n",
       "      <td>FG_PCT_RANK</td>\n",
       "      <td>0.009261</td>\n",
       "    </tr>\n",
       "    <tr>\n",
       "      <th>17</th>\n",
       "      <td>REB_RANK</td>\n",
       "      <td>0.009183</td>\n",
       "    </tr>\n",
       "    <tr>\n",
       "      <th>16</th>\n",
       "      <td>STL_RANK</td>\n",
       "      <td>0.009082</td>\n",
       "    </tr>\n",
       "    <tr>\n",
       "      <th>5</th>\n",
       "      <td>FG3_PCT_RANK</td>\n",
       "      <td>0.008781</td>\n",
       "    </tr>\n",
       "    <tr>\n",
       "      <th>28</th>\n",
       "      <td>L_RANK</td>\n",
       "      <td>0.007877</td>\n",
       "    </tr>\n",
       "    <tr>\n",
       "      <th>24</th>\n",
       "      <td>W_RANK</td>\n",
       "      <td>0.006656</td>\n",
       "    </tr>\n",
       "    <tr>\n",
       "      <th>0</th>\n",
       "      <td>NBA_FANTASY_PTS_RANK</td>\n",
       "      <td>0.006065</td>\n",
       "    </tr>\n",
       "  </tbody>\n",
       "</table>\n",
       "</div>"
      ],
      "text/plain": [
       "                 Features  Importances\n",
       "9                FTM_RANK     0.261408\n",
       "2                FGA_RANK     0.120118\n",
       "1                PTS_RANK     0.101476\n",
       "18               DD2_RANK     0.050709\n",
       "15              BLKA_RANK     0.039002\n",
       "7                FGM_RANK     0.036369\n",
       "25                GP_RANK     0.036343\n",
       "13               AST_RANK     0.035357\n",
       "12               TOV_RANK     0.031711\n",
       "8   WNBA_FANTASY_PTS_RANK     0.031528\n",
       "11               FTA_RANK     0.022108\n",
       "22               BLK_RANK     0.019919\n",
       "26            FT_PCT_RANK     0.019627\n",
       "4                MIN_RANK     0.017836\n",
       "10               PFD_RANK     0.016283\n",
       "14              DREB_RANK     0.015972\n",
       "21                PF_RANK     0.014837\n",
       "27               TD3_RANK     0.014598\n",
       "23              OREB_RANK     0.013773\n",
       "29             W_PCT_RANK     0.013134\n",
       "3         PLUS_MINUS_RANK     0.011167\n",
       "19              FG3A_RANK     0.009925\n",
       "20              FG3M_RANK     0.009896\n",
       "6             FG_PCT_RANK     0.009261\n",
       "17               REB_RANK     0.009183\n",
       "16               STL_RANK     0.009082\n",
       "5            FG3_PCT_RANK     0.008781\n",
       "28                 L_RANK     0.007877\n",
       "24                 W_RANK     0.006656\n",
       "0    NBA_FANTASY_PTS_RANK     0.006065"
      ]
     },
     "execution_count": 12,
     "metadata": {},
     "output_type": "execute_result"
    }
   ],
   "source": [
    "pd.DataFrame({'Features':new_model.feature_names_in_,'Importances':new_model.feature_importances_}).sort_values(by='Importances', ascending=False)"
   ]
  }
 ],
 "metadata": {
  "kernelspec": {
   "display_name": "Python 3",
   "language": "python",
   "name": "python3"
  },
  "language_info": {
   "codemirror_mode": {
    "name": "ipython",
    "version": 3
   },
   "file_extension": ".py",
   "mimetype": "text/x-python",
   "name": "python",
   "nbconvert_exporter": "python",
   "pygments_lexer": "ipython3",
   "version": "3.11.9"
  }
 },
 "nbformat": 4,
 "nbformat_minor": 5
}
