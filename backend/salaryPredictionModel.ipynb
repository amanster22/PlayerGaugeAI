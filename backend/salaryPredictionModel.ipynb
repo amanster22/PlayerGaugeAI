{
 "cells": [
  {
   "cell_type": "code",
   "execution_count": 13,
   "metadata": {},
   "outputs": [
    {
     "name": "stdout",
     "output_type": "stream",
     "text": [
      "   season_id      player_id player_name     team_id team_abbreviation   age  \\\n",
      "0    1630639    A.J. Lawson        A.J.  1610612761               TOR  24.0   \n",
      "1    1631260       AJ Green          AJ  1610612749               MIL  25.0   \n",
      "2    1642358     AJ Johnson          AJ  1610612749               MIL  20.0   \n",
      "3     203932   Aaron Gordon       Aaron  1610612743               DEN  29.0   \n",
      "4    1628988  Aaron Holiday       Aaron  1610612745               HOU  28.0   \n",
      "\n",
      "   gp   w   l  w_pct  ...  pf_rank  pfd_rank  pts_rank  plus_minus_rank  \\\n",
      "0   3   0   3  0.000  ...       78         1       452              449   \n",
      "1  31  17  14  0.548  ...       78       396       309              188   \n",
      "2   5   3   2  0.600  ...       78         1       483              460   \n",
      "3  17  10   7  0.588  ...      312       229       135              206   \n",
      "4  23  14   9  0.609  ...       78       166       318              326   \n",
      "\n",
      "   nba_fantasy_pts_rank  dd2_rank  td3_rank  cfid  cfparams      salary  \n",
      "0                   280       476       176    24       466         NaN  \n",
      "1                    78       231       176    24       211         NaN  \n",
      "2                   183       483       176    24       478   2795294.0  \n",
      "3                    70       232        90    24       230  22841455.0  \n",
      "4                   159       354       176    24       347   4668000.0  \n",
      "\n",
      "[5 rows x 67 columns]\n"
     ]
    }
   ],
   "source": [
    "import pandas as pd\n",
    "import numpy as np\n",
    "from sklearn.model_selection import train_test_split\n",
    "from sklearn.linear_model import LinearRegression\n",
    "from sklearn.preprocessing import StandardScaler\n",
    "from sklearn.metrics import mean_squared_error, r2_score\n",
    "\n",
    "# Step 1: Load and Preprocess the Data\n",
    "# Load the dataset\n",
    "# Load the dataset\n",
    "data = pd.read_csv('merged.csv')\n",
    "data.rename(columns={'2024-25': 'salary'}, inplace=True)\n",
    "data['pts'] = data['pts'] / data['gp']\n",
    "data['ast'] = data['ast'] / data['gp']\n",
    "data['reb'] = data['reb'] / data['gp']\n",
    "data['min'] = data['min'] / data['gp']\n",
    "data['plus_minus'] = data['plus_minus'] / data['gp']\n",
    "data['nba_fantasy_pts'] = data['nba_fantasy_pts'] / data['gp']\n",
    "print(data.head())\n",
    "\n",
    "\n",
    "# Select desired features and the target column\n",
    "selected_features = ['gp', 'age', 'pts', 'ast', 'reb', 'plus_minus', 'nba_fantasy_pts', 'min']\n",
    "target = 'salary'\n",
    "\n",
    "\n",
    "\n",
    "# Create a new DataFrame with selected features and target\n",
    "data_filtered = data[selected_features + [target]]\n"
   ]
  },
  {
   "cell_type": "code",
   "execution_count": 9,
   "metadata": {},
   "outputs": [
    {
     "name": "stderr",
     "output_type": "stream",
     "text": [
      "/var/folders/43/m0vmnltx4jq7xszgbwt_cnzc0000gn/T/ipykernel_54164/1478748132.py:11: SettingWithCopyWarning: \n",
      "A value is trying to be set on a copy of a slice from a DataFrame.\n",
      "Try using .loc[row_indexer,col_indexer] = value instead\n",
      "\n",
      "See the caveats in the documentation: https://pandas.pydata.org/pandas-docs/stable/user_guide/indexing.html#returning-a-view-versus-a-copy\n",
      "  data_cleaned['salary'] = pd.to_numeric(data_cleaned['salary'])\n",
      "/var/folders/43/m0vmnltx4jq7xszgbwt_cnzc0000gn/T/ipykernel_54164/1478748132.py:13: SettingWithCopyWarning: \n",
      "A value is trying to be set on a copy of a slice from a DataFrame.\n",
      "Try using .loc[row_indexer,col_indexer] = value instead\n",
      "\n",
      "See the caveats in the documentation: https://pandas.pydata.org/pandas-docs/stable/user_guide/indexing.html#returning-a-view-versus-a-copy\n",
      "  data_cleaned['pts'] = data_cleaned['pts'] / data_cleaned['gp']\n",
      "/var/folders/43/m0vmnltx4jq7xszgbwt_cnzc0000gn/T/ipykernel_54164/1478748132.py:14: SettingWithCopyWarning: \n",
      "A value is trying to be set on a copy of a slice from a DataFrame.\n",
      "Try using .loc[row_indexer,col_indexer] = value instead\n",
      "\n",
      "See the caveats in the documentation: https://pandas.pydata.org/pandas-docs/stable/user_guide/indexing.html#returning-a-view-versus-a-copy\n",
      "  data_cleaned['ast'] = data_cleaned['ast'] / data_cleaned['gp']\n",
      "/var/folders/43/m0vmnltx4jq7xszgbwt_cnzc0000gn/T/ipykernel_54164/1478748132.py:15: SettingWithCopyWarning: \n",
      "A value is trying to be set on a copy of a slice from a DataFrame.\n",
      "Try using .loc[row_indexer,col_indexer] = value instead\n",
      "\n",
      "See the caveats in the documentation: https://pandas.pydata.org/pandas-docs/stable/user_guide/indexing.html#returning-a-view-versus-a-copy\n",
      "  data_cleaned['reb'] = data_cleaned['reb'] / data_cleaned['gp']\n",
      "/var/folders/43/m0vmnltx4jq7xszgbwt_cnzc0000gn/T/ipykernel_54164/1478748132.py:16: SettingWithCopyWarning: \n",
      "A value is trying to be set on a copy of a slice from a DataFrame.\n",
      "Try using .loc[row_indexer,col_indexer] = value instead\n",
      "\n",
      "See the caveats in the documentation: https://pandas.pydata.org/pandas-docs/stable/user_guide/indexing.html#returning-a-view-versus-a-copy\n",
      "  data_cleaned['min'] = data_cleaned['min'] / data_cleaned['gp']\n",
      "/var/folders/43/m0vmnltx4jq7xszgbwt_cnzc0000gn/T/ipykernel_54164/1478748132.py:17: SettingWithCopyWarning: \n",
      "A value is trying to be set on a copy of a slice from a DataFrame.\n",
      "Try using .loc[row_indexer,col_indexer] = value instead\n",
      "\n",
      "See the caveats in the documentation: https://pandas.pydata.org/pandas-docs/stable/user_guide/indexing.html#returning-a-view-versus-a-copy\n",
      "  data_cleaned['plus_minus'] = data_cleaned['plus_minus'] / data_cleaned['gp']\n",
      "/var/folders/43/m0vmnltx4jq7xszgbwt_cnzc0000gn/T/ipykernel_54164/1478748132.py:18: SettingWithCopyWarning: \n",
      "A value is trying to be set on a copy of a slice from a DataFrame.\n",
      "Try using .loc[row_indexer,col_indexer] = value instead\n",
      "\n",
      "See the caveats in the documentation: https://pandas.pydata.org/pandas-docs/stable/user_guide/indexing.html#returning-a-view-versus-a-copy\n",
      "  data_cleaned['nba_fantasy_pts'] = data_cleaned['nba_fantasy_pts'] / data_cleaned['gp']\n"
     ]
    }
   ],
   "source": [
    "\n",
    "# Drop rows where salary is 'n/a'\n",
    "selected_features = ['gp', 'age', 'pts', 'ast', 'reb', 'plus_minus', 'nba_fantasy_pts', 'min']\n",
    "target = ['salary']\n",
    "\n",
    "\n",
    "data_cleaned = data_filtered\n",
    "\n",
    "\n",
    "data_cleaned = data_cleaned.dropna(subset=['salary'])\n",
    "# Convert salary to numeric\n",
    "data_cleaned['salary'] = pd.to_numeric(data_cleaned['salary'])\n",
    "\n",
    "data_cleaned['pts'] = data_cleaned['pts'] / data_cleaned['gp']\n",
    "data_cleaned['ast'] = data_cleaned['ast'] / data_cleaned['gp']\n",
    "data_cleaned['reb'] = data_cleaned['reb'] / data_cleaned['gp']\n",
    "data_cleaned['min'] = data_cleaned['min'] / data_cleaned['gp']\n",
    "data_cleaned['plus_minus'] = data_cleaned['plus_minus'] / data_cleaned['gp']\n",
    "data_cleaned['nba_fantasy_pts'] = data_cleaned['nba_fantasy_pts'] / data_cleaned['gp']\n",
    "\n",
    "# Prepare the feature matrix (X) and target variable (y)\n",
    "X = data_cleaned[selected_features]\n",
    "y = data_cleaned['salary']\n",
    "\n"
   ]
  },
  {
   "cell_type": "code",
   "execution_count": 10,
   "metadata": {},
   "outputs": [
    {
     "name": "stdout",
     "output_type": "stream",
     "text": [
      "   gp   age       pts       ast       reb  plus_minus  nba_fantasy_pts  \\\n",
      "2   5  20.0  0.280000  0.040000  0.080000    0.400000         0.356000   \n",
      "3  17  29.0  0.806228  0.179931  0.339100    0.321799         1.517647   \n",
      "4  23  28.0  0.162571  0.049149  0.041588    0.028355         0.316446   \n",
      "5   6  25.0  1.527778  0.166667  0.666667   -0.250000         2.938889   \n",
      "6  35  26.0  0.266939  0.039184  0.091429    0.153469         0.507265   \n",
      "\n",
      "        min      salary  \n",
      "2  0.428000   2795294.0  \n",
      "3  1.691032  22841455.0  \n",
      "4  0.431742   4668000.0  \n",
      "5  3.783935  11000000.0  \n",
      "6  0.575535  10514017.0  \n",
      "R-squared: 0.0016\n",
      "Mean Squared Error: 105930441037239.12\n"
     ]
    }
   ],
   "source": [
    "print(data_cleaned.head())\n",
    "# Step 3: Split the Data into Training and Testing Sets\n",
    "X_train, X_test, y_train, y_test = train_test_split(X, y, test_size=0.2, random_state=42)\n",
    "\n",
    "# Step 4: Standardize the Features\n",
    "scaler = StandardScaler()\n",
    "X_train_scaled = scaler.fit_transform(X_train)\n",
    "X_test_scaled = scaler.transform(X_test)\n",
    "\n",
    "# Step 5: Train the Linear Regression Model\n",
    "model = LinearRegression()\n",
    "model.fit(X_train_scaled, y_train)\n",
    "\n",
    "# Step 6: Evaluate the Model\n",
    "y_pred = model.predict(X_test_scaled)\n",
    "\n",
    "# Calculate R-squared and Mean Squared Error\n",
    "r2 = r2_score(y_test, y_pred)\n",
    "mse = mean_squared_error(y_test, y_pred)\n",
    "\n",
    "print(f\"R-squared: {r2:.4f}\")\n",
    "print(f\"Mean Squared Error: {mse:.2f}\")\n"
   ]
  },
  {
   "cell_type": "code",
   "execution_count": 11,
   "metadata": {},
   "outputs": [
    {
     "name": "stdout",
     "output_type": "stream",
     "text": [
      "LeBron James\n",
      "     gp   age        pts       ast       reb  plus_minus  nba_fantasy_pts  \\\n",
      "328  31  40.0  24.129032  8.870968  7.419355   -3.419355        46.532258   \n",
      "\n",
      "           min      salary  \n",
      "328  34.883495  48728845.0  \n"
     ]
    }
   ],
   "source": [
    "name=input(\"What NBA player would you like to analyze first?: \")\n",
    "print(name)\n",
    "playerData = data[data['player_id'] == name]\n",
    "# print(playerData)\n",
    "\n",
    "stats_columns = ['gp', 'age', 'pts', 'ast', 'reb', 'plus_minus', 'nba_fantasy_pts', 'min','salary']\n",
    "playerStats = playerData[stats_columns]\n",
    "print(playerStats)"
   ]
  },
  {
   "cell_type": "code",
   "execution_count": 12,
   "metadata": {},
   "outputs": [
    {
     "name": "stdout",
     "output_type": "stream",
     "text": [
      "     gp   age        pts       ast       reb  plus_minus  nba_fantasy_pts  \\\n",
      "328  31  40.0  24.129032  8.870968  7.419355   -3.419355        46.532258   \n",
      "\n",
      "           min      salary  \n",
      "328  34.883495  48728845.0  \n",
      "The predicted salary for the player is: $375,618,157.61\n"
     ]
    },
    {
     "name": "stderr",
     "output_type": "stream",
     "text": [
      "/Users/amanshaik/anaconda/lib/python3.9/site-packages/sklearn/base.py:450: UserWarning: X does not have valid feature names, but StandardScaler was fitted with feature names\n",
      "  warnings.warn(\n"
     ]
    }
   ],
   "source": [
    "def predict_salary(model, scaler, selected_features, stats):\n",
    "    # Ensure the input stats are in the correct order as selected_features\n",
    "    stats_scaled = scaler.transform([stats])  # Scale the input stats\n",
    "    predicted_salary = model.predict(stats_scaled)  # Predict salary using the model\n",
    "    return predicted_salary[0]  # Return the predicted salary\n",
    "\n",
    "# Example usage: Replace these with real player stats\n",
    "# Player stats in the order of ['gp', 'age', 'pts', 'ast', 'reb', 'plus_minus', 'nba_fantasy_pts', 'mpg']\n",
    "print(playerStats)\n",
    "# player_stats = [75, 29, 22, 5, 7.5, 3.5, 35, 34]  # Example stats for a player\n",
    "player_stats = [33, 35, 22, 7.9, 6.0, 2.1, 42.2, 33.7]  \n",
    "\n",
    "# Get the predicted salary for the player\n",
    "predicted_salary = predict_salary(model, scaler, selected_features, player_stats)\n",
    "\n",
    "print(f\"The predicted salary for the player is: ${predicted_salary:,.2f}\")"
   ]
  }
 ],
 "metadata": {
  "kernelspec": {
   "display_name": "base",
   "language": "python",
   "name": "python3"
  },
  "language_info": {
   "codemirror_mode": {
    "name": "ipython",
    "version": 3
   },
   "file_extension": ".py",
   "mimetype": "text/x-python",
   "name": "python",
   "nbconvert_exporter": "python",
   "pygments_lexer": "ipython3",
   "version": "3.9.13"
  }
 },
 "nbformat": 4,
 "nbformat_minor": 2
}
